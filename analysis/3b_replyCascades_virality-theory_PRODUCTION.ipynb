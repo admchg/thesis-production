{
 "cells": [
  {
   "cell_type": "code",
   "execution_count": 1,
   "metadata": {},
   "outputs": [],
   "source": [
    "import numpy as np\n",
    "import matplotlib.pyplot as plt"
   ]
  },
  {
   "cell_type": "code",
   "execution_count": 2,
   "metadata": {},
   "outputs": [],
   "source": [
    "SMALL_SIZE = 8\n",
    "MEDIUM_SIZE = 10\n",
    "BIGGER_SIZE = 20\n",
    "\n",
    "plt.rc('font', size=BIGGER_SIZE)          # controls default text sizes\n",
    "plt.rc('axes', titlesize=BIGGER_SIZE)     # fontsize of the axes title\n",
    "plt.rc('axes', labelsize=BIGGER_SIZE)    # fontsize of the x and y labels\n",
    "plt.rc('xtick', labelsize=BIGGER_SIZE)    # fontsize of the tick labels\n",
    "plt.rc('ytick', labelsize=BIGGER_SIZE)    # fontsize of the tick labels\n",
    "plt.rc('legend', fontsize=BIGGER_SIZE)    # legend fontsize\n",
    "plt.rc('figure', titlesize=BIGGER_SIZE)  # fontsize of the figure title"
   ]
  },
  {
   "cell_type": "code",
   "execution_count": 3,
   "metadata": {},
   "outputs": [],
   "source": [
    "def genBinaryTree(n):\n",
    "    graph = {}\n",
    "    \n",
    "    for i in range(int(n/2)):\n",
    "        graph[i] = graph.get(i, []) + [2*i + 1, 2*i + 2]\n",
    "        graph[2*i + 1] = [i]\n",
    "        graph[2*i + 2] = [i]\n",
    "    \n",
    "    return graph"
   ]
  },
  {
   "cell_type": "code",
   "execution_count": 4,
   "metadata": {},
   "outputs": [],
   "source": [
    "def avgDistBinary_GOEL(n):\n",
    "    g = genBinaryTree(n)\n",
    "\n",
    "    dist_matrix = np.zeros((n,n))\n",
    "\n",
    "    for i in range(n-1):\n",
    "        # BFS\n",
    "        discovered = [False] * n\n",
    "        distances = [0] * n\n",
    "\n",
    "        # Label start\n",
    "        queue = [i]\n",
    "        discovered[i] = True\n",
    "\n",
    "        while len(queue) > 0:\n",
    "            v = queue.pop(0)\n",
    "\n",
    "            neighbors = g[v]\n",
    "            for ni in neighbors:\n",
    "                if not discovered[ni]:\n",
    "                    discovered[ni] = True\n",
    "                    queue.append(ni)\n",
    "                    distances[ni] = distances[v] + 1\n",
    "        dist_matrix[i] = distances\n",
    "        dist_matrix[:, i] = distances\n",
    "\n",
    "    return np.sum(dist_matrix) / (n * (n-1))"
   ]
  },
  {
   "cell_type": "code",
   "execution_count": 5,
   "metadata": {},
   "outputs": [],
   "source": [
    "def broadcastDist_GOEL(n):\n",
    "    return 2 * (n-1) / n"
   ]
  },
  {
   "cell_type": "code",
   "execution_count": 6,
   "metadata": {},
   "outputs": [
    {
     "name": "stdout",
     "output_type": "stream",
     "text": [
      "[3, 7, 15, 31, 63, 127, 255, 511, 1023]\n"
     ]
    }
   ],
   "source": [
    "sizes = [2**k - 1 for k in range(2, 11)]\n",
    "print(sizes)"
   ]
  },
  {
   "cell_type": "code",
   "execution_count": 7,
   "metadata": {},
   "outputs": [],
   "source": [
    "plt.figure(figsize = (8, 5))\n",
    "plt.plot(sizes, [avgDistBinary_GOEL(s) for s in sizes], label = 'Binary Tree', linewidth=4)\n",
    "plt.plot(range(3, 1024), [broadcastDist_GOEL(s) for s in range(3, 1024)], label = 'Broadcast', linewidth=4)\n",
    "plt.xlabel(\"Size of Cascade\")\n",
    "plt.ylabel(\"Avg. Dist. between Nodes\")\n",
    "plt.legend()\n",
    "plt.savefig('images/ch-replycascades/binary_vs_broadcast.png', bbox_inches = 'tight', pad_inches = 0.05)\n",
    "plt.close()"
   ]
  },
  {
   "cell_type": "markdown",
   "metadata": {},
   "source": [
    "#### Our measure"
   ]
  },
  {
   "cell_type": "code",
   "execution_count": 8,
   "metadata": {},
   "outputs": [],
   "source": [
    "def avgDistBinary_CHANG(n):\n",
    "    g = genBinaryTree(n)\n",
    "\n",
    "    dist_matrix = np.zeros((n,n))\n",
    "\n",
    "    for i in range(n-1):\n",
    "        # BFS\n",
    "        discovered = [False] * n\n",
    "        distances = [0] * n\n",
    "\n",
    "        # Label start\n",
    "        queue = [i]\n",
    "        discovered[i] = True\n",
    "\n",
    "        while len(queue) > 0:\n",
    "            v = queue.pop(0)\n",
    "\n",
    "            neighbors = g[v]\n",
    "            for ni in neighbors:\n",
    "                if not discovered[ni]:\n",
    "                    discovered[ni] = True\n",
    "                    queue.append(ni)\n",
    "                    distances[ni] = distances[v] + 1\n",
    "        dist_matrix[i] = distances\n",
    "        dist_matrix[:, i] = distances\n",
    "\n",
    "    return np.mean(dist_matrix)"
   ]
  },
  {
   "cell_type": "code",
   "execution_count": 9,
   "metadata": {},
   "outputs": [],
   "source": [
    "def broadcastDist_CHANG(n):\n",
    "    return 2 * (n-1)**2 / (n**2)"
   ]
  },
  {
   "cell_type": "code",
   "execution_count": 10,
   "metadata": {},
   "outputs": [],
   "source": [
    "sizes2 = [1, 3, 7, 15]"
   ]
  },
  {
   "cell_type": "code",
   "execution_count": 11,
   "metadata": {},
   "outputs": [
    {
     "name": "stderr",
     "output_type": "stream",
     "text": [
      "//anaconda3/envs/vzwa/lib/python3.7/site-packages/ipykernel/__main__.py:27: RuntimeWarning: invalid value encountered in double_scalars\n"
     ]
    }
   ],
   "source": [
    "plt.figure(figsize = (12, 6))\n",
    "plt.plot(sizes2, [avgDistBinary_GOEL(s) for s in sizes2], label = 'Binary Tree (Goel)', alpha = 0.5, linestyle='dashed', linewidth=4)\n",
    "plt.plot(range(1,16), [broadcastDist_GOEL(s) for s in range(1,16)], label = 'Broadcast (Goel)', alpha = 0.5, linestyle='dashed', linewidth=4)\n",
    "plt.plot(sizes2, [avgDistBinary_CHANG(s) for s in sizes2], label = 'Binary Tree (Ours)', linewidth=4)\n",
    "plt.plot(range(1,16), [broadcastDist_CHANG(s) for s in range(1,16)], label = 'Broadcast (Ours)', linewidth=4)\n",
    "plt.xlabel(\"Size of Cascade\")\n",
    "plt.ylabel(\"Avg. Dist. between Nodes\")\n",
    "plt.legend()\n",
    "plt.savefig('images/ch-replycascades/chang_vs_goel.png', bbox_inches = 'tight', pad_inches = 0.05)\n",
    "plt.close()"
   ]
  },
  {
   "cell_type": "code",
   "execution_count": null,
   "metadata": {},
   "outputs": [],
   "source": []
  }
 ],
 "metadata": {
  "kernelspec": {
   "display_name": "Environment (conda_vzwa)",
   "language": "python",
   "name": "conda_vzwa"
  },
  "language_info": {
   "codemirror_mode": {
    "name": "ipython",
    "version": 3
   },
   "file_extension": ".py",
   "mimetype": "text/x-python",
   "name": "python",
   "nbconvert_exporter": "python",
   "pygments_lexer": "ipython3",
   "version": "3.7.5"
  }
 },
 "nbformat": 4,
 "nbformat_minor": 2
}
