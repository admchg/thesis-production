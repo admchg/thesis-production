{
 "cells": [
  {
   "cell_type": "code",
   "execution_count": 1,
   "metadata": {},
   "outputs": [],
   "source": [
    "import numpy as np\n",
    "import pandas as pd\n",
    "import os\n",
    "from datetime import datetime, timedelta"
   ]
  },
  {
   "cell_type": "code",
   "execution_count": 2,
   "metadata": {},
   "outputs": [],
   "source": [
    "import re"
   ]
  },
  {
   "cell_type": "markdown",
   "metadata": {},
   "source": [
    "# Read in"
   ]
  },
  {
   "cell_type": "code",
   "execution_count": 3,
   "metadata": {},
   "outputs": [
    {
     "name": "stdout",
     "output_type": "stream",
     "text": [
      "(171634, 26)\n"
     ]
    }
   ],
   "source": [
    "df_x = pd.read_csv(\"Data/df_x_nb0a-groupMerge.csv\", index_col = 0)\n",
    "print(df_x.shape)"
   ]
  },
  {
   "cell_type": "code",
   "execution_count": 4,
   "metadata": {},
   "outputs": [
    {
     "data": {
      "text/plain": [
       "Index(['timez', 'server', 'mtime', 'uid', 'title', 'event', 'text', 'emojis',\n",
       "       'audio_length', 'image', 'reply_to', 'reply_text', 'reply_image',\n",
       "       'reply_thumb', 'reply_emojis', 'reply_type_audio', 'reply_type_image',\n",
       "       'message_deleted', 'video_length', 'video_thumb', 'forwarded',\n",
       "       'forwarded_highly', 'tel', 'message_dt', 'message_date', 'textlower'],\n",
       "      dtype='object')"
      ]
     },
     "execution_count": 4,
     "metadata": {},
     "output_type": "execute_result"
    }
   ],
   "source": [
    "df_x.columns"
   ]
  },
  {
   "cell_type": "code",
   "execution_count": 5,
   "metadata": {},
   "outputs": [],
   "source": [
    "df_x['message_dt'] = pd.to_datetime(df_x[\"message_dt\"], format='%Y-%m-%d %H:%M:00')\n",
    "df_x['message_date'] = pd.to_datetime(df_x[\"message_date\"], format='%Y-%m-%d')"
   ]
  },
  {
   "cell_type": "code",
   "execution_count": 6,
   "metadata": {},
   "outputs": [],
   "source": [
    "df_x['text'] = df_x['text'].fillna('')\n",
    "df_x['textlower'] = df_x['textlower'].fillna('')\n",
    "df_x['image'] = df_x['image'].fillna('')\n",
    "df_x['video_thumb'] = df_x['video_thumb'].fillna('')\n",
    "df_x['emojis'] = df_x['emojis'].fillna('')"
   ]
  },
  {
   "cell_type": "markdown",
   "metadata": {},
   "source": [
    "## All replies"
   ]
  },
  {
   "cell_type": "code",
   "execution_count": 7,
   "metadata": {},
   "outputs": [
    {
     "data": {
      "text/plain": [
       "Index(['timez', 'server', 'mtime', 'uid', 'title', 'event', 'text', 'emojis',\n",
       "       'audio_length', 'image', 'reply_to', 'reply_text', 'reply_image',\n",
       "       'reply_thumb', 'reply_emojis', 'reply_type_audio', 'reply_type_image',\n",
       "       'message_deleted', 'video_length', 'video_thumb', 'forwarded',\n",
       "       'forwarded_highly', 'tel', 'message_dt', 'message_date', 'textlower'],\n",
       "      dtype='object')"
      ]
     },
     "execution_count": 7,
     "metadata": {},
     "output_type": "execute_result"
    }
   ],
   "source": [
    "df_x.columns"
   ]
  },
  {
   "cell_type": "code",
   "execution_count": 8,
   "metadata": {},
   "outputs": [
    {
     "name": "stderr",
     "output_type": "stream",
     "text": [
      "//anaconda3/envs/vzwa/lib/python3.7/site-packages/ipykernel/__main__.py:2: SettingWithCopyWarning: \n",
      "A value is trying to be set on a copy of a slice from a DataFrame.\n",
      "Try using .loc[row_indexer,col_indexer] = value instead\n",
      "\n",
      "See the caveats in the documentation: http://pandas.pydata.org/pandas-docs/stable/user_guide/indexing.html#returning-a-view-versus-a-copy\n",
      "  from ipykernel import kernelapp as app\n",
      "//anaconda3/envs/vzwa/lib/python3.7/site-packages/ipykernel/__main__.py:3: SettingWithCopyWarning: \n",
      "A value is trying to be set on a copy of a slice from a DataFrame.\n",
      "Try using .loc[row_indexer,col_indexer] = value instead\n",
      "\n",
      "See the caveats in the documentation: http://pandas.pydata.org/pandas-docs/stable/user_guide/indexing.html#returning-a-view-versus-a-copy\n",
      "  app.launch_new_instance()\n",
      "//anaconda3/envs/vzwa/lib/python3.7/site-packages/ipykernel/__main__.py:4: SettingWithCopyWarning: \n",
      "A value is trying to be set on a copy of a slice from a DataFrame.\n",
      "Try using .loc[row_indexer,col_indexer] = value instead\n",
      "\n",
      "See the caveats in the documentation: http://pandas.pydata.org/pandas-docs/stable/user_guide/indexing.html#returning-a-view-versus-a-copy\n"
     ]
    }
   ],
   "source": [
    "df_r = df_x[df_x['reply_to'].notnull()]\n",
    "df_r['reply_to'] = df_r['reply_to'].apply(lambda x: x.split(\"\\'\")[1])\n",
    "df_r['reply_text'] = df_r['reply_text'].fillna('')\n",
    "df_r['reply_emojis'] = df_r['reply_emojis'].fillna('')"
   ]
  },
  {
   "cell_type": "code",
   "execution_count": 9,
   "metadata": {},
   "outputs": [],
   "source": [
    "def replyHandler(row):\n",
    "    # text-only\n",
    "    if all(row[['reply_image', 'reply_thumb']].isnull()) and \\\n",
    "        all(row[['reply_type_audio', 'reply_type_image']] == False):\n",
    "        if len(row['reply_text']) > 0:\n",
    "            indices = df_x[(df_x['text'] == row['reply_text']) &\\\n",
    "                        (df_x['uid'] == row['uid']) &\\\n",
    "                        (df_x['emojis'] == row['reply_emojis']) &\\\n",
    "                        (df_x['tel'] == row['reply_to']) &\\\n",
    "                        (df_x.index < row.name)].index\n",
    "            if len(indices) > 0:\n",
    "                return indices[-1]\n",
    "            else:\n",
    "                return None\n",
    "        else:\n",
    "            return None\n",
    "        \n",
    "    # image, reply_image\n",
    "    if pd.notnull(row['reply_image']):\n",
    "        indices = df_x[(df_x['image'].str.contains(row['reply_image'])) &\\\n",
    "                    (df_x['uid'] == row['uid']) &\\\n",
    "                    (df_x['tel'] == row['reply_to']) &\\\n",
    "                        (df_x.index < row.name)].index\n",
    "        if len(indices) > 0:\n",
    "            return indices[-1]\n",
    "        else:\n",
    "            return None\n",
    "        \n",
    "    # image, reply_thumb\n",
    "    if pd.notnull(row['reply_thumb']):\n",
    "        # Video with known length\n",
    "        if re.match('[0-9]+:[0-9][0-9] Video', row['reply_text']):\n",
    "            length = row['reply_text'].split(' ')[0]\n",
    "            indices = df_x[(df_x['video_thumb'].str.contains(row['reply_thumb'])) &\\\n",
    "                        (df_x['video_length'] == length) &\\\n",
    "                        (df_x['uid'] == row['uid']) &\\\n",
    "                        (df_x['tel'] == row['reply_to']) &\\\n",
    "                        (df_x.index < row.name)].index\n",
    "            if len(indices) > 0:\n",
    "                return indices[-1]\n",
    "            else:\n",
    "                return None\n",
    "            \n",
    "        # Else, try between images and videos\n",
    "        else:\n",
    "            indices = df_x[((df_x['video_thumb'].str.contains(row['reply_thumb'])) |\\\n",
    "                        (df_x['image'].str.contains(row['reply_thumb']))) &\\\n",
    "                        (df_x['uid'] == row['uid']) &\\\n",
    "                        (df_x['tel'] == row['reply_to']) &\\\n",
    "                        (df_x.index < row.name)].index\n",
    "            if len(indices) > 0:\n",
    "                return indices[-1]\n",
    "            else:\n",
    "                return None\n",
    "            \n",
    "    # audio\n",
    "    if row['reply_type_audio']:\n",
    "        length = row['reply_text'].split('\\n',1)[0]\n",
    "        indices = df_x[(df_x['audio_length'] == length) &\\\n",
    "                    (df_x['uid'] == row['uid']) &\\\n",
    "                    (df_x['tel'] == row['reply_to']) &\\\n",
    "                        (df_x.index < row.name)].index\n",
    "        if len(indices) > 0:\n",
    "            return indices[-1]\n",
    "        else:\n",
    "            return None"
   ]
  },
  {
   "cell_type": "code",
   "execution_count": 10,
   "metadata": {},
   "outputs": [
    {
     "name": "stderr",
     "output_type": "stream",
     "text": [
      "//anaconda3/envs/vzwa/lib/python3.7/site-packages/ipykernel/__main__.py:1: SettingWithCopyWarning: \n",
      "A value is trying to be set on a copy of a slice from a DataFrame.\n",
      "Try using .loc[row_indexer,col_indexer] = value instead\n",
      "\n",
      "See the caveats in the documentation: http://pandas.pydata.org/pandas-docs/stable/user_guide/indexing.html#returning-a-view-versus-a-copy\n",
      "  if __name__ == '__main__':\n",
      "//anaconda3/envs/vzwa/lib/python3.7/site-packages/ipykernel/__main__.py:2: SettingWithCopyWarning: \n",
      "A value is trying to be set on a copy of a slice from a DataFrame.\n",
      "Try using .loc[row_indexer,col_indexer] = value instead\n",
      "\n",
      "See the caveats in the documentation: http://pandas.pydata.org/pandas-docs/stable/user_guide/indexing.html#returning-a-view-versus-a-copy\n",
      "  from ipykernel import kernelapp as app\n"
     ]
    }
   ],
   "source": [
    "df_r['source'] = df_r.apply(replyHandler, axis = 1)\n",
    "df_r['source'] = df_r['source'].astype(pd.Int32Dtype())"
   ]
  },
  {
   "cell_type": "code",
   "execution_count": 11,
   "metadata": {},
   "outputs": [],
   "source": [
    "df_r.to_csv('Data/df_replies_nb3.csv')"
   ]
  },
  {
   "cell_type": "code",
   "execution_count": 12,
   "metadata": {},
   "outputs": [],
   "source": [
    "df_x['reply_link'] = df_r['source']\n",
    "df_x['cascade_n'] = 0\n",
    "df_x['reply_list'] = [[]] * len(df_x)\n",
    "df_x['replies_n'] = 0"
   ]
  },
  {
   "cell_type": "code",
   "execution_count": 13,
   "metadata": {},
   "outputs": [],
   "source": [
    "# We actually need a for loop to do the cascade\n",
    "# Using apply doesn't work because apply doesn't set cascade_n in real time, only at end\n",
    "\n",
    "for index, row in df_x.loc[df_x['reply_link'].notnull()].iterrows():\n",
    "    df_x.loc[index, 'cascade_n'] = df_x.loc[row['reply_link'], 'cascade_n'] + 1\n",
    "    \n",
    "    df_x.at[index, 'reply_list'] = df_x.loc[row['reply_link'], 'reply_list'] + [row['reply_link']]\n",
    "    for i in df_x.at[index, 'reply_list']:\n",
    "        df_x.loc[i, 'replies_n'] += 1"
   ]
  },
  {
   "cell_type": "code",
   "execution_count": 14,
   "metadata": {},
   "outputs": [
    {
     "name": "stdout",
     "output_type": "stream",
     "text": [
      "0\n"
     ]
    }
   ],
   "source": [
    "# May need to run multiple times\n",
    "misplace_count = 0\n",
    "\n",
    "for index, row in df_x.loc[df_x['reply_link'].notnull()].iterrows():\n",
    "    if len(row['reply_list'][:-1]) != len(df_x.loc[row['reply_link'], 'reply_list']):\n",
    "        misplace_count += 1\n",
    "        \n",
    "print(misplace_count)"
   ]
  },
  {
   "cell_type": "code",
   "execution_count": 15,
   "metadata": {},
   "outputs": [],
   "source": [
    "df_x.to_csv('Data/df_x_nb3-reply.csv')"
   ]
  }
 ],
 "metadata": {
  "kernelspec": {
   "display_name": "Environment (conda_vzwa)",
   "language": "python",
   "name": "conda_vzwa"
  },
  "language_info": {
   "codemirror_mode": {
    "name": "ipython",
    "version": 3
   },
   "file_extension": ".py",
   "mimetype": "text/x-python",
   "name": "python",
   "nbconvert_exporter": "python",
   "pygments_lexer": "ipython3",
   "version": "3.7.5"
  }
 },
 "nbformat": 4,
 "nbformat_minor": 2
}
