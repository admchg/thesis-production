{
 "cells": [
  {
   "cell_type": "code",
   "execution_count": 1,
   "metadata": {},
   "outputs": [],
   "source": [
    "import numpy as np\n",
    "import pandas as pd"
   ]
  },
  {
   "cell_type": "code",
   "execution_count": 2,
   "metadata": {},
   "outputs": [],
   "source": [
    "import matplotlib.pyplot as plt\n",
    "SMALL_SIZE = 8\n",
    "MEDIUM_SIZE = 10\n",
    "BIGGER_SIZE = 20\n",
    "\n",
    "plt.rc('font', size=BIGGER_SIZE)          # controls default text sizes\n",
    "plt.rc('axes', titlesize=BIGGER_SIZE)     # fontsize of the axes title\n",
    "plt.rc('axes', labelsize=BIGGER_SIZE)    # fontsize of the x and y labels\n",
    "plt.rc('xtick', labelsize=BIGGER_SIZE)    # fontsize of the tick labels\n",
    "plt.rc('ytick', labelsize=BIGGER_SIZE)    # fontsize of the tick labels\n",
    "plt.rc('legend', fontsize=BIGGER_SIZE)    # legend fontsize\n",
    "plt.rc('figure', titlesize=BIGGER_SIZE)  # fontsize of the figure title"
   ]
  },
  {
   "cell_type": "code",
   "execution_count": 3,
   "metadata": {},
   "outputs": [],
   "source": [
    "import statsmodels.formula.api as smf\n",
    "import scipy.stats\n",
    "from scipy.stats import ttest_ind\n",
    "from scipy.stats import f_oneway"
   ]
  },
  {
   "cell_type": "code",
   "execution_count": 4,
   "metadata": {},
   "outputs": [
    {
     "name": "stdout",
     "output_type": "stream",
     "text": [
      "(171634, 34)\n"
     ]
    }
   ],
   "source": [
    "df_x = pd.read_csv(\"Data/df_x_nb4a-mis.csv\", index_col = 0)\n",
    "print(df_x.shape)"
   ]
  },
  {
   "cell_type": "code",
   "execution_count": 5,
   "metadata": {},
   "outputs": [],
   "source": [
    "df_x['text'] = df_x['text'].fillna('')\n",
    "df_x['textlower'] = df_x['textlower'].fillna('')\n",
    "df_x['virality'] = df_x['virality'].fillna(0)"
   ]
  },
  {
   "cell_type": "markdown",
   "metadata": {},
   "source": [
    "### Text similarity imports/functions"
   ]
  },
  {
   "cell_type": "code",
   "execution_count": 6,
   "metadata": {},
   "outputs": [],
   "source": [
    "import string, re, unidecode\n",
    "from sklearn.decomposition import LatentDirichletAllocation as LDA\n",
    "\n",
    "import nltk\n",
    "from nltk.corpus import stopwords\n",
    "from nltk.stem import SnowballStemmer\n",
    "\n",
    "from collections import Counter\n",
    "\n",
    "from sklearn.feature_extraction.text import TfidfVectorizer, CountVectorizer\n",
    "from sklearn.metrics.pairwise import cosine_similarity"
   ]
  },
  {
   "cell_type": "code",
   "execution_count": 7,
   "metadata": {},
   "outputs": [],
   "source": [
    "stemmer = SnowballStemmer('spanish')\n",
    "remove_punc = str.maketrans(string.punctuation, len(string.punctuation) * \" \")\n",
    "stopwords_ascii = [unidecode.unidecode(w) for w in stopwords.words('spanish')]\n",
    "\n",
    "def tokenize(s):\n",
    "    s = unidecode.unidecode(s)\n",
    "    s = s.translate(remove_punc)\n",
    "    tokens = nltk.word_tokenize(s)\n",
    "    filtered = [w for w in tokens if w not in stopwords_ascii]\n",
    "    return [stemmer.stem(w) for w in filtered]"
   ]
  },
  {
   "cell_type": "code",
   "execution_count": 8,
   "metadata": {},
   "outputs": [],
   "source": [
    "def dummy(x):\n",
    "    return x\n",
    "\n",
    "vectorizer = TfidfVectorizer(analyzer='word', tokenizer=dummy, preprocessor=dummy,\n",
    "                            token_pattern=None)\n",
    "\n",
    "count_vectorizer = CountVectorizer(analyzer='word', tokenizer=dummy, preprocessor=dummy,\n",
    "                            token_pattern=None)"
   ]
  },
  {
   "cell_type": "code",
   "execution_count": 9,
   "metadata": {},
   "outputs": [
    {
     "name": "stdout",
     "output_type": "stream",
     "text": [
      "                                  +52  +55   +57  +58  +34   +1  +263  +27  \\\n",
      "uid                                                                          \n",
      "0526efbcbfd2a4c352206eef2a4dd6da  1.0  1.0   3.0  3.0  0.0  0.0   0.0  0.0   \n",
      "07d5068cc56fa32bb22935edee3cf10a  0.0  0.0   8.0  3.0  0.0  0.0   0.0  0.0   \n",
      "1eea1e85e89157f35943c0c1e8de0535  0.0  0.0  10.0  0.0  0.0  0.0   0.0  0.0   \n",
      "2bcb099b4f7c3ddf444f15d69fce0ed8  0.0  0.0   3.0  0.0  0.0  0.0   0.0  0.0   \n",
      "35c0a8c5a334567e7087db5c6c8d38c5  0.0  0.0  18.0  0.0  1.0  0.0   0.0  0.0   \n",
      "\n",
      "                                  +381  +505  ...  p3rdCountry   entropy  \\\n",
      "uid                                           ...                          \n",
      "0526efbcbfd2a4c352206eef2a4dd6da   0.0   0.0  ...     0.250000  1.255482   \n",
      "07d5068cc56fa32bb22935edee3cf10a   0.0   0.0  ...     0.000000  0.585953   \n",
      "1eea1e85e89157f35943c0c1e8de0535   0.0   0.0  ...     0.000000  0.000000   \n",
      "2bcb099b4f7c3ddf444f15d69fce0ed8   0.0   0.0  ...     0.000000  0.000000   \n",
      "35c0a8c5a334567e7087db5c6c8d38c5   0.0   0.0  ...     0.052632  0.206192   \n",
      "\n",
      "                                  degree  activity    hhConc      gini  \\\n",
      "uid                                                                      \n",
      "0526efbcbfd2a4c352206eef2a4dd6da    21.0      38.0  0.518006  0.625000   \n",
      "07d5068cc56fa32bb22935edee3cf10a    24.0      64.5  0.223364  0.591966   \n",
      "1eea1e85e89157f35943c0c1e8de0535    16.0      35.0  0.229388  0.528571   \n",
      "2bcb099b4f7c3ddf444f15d69fce0ed8     0.0       1.5  0.333333  0.000000   \n",
      "35c0a8c5a334567e7087db5c6c8d38c5    14.0      59.0  0.118070  0.537913   \n",
      "\n",
      "                                  replies_n  virality  fakeNews  \\\n",
      "uid                                                               \n",
      "0526efbcbfd2a4c352206eef2a4dd6da   0.157895  0.791667       0.0   \n",
      "07d5068cc56fa32bb22935edee3cf10a   0.310078  0.830065       0.0   \n",
      "1eea1e85e89157f35943c0c1e8de0535   0.457143  0.921569       0.0   \n",
      "2bcb099b4f7c3ddf444f15d69fce0ed8   0.333333  0.500000       0.0   \n",
      "35c0a8c5a334567e7087db5c6c8d38c5   0.457627  1.404040       0.0   \n",
      "\n",
      "                                  fakeNews_users  \n",
      "uid                                               \n",
      "0526efbcbfd2a4c352206eef2a4dd6da             0.0  \n",
      "07d5068cc56fa32bb22935edee3cf10a             0.0  \n",
      "1eea1e85e89157f35943c0c1e8de0535             0.0  \n",
      "2bcb099b4f7c3ddf444f15d69fce0ed8             0.0  \n",
      "35c0a8c5a334567e7087db5c6c8d38c5             0.0  \n",
      "\n",
      "[5 rows x 68 columns]\n"
     ]
    }
   ],
   "source": [
    "df_groups = pd.read_csv('Data/df_groups_nb4b-fakeNews.csv', index_col = 0)\n",
    "print(df_groups.head())"
   ]
  },
  {
   "cell_type": "markdown",
   "metadata": {},
   "source": [
    "# Message dynamics"
   ]
  },
  {
   "cell_type": "code",
   "execution_count": 10,
   "metadata": {},
   "outputs": [],
   "source": [
    "df_x['posMisinfo'] = (df_x['textlower'].apply(lambda x: len(tokenize(x)) >= 5))\n",
    "df_p = df_x[df_x['posMisinfo']]"
   ]
  },
  {
   "cell_type": "code",
   "execution_count": 11,
   "metadata": {},
   "outputs": [
    {
     "name": "stdout",
     "output_type": "stream",
     "text": [
      "(886, 35)\n",
      "(44025, 35)\n"
     ]
    }
   ],
   "source": [
    "print(df_p[df_p['scam']].shape)\n",
    "print(df_p.shape)"
   ]
  },
  {
   "cell_type": "markdown",
   "metadata": {},
   "source": [
    "### Replies"
   ]
  },
  {
   "cell_type": "code",
   "execution_count": 12,
   "metadata": {},
   "outputs": [
    {
     "name": "stdout",
     "output_type": "stream",
     "text": [
      "                            OLS Regression Results                            \n",
      "==============================================================================\n",
      "Dep. Variable:              replies_n   R-squared:                       0.001\n",
      "Model:                            OLS   Adj. R-squared:                  0.001\n",
      "Method:                 Least Squares   F-statistic:                     59.45\n",
      "Date:                Wed, 15 Apr 2020   Prob (F-statistic):           1.28e-14\n",
      "Time:                        11:17:32   Log-Likelihood:                -86122.\n",
      "No. Observations:               44025   AIC:                         1.722e+05\n",
      "Df Residuals:                   44023   BIC:                         1.723e+05\n",
      "Df Model:                           1                                         \n",
      "Covariance Type:            nonrobust                                         \n",
      "================================================================================\n",
      "                   coef    std err          t      P>|t|      [0.025      0.975]\n",
      "--------------------------------------------------------------------------------\n",
      "Intercept        0.5697      0.008     69.146      0.000       0.554       0.586\n",
      "scam[T.True]    -0.4478      0.058     -7.711      0.000      -0.562      -0.334\n",
      "==============================================================================\n",
      "Omnibus:                    58358.060   Durbin-Watson:                   1.814\n",
      "Prob(Omnibus):                  0.000   Jarque-Bera (JB):         18731869.127\n",
      "Skew:                           7.406   Prob(JB):                         0.00\n",
      "Kurtosis:                     102.961   Cond. No.                         7.12\n",
      "==============================================================================\n",
      "\n",
      "Warnings:\n",
      "[1] Standard Errors assume that the covariance matrix of the errors is correctly specified.\n",
      "                            OLS Regression Results                            \n",
      "==============================================================================\n",
      "Dep. Variable:              replies_n   R-squared:                       0.000\n",
      "Model:                            OLS   Adj. R-squared:                  0.000\n",
      "Method:                 Least Squares   F-statistic:                     48.63\n",
      "Date:                Wed, 15 Apr 2020   Prob (F-statistic):           3.11e-12\n",
      "Time:                        11:17:32   Log-Likelihood:            -3.4350e+05\n",
      "No. Observations:              171634   AIC:                         6.870e+05\n",
      "Df Residuals:                  171632   BIC:                         6.870e+05\n",
      "Df Model:                           1                                         \n",
      "Covariance Type:            nonrobust                                         \n",
      "================================================================================\n",
      "                   coef    std err          t      P>|t|      [0.025      0.975]\n",
      "--------------------------------------------------------------------------------\n",
      "Intercept        0.5424      0.004    125.187      0.000       0.534       0.551\n",
      "scam[T.True]    -0.4205      0.060     -6.973      0.000      -0.539      -0.302\n",
      "==============================================================================\n",
      "Omnibus:                   220734.800   Durbin-Watson:                   1.781\n",
      "Prob(Omnibus):                  0.000   Jarque-Bera (JB):         47205394.548\n",
      "Skew:                           7.173   Prob(JB):                         0.00\n",
      "Kurtosis:                      82.969   Cond. No.                         14.0\n",
      "==============================================================================\n",
      "\n",
      "Warnings:\n",
      "[1] Standard Errors assume that the covariance matrix of the errors is correctly specified.\n"
     ]
    }
   ],
   "source": [
    "reg = smf.ols('replies_n ~ scam', data = df_p).fit()\n",
    "print(reg.summary())\n",
    "reg = smf.ols('replies_n ~ scam', data = df_x).fit()\n",
    "print(reg.summary())"
   ]
  },
  {
   "cell_type": "code",
   "execution_count": 13,
   "metadata": {},
   "outputs": [
    {
     "name": "stdout",
     "output_type": "stream",
     "text": [
      "1.0\n",
      "3.0\n"
     ]
    }
   ],
   "source": [
    "print(np.quantile(df_p[df_p['scam']]['replies_n'], .95))\n",
    "print(np.quantile(df_p[~df_p['scam']]['replies_n'], .95))"
   ]
  },
  {
   "cell_type": "markdown",
   "metadata": {},
   "source": [
    "### Virality"
   ]
  },
  {
   "cell_type": "code",
   "execution_count": 14,
   "metadata": {},
   "outputs": [
    {
     "name": "stdout",
     "output_type": "stream",
     "text": [
      "                            OLS Regression Results                            \n",
      "==============================================================================\n",
      "Dep. Variable:               virality   R-squared:                       0.002\n",
      "Model:                            OLS   Adj. R-squared:                  0.002\n",
      "Method:                 Least Squares   F-statistic:                     25.81\n",
      "Date:                Wed, 15 Apr 2020   Prob (F-statistic):           3.81e-07\n",
      "Time:                        11:18:03   Log-Likelihood:                -22059.\n",
      "No. Observations:               14227   AIC:                         4.412e+04\n",
      "Df Residuals:                   14225   BIC:                         4.414e+04\n",
      "Df Model:                           1                                         \n",
      "Covariance Type:            nonrobust                                         \n",
      "================================================================================\n",
      "                   coef    std err          t      P>|t|      [0.025      0.975]\n",
      "--------------------------------------------------------------------------------\n",
      "Intercept        1.3590      0.010    141.744      0.000       1.340       1.378\n",
      "scam[T.True]    -0.6895      0.136     -5.081      0.000      -0.956      -0.424\n",
      "==============================================================================\n",
      "Omnibus:                     7631.549   Durbin-Watson:                   1.368\n",
      "Prob(Omnibus):                  0.000   Jarque-Bera (JB):            59553.831\n",
      "Skew:                           2.499   Prob(JB):                         0.00\n",
      "Kurtosis:                      11.688   Cond. No.                         14.2\n",
      "==============================================================================\n",
      "\n",
      "Warnings:\n",
      "[1] Standard Errors assume that the covariance matrix of the errors is correctly specified.\n",
      "                            OLS Regression Results                            \n",
      "==============================================================================\n",
      "Dep. Variable:               virality   R-squared:                       0.000\n",
      "Model:                            OLS   Adj. R-squared:                  0.000\n",
      "Method:                 Least Squares   F-statistic:                     28.59\n",
      "Date:                Wed, 15 Apr 2020   Prob (F-statistic):           8.97e-08\n",
      "Time:                        11:18:03   Log-Likelihood:            -1.0556e+05\n",
      "No. Observations:               62421   AIC:                         2.111e+05\n",
      "Df Residuals:                   62419   BIC:                         2.111e+05\n",
      "Df Model:                           1                                         \n",
      "Covariance Type:            nonrobust                                         \n",
      "================================================================================\n",
      "                   coef    std err          t      P>|t|      [0.025      0.975]\n",
      "--------------------------------------------------------------------------------\n",
      "Intercept        1.5029      0.005    285.871      0.000       1.493       1.513\n",
      "scam[T.True]    -0.8335      0.156     -5.347      0.000      -1.139      -0.528\n",
      "==============================================================================\n",
      "Omnibus:                    28656.917   Durbin-Watson:                   1.219\n",
      "Prob(Omnibus):                  0.000   Jarque-Bera (JB):           150522.764\n",
      "Skew:                           2.220   Prob(JB):                         0.00\n",
      "Kurtosis:                       9.177   Cond. No.                         29.7\n",
      "==============================================================================\n",
      "\n",
      "Warnings:\n",
      "[1] Standard Errors assume that the covariance matrix of the errors is correctly specified.\n"
     ]
    }
   ],
   "source": [
    "reg = smf.ols('virality ~ scam', data = df_p[df_p['virality'] > 0]).fit()\n",
    "print(reg.summary())\n",
    "reg = smf.ols('virality ~ scam', data = df_x[df_x['virality'] > 0]).fit()\n",
    "print(reg.summary())"
   ]
  },
  {
   "cell_type": "code",
   "execution_count": 15,
   "metadata": {},
   "outputs": [
    {
     "name": "stdout",
     "output_type": "stream",
     "text": [
      "1.28\n",
      "3.5546875\n"
     ]
    }
   ],
   "source": [
    "print(np.quantile(df_p[df_p['scam'] & (df_p['virality'] > 0)]['virality'], .95))\n",
    "print(np.quantile(df_p[~df_p['scam'] & (df_p['virality'] > 0)]['virality'], .95))"
   ]
  },
  {
   "cell_type": "markdown",
   "metadata": {},
   "source": [
    "### Size"
   ]
  },
  {
   "cell_type": "code",
   "execution_count": 16,
   "metadata": {},
   "outputs": [
    {
     "name": "stderr",
     "output_type": "stream",
     "text": [
      "//anaconda3/envs/vzwa/lib/python3.7/site-packages/ipykernel/__main__.py:1: SettingWithCopyWarning: \n",
      "A value is trying to be set on a copy of a slice from a DataFrame.\n",
      "Try using .loc[row_indexer,col_indexer] = value instead\n",
      "\n",
      "See the caveats in the documentation: http://pandas.pydata.org/pandas-docs/stable/user_guide/indexing.html#returning-a-view-versus-a-copy\n",
      "  if __name__ == '__main__':\n",
      "//anaconda3/envs/vzwa/lib/python3.7/site-packages/ipykernel/__main__.py:2: SettingWithCopyWarning: \n",
      "A value is trying to be set on a copy of a slice from a DataFrame.\n",
      "Try using .loc[row_indexer,col_indexer] = value instead\n",
      "\n",
      "See the caveats in the documentation: http://pandas.pydata.org/pandas-docs/stable/user_guide/indexing.html#returning-a-view-versus-a-copy\n",
      "  from ipykernel import kernelapp as app\n"
     ]
    }
   ],
   "source": [
    "df_p['charlength'] = df_p['text'].apply(len)\n",
    "df_p['wordlength'] = df_p['text'].apply(lambda x: x.count(\" \"))"
   ]
  },
  {
   "cell_type": "code",
   "execution_count": 17,
   "metadata": {},
   "outputs": [
    {
     "name": "stdout",
     "output_type": "stream",
     "text": [
      "(-0.007029465870105722, 0.1402371773640947)\n",
      "(-0.013018010780668613, 0.0063047734688692954)\n"
     ]
    }
   ],
   "source": [
    "print(scipy.stats.pearsonr(df_p['scam'], df_p['charlength']))\n",
    "print(scipy.stats.pearsonr(df_p['scam'], df_p['wordlength']))\n",
    "# Fake news less likely to go viral?!?!"
   ]
  },
  {
   "cell_type": "code",
   "execution_count": 18,
   "metadata": {},
   "outputs": [
    {
     "name": "stdout",
     "output_type": "stream",
     "text": [
      "                            OLS Regression Results                            \n",
      "==============================================================================\n",
      "Dep. Variable:             charlength   R-squared:                       0.000\n",
      "Model:                            OLS   Adj. R-squared:                  0.000\n",
      "Method:                 Least Squares   F-statistic:                     2.175\n",
      "Date:                Wed, 15 Apr 2020   Prob (F-statistic):              0.140\n",
      "Time:                        11:19:29   Log-Likelihood:            -3.4904e+05\n",
      "No. Observations:               44025   AIC:                         6.981e+05\n",
      "Df Residuals:                   44023   BIC:                         6.981e+05\n",
      "Df Model:                           1                                         \n",
      "Covariance Type:            nonrobust                                         \n",
      "================================================================================\n",
      "                   coef    std err          t      P>|t|      [0.025      0.975]\n",
      "--------------------------------------------------------------------------------\n",
      "Intercept      330.2227      3.232    102.159      0.000     323.887     336.558\n",
      "scam[T.True]   -33.6076     22.786     -1.475      0.140     -78.268      11.053\n",
      "==============================================================================\n",
      "Omnibus:                    34654.107   Durbin-Watson:                   1.709\n",
      "Prob(Omnibus):                  0.000   Jarque-Bera (JB):           552768.444\n",
      "Skew:                           3.883   Prob(JB):                         0.00\n",
      "Kurtosis:                      18.525   Cond. No.                         7.12\n",
      "==============================================================================\n",
      "\n",
      "Warnings:\n",
      "[1] Standard Errors assume that the covariance matrix of the errors is correctly specified.\n",
      "                            OLS Regression Results                            \n",
      "==============================================================================\n",
      "Dep. Variable:             wordlength   R-squared:                       0.000\n",
      "Model:                            OLS   Adj. R-squared:                  0.000\n",
      "Method:                 Least Squares   F-statistic:                     7.462\n",
      "Date:                Wed, 15 Apr 2020   Prob (F-statistic):            0.00630\n",
      "Time:                        11:19:29   Log-Likelihood:            -2.6727e+05\n",
      "No. Observations:               44025   AIC:                         5.345e+05\n",
      "Df Residuals:                   44023   BIC:                         5.346e+05\n",
      "Df Model:                           1                                         \n",
      "Covariance Type:            nonrobust                                         \n",
      "================================================================================\n",
      "                   coef    std err          t      P>|t|      [0.025      0.975]\n",
      "--------------------------------------------------------------------------------\n",
      "Intercept       50.7021      0.505    100.498      0.000      49.713      51.691\n",
      "scam[T.True]    -9.7145      3.556     -2.732      0.006     -16.685      -2.744\n",
      "==============================================================================\n",
      "Omnibus:                    35797.178   Durbin-Watson:                   1.726\n",
      "Prob(Omnibus):                  0.000   Jarque-Bera (JB):           680435.760\n",
      "Skew:                           3.993   Prob(JB):                         0.00\n",
      "Kurtosis:                      20.526   Cond. No.                         7.12\n",
      "==============================================================================\n",
      "\n",
      "Warnings:\n",
      "[1] Standard Errors assume that the covariance matrix of the errors is correctly specified.\n"
     ]
    }
   ],
   "source": [
    "reg = smf.ols('charlength ~ scam', data = df_p).fit()\n",
    "print(reg.summary())\n",
    "reg = smf.ols('wordlength ~ scam', data = df_p).fit()\n",
    "print(reg.summary())"
   ]
  },
  {
   "cell_type": "markdown",
   "metadata": {},
   "source": [
    "### LDA"
   ]
  },
  {
   "cell_type": "code",
   "execution_count": 19,
   "metadata": {},
   "outputs": [
    {
     "name": "stderr",
     "output_type": "stream",
     "text": [
      "//anaconda3/envs/vzwa/lib/python3.7/site-packages/pandas/core/indexing.py:376: SettingWithCopyWarning: \n",
      "A value is trying to be set on a copy of a slice from a DataFrame.\n",
      "Try using .loc[row_indexer,col_indexer] = value instead\n",
      "\n",
      "See the caveats in the documentation: http://pandas.pydata.org/pandas-docs/stable/user_guide/indexing.html#returning-a-view-versus-a-copy\n",
      "  self.obj[key] = _infer_fill_value(value)\n",
      "//anaconda3/envs/vzwa/lib/python3.7/site-packages/pandas/core/indexing.py:494: SettingWithCopyWarning: \n",
      "A value is trying to be set on a copy of a slice from a DataFrame.\n",
      "Try using .loc[row_indexer,col_indexer] = value instead\n",
      "\n",
      "See the caveats in the documentation: http://pandas.pydata.org/pandas-docs/stable/user_guide/indexing.html#returning-a-view-versus-a-copy\n",
      "  self.obj[item] = s\n"
     ]
    }
   ],
   "source": [
    "df_t = df_p[df_p['scam']]\n",
    "df_t.loc[:,'token'] = df_t.loc[:,'textlower'].apply(tokenize)"
   ]
  },
  {
   "cell_type": "code",
   "execution_count": 20,
   "metadata": {},
   "outputs": [
    {
     "name": "stdout",
     "output_type": "stream",
     "text": [
      "\n",
      "Topic 0:\n",
      "bon pais prestam http com cupon diner hol exit 000\n",
      "\n",
      "Topic 1:\n",
      "internet gb 100 dat gratis obteng ahor https consiguel cualqui\n",
      "\n",
      "Topic 2:\n",
      "grup vide bienven prestam https siguient pas va voy javi\n",
      "\n",
      "Topic 3:\n",
      "ayud resib us 77 alimentari onu earn 00 invest clic\n",
      "\n",
      "Topic 4:\n",
      "prest 000 prestam personal 3 eur tas plaz whatsapp interes\n",
      "\n",
      "Topic 5:\n",
      "https whatsapp and oscur com ly bit of to activ\n",
      "\n",
      "Topic 6:\n",
      "https 000 sisb netflix period aislamient cupon com entra rap\n",
      "\n",
      "Topic 7:\n",
      "netflix period aislamient https pandemi dand gratis deb coronavirus mund\n",
      "\n",
      "Topic 8:\n",
      "https com chat diplom whatsapp ayud c z l grup\n",
      "\n",
      "Topic 9:\n",
      "tarjet alimentari madr cp https nuev solicitud bon to crypto\n"
     ]
    }
   ],
   "source": [
    "X = count_vectorizer.fit_transform(df_t['token'])\n",
    "\n",
    "# Tweak the two parameters below\n",
    "number_topics = 10\n",
    "number_words = 10\n",
    "\n",
    "# Create and fit the LDA model\n",
    "lda = LDA(n_components=number_topics, n_jobs=-1)\n",
    "lda.fit(X)\n",
    "\n",
    "# Helper function (sourced from somewhere online)\n",
    "def print_topics(model, count_vectorizer, n_top_words):\n",
    "    words = count_vectorizer.get_feature_names()\n",
    "    for topic_idx, topic in enumerate(model.components_):\n",
    "        print(\"\\nTopic %d:\" % topic_idx)\n",
    "        print(\" \".join([words[i]\n",
    "                        for i in topic.argsort()[:-n_top_words - 1:-1]]))\n",
    "        \n",
    "# Print the topics found by the LDA model\n",
    "print_topics(lda, count_vectorizer, number_words)"
   ]
  },
  {
   "cell_type": "markdown",
   "metadata": {},
   "source": [
    "# User dynamics"
   ]
  },
  {
   "cell_type": "code",
   "execution_count": 21,
   "metadata": {},
   "outputs": [
    {
     "name": "stdout",
     "output_type": "stream",
     "text": [
      "(473,)\n"
     ]
    }
   ],
   "source": [
    "df_x[df_x['scam']]['tel'].value_counts().hist(bins = 40)\n",
    "plt.xlabel(\"Number of Scams Shared\")\n",
    "plt.ylabel(\"# of Users\")\n",
    "plt.savefig('images/ch-misinformation/hist_scam_user_frequency.png', bbox_inches = 'tight', pad_inches = 0.05)\n",
    "plt.close()\n",
    "print(df_x[df_x['scam']]['tel'].unique().shape)"
   ]
  },
  {
   "cell_type": "code",
   "execution_count": 22,
   "metadata": {},
   "outputs": [],
   "source": [
    "df_x[df_x['scam']]['tel'].value_counts().hist(range = (10, 60))\n",
    "plt.xlabel(\"Number of Scams Shared\")\n",
    "plt.ylabel(\"# of Users\")\n",
    "plt.savefig('images/ch-misinformation/hist_scam_user_frequency_extreme.png', bbox_inches = 'tight', pad_inches = 0.05)\n",
    "plt.close()"
   ]
  },
  {
   "cell_type": "code",
   "execution_count": 23,
   "metadata": {},
   "outputs": [
    {
     "name": "stdout",
     "output_type": "stream",
     "text": [
      "0.7082452431289641\n",
      "0.160676532769556\n"
     ]
    }
   ],
   "source": [
    "print(np.mean(df_x[df_x['scam']]['tel'].value_counts() == 1))\n",
    "print(np.mean(df_x[df_x['scam']]['tel'].value_counts() == 2))"
   ]
  },
  {
   "cell_type": "code",
   "execution_count": 24,
   "metadata": {},
   "outputs": [],
   "source": [
    "tel_scam = df_p[['tel', 'scam']].groupby('tel').mean()\n",
    "tel_scam_n = df_p[['tel', 'scam']].groupby('tel').sum()"
   ]
  },
  {
   "cell_type": "code",
   "execution_count": 25,
   "metadata": {},
   "outputs": [
    {
     "name": "stdout",
     "output_type": "stream",
     "text": [
      "scam    0.89817\n",
      "dtype: float64\n",
      "(4645, 1)\n"
     ]
    }
   ],
   "source": [
    "print(np.mean(tel_scam == 0))\n",
    "print(tel_scam.shape)"
   ]
  },
  {
   "cell_type": "code",
   "execution_count": 26,
   "metadata": {},
   "outputs": [],
   "source": [
    "tel_scam[tel_scam > 0].hist(bins = 20)\n",
    "plt.xlabel(\"Prevalence of Scams\")\n",
    "plt.ylabel(\"# of Users\")\n",
    "plt.title(None)\n",
    "plt.savefig('images/ch-misinformation/hist_scam_user_prevalence.png', bbox_inches = 'tight', pad_inches = 0.05)\n",
    "plt.close()"
   ]
  },
  {
   "cell_type": "code",
   "execution_count": 27,
   "metadata": {},
   "outputs": [
    {
     "data": {
      "text/plain": [
       "scam    251\n",
       "dtype: int64"
      ]
     },
     "execution_count": 27,
     "metadata": {},
     "output_type": "execute_result"
    }
   ],
   "source": [
    "(tel_scam[tel_scam > 0] == 1).sum()"
   ]
  },
  {
   "cell_type": "code",
   "execution_count": 28,
   "metadata": {},
   "outputs": [],
   "source": [
    "df_user = df_x[['tel', 'fake_news']].groupby('tel').mean()\n",
    "df_user['scam'] = df_x[['tel', 'scam']].groupby('tel').mean()"
   ]
  },
  {
   "cell_type": "code",
   "execution_count": 29,
   "metadata": {},
   "outputs": [
    {
     "name": "stdout",
     "output_type": "stream",
     "text": [
      "(-0.01469654004754208, 0.19263997673949335)\n"
     ]
    }
   ],
   "source": [
    "print(scipy.stats.pearsonr(df_user['fake_news'], df_user['scam']))"
   ]
  },
  {
   "cell_type": "code",
   "execution_count": 30,
   "metadata": {},
   "outputs": [],
   "source": [
    "df_user['1_fake_news'] = df_user['fake_news'] > 0\n",
    "df_user['1_scam'] = df_user['scam'] > 0"
   ]
  },
  {
   "cell_type": "code",
   "execution_count": 31,
   "metadata": {},
   "outputs": [
    {
     "name": "stdout",
     "output_type": "stream",
     "text": [
      "(0.02864289709856719, 0.011101099376421833)\n"
     ]
    }
   ],
   "source": [
    "print(scipy.stats.pearsonr(df_user['1_fake_news'], df_user['1_scam']))"
   ]
  },
  {
   "cell_type": "code",
   "execution_count": 32,
   "metadata": {},
   "outputs": [
    {
     "name": "stdout",
     "output_type": "stream",
     "text": [
      "0.09385113268608414\n",
      "0.05880015891934843\n",
      "\n",
      "0.0082438578675575\n",
      "0.02745949841726481\n"
     ]
    }
   ],
   "source": [
    "print(df_user[df_user['1_fake_news']]['1_scam'].mean())\n",
    "print(df_user[~df_user['1_fake_news']]['1_scam'].mean())\n",
    "print()\n",
    "print(df_user[df_user['1_fake_news']]['scam'].mean())\n",
    "print(df_user[~df_user['1_fake_news']]['scam'].mean())"
   ]
  },
  {
   "cell_type": "code",
   "execution_count": 33,
   "metadata": {},
   "outputs": [
    {
     "name": "stdout",
     "output_type": "stream",
     "text": [
      "0.0613107822410148\n",
      "0.03790442669554623\n",
      "\n",
      "0.005375598416855285\n",
      "0.006604165618343614\n"
     ]
    }
   ],
   "source": [
    "print(df_user[df_user['1_scam']]['1_fake_news'].mean())\n",
    "print(df_user[~df_user['1_scam']]['1_fake_news'].mean())\n",
    "print()\n",
    "print(df_user[df_user['1_scam']]['fake_news'].mean())\n",
    "print(df_user[~df_user['1_scam']]['fake_news'].mean())"
   ]
  },
  {
   "cell_type": "markdown",
   "metadata": {},
   "source": [
    "## Comparing by country"
   ]
  },
  {
   "cell_type": "markdown",
   "metadata": {},
   "source": [
    "### User shares scams"
   ]
  },
  {
   "cell_type": "code",
   "execution_count": 34,
   "metadata": {},
   "outputs": [],
   "source": [
    "x = ['PER', 'CHL', 'COL', 'VEN', 'ECU']"
   ]
  },
  {
   "cell_type": "code",
   "execution_count": 35,
   "metadata": {},
   "outputs": [
    {
     "name": "stdout",
     "output_type": "stream",
     "text": [
      "F_onewayResult(statistic=array([13.50641294]), pvalue=array([6.1171337e-11]))\n",
      "\n",
      "VZ t-tests\n",
      "Ttest_indResult(statistic=array([-5.0778172]), pvalue=array([4.23371005e-07]))\n",
      "Ttest_indResult(statistic=array([1.38307908]), pvalue=array([0.16687648]))\n",
      "Ttest_indResult(statistic=array([-6.41054738]), pvalue=array([1.65705885e-10]))\n",
      "Ttest_indResult(statistic=array([-4.05085605]), pvalue=array([5.40084922e-05]))\n",
      "\n",
      "CO t-tests\n",
      "Ttest_indResult(statistic=array([0.04585049]), pvalue=array([0.96343285]))\n",
      "Ttest_indResult(statistic=array([3.41370748]), pvalue=array([0.00065215]))\n",
      "Ttest_indResult(statistic=array([6.41054738]), pvalue=array([1.65705885e-10]))\n",
      "Ttest_indResult(statistic=array([-0.51022416]), pvalue=array([0.60994403]))\n"
     ]
    }
   ],
   "source": [
    "pe = tel_scam[tel_scam.index.str.startswith('+51')] > 0\n",
    "cl = tel_scam[tel_scam.index.str.startswith('+56')] > 0\n",
    "co = tel_scam[tel_scam.index.str.startswith('+57')] > 0\n",
    "vz = tel_scam[tel_scam.index.str.startswith('+58')] > 0\n",
    "ec = tel_scam[tel_scam.index.str.startswith('+593')] > 0\n",
    "\n",
    "y = [100 * np.mean(country)[0] for country in [pe, cl, co, vz, ec]]\n",
    "\n",
    "plt.figure()\n",
    "plt.bar(x, y)\n",
    "plt.xlabel(\"Country\")\n",
    "plt.ylabel(\"% of Users Who've\\nShared Scams\")\n",
    "plt.savefig('images/ch-misinformation/bar_scam_country_whoshared.png', bbox_inches = 'tight', pad_inches = 0.05)\n",
    "plt.close()\n",
    "\n",
    "print(f_oneway(pe, cl, co, vz, ec))\n",
    "\n",
    "print(\"\\nVZ t-tests\")\n",
    "print(ttest_ind(vz, pe))\n",
    "print(ttest_ind(vz, cl))\n",
    "print(ttest_ind(vz, co))\n",
    "print(ttest_ind(vz, ec))\n",
    "\n",
    "print(\"\\nCO t-tests\")\n",
    "print(ttest_ind(co, pe))\n",
    "print(ttest_ind(co, cl))\n",
    "print(ttest_ind(co, vz))\n",
    "print(ttest_ind(co, ec))"
   ]
  },
  {
   "cell_type": "code",
   "execution_count": 36,
   "metadata": {},
   "outputs": [
    {
     "name": "stdout",
     "output_type": "stream",
     "text": [
      "scam    0.112211\n",
      "dtype: float64\n",
      "scam    0.046193\n",
      "dtype: float64\n"
     ]
    }
   ],
   "source": [
    "print(np.mean(co))\n",
    "print(np.mean(vz))"
   ]
  },
  {
   "cell_type": "markdown",
   "metadata": {},
   "source": [
    "### Prop of user content is scams"
   ]
  },
  {
   "cell_type": "code",
   "execution_count": null,
   "metadata": {},
   "outputs": [],
   "source": []
  },
  {
   "cell_type": "code",
   "execution_count": 44,
   "metadata": {},
   "outputs": [
    {
     "name": "stdout",
     "output_type": "stream",
     "text": [
      "F_onewayResult(statistic=array([10.88603342]), pvalue=array([8.85346177e-09]))\n",
      "\n",
      "VZ t-tests\n",
      "Ttest_indResult(statistic=array([-5.3017984]), pvalue=array([1.29548642e-07]))\n",
      "Ttest_indResult(statistic=array([0.97057808]), pvalue=array([0.33193773]))\n",
      "Ttest_indResult(statistic=array([-5.6651217]), pvalue=array([1.5957194e-08]))\n",
      "Ttest_indResult(statistic=array([-3.43448838]), pvalue=array([0.00061211]))\n",
      "\n",
      "CO t-tests\n",
      "Ttest_indResult(statistic=array([-0.82526513]), pvalue=array([0.40929492]))\n",
      "Ttest_indResult(statistic=array([2.8210517]), pvalue=array([0.00482843]))\n",
      "Ttest_indResult(statistic=array([5.6651217]), pvalue=array([1.5957194e-08]))\n",
      "Ttest_indResult(statistic=array([-0.31609025]), pvalue=array([0.75196307]))\n"
     ]
    }
   ],
   "source": [
    "pe = tel_scam[tel_scam.index.str.startswith('+51')]\n",
    "cl = tel_scam[tel_scam.index.str.startswith('+56')]\n",
    "co = tel_scam[tel_scam.index.str.startswith('+57')]\n",
    "vz = tel_scam[tel_scam.index.str.startswith('+58')]\n",
    "ec = tel_scam[tel_scam.index.str.startswith('+593')]\n",
    "\n",
    "y = [np.mean(country)[0] for country in [pe, cl, co, vz, ec]]\n",
    "\n",
    "plt.bar(x, y)\n",
    "plt.xlabel(\"Country\")\n",
    "plt.ylabel(\"Avg. Scam Prevalence\")\n",
    "plt.title(\"All Users from Country\")\n",
    "plt.savefig('images/ch-misinformation/bar_scam_country_prevalence.png', bbox_inches = 'tight', pad_inches = 0.05)\n",
    "plt.close()\n",
    "print(f_oneway(pe, cl, co, vz, ec))\n",
    "\n",
    "print(\"\\nVZ t-tests\")\n",
    "print(ttest_ind(vz, pe))\n",
    "print(ttest_ind(vz, cl))\n",
    "print(ttest_ind(vz, co))\n",
    "print(ttest_ind(vz, ec))\n",
    "\n",
    "print(\"\\nCO t-tests\")\n",
    "print(ttest_ind(co, pe))\n",
    "print(ttest_ind(co, cl))\n",
    "print(ttest_ind(co, vz))\n",
    "print(ttest_ind(co, ec))"
   ]
  },
  {
   "cell_type": "code",
   "execution_count": 45,
   "metadata": {},
   "outputs": [
    {
     "name": "stdout",
     "output_type": "stream",
     "text": [
      "scam    0.069888\n",
      "dtype: float64\n",
      "scam    0.027205\n",
      "dtype: float64\n"
     ]
    }
   ],
   "source": [
    "print(np.mean(co))\n",
    "print(np.mean(vz))"
   ]
  },
  {
   "cell_type": "markdown",
   "metadata": {},
   "source": [
    "### Prop user content is scams, ONLY FOR scams sharers"
   ]
  },
  {
   "cell_type": "code",
   "execution_count": 46,
   "metadata": {},
   "outputs": [],
   "source": [
    "tel_scam_pos = tel_scam[tel_scam['scam'] > 0]"
   ]
  },
  {
   "cell_type": "code",
   "execution_count": 47,
   "metadata": {},
   "outputs": [
    {
     "name": "stdout",
     "output_type": "stream",
     "text": [
      "F_onewayResult(statistic=0.9219202769377437, pvalue=0.45114069396255396)\n",
      "\n",
      "VZ t-tests\n",
      "Ttest_indResult(statistic=-1.7144514004852853, pvalue=0.08918730406362392)\n",
      "Ttest_indResult(statistic=-0.3953195856830108, pvalue=0.6941361967726638)\n",
      "Ttest_indResult(statistic=-0.5990774828065281, pvalue=0.5495889105986987)\n",
      "Ttest_indResult(statistic=-0.14544044484835367, pvalue=0.884775245096313)\n",
      "\n",
      "CO t-tests\n",
      "Ttest_indResult(statistic=-1.6714487456441764, pvalue=0.09568631976829253)\n",
      "Ttest_indResult(statistic=-0.2899390990405123, pvalue=0.7721142180649859)\n",
      "Ttest_indResult(statistic=0.5990774828065281, pvalue=0.5495889105986987)\n",
      "Ttest_indResult(statistic=0.20402370370018746, pvalue=0.8384977075702557)\n"
     ]
    }
   ],
   "source": [
    "pe = tel_scam_pos[tel_scam_pos.index.str.startswith('+51')]['scam'].values\n",
    "cl = tel_scam_pos[tel_scam_pos.index.str.startswith('+56')]['scam'].values\n",
    "co = tel_scam_pos[tel_scam_pos.index.str.startswith('+57')]['scam'].values\n",
    "vz = tel_scam_pos[tel_scam_pos.index.str.startswith('+58')]['scam'].values\n",
    "ec = tel_scam_pos[tel_scam_pos.index.str.startswith('+593')]['scam'].values\n",
    "\n",
    "fig, ax = plt.subplots()\n",
    "ax.violinplot([pe, cl, co, vz, ec], showmeans = True)\n",
    "ax.set_xticklabels(['','PER', 'CHL', 'COL', 'VEN', 'ECU'])\n",
    "plt.xlabel(\"Country\")\n",
    "plt.ylabel(\"Scam Prevalence\")\n",
    "plt.title(\"Users Who've Shared Scams\")\n",
    "plt.savefig('images/ch-misinformation/violin_scam_country_prevalence_sharers.png', bbox_inches = 'tight', pad_inches = 0.05)\n",
    "plt.close()\n",
    "print(f_oneway(pe, cl, co, vz, ec))\n",
    "\n",
    "print(\"\\nVZ t-tests\")\n",
    "print(ttest_ind(vz, pe))\n",
    "print(ttest_ind(vz, cl))\n",
    "print(ttest_ind(vz, co))\n",
    "print(ttest_ind(vz, ec))\n",
    "\n",
    "print(\"\\nCO t-tests\")\n",
    "print(ttest_ind(co, pe))\n",
    "print(ttest_ind(co, cl))\n",
    "print(ttest_ind(co, vz))\n",
    "print(ttest_ind(co, ec))"
   ]
  },
  {
   "cell_type": "code",
   "execution_count": 48,
   "metadata": {},
   "outputs": [
    {
     "name": "stdout",
     "output_type": "stream",
     "text": [
      "0.6228222937705186\n",
      "0.5889375409511393\n"
     ]
    }
   ],
   "source": [
    "print(np.mean(co))\n",
    "print(np.mean(vz))"
   ]
  },
  {
   "cell_type": "markdown",
   "metadata": {},
   "source": [
    "### Number of scams"
   ]
  },
  {
   "cell_type": "code",
   "execution_count": 49,
   "metadata": {},
   "outputs": [
    {
     "name": "stdout",
     "output_type": "stream",
     "text": [
      "F_onewayResult(statistic=array([5.76455715]), pvalue=array([0.00012665]))\n",
      "\n",
      "VZ t-tests\n",
      "Ttest_indResult(statistic=array([-2.71702545]), pvalue=array([0.00665342]))\n",
      "Ttest_indResult(statistic=array([0.9484317]), pvalue=array([0.34308479]))\n",
      "Ttest_indResult(statistic=array([-3.95456543]), pvalue=array([7.8290052e-05]))\n",
      "Ttest_indResult(statistic=array([-1.94273087]), pvalue=array([0.05226142]))\n",
      "\n",
      "CO t-tests\n",
      "Ttest_indResult(statistic=array([-0.13786956]), pvalue=array([0.89035392]))\n",
      "Ttest_indResult(statistic=array([2.86590534]), pvalue=array([0.00419662]))\n",
      "Ttest_indResult(statistic=array([3.95456543]), pvalue=array([7.8290052e-05]))\n",
      "Ttest_indResult(statistic=array([-0.50186754]), pvalue=array([0.61580937]))\n"
     ]
    }
   ],
   "source": [
    "pe = tel_scam_n[tel_scam_n.index.str.startswith('+51')]\n",
    "cl = tel_scam_n[tel_scam_n.index.str.startswith('+56')]\n",
    "co = tel_scam_n[tel_scam_n.index.str.startswith('+57')]\n",
    "vz = tel_scam_n[tel_scam_n.index.str.startswith('+58')]\n",
    "ec = tel_scam_n[tel_scam_n.index.str.startswith('+593')]\n",
    "\n",
    "y = [np.mean(country)[0] for country in [pe, cl, co, vz, ec]]\n",
    "\n",
    "plt.bar(x, y)\n",
    "plt.xlabel(\"Country\")\n",
    "plt.ylabel(\"Avg. # of Scams\")\n",
    "plt.title(\"All Users from Country\")\n",
    "plt.savefig('images/ch-misinformation/bar_scam_country_frequency.png', bbox_inches = 'tight', pad_inches = 0.05)\n",
    "plt.close()\n",
    "\n",
    "print(f_oneway(pe, cl, co, vz, ec))\n",
    "\n",
    "print(\"\\nVZ t-tests\")\n",
    "print(ttest_ind(vz, pe))\n",
    "print(ttest_ind(vz, cl))\n",
    "print(ttest_ind(vz, co))\n",
    "print(ttest_ind(vz, ec))\n",
    "\n",
    "print(\"\\nCO t-tests\")\n",
    "print(ttest_ind(co, pe))\n",
    "print(ttest_ind(co, cl))\n",
    "print(ttest_ind(co, vz))\n",
    "print(ttest_ind(co, ec))"
   ]
  },
  {
   "cell_type": "code",
   "execution_count": 50,
   "metadata": {},
   "outputs": [
    {
     "name": "stdout",
     "output_type": "stream",
     "text": [
      "scam    0.165959\n",
      "dtype: float64\n",
      "scam    0.075278\n",
      "dtype: float64\n"
     ]
    }
   ],
   "source": [
    "print(np.mean(co))\n",
    "print(np.mean(vz))"
   ]
  },
  {
   "cell_type": "markdown",
   "metadata": {},
   "source": [
    "### Number of fake news, only for fake news sharers"
   ]
  },
  {
   "cell_type": "code",
   "execution_count": 51,
   "metadata": {},
   "outputs": [],
   "source": [
    "tel_scam_pos_n = tel_scam_n[tel_scam_n['scam'] > 0]"
   ]
  },
  {
   "cell_type": "code",
   "execution_count": 52,
   "metadata": {},
   "outputs": [
    {
     "name": "stdout",
     "output_type": "stream",
     "text": [
      "F_onewayResult(statistic=0.1892092480107084, pvalue=0.9439748689318488)\n",
      "\n",
      "VZ t-tests\n",
      "Ttest_indResult(statistic=0.26363625931747764, pvalue=0.792540374846579)\n",
      "Ttest_indResult(statistic=0.3933101227960766, pvalue=0.6956109443582374)\n",
      "Ttest_indResult(statistic=0.6414238115944625, pvalue=0.5217539811333425)\n",
      "Ttest_indResult(statistic=0.1519477755405089, pvalue=0.8796590741260211)\n",
      "\n",
      "CO t-tests\n",
      "Ttest_indResult(statistic=-0.26827696424565795, pvalue=0.7886723743722057)\n",
      "Ttest_indResult(statistic=0.7317508739483741, pvalue=0.4650375297368179)\n",
      "Ttest_indResult(statistic=-0.6414238115944625, pvalue=0.5217539811333425)\n",
      "Ttest_indResult(statistic=-0.1661203046356553, pvalue=0.8681939113138112)\n"
     ]
    }
   ],
   "source": [
    "pe = tel_scam_pos_n[tel_scam_pos_n.index.str.startswith('+51')]['scam'].values\n",
    "cl = tel_scam_pos_n[tel_scam_pos_n.index.str.startswith('+56')]['scam'].values\n",
    "co = tel_scam_pos_n[tel_scam_pos_n.index.str.startswith('+57')]['scam'].values\n",
    "vz = tel_scam_pos_n[tel_scam_pos_n.index.str.startswith('+58')]['scam'].values\n",
    "ec = tel_scam_pos_n[tel_scam_pos_n.index.str.startswith('+593')]['scam'].values\n",
    "\n",
    "fig, ax = plt.subplots()\n",
    "ax.violinplot([pe, cl, co, vz, ec], showmeans = True)\n",
    "ax.set_xticklabels(['','PER', 'CHL', 'COL', 'VEN', 'ECU'])\n",
    "plt.xlabel(\"Country\")\n",
    "plt.ylabel(\"# of Scams\")\n",
    "plt.title(\"Users Who've Shared Scams\")\n",
    "plt.savefig('images/ch-misinformation/violin_scam_country_frequency_sharers.png', bbox_inches = 'tight', pad_inches = 0.05)\n",
    "plt.close()\n",
    "print(f_oneway(pe, cl, co, vz, ec))\n",
    "\n",
    "print(\"\\nVZ t-tests\")\n",
    "print(ttest_ind(vz, pe))\n",
    "print(ttest_ind(vz, cl))\n",
    "print(ttest_ind(vz, co))\n",
    "print(ttest_ind(vz, ec))\n",
    "\n",
    "print(\"\\nCO t-tests\")\n",
    "print(ttest_ind(co, pe))\n",
    "print(ttest_ind(co, cl))\n",
    "print(ttest_ind(co, vz))\n",
    "print(ttest_ind(co, ec))"
   ]
  },
  {
   "cell_type": "code",
   "execution_count": 53,
   "metadata": {},
   "outputs": [
    {
     "name": "stdout",
     "output_type": "stream",
     "text": [
      "1.4789915966386555\n",
      "1.6296296296296295\n"
     ]
    }
   ],
   "source": [
    "print(np.mean(co))\n",
    "print(np.mean(vz))"
   ]
  },
  {
   "cell_type": "markdown",
   "metadata": {},
   "source": [
    "# Group dynamics"
   ]
  },
  {
   "cell_type": "code",
   "execution_count": 54,
   "metadata": {},
   "outputs": [],
   "source": [
    "df_groups['scam'] = df_p.groupby('uid')['scam'].mean()\n",
    "df_groups['scam'] = df_groups['scam'].fillna(0)"
   ]
  },
  {
   "cell_type": "code",
   "execution_count": 55,
   "metadata": {},
   "outputs": [],
   "source": [
    "df_groups['scam_users'] = (df_p[['tel', 'uid', 'scam']].groupby(['tel', 'uid']).sum() > 1).groupby('uid').mean()\n",
    "df_groups['scam_users'] = df_groups['scam_users'].fillna(0)"
   ]
  },
  {
   "cell_type": "code",
   "execution_count": 56,
   "metadata": {},
   "outputs": [],
   "source": [
    "df_groups.to_csv('Data/df_groups_nb4c-scam.csv')"
   ]
  },
  {
   "cell_type": "code",
   "execution_count": 57,
   "metadata": {},
   "outputs": [
    {
     "name": "stdout",
     "output_type": "stream",
     "text": [
      "(-0.030218585113783974, 0.6922320333272)\n",
      "(0.020737396700866596, 0.7859275906051502)\n"
     ]
    }
   ],
   "source": [
    "print(scipy.stats.pearsonr(df_groups['fakeNews'], df_groups['scam']))\n",
    "print(scipy.stats.pearsonr(df_groups['fakeNews_users'], df_groups['scam_users']))"
   ]
  },
  {
   "cell_type": "code",
   "execution_count": 58,
   "metadata": {},
   "outputs": [
    {
     "name": "stdout",
     "output_type": "stream",
     "text": [
      "0.4942528735632184\n",
      "86\n",
      "140\n"
     ]
    }
   ],
   "source": [
    "print(np.mean(df_groups['scam'] == 0))\n",
    "print(np.sum(df_groups['scam'] == 0))\n",
    "print(np.sum(df_groups['scam'] <= 0.1))"
   ]
  },
  {
   "cell_type": "code",
   "execution_count": 59,
   "metadata": {},
   "outputs": [],
   "source": [
    "df_groups[df_groups['scam'] > 0]['scam'].hist(bins = 20)\n",
    "plt.xlabel(\"Message Prevalence\")\n",
    "plt.ylabel(\"# of Groups\")\n",
    "plt.title(\"Groups with Scams\")\n",
    "plt.savefig('images/ch-misinformation/hist_scam_group_prevalence.png', bbox_inches = 'tight', pad_inches = 0.05)\n",
    "plt.close()"
   ]
  },
  {
   "cell_type": "code",
   "execution_count": 60,
   "metadata": {},
   "outputs": [],
   "source": [
    "plt.scatter(df_groups[df_groups['scam'] > 0]['scam'], df_groups[df_groups['scam'] > 0]['scam_users'], alpha = 0.2)\n",
    "plt.xlabel(\"Message Prevalence\")\n",
    "plt.ylabel(\"User Prevalence\")\n",
    "plt.title(\"Groups with Scams\")\n",
    "plt.savefig('images/ch-misinformation/scatter_scam_group.png', bbox_inches = 'tight', pad_inches = 0.05)\n",
    "plt.close()"
   ]
  },
  {
   "cell_type": "code",
   "execution_count": 62,
   "metadata": {},
   "outputs": [
    {
     "data": {
      "text/html": [
       "<div>\n",
       "<style scoped>\n",
       "    .dataframe tbody tr th:only-of-type {\n",
       "        vertical-align: middle;\n",
       "    }\n",
       "\n",
       "    .dataframe tbody tr th {\n",
       "        vertical-align: top;\n",
       "    }\n",
       "\n",
       "    .dataframe thead th {\n",
       "        text-align: right;\n",
       "    }\n",
       "</style>\n",
       "<table border=\"1\" class=\"dataframe\">\n",
       "  <thead>\n",
       "    <tr style=\"text-align: right;\">\n",
       "      <th></th>\n",
       "      <th>+52</th>\n",
       "      <th>+55</th>\n",
       "      <th>+57</th>\n",
       "      <th>+58</th>\n",
       "      <th>+34</th>\n",
       "      <th>+1</th>\n",
       "      <th>+263</th>\n",
       "      <th>+27</th>\n",
       "      <th>+381</th>\n",
       "      <th>+505</th>\n",
       "      <th>...</th>\n",
       "      <th>degree</th>\n",
       "      <th>activity</th>\n",
       "      <th>hhConc</th>\n",
       "      <th>gini</th>\n",
       "      <th>replies_n</th>\n",
       "      <th>virality</th>\n",
       "      <th>fakeNews</th>\n",
       "      <th>fakeNews_users</th>\n",
       "      <th>scam</th>\n",
       "      <th>scam_users</th>\n",
       "    </tr>\n",
       "    <tr>\n",
       "      <th>uid</th>\n",
       "      <th></th>\n",
       "      <th></th>\n",
       "      <th></th>\n",
       "      <th></th>\n",
       "      <th></th>\n",
       "      <th></th>\n",
       "      <th></th>\n",
       "      <th></th>\n",
       "      <th></th>\n",
       "      <th></th>\n",
       "      <th></th>\n",
       "      <th></th>\n",
       "      <th></th>\n",
       "      <th></th>\n",
       "      <th></th>\n",
       "      <th></th>\n",
       "      <th></th>\n",
       "      <th></th>\n",
       "      <th></th>\n",
       "      <th></th>\n",
       "      <th></th>\n",
       "    </tr>\n",
       "  </thead>\n",
       "  <tbody>\n",
       "    <tr>\n",
       "      <th>573003168984-1574534069</th>\n",
       "      <td>0.0</td>\n",
       "      <td>0.0</td>\n",
       "      <td>2.0</td>\n",
       "      <td>0.0</td>\n",
       "      <td>0.0</td>\n",
       "      <td>0.0</td>\n",
       "      <td>0.0</td>\n",
       "      <td>0.0</td>\n",
       "      <td>0.0</td>\n",
       "      <td>0.0</td>\n",
       "      <td>...</td>\n",
       "      <td>0.0</td>\n",
       "      <td>3.000000</td>\n",
       "      <td>0.555556</td>\n",
       "      <td>0.166667</td>\n",
       "      <td>0.000000</td>\n",
       "      <td>0.0</td>\n",
       "      <td>0.0</td>\n",
       "      <td>0.0</td>\n",
       "      <td>0.500000</td>\n",
       "      <td>0.000000</td>\n",
       "    </tr>\n",
       "    <tr>\n",
       "      <th>573006487893-1552883009</th>\n",
       "      <td>0.0</td>\n",
       "      <td>0.0</td>\n",
       "      <td>1.0</td>\n",
       "      <td>0.0</td>\n",
       "      <td>0.0</td>\n",
       "      <td>0.0</td>\n",
       "      <td>0.0</td>\n",
       "      <td>0.0</td>\n",
       "      <td>0.0</td>\n",
       "      <td>0.0</td>\n",
       "      <td>...</td>\n",
       "      <td>0.0</td>\n",
       "      <td>3.000000</td>\n",
       "      <td>0.555556</td>\n",
       "      <td>0.166667</td>\n",
       "      <td>0.000000</td>\n",
       "      <td>0.0</td>\n",
       "      <td>0.0</td>\n",
       "      <td>0.0</td>\n",
       "      <td>1.000000</td>\n",
       "      <td>0.000000</td>\n",
       "    </tr>\n",
       "    <tr>\n",
       "      <th>573117575342-1576375028</th>\n",
       "      <td>0.0</td>\n",
       "      <td>0.0</td>\n",
       "      <td>2.0</td>\n",
       "      <td>0.0</td>\n",
       "      <td>0.0</td>\n",
       "      <td>0.0</td>\n",
       "      <td>0.0</td>\n",
       "      <td>0.0</td>\n",
       "      <td>0.0</td>\n",
       "      <td>0.0</td>\n",
       "      <td>...</td>\n",
       "      <td>0.0</td>\n",
       "      <td>0.282051</td>\n",
       "      <td>0.388430</td>\n",
       "      <td>0.386364</td>\n",
       "      <td>0.090909</td>\n",
       "      <td>0.5</td>\n",
       "      <td>0.0</td>\n",
       "      <td>0.0</td>\n",
       "      <td>0.500000</td>\n",
       "      <td>0.000000</td>\n",
       "    </tr>\n",
       "    <tr>\n",
       "      <th>573127205208-1577591043</th>\n",
       "      <td>3.0</td>\n",
       "      <td>0.0</td>\n",
       "      <td>5.0</td>\n",
       "      <td>1.0</td>\n",
       "      <td>0.0</td>\n",
       "      <td>0.0</td>\n",
       "      <td>0.0</td>\n",
       "      <td>0.0</td>\n",
       "      <td>0.0</td>\n",
       "      <td>0.0</td>\n",
       "      <td>...</td>\n",
       "      <td>0.0</td>\n",
       "      <td>0.789474</td>\n",
       "      <td>0.168889</td>\n",
       "      <td>0.417778</td>\n",
       "      <td>0.000000</td>\n",
       "      <td>0.0</td>\n",
       "      <td>0.0</td>\n",
       "      <td>0.0</td>\n",
       "      <td>1.000000</td>\n",
       "      <td>0.000000</td>\n",
       "    </tr>\n",
       "    <tr>\n",
       "      <th>573215307159-1579143586</th>\n",
       "      <td>0.0</td>\n",
       "      <td>0.0</td>\n",
       "      <td>2.0</td>\n",
       "      <td>1.0</td>\n",
       "      <td>0.0</td>\n",
       "      <td>0.0</td>\n",
       "      <td>0.0</td>\n",
       "      <td>0.0</td>\n",
       "      <td>0.0</td>\n",
       "      <td>0.0</td>\n",
       "      <td>...</td>\n",
       "      <td>0.0</td>\n",
       "      <td>0.323529</td>\n",
       "      <td>0.322314</td>\n",
       "      <td>0.295455</td>\n",
       "      <td>0.090909</td>\n",
       "      <td>0.5</td>\n",
       "      <td>0.0</td>\n",
       "      <td>0.0</td>\n",
       "      <td>1.000000</td>\n",
       "      <td>0.000000</td>\n",
       "    </tr>\n",
       "    <tr>\n",
       "      <th>584166621910-1576352626</th>\n",
       "      <td>0.0</td>\n",
       "      <td>0.0</td>\n",
       "      <td>3.0</td>\n",
       "      <td>1.0</td>\n",
       "      <td>1.0</td>\n",
       "      <td>1.0</td>\n",
       "      <td>0.0</td>\n",
       "      <td>0.0</td>\n",
       "      <td>0.0</td>\n",
       "      <td>0.0</td>\n",
       "      <td>...</td>\n",
       "      <td>4.0</td>\n",
       "      <td>2.243243</td>\n",
       "      <td>0.797068</td>\n",
       "      <td>0.764200</td>\n",
       "      <td>0.000000</td>\n",
       "      <td>0.0</td>\n",
       "      <td>0.0</td>\n",
       "      <td>0.0</td>\n",
       "      <td>0.547619</td>\n",
       "      <td>0.333333</td>\n",
       "    </tr>\n",
       "    <tr>\n",
       "      <th>584243087672-1572730687</th>\n",
       "      <td>0.0</td>\n",
       "      <td>0.0</td>\n",
       "      <td>0.0</td>\n",
       "      <td>1.0</td>\n",
       "      <td>0.0</td>\n",
       "      <td>0.0</td>\n",
       "      <td>0.0</td>\n",
       "      <td>0.0</td>\n",
       "      <td>0.0</td>\n",
       "      <td>0.0</td>\n",
       "      <td>...</td>\n",
       "      <td>0.0</td>\n",
       "      <td>1.000000</td>\n",
       "      <td>0.555556</td>\n",
       "      <td>0.166667</td>\n",
       "      <td>0.000000</td>\n",
       "      <td>0.0</td>\n",
       "      <td>0.0</td>\n",
       "      <td>0.0</td>\n",
       "      <td>1.000000</td>\n",
       "      <td>0.000000</td>\n",
       "    </tr>\n",
       "  </tbody>\n",
       "</table>\n",
       "<p>7 rows × 70 columns</p>\n",
       "</div>"
      ],
      "text/plain": [
       "                         +52  +55  +57  +58  +34   +1  +263  +27  +381  +505  \\\n",
       "uid                                                                            \n",
       "573003168984-1574534069  0.0  0.0  2.0  0.0  0.0  0.0   0.0  0.0   0.0   0.0   \n",
       "573006487893-1552883009  0.0  0.0  1.0  0.0  0.0  0.0   0.0  0.0   0.0   0.0   \n",
       "573117575342-1576375028  0.0  0.0  2.0  0.0  0.0  0.0   0.0  0.0   0.0   0.0   \n",
       "573127205208-1577591043  3.0  0.0  5.0  1.0  0.0  0.0   0.0  0.0   0.0   0.0   \n",
       "573215307159-1579143586  0.0  0.0  2.0  1.0  0.0  0.0   0.0  0.0   0.0   0.0   \n",
       "584166621910-1576352626  0.0  0.0  3.0  1.0  1.0  1.0   0.0  0.0   0.0   0.0   \n",
       "584243087672-1572730687  0.0  0.0  0.0  1.0  0.0  0.0   0.0  0.0   0.0   0.0   \n",
       "\n",
       "                         ...  degree  activity    hhConc      gini  replies_n  \\\n",
       "uid                      ...                                                    \n",
       "573003168984-1574534069  ...     0.0  3.000000  0.555556  0.166667   0.000000   \n",
       "573006487893-1552883009  ...     0.0  3.000000  0.555556  0.166667   0.000000   \n",
       "573117575342-1576375028  ...     0.0  0.282051  0.388430  0.386364   0.090909   \n",
       "573127205208-1577591043  ...     0.0  0.789474  0.168889  0.417778   0.000000   \n",
       "573215307159-1579143586  ...     0.0  0.323529  0.322314  0.295455   0.090909   \n",
       "584166621910-1576352626  ...     4.0  2.243243  0.797068  0.764200   0.000000   \n",
       "584243087672-1572730687  ...     0.0  1.000000  0.555556  0.166667   0.000000   \n",
       "\n",
       "                         virality  fakeNews  fakeNews_users      scam  \\\n",
       "uid                                                                     \n",
       "573003168984-1574534069       0.0       0.0             0.0  0.500000   \n",
       "573006487893-1552883009       0.0       0.0             0.0  1.000000   \n",
       "573117575342-1576375028       0.5       0.0             0.0  0.500000   \n",
       "573127205208-1577591043       0.0       0.0             0.0  1.000000   \n",
       "573215307159-1579143586       0.5       0.0             0.0  1.000000   \n",
       "584166621910-1576352626       0.0       0.0             0.0  0.547619   \n",
       "584243087672-1572730687       0.0       0.0             0.0  1.000000   \n",
       "\n",
       "                         scam_users  \n",
       "uid                                  \n",
       "573003168984-1574534069    0.000000  \n",
       "573006487893-1552883009    0.000000  \n",
       "573117575342-1576375028    0.000000  \n",
       "573127205208-1577591043    0.000000  \n",
       "573215307159-1579143586    0.000000  \n",
       "584166621910-1576352626    0.333333  \n",
       "584243087672-1572730687    0.000000  \n",
       "\n",
       "[7 rows x 70 columns]"
      ]
     },
     "execution_count": 62,
     "metadata": {},
     "output_type": "execute_result"
    }
   ],
   "source": [
    "df_groups[df_groups['scam'] >= 0.5]\n",
    "# Vzs en Bogota, few messages; screwing around, few; \n",
    "# business group, few; porn group, moderate; screwing around, few;\n",
    "# internet money-making, MANY; VZ general, small"
   ]
  },
  {
   "cell_type": "code",
   "execution_count": 63,
   "metadata": {},
   "outputs": [],
   "source": [
    "df_p[df_p['scam']].groupby('uid')['scam'].sum().hist()\n",
    "plt.xlabel(\"# of Scams Shared\")\n",
    "plt.ylabel(\"# of Groups\")\n",
    "plt.title(\"Groups with Scams\")\n",
    "plt.savefig('images/ch-misinformation/hist_scam_group_frequency.png', bbox_inches = 'tight', pad_inches = 0.05)\n",
    "plt.close()\n",
    "# Very active gaming group, 156 scams shared of 1751 messages"
   ]
  },
  {
   "cell_type": "markdown",
   "metadata": {},
   "source": [
    "### Correlates"
   ]
  },
  {
   "cell_type": "code",
   "execution_count": 64,
   "metadata": {},
   "outputs": [],
   "source": [
    "cols = ['Size', 'pVZ', 'pCO',\n",
    "       'pUS', 'pPE', 'pCL', 'pEC', 'p3rdCountry', 'entropy',\n",
    "       'activity', 'degree', 'hhConc',\n",
    "       'gini', 'virality', 'fakeNews', 'fakeNews_users']"
   ]
  },
  {
   "cell_type": "code",
   "execution_count": 65,
   "metadata": {
    "scrolled": true
   },
   "outputs": [
    {
     "name": "stdout",
     "output_type": "stream",
     "text": [
      "============= Size =============\n",
      "(-0.05268165954373854, 0.48994919706406187)\n",
      "(0.07682828771971195, 0.3136367909222251)\n",
      "============= pVZ =============\n",
      "(-0.07981338991875825, 0.295148642435833)\n",
      "(-0.14891428342986598, 0.04986683115128725)\n",
      "============= pCO =============\n",
      "(-0.03719922017271353, 0.6260292016791941)\n",
      "(0.12083803038307778, 0.11221854446326605)\n",
      "============= pUS =============\n",
      "(0.06596458207522252, 0.3871467702969128)\n",
      "(0.22880227041676204, 0.0023914916965051144)\n",
      "============= pPE =============\n",
      "(-0.04518035221401274, 0.5538662750760072)\n",
      "(-0.05515037522428668, 0.4698087740645235)\n",
      "============= pCL =============\n",
      "(-0.07534146801515515, 0.32312124914460016)\n",
      "(-0.08580826433121869, 0.2602467321062162)\n",
      "============= pEC =============\n",
      "(0.2573766943932508, 0.0006069147209940115)\n",
      "(-0.07551957890358245, 0.3219754040912484)\n",
      "============= p3rdCountry =============\n",
      "(0.10564509307563628, 0.16532112177154132)\n",
      "(-0.019889000184346865, 0.7944868190047599)\n",
      "============= entropy =============\n",
      "(0.16032717911785088, 0.03457444052082779)\n",
      "(0.07167626990809375, 0.3472844039644378)\n",
      "============= activity =============\n",
      "(-0.1280190673413149, 0.09228803656794991)\n",
      "(-0.07995760611315267, 0.294274158609873)\n",
      "============= degree =============\n",
      "(-0.1279100712825057, 0.09256793402606366)\n",
      "(0.0021128614940323434, 0.9779255879121966)\n",
      "============= hhConc =============\n",
      "(-0.04656275088565788, 0.5417896903769188)\n",
      "(-0.07167948281685124, 0.3472627357293502)\n",
      "============= gini =============\n",
      "(-0.028633132466225092, 0.7076221471922316)\n",
      "(0.26409401984633535, 0.00042950710181067966)\n",
      "============= virality =============\n",
      "(-0.17555784115610829, 0.020498234087909767)\n",
      "(-0.0344941122504095, 0.6513673146199023)\n",
      "============= fakeNews =============\n",
      "(-0.030218585113783974, 0.6922320333272)\n",
      "(0.017366623224497037, 0.8200758024053509)\n",
      "============= fakeNews_users =============\n",
      "(-0.02966092403530674, 0.6976313338867346)\n",
      "(0.020737396700866596, 0.7859275906051502)\n"
     ]
    }
   ],
   "source": [
    "for col in cols:\n",
    "    print(\"============= %s =============\" % col)\n",
    "    print(scipy.stats.pearsonr(df_groups[col], df_groups['scam']))\n",
    "    print(scipy.stats.pearsonr(df_groups[col], df_groups['scam_users']))"
   ]
  },
  {
   "cell_type": "code",
   "execution_count": 66,
   "metadata": {},
   "outputs": [
    {
     "name": "stdout",
     "output_type": "stream",
     "text": [
      "                            OLS Regression Results                            \n",
      "==============================================================================\n",
      "Dep. Variable:                   scam   R-squared:                       0.104\n",
      "Model:                            OLS   Adj. R-squared:                  0.093\n",
      "Method:                 Least Squares   F-statistic:                     9.883\n",
      "Date:                Wed, 15 Apr 2020   Prob (F-statistic):           8.68e-05\n",
      "Time:                        11:36:16   Log-Likelihood:                 58.612\n",
      "No. Observations:                 174   AIC:                            -111.2\n",
      "Df Residuals:                     171   BIC:                            -101.7\n",
      "Df Model:                           2                                         \n",
      "Covariance Type:            nonrobust                                         \n",
      "==============================================================================\n",
      "                 coef    std err          t      P>|t|      [0.025      0.975]\n",
      "------------------------------------------------------------------------------\n",
      "Intercept      0.0750      0.022      3.345      0.001       0.031       0.119\n",
      "entropy        0.0867      0.023      3.726      0.000       0.041       0.133\n",
      "virality      -0.0863      0.022     -3.855      0.000      -0.131      -0.042\n",
      "==============================================================================\n",
      "Omnibus:                      138.017   Durbin-Watson:                   2.027\n",
      "Prob(Omnibus):                  0.000   Jarque-Bera (JB):             1210.737\n",
      "Skew:                           3.060   Prob(JB):                    1.24e-263\n",
      "Kurtosis:                      14.381   Cond. No.                         3.37\n",
      "==============================================================================\n",
      "\n",
      "Warnings:\n",
      "[1] Standard Errors assume that the covariance matrix of the errors is correctly specified.\n"
     ]
    }
   ],
   "source": [
    "reg = smf.ols('scam ~ entropy + virality',\n",
    "              data = df_groups).fit()\n",
    "print(reg.summary())"
   ]
  },
  {
   "cell_type": "code",
   "execution_count": 67,
   "metadata": {},
   "outputs": [
    {
     "name": "stdout",
     "output_type": "stream",
     "text": [
      "                            OLS Regression Results                            \n",
      "==============================================================================\n",
      "Dep. Variable:             scam_users   R-squared:                       0.104\n",
      "Model:                            OLS   Adj. R-squared:                  0.093\n",
      "Method:                 Least Squares   F-statistic:                     9.918\n",
      "Date:                Wed, 15 Apr 2020   Prob (F-statistic):           8.41e-05\n",
      "Time:                        11:37:15   Log-Likelihood:                 237.03\n",
      "No. Observations:                 174   AIC:                            -468.1\n",
      "Df Residuals:                     171   BIC:                            -458.6\n",
      "Df Model:                           2                                         \n",
      "Covariance Type:            nonrobust                                         \n",
      "==============================================================================\n",
      "                 coef    std err          t      P>|t|      [0.025      0.975]\n",
      "------------------------------------------------------------------------------\n",
      "Intercept      0.0012      0.010      0.120      0.904      -0.018       0.021\n",
      "pVZ           -0.0481      0.019     -2.555      0.011      -0.085      -0.011\n",
      "gini           0.0699      0.018      3.950      0.000       0.035       0.105\n",
      "==============================================================================\n",
      "Omnibus:                      156.079   Durbin-Watson:                   1.768\n",
      "Prob(Omnibus):                  0.000   Jarque-Bera (JB):             1830.556\n",
      "Skew:                           3.495   Prob(JB):                         0.00\n",
      "Kurtosis:                      17.269   Cond. No.                         4.74\n",
      "==============================================================================\n",
      "\n",
      "Warnings:\n",
      "[1] Standard Errors assume that the covariance matrix of the errors is correctly specified.\n"
     ]
    }
   ],
   "source": [
    "reg = smf.ols('scam_users ~ pVZ + gini',\n",
    "              data = df_groups).fit()\n",
    "print(reg.summary())"
   ]
  },
  {
   "cell_type": "markdown",
   "metadata": {},
   "source": [
    "#### Of groups that share scams"
   ]
  },
  {
   "cell_type": "code",
   "execution_count": 68,
   "metadata": {},
   "outputs": [
    {
     "name": "stdout",
     "output_type": "stream",
     "text": [
      "============= Size =============\n",
      "(-0.3488448986200673, 0.0008654818033532204)\n",
      "(-0.151230179663827, 0.1595804299944502)\n",
      "============= pVZ =============\n",
      "(-0.176922191599797, 0.09915115201254245)\n",
      "(-0.28376022724439287, 0.0073808231808304234)\n",
      "============= pCO =============\n",
      "(-0.029355843730968854, 0.7860040030608096)\n",
      "(0.22610296681832398, 0.03415640978028331)\n",
      "============= pUS =============\n",
      "(0.10649776739826389, 0.32336565944058177)\n",
      "(0.4019620245756146, 0.0001036476207749114)\n",
      "============= pPE =============\n",
      "(-0.06801040192148702, 0.5289553261632056)\n",
      "(-0.08577120543885813, 0.4268656932993031)\n",
      "============= pCL =============\n",
      "(-0.1080803717037857, 0.3161857768953207)\n",
      "(-0.13109085130650963, 0.2234445933805841)\n",
      "============= pEC =============\n",
      "(0.41812219554123103, 5.043730351047499e-05)\n",
      "(-0.16178509293333848, 0.1320881405273336)\n",
      "============= p3rdCountry =============\n",
      "(0.18620287351996992, 0.08238927653083149)\n",
      "(-0.03808647604856738, 0.7246116689040462)\n",
      "============= entropy =============\n",
      "(0.052773360392187225, 0.6253231698662911)\n",
      "(-0.06803603238181134, 0.5287996986789558)\n",
      "============= activity =============\n",
      "(-0.22491102892993958, 0.03513857942479447)\n",
      "(-0.15362770518247224, 0.15299035857843743)\n",
      "============= degree =============\n",
      "(-0.25605164070726516, 0.016043628054341914)\n",
      "(-0.07906670656105795, 0.4640136968948673)\n",
      "============= hhConc =============\n",
      "(0.4584726831824645, 7.054988696686719e-06)\n",
      "(0.329411003591493, 0.0017248432924542236)\n",
      "============= gini =============\n",
      "(-0.614838021826712, 1.8582337427988786e-10)\n",
      "(0.11228986271086619, 0.29759277914887106)\n",
      "============= virality =============\n",
      "(-0.4927480218107318, 1.077954608153978e-06)\n",
      "(-0.21226278050585032, 0.04709809783230468)\n",
      "============= fakeNews =============\n",
      "(-0.01197841239223929, 0.9118028878264257)\n",
      "(0.1364700297106373, 0.2048555661681034)\n",
      "============= fakeNews_users =============\n",
      "(-0.13305718891749874, 0.21651666862190158)\n",
      "(0.005492232198712411, 0.9594965193012099)\n"
     ]
    }
   ],
   "source": [
    "for col in cols:\n",
    "    print(\"============= %s =============\" % col)\n",
    "    print(scipy.stats.pearsonr(df_groups[df_groups['scam'] > 0][col], df_groups[df_groups['scam'] > 0]['scam']))\n",
    "    print(scipy.stats.pearsonr(df_groups[df_groups['scam'] > 0][col], df_groups[df_groups['scam'] > 0]['scam_users']))"
   ]
  },
  {
   "cell_type": "code",
   "execution_count": 69,
   "metadata": {},
   "outputs": [
    {
     "name": "stdout",
     "output_type": "stream",
     "text": [
      "                            OLS Regression Results                            \n",
      "==============================================================================\n",
      "Dep. Variable:                   scam   R-squared:                       0.489\n",
      "Model:                            OLS   Adj. R-squared:                  0.451\n",
      "Method:                 Least Squares   F-statistic:                     12.92\n",
      "Date:                Wed, 15 Apr 2020   Prob (F-statistic):           3.46e-10\n",
      "Time:                        11:41:10   Log-Likelihood:                 32.983\n",
      "No. Observations:                  88   AIC:                            -51.97\n",
      "Df Residuals:                      81   BIC:                            -34.62\n",
      "Df Model:                           6                                         \n",
      "Covariance Type:            nonrobust                                         \n",
      "==============================================================================\n",
      "                 coef    std err          t      P>|t|      [0.025      0.975]\n",
      "------------------------------------------------------------------------------\n",
      "Intercept      0.5147      0.083      6.232      0.000       0.350       0.679\n",
      "Size           0.0003      0.000      1.105      0.272      -0.000       0.001\n",
      "activity    8.594e-05      0.000      0.459      0.647      -0.000       0.000\n",
      "degree         0.0003      0.001      0.379      0.706      -0.001       0.002\n",
      "hhConc         0.4887      0.156      3.140      0.002       0.179       0.798\n",
      "gini          -0.7290      0.137     -5.307      0.000      -1.002      -0.456\n",
      "virality      -0.0363      0.070     -0.520      0.605      -0.175       0.102\n",
      "==============================================================================\n",
      "Omnibus:                       38.649   Durbin-Watson:                   1.945\n",
      "Prob(Omnibus):                  0.000   Jarque-Bera (JB):              101.507\n",
      "Skew:                           1.519   Prob(JB):                     9.08e-23\n",
      "Kurtosis:                       7.296   Cond. No.                     1.72e+03\n",
      "==============================================================================\n",
      "\n",
      "Warnings:\n",
      "[1] Standard Errors assume that the covariance matrix of the errors is correctly specified.\n",
      "[2] The condition number is large, 1.72e+03. This might indicate that there are\n",
      "strong multicollinearity or other numerical problems.\n"
     ]
    }
   ],
   "source": [
    "reg = smf.ols('scam ~ Size + activity + degree + hhConc + gini + virality',\n",
    "              data = df_groups[df_groups['scam'] > 0]).fit()\n",
    "print(reg.summary())"
   ]
  },
  {
   "cell_type": "markdown",
   "metadata": {},
   "source": [
    "# Grouping fake news together"
   ]
  },
  {
   "cell_type": "code",
   "execution_count": 70,
   "metadata": {},
   "outputs": [],
   "source": [
    "scam_corpus = df_x[df_x['scam']]['textlower'].unique()\n",
    "scam_tokenize = [tokenize(c) for c in scam_corpus]"
   ]
  },
  {
   "cell_type": "code",
   "execution_count": 71,
   "metadata": {},
   "outputs": [
    {
     "name": "stdout",
     "output_type": "stream",
     "text": [
      "247\n"
     ]
    }
   ],
   "source": [
    "print(len(scam_corpus))"
   ]
  },
  {
   "cell_type": "code",
   "execution_count": 72,
   "metadata": {},
   "outputs": [],
   "source": [
    "X = vectorizer.fit_transform(scam_tokenize)"
   ]
  },
  {
   "cell_type": "code",
   "execution_count": 73,
   "metadata": {},
   "outputs": [],
   "source": [
    "redirect_from_to = {}"
   ]
  },
  {
   "cell_type": "code",
   "execution_count": 74,
   "metadata": {},
   "outputs": [
    {
     "name": "stdout",
     "output_type": "stream",
     "text": [
      "105\n"
     ]
    }
   ],
   "source": [
    "for i, j in zip(np.where(cosine_similarity(X) > 0.8)[0], np.where(cosine_similarity(X) > 0.8)[1]):\n",
    "    if i < j:\n",
    "        if i in redirect_from_to:\n",
    "            redirect_from_to[j] = redirect_from_to[i]\n",
    "        else:\n",
    "            redirect_from_to[j] = i\n",
    "\n",
    "print(len(redirect_from_to))"
   ]
  },
  {
   "cell_type": "code",
   "execution_count": 75,
   "metadata": {},
   "outputs": [
    {
     "name": "stdout",
     "output_type": "stream",
     "text": [
      "{59: 3, 8: 4, 16: 4, 20: 4, 24: 4, 31: 4, 68: 4, 43: 12, 90: 17, 36: 18, 41: 18, 44: 18, 94: 19, 30: 23, 46: 23, 99: 28, 56: 38, 154: 38, 52: 45, 54: 45, 57: 45, 81: 69, 226: 69, 79: 74, 114: 76, 116: 76, 117: 76, 118: 76, 121: 76, 122: 76, 123: 76, 124: 76, 127: 76, 128: 76, 129: 76, 131: 76, 132: 76, 133: 76, 134: 76, 135: 76, 235: 80, 111: 87, 112: 87, 115: 93, 110: 95, 98: 97, 104: 97, 150: 97, 215: 109, 120: 76, 125: 76, 126: 76, 137: 76, 143: 76, 146: 76, 159: 76, 160: 76, 204: 76, 130: 119, 210: 119, 142: 136, 141: 139, 196: 140, 152: 145, 156: 145, 157: 145, 158: 145, 162: 145, 163: 145, 164: 145, 165: 145, 167: 145, 169: 145, 170: 145, 172: 145, 173: 145, 175: 145, 176: 145, 177: 145, 178: 145, 182: 145, 183: 145, 185: 145, 187: 145, 188: 145, 189: 145, 190: 145, 236: 145, 245: 145, 180: 149, 192: 149, 179: 145, 201: 166, 184: 145, 195: 171, 205: 171, 197: 186, 198: 186, 211: 193, 200: 199, 228: 171, 220: 209, 216: 214, 229: 171, 242: 240}\n"
     ]
    }
   ],
   "source": [
    "print(redirect_from_to)"
   ]
  },
  {
   "cell_type": "code",
   "execution_count": 76,
   "metadata": {},
   "outputs": [
    {
     "name": "stdout",
     "output_type": "stream",
     "text": [
      "OFERTA DE PRÉSTAMO DE DINERO\n",
      " Somos una empresa que ofrece préstamos para la vivienda, préstamos de inversión, préstamos para automóviles, préstamos personales que van desde  4,000€ a  1,000,000€ con una tasa de interés del 3% sobre capital a corto y largo plazo. Si estás interesado contáctanos por whatsapp: +33752534155\n",
      "\n",
      "Ofrecer el prestamo\n",
      "  Somos una empresa que ofrece préstamos para vivienda, préstamos de inversión, préstamos para automóviles, préstamos personales que van desde 5,000 hasta 1,000,000 de dinares kuwaitíes con una tasa de interés del 3% sobre capital a corto y largo plazo.\n",
      "  Con este préstamo, puede restaurar completamente su hogar, pagar sus impuestos y contribuir a sus necesidades personales y familiares.  Si está interesado, contáctenos a través de WhatsApp: +33752534155\n"
     ]
    }
   ],
   "source": [
    "print(df_p[df_p['textlower'] == scam_corpus[229]]['text'].iloc[0])\n",
    "print()\n",
    "print(df_p[df_p['textlower'] == scam_corpus[171]]['text'].iloc[0])"
   ]
  },
  {
   "cell_type": "code",
   "execution_count": 77,
   "metadata": {},
   "outputs": [],
   "source": [
    "groups_where_shared = {}\n",
    "users_who_shared = {}"
   ]
  },
  {
   "cell_type": "code",
   "execution_count": 78,
   "metadata": {},
   "outputs": [],
   "source": [
    "for i in range(len(scam_corpus)):\n",
    "    groups_where_shared[i] = df_x.loc[df_x['textlower'] == scam_corpus[i], 'uid'].tolist()\n",
    "    users_who_shared[i] = df_x.loc[df_x['textlower'] == scam_corpus[i], 'tel'].tolist()"
   ]
  },
  {
   "cell_type": "code",
   "execution_count": 79,
   "metadata": {},
   "outputs": [],
   "source": [
    "for from_i in redirect_from_to.keys():\n",
    "    to_i = redirect_from_to[from_i]\n",
    "    groups_where_shared[to_i] = groups_where_shared[to_i] + groups_where_shared[from_i]\n",
    "    users_who_shared[to_i] = users_who_shared[to_i] + users_who_shared[from_i]\n",
    "    \n",
    "    del groups_where_shared[from_i]\n",
    "    del users_who_shared[from_i]"
   ]
  },
  {
   "cell_type": "code",
   "execution_count": 80,
   "metadata": {},
   "outputs": [],
   "source": [
    "list_mergedScam = \\\n",
    "    [[scam_corpus[i], groups_where_shared[i], users_who_shared[i]] for i in groups_where_shared.keys()]\n",
    "df_mergedScam = pd.DataFrame(list_mergedScam, columns = ['textlower', 'groups', 'users'])"
   ]
  },
  {
   "cell_type": "code",
   "execution_count": 81,
   "metadata": {},
   "outputs": [],
   "source": [
    "df_mergedScam['n_shares'] = df_mergedScam['groups'].apply(len)\n",
    "df_mergedScam['n_groups'] = df_mergedScam['groups'].apply(lambda x: len(set(x)))\n",
    "df_mergedScam['n_users'] = df_mergedScam['users'].apply(lambda x: len(set(x)))\n",
    "df_mergedScam['shares/groups'] = df_mergedScam['n_shares'] / df_mergedScam['n_groups']\n",
    "df_mergedScam['shares/users'] = df_mergedScam['n_shares'] / df_mergedScam['n_users']"
   ]
  },
  {
   "cell_type": "code",
   "execution_count": 82,
   "metadata": {},
   "outputs": [],
   "source": [
    "df_mergedScam['n_shares'].hist(bins = 40)\n",
    "plt.xlabel(\"Number of Shares\")\n",
    "plt.ylabel(\"# of Scams\")\n",
    "plt.title(\"Unique Scams\")\n",
    "plt.savefig('images/ch-misinformation/hist_scam_unique_frequency.png', bbox_inches = 'tight', pad_inches = 0.05)\n",
    "plt.close()"
   ]
  },
  {
   "cell_type": "code",
   "execution_count": 83,
   "metadata": {},
   "outputs": [],
   "source": [
    "df_mergedScam['n_users'].hist(bins = 40)\n",
    "plt.xlabel(\"# of Unique Users Sharing\")\n",
    "plt.ylabel(\"# of Scam Texts\")\n",
    "plt.title(\"Unique Scams\")\n",
    "plt.savefig('images/ch-misinformation/hist_scam_unique_user.png', bbox_inches = 'tight', pad_inches = 0.05)\n",
    "plt.close()"
   ]
  },
  {
   "cell_type": "code",
   "execution_count": 84,
   "metadata": {},
   "outputs": [],
   "source": [
    "df_mergedScam['n_groups'].hist(bins = 20)\n",
    "plt.xlabel(\"# of Unique Groups Shared In\")\n",
    "plt.ylabel(\"# of Scam Texts\")\n",
    "plt.title(\"Unique Scams\")\n",
    "plt.savefig('images/ch-misinformation/hist_scam_unique_group.png', bbox_inches = 'tight', pad_inches = 0.05)\n",
    "plt.close()"
   ]
  },
  {
   "cell_type": "code",
   "execution_count": 85,
   "metadata": {},
   "outputs": [
    {
     "name": "stdout",
     "output_type": "stream",
     "text": [
      "2.5238821162267726\n",
      "2.644857629988522\n"
     ]
    }
   ],
   "source": [
    "print(np.mean(df_mergedScam['shares/groups']))\n",
    "print(np.mean(df_mergedScam['shares/users']))"
   ]
  },
  {
   "cell_type": "code",
   "execution_count": 86,
   "metadata": {},
   "outputs": [
    {
     "data": {
      "text/plain": [
       "Counter({3: 1,\n",
       "         4: 6,\n",
       "         12: 1,\n",
       "         17: 1,\n",
       "         18: 3,\n",
       "         19: 1,\n",
       "         23: 2,\n",
       "         28: 1,\n",
       "         38: 2,\n",
       "         45: 3,\n",
       "         69: 2,\n",
       "         74: 1,\n",
       "         76: 25,\n",
       "         80: 1,\n",
       "         87: 2,\n",
       "         93: 1,\n",
       "         95: 1,\n",
       "         97: 3,\n",
       "         109: 1,\n",
       "         119: 2,\n",
       "         136: 1,\n",
       "         139: 1,\n",
       "         140: 1,\n",
       "         145: 28,\n",
       "         149: 2,\n",
       "         166: 1,\n",
       "         171: 4,\n",
       "         186: 2,\n",
       "         193: 1,\n",
       "         199: 1,\n",
       "         209: 1,\n",
       "         214: 1,\n",
       "         240: 1})"
      ]
     },
     "execution_count": 86,
     "metadata": {},
     "output_type": "execute_result"
    }
   ],
   "source": [
    "Counter(redirect_from_to.values())"
   ]
  },
  {
   "cell_type": "code",
   "execution_count": 87,
   "metadata": {},
   "outputs": [
    {
     "name": "stdout",
     "output_type": "stream",
     "text": [
      "La OMS y el Gobierno han destinado un BONO de dinero para todos los paises por Motivo de CUARENTENA (CORONA VIRUS) \n",
      "Obtenga su BONO gratis en cualquier pais. \n",
      "Consiguelo ahora AQUI  \n",
      "https://bit.ly/Bono-Comida-8\n",
      "\n",
      "100 GB de datos de Internet sin ninguna recarga \n",
      "Obtenga 100 GB de datos de Internet gratis en cualquier red móvil durante 60 días. \n",
      "Consiguelo ahora \n",
      "https://internet4goffers.com/es\n"
     ]
    }
   ],
   "source": [
    "print(df_p[df_p['textlower'] == scam_corpus[145]]['text'].iloc[0])\n",
    "print()\n",
    "print(df_p[df_p['textlower'] == scam_corpus[76]]['text'].iloc[0])"
   ]
  }
 ],
 "metadata": {
  "kernelspec": {
   "display_name": "Environment (conda_vzwa)",
   "language": "python",
   "name": "conda_vzwa"
  },
  "language_info": {
   "codemirror_mode": {
    "name": "ipython",
    "version": 3
   },
   "file_extension": ".py",
   "mimetype": "text/x-python",
   "name": "python",
   "nbconvert_exporter": "python",
   "pygments_lexer": "ipython3",
   "version": "3.7.5"
  }
 },
 "nbformat": 4,
 "nbformat_minor": 2
}
