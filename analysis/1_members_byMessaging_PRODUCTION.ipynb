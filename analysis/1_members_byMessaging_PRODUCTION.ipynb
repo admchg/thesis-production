{
 "cells": [
  {
   "cell_type": "code",
   "execution_count": 1,
   "metadata": {},
   "outputs": [],
   "source": [
    "import numpy as np\n",
    "import pandas as pd\n",
    "import os"
   ]
  },
  {
   "cell_type": "code",
   "execution_count": 2,
   "metadata": {},
   "outputs": [],
   "source": [
    "from collections import Counter"
   ]
  },
  {
   "cell_type": "code",
   "execution_count": 3,
   "metadata": {},
   "outputs": [],
   "source": [
    "import matplotlib.pyplot as plt\n",
    "SMALL_SIZE = 8\n",
    "MEDIUM_SIZE = 10\n",
    "BIGGER_SIZE = 20\n",
    "\n",
    "plt.rc('font', size=BIGGER_SIZE)          # controls default text sizes\n",
    "plt.rc('axes', titlesize=BIGGER_SIZE)     # fontsize of the axes title\n",
    "plt.rc('axes', labelsize=BIGGER_SIZE)    # fontsize of the x and y labels\n",
    "plt.rc('xtick', labelsize=BIGGER_SIZE)    # fontsize of the tick labels\n",
    "plt.rc('ytick', labelsize=BIGGER_SIZE)    # fontsize of the tick labels\n",
    "plt.rc('legend', fontsize=BIGGER_SIZE)    # legend fontsize\n",
    "plt.rc('figure', titlesize=BIGGER_SIZE)  # fontsize of the figure title"
   ]
  },
  {
   "cell_type": "code",
   "execution_count": 4,
   "metadata": {},
   "outputs": [],
   "source": [
    "if not os.path.exists('images/ch-members/active/'):\n",
    "    os.makedirs('images/ch-members/active/')"
   ]
  },
  {
   "cell_type": "code",
   "execution_count": 5,
   "metadata": {},
   "outputs": [],
   "source": [
    "import statsmodels.formula.api as smf\n",
    "import scipy.stats\n",
    "from scipy.stats import ttest_ind\n",
    "from scipy.stats import f_oneway"
   ]
  },
  {
   "cell_type": "code",
   "execution_count": 6,
   "metadata": {},
   "outputs": [],
   "source": [
    "import networkx as nx"
   ]
  },
  {
   "cell_type": "markdown",
   "metadata": {},
   "source": [
    "# Read in"
   ]
  },
  {
   "cell_type": "code",
   "execution_count": 7,
   "metadata": {},
   "outputs": [
    {
     "name": "stdout",
     "output_type": "stream",
     "text": [
      "(171634, 26)\n"
     ]
    }
   ],
   "source": [
    "df_x = pd.read_csv(\"Data/df_x_nb0a-groupMerge.csv\", index_col = 0)\n",
    "print(df_x.shape)"
   ]
  },
  {
   "cell_type": "markdown",
   "metadata": {},
   "source": [
    "### Skip this processing"
   ]
  },
  {
   "cell_type": "code",
   "execution_count": null,
   "metadata": {},
   "outputs": [],
   "source": [
    "group_members = df_x[['uid', 'tel']].groupby('uid')['tel'].unique()"
   ]
  },
  {
   "cell_type": "code",
   "execution_count": null,
   "metadata": {},
   "outputs": [],
   "source": [
    "df_interact = pd.DataFrame()\n",
    "df_groups = pd.DataFrame()\n",
    "\n",
    "for member_list in group_members:\n",
    "    member_list = list(member_list)\n",
    "    df_new = pd.DataFrame(index = member_list, columns = member_list + ['Group']).fillna(1)\n",
    "        \n",
    "    df_interact = df_interact.add(df_new, fill_value = 0)\n",
    "\n",
    "    country_codes = [m.split(' ')[0] for m in member_list]\n",
    "    df_groups = df_groups.append(Counter(country_codes), ignore_index=True)"
   ]
  },
  {
   "cell_type": "code",
   "execution_count": null,
   "metadata": {},
   "outputs": [],
   "source": [
    "df_groups.index = group_members.index\n",
    "df_groups = df_groups.fillna(0)\n",
    "df_interact = df_interact.fillna(0)"
   ]
  },
  {
   "cell_type": "code",
   "execution_count": null,
   "metadata": {},
   "outputs": [],
   "source": [
    "df_groups.to_csv('Data/intermediate/df_groups_nb1-members-byMessaging.csv')\n",
    "df_interact.to_csv('Data/intermediate/df_interact_nb1-members-byMessaging.csv')"
   ]
  },
  {
   "cell_type": "markdown",
   "metadata": {},
   "source": [
    "### Reload from saved output"
   ]
  },
  {
   "cell_type": "code",
   "execution_count": 8,
   "metadata": {},
   "outputs": [],
   "source": [
    "# Re-import from first run\n",
    "df_groups = pd.read_csv('Data/intermediate/df_groups_nb1-members-byMessaging.csv', index_col = 0)\n",
    "df_interact = pd.read_csv('Data/intermediate/df_interact_nb1-members-byMessaging.csv', index_col = 0)"
   ]
  },
  {
   "cell_type": "markdown",
   "metadata": {},
   "source": [
    "# Group size"
   ]
  },
  {
   "cell_type": "code",
   "execution_count": 9,
   "metadata": {},
   "outputs": [
    {
     "name": "stdout",
     "output_type": "stream",
     "text": [
      "Group/interact shapes:\n",
      "(174, 51)\n",
      "(7860, 7861)\n"
     ]
    }
   ],
   "source": [
    "print(\"Group/interact shapes:\")\n",
    "print(df_groups.shape)\n",
    "print(df_interact.shape)"
   ]
  },
  {
   "cell_type": "code",
   "execution_count": 10,
   "metadata": {},
   "outputs": [],
   "source": [
    "count_cols = [c for c in df_groups.columns if c[0] == '+']\n",
    "df_groups[\"Size\"] = df_groups[count_cols].sum(axis = 1)"
   ]
  },
  {
   "cell_type": "code",
   "execution_count": 11,
   "metadata": {},
   "outputs": [
    {
     "name": "stdout",
     "output_type": "stream",
     "text": [
      "Group sizes <=10, <=20, >=150\n",
      "0.4425287356321839\n",
      "0.5862068965517241\n",
      "0.09770114942528736\n"
     ]
    }
   ],
   "source": [
    "print(\"Group sizes <=10, <=20, >=150\")\n",
    "print(np.mean(df_groups['Size'] <= 10))\n",
    "print(np.mean(df_groups['Size'] <= 20))\n",
    "print(np.mean(df_groups['Size'] >= 150))"
   ]
  },
  {
   "cell_type": "code",
   "execution_count": 12,
   "metadata": {},
   "outputs": [],
   "source": [
    "# distribution of group sizes\n",
    "\n",
    "plt.hist(df_groups[\"Size\"], range = (0,256), bins = 20)\n",
    "plt.xlabel(\"# of Members in Group\")\n",
    "plt.ylabel(\"# of Groups\")\n",
    "plt.savefig('images/ch-members/active/hist_size.png', bbox_inches = 'tight', pad_inches = 0.05)\n",
    "plt.close()"
   ]
  },
  {
   "cell_type": "code",
   "execution_count": 13,
   "metadata": {},
   "outputs": [
    {
     "name": "stdout",
     "output_type": "stream",
     "text": [
      "Groups/user value counts:\n",
      "1.0    7377\n",
      "2.0     434\n",
      "3.0      36\n",
      "4.0      11\n",
      "5.0       2\n",
      "Name: Group, dtype: int64\n"
     ]
    }
   ],
   "source": [
    "# distribution of groups/user\n",
    "print(\"Groups/user value counts:\")\n",
    "print(df_interact[\"Group\"].value_counts())"
   ]
  },
  {
   "cell_type": "markdown",
   "metadata": {},
   "source": [
    "# Country breakdown"
   ]
  },
  {
   "cell_type": "code",
   "execution_count": 14,
   "metadata": {},
   "outputs": [],
   "source": [
    "df_groups[\"pVZ\"] = df_groups[\"+58\"] / df_groups[\"Size\"]\n",
    "df_groups[\"pCO\"] = df_groups[\"+57\"] / df_groups[\"Size\"]\n",
    "df_groups[\"pUS\"] = df_groups[\"+1\"] / df_groups[\"Size\"]\n",
    "df_groups[\"pPE\"] = df_groups[\"+51\"] / df_groups[\"Size\"]\n",
    "df_groups[\"pCL\"] = df_groups[\"+56\"] / df_groups[\"Size\"]\n",
    "df_groups[\"pEC\"] = df_groups[\"+593\"] / df_groups[\"Size\"]\n",
    "df_groups['p3rdCountry'] = (1 - (df_groups['pVZ'] + df_groups['pCO']))"
   ]
  },
  {
   "cell_type": "code",
   "execution_count": 15,
   "metadata": {},
   "outputs": [],
   "source": [
    "# distribution of pCountry in various groups\n",
    "# APPENDIX\n",
    "\n",
    "for col in [\"pVZ\", \"pCO\", \"pUS\", \"pPE\", \"pCL\", \"pEC\", \"p3rdCountry\"]:\n",
    "    plt.hist(100 * df_groups[col], range = (0,100), bins = 16)\n",
    "    plt.xlabel(\"%% of Group Members from %s\" % col[1:])\n",
    "    plt.ylabel(\"# of Groups\")   \n",
    "    plt.savefig('images/ch-appendicies/members/prop_%s.png' % col[1:], bbox_inches = 'tight', pad_inches = 0.05)\n",
    "    plt.close()"
   ]
  },
  {
   "cell_type": "code",
   "execution_count": 16,
   "metadata": {},
   "outputs": [],
   "source": [
    "# comparing VZ and CO membership in groups\n",
    "\n",
    "plt.scatter(100 * df_groups[\"pVZ\"], 100 * df_groups[\"pCO\"], alpha = 0.5)\n",
    "plt.xlabel(\"% VZ in Group\")\n",
    "plt.ylabel(\"% CO in Group\")\n",
    "\n",
    "plt.savefig('images/ch-members/active/pVZ_vs_pCO.png', bbox_inches = 'tight', pad_inches = 0.05)\n",
    "plt.close()"
   ]
  },
  {
   "cell_type": "code",
   "execution_count": 17,
   "metadata": {},
   "outputs": [],
   "source": [
    "plt.hist(df_groups[df_groups[\"pVZ\"] > df_groups[\"pCO\"]][\"Size\"], range = (0,256), bins = 20)\n",
    "plt.xlabel(\"Size of Group\")\n",
    "plt.ylabel(\"Number of Groups\")\n",
    "plt.title(\"Groups where %VZ > %CO\")\n",
    "plt.savefig('images/ch-members/active/hist_size_moreVZ.png', bbox_inches = 'tight', pad_inches = 0.05)\n",
    "plt.close()"
   ]
  },
  {
   "cell_type": "code",
   "execution_count": 18,
   "metadata": {},
   "outputs": [],
   "source": [
    "plt.hist(df_groups[df_groups[\"pVZ\"] < df_groups[\"pCO\"]][\"Size\"], range = (0,256), bins = 20)\n",
    "plt.xlabel(\"Size of Group\")\n",
    "plt.ylabel(\"Number of Groups\")\n",
    "plt.title(\"Groups where %VZ < %CO\")\n",
    "plt.savefig('images/ch-members/active/hist_size_moreCO.png', bbox_inches = 'tight', pad_inches = 0.05)\n",
    "plt.close()"
   ]
  },
  {
   "cell_type": "markdown",
   "metadata": {},
   "source": [
    "## Who's connected to who"
   ]
  },
  {
   "cell_type": "code",
   "execution_count": 19,
   "metadata": {},
   "outputs": [],
   "source": [
    "df_interact[\"CO Connections\"] = df_interact[[col for col in df_interact if col[:4] == \"+57 \"]].sum(axis = 1)\n",
    "df_interact[\"VZ Connections\"] = df_interact[[col for col in df_interact if col[:4] == \"+58 \"]].sum(axis = 1)\n",
    "df_interact[\"PE Connections\"] = df_interact[[col for col in df_interact if col[:4] == \"+51 \"]].sum(axis = 1)\n",
    "df_interact[\"US Connections\"] = df_interact[[col for col in df_interact if col[:3] == \"+1 \"]].sum(axis = 1)\n",
    "df_interact[\"BR Connections\"] = df_interact[[col for col in df_interact if col[:4] == \"+55 \"]].sum(axis = 1)\n",
    "df_interact[\"CL Connections\"] = df_interact[[col for col in df_interact if col[:4] == \"+56 \"]].sum(axis = 1)\n",
    "df_interact[\"EC Connections\"] = df_interact[[col for col in df_interact if col[:5] == \"+593 \"]].sum(axis = 1)\n",
    "df_interact[\"nConnections\"] = df_interact[[col for col in df_interact if col[0] == \"+\"]].sum(axis = 1)"
   ]
  },
  {
   "cell_type": "code",
   "execution_count": 20,
   "metadata": {},
   "outputs": [],
   "source": [
    "df_interact_vz = df_interact.loc[[num for num in df_interact.index if num[:4] == \"+58 \"]]\n",
    "df_interact_co = df_interact.loc[[num for num in df_interact.index if num[:4] == \"+57 \"]]\n",
    "df_interact_pe = df_interact.loc[[num for num in df_interact.index if num[:4] == \"+51 \"]]\n",
    "df_interact_cl = df_interact.loc[[num for num in df_interact.index if num[:4] == \"+56 \"]]\n",
    "df_interact_ec = df_interact.loc[[num for num in df_interact.index if num[:5] == \"+593 \"]]\n",
    "df_interact_us = df_interact.loc[[num for num in df_interact.index if num[:3] == \"+1 \"]]"
   ]
  },
  {
   "cell_type": "markdown",
   "metadata": {},
   "source": [
    "### Comparing connections to VZ and CO users\n"
   ]
  },
  {
   "cell_type": "code",
   "execution_count": 21,
   "metadata": {},
   "outputs": [],
   "source": [
    "plt.hist(df_interact_vz[\"CO Connections\"], label = \"To CO Users\", range = (0,300), alpha = 0.5, bins = 30)\n",
    "plt.hist(df_interact_vz[\"VZ Connections\"], label = \"To VZ Users\", range = (0,300), alpha = 0.5, bins = 30)\n",
    "plt.xlabel(\"Number of Connections\")\n",
    "plt.ylabel(\"Number of Users\")\n",
    "plt.title(\"Venezuelan WhatsApp Users (+58)\")\n",
    "plt.legend()\n",
    "plt.savefig(\"images/ch-members/active/hist_connToCOVZ_VZ.png\", bbox_inches = 'tight', pad_inches = 0.05)\n",
    "plt.close()\n",
    "\n",
    "plt.hist(df_interact_co[\"CO Connections\"], label = \"To CO Users\", range = (0,300), alpha = 0.5, bins = 30)\n",
    "plt.hist(df_interact_co[\"VZ Connections\"], label = \"To VZ Users\", range = (0,300), alpha = 0.5, bins = 30)\n",
    "plt.xlabel(\"Number of Connections\")\n",
    "plt.ylabel(\"Number of Users\")\n",
    "plt.title(\"Colombian WhatsApp Users (+57)\")\n",
    "plt.legend()\n",
    "plt.savefig(\"images/ch-members/active/hist_connToCOVZ_CO.png\", bbox_inches = 'tight', pad_inches = 0.05)\n",
    "plt.close()\n",
    "\n",
    "plt.hist(df_interact_pe[\"CO Connections\"], label = \"To CO Users\", range = (0,300), alpha = 0.5, bins = 30)\n",
    "plt.hist(df_interact_pe[\"VZ Connections\"], label = \"To VZ Users\", range = (0,300), alpha = 0.5, bins = 30)\n",
    "plt.xlabel(\"Number of Connections\")\n",
    "plt.ylabel(\"Number of Users\")\n",
    "plt.title(\"Peruvian WhatsApp Users (+51)\")\n",
    "plt.legend()\n",
    "plt.savefig(\"images/ch-members/active/hist_connToCOVZ_PE.png\", bbox_inches = 'tight', pad_inches = 0.05)\n",
    "plt.close()\n",
    "\n",
    "plt.hist(df_interact_ec[\"CO Connections\"], label = \"To CO Users\", range = (0,300), alpha = 0.5, bins = 30)\n",
    "plt.hist(df_interact_ec[\"VZ Connections\"], label = \"To VZ Users\", range = (0,300), alpha = 0.5, bins = 30)\n",
    "plt.xlabel(\"Number of Connections\")\n",
    "plt.ylabel(\"Number of Users\")\n",
    "plt.title(\"Ecuadorian WhatsApp Users (+593)\")\n",
    "plt.legend()\n",
    "plt.savefig(\"images/ch-members/active/hist_connToCOVZ_EC.png\", bbox_inches = 'tight', pad_inches = 0.05)\n",
    "plt.close()\n",
    "\n",
    "plt.hist(df_interact_cl[\"CO Connections\"], label = \"To CO Users\", range = (0,300), alpha = 0.5, bins = 30)\n",
    "plt.hist(df_interact_cl[\"VZ Connections\"], label = \"To VZ Users\", range = (0,300), alpha = 0.5, bins = 30)\n",
    "plt.xlabel(\"Number of Connections\")\n",
    "plt.ylabel(\"Number of Users\")\n",
    "plt.title(\"Chilean WhatsApp Users (+56)\")\n",
    "plt.legend()\n",
    "plt.savefig(\"images/ch-members/active/hist_connToCOVZ_CL.png\", bbox_inches = 'tight', pad_inches = 0.05)\n",
    "plt.close()"
   ]
  },
  {
   "cell_type": "markdown",
   "metadata": {},
   "source": [
    "### Bar graphs of user connected to users from each country"
   ]
  },
  {
   "cell_type": "code",
   "execution_count": 22,
   "metadata": {},
   "outputs": [],
   "source": [
    "def selectCountryCode(df, cc):\n",
    "    return df[df.index.str.startswith(cc + ' ')]\n",
    "\n",
    "def allCountryCode(df):\n",
    "    return [x[0] for x in df.index.str.split(\" \")]\n",
    "\n",
    "cc = {'+51': 'PER', '+55': 'BRA', '+56': 'CHL', '+57': 'COL', '+58': 'VEN',\n",
    "        '+593': 'ECU', '+1': 'USA'}\n",
    "\n",
    "def countryCodeToCountry(code):\n",
    "    return cc[code]\n",
    "\n",
    "selectCountries = cc.keys()"
   ]
  },
  {
   "cell_type": "code",
   "execution_count": 23,
   "metadata": {},
   "outputs": [],
   "source": [
    "# bar graph by country\n",
    "\n",
    "df_interest = df_interact\n",
    "countCountryCode = Counter(allCountryCode(df_interest))\n",
    "\n",
    "x = [countryCodeToCountry(c) for c in countCountryCode and selectCountries]\n",
    "y = [100 * countCountryCode[c] / len(df_interest) for c in countCountryCode and selectCountries]\n",
    "\n",
    "plt.figure(figsize = (9, 5))\n",
    "plt.bar(x, y)\n",
    "plt.xlabel(\"Country\")\n",
    "plt.ylabel(\"% of Users\")\n",
    "plt.title(\"All Users (%s)\" % len(df_interest))\n",
    "plt.savefig(\"images/ch-members/active/bar_byCountry.png\", bbox_inches = 'tight', pad_inches = 0.05)\n",
    "plt.close()"
   ]
  },
  {
   "cell_type": "code",
   "execution_count": 24,
   "metadata": {},
   "outputs": [],
   "source": [
    "# bar graph by country, for those with Peru connections\n",
    "\n",
    "df_interest = df_interact[df_interact[\"PE Connections\"] > 0]\n",
    "countCountryCode = Counter(allCountryCode(df_interest))\n",
    "\n",
    "x = [countryCodeToCountry(c) for c in countCountryCode and selectCountries]\n",
    "y = [100 * countCountryCode[c] / len(df_interest) for c in countCountryCode and selectCountries]\n",
    "\n",
    "plt.figure(figsize = (9, 5))\n",
    "plt.bar(x, y)\n",
    "plt.xlabel(\"Country\")\n",
    "plt.ylabel(\"% of Users\")\n",
    "plt.title(\"Users Connected to Peru Users (%s)\" % len(df_interest))\n",
    "plt.savefig(\"images/ch-members/active/bar_withConnTo_PE.png\", bbox_inches = 'tight', pad_inches = 0.05)\n",
    "plt.close()"
   ]
  },
  {
   "cell_type": "code",
   "execution_count": 25,
   "metadata": {},
   "outputs": [],
   "source": [
    "# bar graph by country, for those with Chile connections\n",
    "\n",
    "df_interest = df_interact[df_interact[\"CL Connections\"] > 0]\n",
    "countCountryCode = Counter(allCountryCode(df_interest))\n",
    "\n",
    "x = [countryCodeToCountry(c) for c in countCountryCode and selectCountries]\n",
    "y = [100 * countCountryCode[c] / len(df_interest) for c in countCountryCode and selectCountries]\n",
    "\n",
    "plt.figure(figsize = (9, 5))\n",
    "plt.bar(x, y)\n",
    "plt.xlabel(\"Country\")\n",
    "plt.ylabel(\"% of Users\")\n",
    "plt.title(\"Users Connected to Chile Users (%s)\" % len(df_interest))\n",
    "plt.savefig(\"images/ch-members/active/bar_withConnTo_CL.png\", bbox_inches = 'tight', pad_inches = 0.05)\n",
    "plt.close()"
   ]
  },
  {
   "cell_type": "code",
   "execution_count": 26,
   "metadata": {},
   "outputs": [],
   "source": [
    "\"\"# bar graph by country, for those with Ecuador connections\n",
    "\n",
    "df_interest = df_interact[df_interact[\"EC Connections\"] > 0]\n",
    "countCountryCode = Counter(allCountryCode(df_interest))\n",
    "\n",
    "x = [countryCodeToCountry(c) for c in countCountryCode and selectCountries]\n",
    "y = [100 * countCountryCode[c] / len(df_interest) for c in countCountryCode and selectCountries]\n",
    "\n",
    "plt.figure(figsize = (9, 5))\n",
    "plt.bar(x, y)\n",
    "plt.xlabel(\"Country\")\n",
    "plt.ylabel(\"% of Users\")\n",
    "plt.title(\"Users Connected to Ecuador Users (%s)\" % len(df_interest))\n",
    "plt.savefig(\"images/ch-members/active/bar_withConnTo_EC.png\", bbox_inches = 'tight', pad_inches = 0.05)\n",
    "plt.close()"
   ]
  },
  {
   "cell_type": "markdown",
   "metadata": {},
   "source": [
    "# Diversity"
   ]
  },
  {
   "cell_type": "markdown",
   "metadata": {},
   "source": [
    "### Entropy"
   ]
  },
  {
   "cell_type": "code",
   "execution_count": 27,
   "metadata": {},
   "outputs": [],
   "source": [
    "def entr(row):\n",
    "    return scipy.stats.entropy(row[count_cols])"
   ]
  },
  {
   "cell_type": "code",
   "execution_count": 28,
   "metadata": {},
   "outputs": [],
   "source": [
    "df_groups['entropy'] = df_groups.apply(entr, axis = 1)"
   ]
  },
  {
   "cell_type": "code",
   "execution_count": 29,
   "metadata": {},
   "outputs": [],
   "source": [
    "# distribution of group entropies\n",
    "\n",
    "plt.hist(df_groups[\"entropy\"], bins = 15)\n",
    "plt.xlabel(\"Entropy\")\n",
    "plt.ylabel(\"# of Groups\")\n",
    "plt.title(\"Diversity within Groups\")\n",
    "plt.savefig('images/ch-members/active/hist_entropy.png', bbox_inches = 'tight', pad_inches = 0.05)\n",
    "plt.close()"
   ]
  },
  {
   "cell_type": "markdown",
   "metadata": {},
   "source": [
    "### Simpson"
   ]
  },
  {
   "cell_type": "code",
   "execution_count": 30,
   "metadata": {},
   "outputs": [],
   "source": [
    "def simpson(row):\n",
    "    counts = row[count_cols]\n",
    "    return np.sum(np.square(counts)) / (row['Size']**2)"
   ]
  },
  {
   "cell_type": "code",
   "execution_count": 31,
   "metadata": {},
   "outputs": [],
   "source": [
    "df_groups['simpson'] = df_groups.apply(simpson, axis = 1)"
   ]
  },
  {
   "cell_type": "markdown",
   "metadata": {},
   "source": [
    "### Entropy vs. Simpson"
   ]
  },
  {
   "cell_type": "code",
   "execution_count": 32,
   "metadata": {},
   "outputs": [],
   "source": [
    "plt.scatter(df_groups['simpson'], df_groups['entropy'])\n",
    "plt.xlabel(\"Simpson Index (similarity)\")\n",
    "plt.ylabel(\"Entropy (uncertainty)\")\n",
    "plt.title(\"National Diversity within Groups\")\n",
    "plt.savefig('images/ch-members/active/scatter_simpson_entropy.png', bbox_inches = 'tight', pad_inches = 0.05)\n",
    "plt.close()"
   ]
  },
  {
   "cell_type": "code",
   "execution_count": 33,
   "metadata": {},
   "outputs": [
    {
     "name": "stdout",
     "output_type": "stream",
     "text": [
      "Entropy ~ simpson\n",
      "(-0.9620096952633582, 6.673013759688798e-99)\n",
      "                            OLS Regression Results                            \n",
      "==============================================================================\n",
      "Dep. Variable:                entropy   R-squared:                       0.925\n",
      "Model:                            OLS   Adj. R-squared:                  0.925\n",
      "Method:                 Least Squares   F-statistic:                     2136.\n",
      "Date:                Tue, 14 Apr 2020   Prob (F-statistic):           6.67e-99\n",
      "Time:                        17:40:16   Log-Likelihood:                 57.166\n",
      "No. Observations:                 174   AIC:                            -110.3\n",
      "Df Residuals:                     172   BIC:                            -104.0\n",
      "Df Model:                           1                                         \n",
      "Covariance Type:            nonrobust                                         \n",
      "==============================================================================\n",
      "                 coef    std err          t      P>|t|      [0.025      0.975]\n",
      "------------------------------------------------------------------------------\n",
      "Intercept      2.0646      0.031     66.747      0.000       2.004       2.126\n",
      "simpson       -2.1160      0.046    -46.212      0.000      -2.206      -2.026\n",
      "==============================================================================\n",
      "Omnibus:                       12.209   Durbin-Watson:                   1.810\n",
      "Prob(Omnibus):                  0.002   Jarque-Bera (JB):               15.099\n",
      "Skew:                           0.484   Prob(JB):                     0.000526\n",
      "Kurtosis:                       4.070   Cond. No.                         4.81\n",
      "==============================================================================\n",
      "\n",
      "Warnings:\n",
      "[1] Standard Errors assume that the covariance matrix of the errors is correctly specified.\n"
     ]
    }
   ],
   "source": [
    "print(\"Entropy ~ simpson\")\n",
    "\n",
    "reg = smf.ols('entropy ~ simpson', data = df_groups).fit()\n",
    "print(scipy.stats.pearsonr(df_groups['entropy'], df_groups['simpson']))\n",
    "print(reg.summary())"
   ]
  },
  {
   "cell_type": "markdown",
   "metadata": {},
   "source": [
    "## Diversity correlates"
   ]
  },
  {
   "cell_type": "code",
   "execution_count": 34,
   "metadata": {},
   "outputs": [],
   "source": [
    "plt.scatter(df_groups['pVZ'], df_groups['entropy'])\n",
    "plt.xlabel(\"Proportion VZ in Group\")\n",
    "plt.ylabel(\"Entropy\")\n",
    "plt.savefig('images/ch-members/active/scatter_pVZ_entropy.png', bbox_inches = 'tight', pad_inches = 0.05)\n",
    "plt.close()"
   ]
  },
  {
   "cell_type": "code",
   "execution_count": 35,
   "metadata": {},
   "outputs": [],
   "source": [
    "plt.scatter(df_groups['pCO'], df_groups['entropy'])\n",
    "plt.xlabel(\"Proportion CO in Group\")\n",
    "plt.ylabel(\"Entropy\")\n",
    "plt.savefig('images/ch-members/active/scatter_pCO_entropy.png', bbox_inches = 'tight', pad_inches = 0.05)\n",
    "plt.close()"
   ]
  },
  {
   "cell_type": "code",
   "execution_count": 36,
   "metadata": {
    "scrolled": false
   },
   "outputs": [
    {
     "name": "stdout",
     "output_type": "stream",
     "text": [
      "Entropy ~ pVZ\n",
      "(0.07785176680860256, 0.30721461019271123)\n",
      "                            OLS Regression Results                            \n",
      "==============================================================================\n",
      "Dep. Variable:                entropy   R-squared:                       0.006\n",
      "Model:                            OLS   Adj. R-squared:                  0.000\n",
      "Method:                 Least Squares   F-statistic:                     1.049\n",
      "Date:                Tue, 14 Apr 2020   Prob (F-statistic):              0.307\n",
      "Time:                        17:40:26   Log-Likelihood:                -168.20\n",
      "No. Observations:                 174   AIC:                             340.4\n",
      "Df Residuals:                     172   BIC:                             346.7\n",
      "Df Model:                           1                                         \n",
      "Covariance Type:            nonrobust                                         \n",
      "==============================================================================\n",
      "                 coef    std err          t      P>|t|      [0.025      0.975]\n",
      "------------------------------------------------------------------------------\n",
      "Intercept      0.7374      0.060     12.274      0.000       0.619       0.856\n",
      "pVZ            0.1959      0.191      1.024      0.307      -0.182       0.573\n",
      "==============================================================================\n",
      "Omnibus:                       12.925   Durbin-Watson:                   1.888\n",
      "Prob(Omnibus):                  0.002   Jarque-Bera (JB):               10.251\n",
      "Skew:                           0.495   Prob(JB):                      0.00594\n",
      "Kurtosis:                       2.342   Cond. No.                         4.09\n",
      "==============================================================================\n",
      "\n",
      "Warnings:\n",
      "[1] Standard Errors assume that the covariance matrix of the errors is correctly specified.\n"
     ]
    }
   ],
   "source": [
    "print(\"Entropy ~ pVZ\")\n",
    "\n",
    "reg = smf.ols('entropy ~ pVZ', data = df_groups).fit()\n",
    "print(scipy.stats.pearsonr(df_groups['pVZ'], df_groups['entropy']))\n",
    "print(reg.summary())"
   ]
  },
  {
   "cell_type": "code",
   "execution_count": 37,
   "metadata": {},
   "outputs": [
    {
     "name": "stdout",
     "output_type": "stream",
     "text": [
      "Entropy ~ pCO\n",
      "(-0.5047564149426101, 1.2301502872321198e-12)\n",
      "                            OLS Regression Results                            \n",
      "==============================================================================\n",
      "Dep. Variable:                entropy   R-squared:                       0.255\n",
      "Model:                            OLS   Adj. R-squared:                  0.250\n",
      "Method:                 Least Squares   F-statistic:                     58.80\n",
      "Date:                Tue, 14 Apr 2020   Prob (F-statistic):           1.23e-12\n",
      "Time:                        17:40:26   Log-Likelihood:                -143.14\n",
      "No. Observations:                 174   AIC:                             290.3\n",
      "Df Residuals:                     172   BIC:                             296.6\n",
      "Df Model:                           1                                         \n",
      "Covariance Type:            nonrobust                                         \n",
      "==============================================================================\n",
      "                 coef    std err          t      P>|t|      [0.025      0.975]\n",
      "------------------------------------------------------------------------------\n",
      "Intercept      1.2299      0.073     16.888      0.000       1.086       1.374\n",
      "pCO           -0.8817      0.115     -7.668      0.000      -1.109      -0.655\n",
      "==============================================================================\n",
      "Omnibus:                        0.868   Durbin-Watson:                   1.857\n",
      "Prob(Omnibus):                  0.648   Jarque-Bera (JB):                0.663\n",
      "Skew:                          -0.147   Prob(JB):                        0.718\n",
      "Kurtosis:                       3.067   Cond. No.                         3.55\n",
      "==============================================================================\n",
      "\n",
      "Warnings:\n",
      "[1] Standard Errors assume that the covariance matrix of the errors is correctly specified.\n"
     ]
    }
   ],
   "source": [
    "print(\"Entropy ~ pCO\")\n",
    "reg = smf.ols('entropy ~ pCO', data = df_groups).fit()\n",
    "print(scipy.stats.pearsonr(df_groups['pCO'], df_groups['entropy']))\n",
    "print(reg.summary())"
   ]
  },
  {
   "cell_type": "code",
   "execution_count": 38,
   "metadata": {},
   "outputs": [],
   "source": [
    "plt.scatter(df_groups['p3rdCountry'], df_groups['entropy'])\n",
    "plt.xlabel(\"Prop. Non-CO/Non-VZ in Group\")\n",
    "plt.ylabel(\"Entropy\")\n",
    "plt.savefig('images/ch-members/active/scatter_p3rd_entropy.png', bbox_inches = 'tight', pad_inches = 0.05)\n",
    "plt.close()"
   ]
  },
  {
   "cell_type": "code",
   "execution_count": 39,
   "metadata": {},
   "outputs": [
    {
     "name": "stdout",
     "output_type": "stream",
     "text": [
      "Entropy ~ p3rd\n",
      "(0.5140851118532208, 4.0079190930919647e-13)\n",
      "                            OLS Regression Results                            \n",
      "==============================================================================\n",
      "Dep. Variable:                entropy   R-squared:                       0.264\n",
      "Model:                            OLS   Adj. R-squared:                  0.260\n",
      "Method:                 Least Squares   F-statistic:                     61.79\n",
      "Date:                Tue, 14 Apr 2020   Prob (F-statistic):           4.01e-13\n",
      "Time:                        17:40:29   Log-Likelihood:                -142.02\n",
      "No. Observations:                 174   AIC:                             288.0\n",
      "Df Residuals:                     172   BIC:                             294.4\n",
      "Df Model:                           1                                         \n",
      "Covariance Type:            nonrobust                                         \n",
      "===============================================================================\n",
      "                  coef    std err          t      P>|t|      [0.025      0.975]\n",
      "-------------------------------------------------------------------------------\n",
      "Intercept       0.4692      0.057      8.241      0.000       0.357       0.582\n",
      "p3rdCountry     1.0243      0.130      7.860      0.000       0.767       1.282\n",
      "==============================================================================\n",
      "Omnibus:                        3.908   Durbin-Watson:                   1.975\n",
      "Prob(Omnibus):                  0.142   Jarque-Bera (JB):                3.517\n",
      "Skew:                          -0.337   Prob(JB):                        0.172\n",
      "Kurtosis:                       3.179   Cond. No.                         3.43\n",
      "==============================================================================\n",
      "\n",
      "Warnings:\n",
      "[1] Standard Errors assume that the covariance matrix of the errors is correctly specified.\n"
     ]
    }
   ],
   "source": [
    "print(\"Entropy ~ p3rd\")\n",
    "\n",
    "reg = smf.ols('entropy ~ p3rdCountry', data = df_groups).fit()\n",
    "print(scipy.stats.pearsonr(df_groups['p3rdCountry'], df_groups['entropy']))\n",
    "print(reg.summary())"
   ]
  },
  {
   "cell_type": "code",
   "execution_count": 40,
   "metadata": {},
   "outputs": [],
   "source": [
    "plt.scatter(df_groups['Size'], df_groups['entropy'])\n",
    "plt.xlabel(\"Group Size\")\n",
    "plt.ylabel(\"Entropy\")\n",
    "plt.savefig('images/ch-members/active/scatter_size_entropy.png', bbox_inches = 'tight', pad_inches = 0.05)\n",
    "plt.close()"
   ]
  },
  {
   "cell_type": "code",
   "execution_count": 41,
   "metadata": {},
   "outputs": [
    {
     "name": "stdout",
     "output_type": "stream",
     "text": [
      "Entropy ~ Size\n",
      "(0.3217276643275484, 1.4982159358062118e-05)\n",
      "                            OLS Regression Results                            \n",
      "==============================================================================\n",
      "Dep. Variable:                entropy   R-squared:                       0.104\n",
      "Model:                            OLS   Adj. R-squared:                  0.098\n",
      "Method:                 Least Squares   F-statistic:                     19.86\n",
      "Date:                Tue, 14 Apr 2020   Prob (F-statistic):           1.50e-05\n",
      "Time:                        17:40:32   Log-Likelihood:                -159.22\n",
      "No. Observations:                 174   AIC:                             322.4\n",
      "Df Residuals:                     172   BIC:                             328.8\n",
      "Df Model:                           1                                         \n",
      "Covariance Type:            nonrobust                                         \n",
      "==============================================================================\n",
      "                 coef    std err          t      P>|t|      [0.025      0.975]\n",
      "------------------------------------------------------------------------------\n",
      "Intercept      0.6368      0.055     11.499      0.000       0.527       0.746\n",
      "Size           0.0028      0.001      4.456      0.000       0.002       0.004\n",
      "==============================================================================\n",
      "Omnibus:                       23.298   Durbin-Watson:                   1.935\n",
      "Prob(Omnibus):                  0.000   Jarque-Bera (JB):                9.331\n",
      "Skew:                           0.332   Prob(JB):                      0.00941\n",
      "Kurtosis:                       2.080   Cond. No.                         105.\n",
      "==============================================================================\n",
      "\n",
      "Warnings:\n",
      "[1] Standard Errors assume that the covariance matrix of the errors is correctly specified.\n"
     ]
    }
   ],
   "source": [
    "print(\"Entropy ~ Size\")\n",
    "\n",
    "reg = smf.ols('entropy ~ Size', data = df_groups).fit()\n",
    "print(scipy.stats.pearsonr(df_groups['Size'], df_groups['entropy']))\n",
    "print(reg.summary())"
   ]
  },
  {
   "cell_type": "markdown",
   "metadata": {},
   "source": [
    "### Simpson, to check"
   ]
  },
  {
   "cell_type": "code",
   "execution_count": 42,
   "metadata": {
    "scrolled": true
   },
   "outputs": [
    {
     "name": "stdout",
     "output_type": "stream",
     "text": [
      "Simpson ~ pVZ, pCO, p3rd, Size (to check)\n",
      "(-0.11795490916390278, 0.12110939301296374)\n",
      "                            OLS Regression Results                            \n",
      "==============================================================================\n",
      "Dep. Variable:                simpson   R-squared:                       0.014\n",
      "Model:                            OLS   Adj. R-squared:                  0.008\n",
      "Method:                 Least Squares   F-statistic:                     2.427\n",
      "Date:                Tue, 14 Apr 2020   Prob (F-statistic):              0.121\n",
      "Time:                        17:40:45   Log-Likelihood:                -30.348\n",
      "No. Observations:                 174   AIC:                             64.70\n",
      "Df Residuals:                     172   BIC:                             71.01\n",
      "Df Model:                           1                                         \n",
      "Covariance Type:            nonrobust                                         \n",
      "==============================================================================\n",
      "                 coef    std err          t      P>|t|      [0.025      0.975]\n",
      "------------------------------------------------------------------------------\n",
      "Intercept      0.6351      0.027     23.344      0.000       0.581       0.689\n",
      "pVZ           -0.1349      0.087     -1.558      0.121      -0.306       0.036\n",
      "==============================================================================\n",
      "Omnibus:                      212.250   Durbin-Watson:                   1.969\n",
      "Prob(Omnibus):                  0.000   Jarque-Bera (JB):               13.535\n",
      "Skew:                           0.081   Prob(JB):                      0.00115\n",
      "Kurtosis:                       1.643   Cond. No.                         4.09\n",
      "==============================================================================\n",
      "\n",
      "Warnings:\n",
      "[1] Standard Errors assume that the covariance matrix of the errors is correctly specified.\n"
     ]
    }
   ],
   "source": [
    "print(\"Simpson ~ pVZ, pCO, p3rd, Size (to check)\")\n",
    "reg = smf.ols('simpson ~ pVZ', data = df_groups).fit()\n",
    "print(scipy.stats.pearsonr(df_groups['pVZ'], df_groups['simpson']))\n",
    "print(reg.summary())"
   ]
  },
  {
   "cell_type": "code",
   "execution_count": 43,
   "metadata": {},
   "outputs": [
    {
     "name": "stdout",
     "output_type": "stream",
     "text": [
      "(0.5334682161290204, 3.484884090432477e-14)\n",
      "                            OLS Regression Results                            \n",
      "==============================================================================\n",
      "Dep. Variable:                simpson   R-squared:                       0.285\n",
      "Model:                            OLS   Adj. R-squared:                  0.280\n",
      "Method:                 Least Squares   F-statistic:                     68.42\n",
      "Date:                Tue, 14 Apr 2020   Prob (F-statistic):           3.48e-14\n",
      "Time:                        17:40:46   Log-Likelihood:                -2.4310\n",
      "No. Observations:                 174   AIC:                             8.862\n",
      "Df Residuals:                     172   BIC:                             15.18\n",
      "Df Model:                           1                                         \n",
      "Covariance Type:            nonrobust                                         \n",
      "==============================================================================\n",
      "                 coef    std err          t      P>|t|      [0.025      0.975]\n",
      "------------------------------------------------------------------------------\n",
      "Intercept      0.3909      0.032     12.048      0.000       0.327       0.455\n",
      "pCO            0.4237      0.051      8.272      0.000       0.323       0.525\n",
      "==============================================================================\n",
      "Omnibus:                       17.678   Durbin-Watson:                   1.952\n",
      "Prob(Omnibus):                  0.000   Jarque-Bera (JB):               20.316\n",
      "Skew:                           0.831   Prob(JB):                     3.88e-05\n",
      "Kurtosis:                       3.192   Cond. No.                         3.55\n",
      "==============================================================================\n",
      "\n",
      "Warnings:\n",
      "[1] Standard Errors assume that the covariance matrix of the errors is correctly specified.\n"
     ]
    }
   ],
   "source": [
    "reg = smf.ols('simpson ~ pCO', data = df_groups).fit()\n",
    "print(scipy.stats.pearsonr(df_groups['pCO'], df_groups['simpson']))\n",
    "print(reg.summary())"
   ]
  },
  {
   "cell_type": "code",
   "execution_count": 44,
   "metadata": {},
   "outputs": [
    {
     "name": "stdout",
     "output_type": "stream",
     "text": [
      "(-0.5150722864106063, 3.552284240929059e-13)\n",
      "                            OLS Regression Results                            \n",
      "==============================================================================\n",
      "Dep. Variable:                simpson   R-squared:                       0.265\n",
      "Model:                            OLS   Adj. R-squared:                  0.261\n",
      "Method:                 Least Squares   F-statistic:                     62.11\n",
      "Date:                Tue, 14 Apr 2020   Prob (F-statistic):           3.55e-13\n",
      "Time:                        17:40:48   Log-Likelihood:                -4.7456\n",
      "No. Observations:                 174   AIC:                             13.49\n",
      "Df Residuals:                     172   BIC:                             19.81\n",
      "Df Model:                           1                                         \n",
      "Covariance Type:            nonrobust                                         \n",
      "===============================================================================\n",
      "                  coef    std err          t      P>|t|      [0.025      0.975]\n",
      "-------------------------------------------------------------------------------\n",
      "Intercept       0.7487      0.026     28.945      0.000       0.698       0.800\n",
      "p3rdCountry    -0.4666      0.059     -7.881      0.000      -0.583      -0.350\n",
      "==============================================================================\n",
      "Omnibus:                       14.405   Durbin-Watson:                   2.021\n",
      "Prob(Omnibus):                  0.001   Jarque-Bera (JB):               15.746\n",
      "Skew:                           0.730   Prob(JB):                     0.000381\n",
      "Kurtosis:                       3.207   Cond. No.                         3.43\n",
      "==============================================================================\n",
      "\n",
      "Warnings:\n",
      "[1] Standard Errors assume that the covariance matrix of the errors is correctly specified.\n"
     ]
    }
   ],
   "source": [
    "reg = smf.ols('simpson ~ p3rdCountry', data = df_groups).fit()\n",
    "print(scipy.stats.pearsonr(df_groups['p3rdCountry'], df_groups['simpson']))\n",
    "print(reg.summary())"
   ]
  },
  {
   "cell_type": "code",
   "execution_count": 45,
   "metadata": {},
   "outputs": [
    {
     "name": "stdout",
     "output_type": "stream",
     "text": [
      "(-0.19807507966452123, 0.008793798880589837)\n",
      "                            OLS Regression Results                            \n",
      "==============================================================================\n",
      "Dep. Variable:                simpson   R-squared:                       0.039\n",
      "Model:                            OLS   Adj. R-squared:                  0.034\n",
      "Method:                 Least Squares   F-statistic:                     7.024\n",
      "Date:                Tue, 14 Apr 2020   Prob (F-statistic):            0.00879\n",
      "Time:                        17:40:49   Log-Likelihood:                -28.085\n",
      "No. Observations:                 174   AIC:                             60.17\n",
      "Df Residuals:                     172   BIC:                             66.49\n",
      "Df Model:                           1                                         \n",
      "Covariance Type:            nonrobust                                         \n",
      "==============================================================================\n",
      "                 coef    std err          t      P>|t|      [0.025      0.975]\n",
      "------------------------------------------------------------------------------\n",
      "Intercept      0.6484      0.026     24.878      0.000       0.597       0.700\n",
      "Size          -0.0008      0.000     -2.650      0.009      -0.001      -0.000\n",
      "==============================================================================\n",
      "Omnibus:                     1471.260   Durbin-Watson:                   2.005\n",
      "Prob(Omnibus):                  0.000   Jarque-Bera (JB):               16.153\n",
      "Skew:                           0.084   Prob(JB):                     0.000311\n",
      "Kurtosis:                       1.517   Cond. No.                         105.\n",
      "==============================================================================\n",
      "\n",
      "Warnings:\n",
      "[1] Standard Errors assume that the covariance matrix of the errors is correctly specified.\n"
     ]
    }
   ],
   "source": [
    "reg = smf.ols('simpson ~ Size', data = df_groups).fit()\n",
    "print(scipy.stats.pearsonr(df_groups['Size'], df_groups['simpson']))\n",
    "print(reg.summary())"
   ]
  },
  {
   "cell_type": "markdown",
   "metadata": {},
   "source": [
    "# Network: Groups as nodes"
   ]
  },
  {
   "cell_type": "code",
   "execution_count": 46,
   "metadata": {},
   "outputs": [],
   "source": [
    "members_many_groups = df_interact.index[df_interact['Group'] > 1]"
   ]
  },
  {
   "cell_type": "code",
   "execution_count": 47,
   "metadata": {},
   "outputs": [],
   "source": [
    "df_interact_groups_nodes = pd.DataFrame()\n",
    "\n",
    "for member in members_many_groups:\n",
    "    group_list = list(df_x[df_x['tel'] == member]['uid'].unique())\n",
    "    df_new = pd.DataFrame(index = group_list, columns = group_list).fillna(1)\n",
    "        \n",
    "    df_interact_groups_nodes = df_interact_groups_nodes.add(df_new, fill_value = 0)\n",
    "\n",
    "df_interact_groups_nodes = df_interact_groups_nodes.fillna(0)"
   ]
  },
  {
   "cell_type": "code",
   "execution_count": 48,
   "metadata": {},
   "outputs": [],
   "source": [
    "matr_interact = df_interact_groups_nodes.values"
   ]
  },
  {
   "cell_type": "code",
   "execution_count": 49,
   "metadata": {},
   "outputs": [],
   "source": [
    "df_groups['degree'] = df_interact_groups_nodes.sum(axis = 1)\n",
    "df_groups['degree'] = df_groups['degree'].fillna(0)"
   ]
  },
  {
   "cell_type": "code",
   "execution_count": 50,
   "metadata": {},
   "outputs": [],
   "source": [
    "G = nx.from_numpy_matrix(matr_interact)"
   ]
  },
  {
   "cell_type": "code",
   "execution_count": 51,
   "metadata": {},
   "outputs": [],
   "source": [
    "Gcc = sorted(nx.connected_components(G), key=len, reverse=True)\n",
    "G0 = G.subgraph(Gcc[0])"
   ]
  },
  {
   "cell_type": "code",
   "execution_count": 52,
   "metadata": {},
   "outputs": [],
   "source": [
    "average_dists = []\n",
    "\n",
    "for i in list(G):\n",
    "    lengths = nx.shortest_path_length(G, source = i).values()\n",
    "    average_dists.append(sum(lengths) / (len(lengths) - 1))"
   ]
  },
  {
   "cell_type": "code",
   "execution_count": 53,
   "metadata": {},
   "outputs": [
    {
     "name": "stdout",
     "output_type": "stream",
     "text": [
      "Group graph\n",
      "Largest CC n_nodes: 86\n",
      "Graph n_nodes: 107\n"
     ]
    }
   ],
   "source": [
    "print(\"Group graph\")\n",
    "print(\"Largest CC n_nodes: %s\" % G0.number_of_nodes())\n",
    "print(\"Graph n_nodes: %s\" % G.number_of_nodes())"
   ]
  },
  {
   "cell_type": "markdown",
   "metadata": {},
   "source": [
    "### Groups networkx graph"
   ]
  },
  {
   "cell_type": "code",
   "execution_count": 54,
   "metadata": {},
   "outputs": [],
   "source": [
    "nodes_co = [i for i in list(G) if df_groups.loc[df_interact_groups_nodes.index[i], 'pCO'] >= 0.5]\n",
    "nodes_vz = [i for i in list(G) if df_groups.loc[df_interact_groups_nodes.index[i], 'pVZ'] >= 0.5]\n",
    "nodes_3rd = [i for i in list(G) if i not in nodes_co and i not in nodes_vz]"
   ]
  },
  {
   "cell_type": "code",
   "execution_count": 55,
   "metadata": {
    "scrolled": false
   },
   "outputs": [],
   "source": [
    "pos = nx.spring_layout(G, k = 1.2, iterations = 200, seed = 35)\n",
    "plt.figure(figsize = (14, 8))\n",
    "\n",
    "nx.draw_networkx_nodes(G, pos=pos, nodelist = nodes_co, node_size = 50, node_color = 'blue', alpha = 0.7)\n",
    "nx.draw_networkx_nodes(G, pos=pos, nodelist = nodes_vz, node_size = 50, node_color = 'red', alpha = 0.7)\n",
    "nx.draw_networkx_nodes(G, pos=pos, nodelist = nodes_3rd, node_size = 50, node_color = 'orange', alpha = 0.7)\n",
    "nx.draw_networkx_nodes(G, pos=pos, nodelist = [nodes_co[0]], node_size = 50, node_color = 'blue', alpha = 0.7, label = '>50% CO')\n",
    "nx.draw_networkx_nodes(G, pos=pos, nodelist = [nodes_vz[0]], node_size = 50, node_color = 'red', alpha = 0.7, label = '>50% VZ')\n",
    "nx.draw_networkx_nodes(G, pos=pos, nodelist = [nodes_3rd[0]], node_size = 50, node_color = 'orange', alpha = 0.7, label = 'Neither')\n",
    "\n",
    "nx.draw_networkx_edges(G, pos=pos, width = 1)\n",
    "plt.legend()\n",
    "plt.title(\"Groups as Nodes (connected if they share members)\")\n",
    "plt.savefig('images/ch-members/active/networkx_groups_co_vz_3rd.png', bbox_inches = 'tight', pad_inches = 0.05)\n",
    "plt.close()"
   ]
  },
  {
   "cell_type": "code",
   "execution_count": 56,
   "metadata": {},
   "outputs": [
    {
     "name": "stdout",
     "output_type": "stream",
     "text": [
      "CO Centrality: 3.487\n",
      "VZ Centrality: 3.684\n",
      "3rd Centrality: 3.590\n",
      "F_onewayResult(statistic=0.466308657713113, pvalue=0.6289469826725671)\n",
      "Ttest_indResult(statistic=-0.8426719644136987, pvalue=0.40359138120413085)\n"
     ]
    }
   ],
   "source": [
    "dists_co = [average_dists[i] for i in nodes_co if i in Gcc[0]]\n",
    "dists_vz = [average_dists[i] for i in nodes_vz if i in Gcc[0]]\n",
    "dists_3rd = [average_dists[i] for i in nodes_3rd if i in Gcc[0]]\n",
    "\n",
    "print('CO Centrality: %.3f' % np.mean(dists_co))\n",
    "print('VZ Centrality: %.3f' % np.mean(dists_vz))\n",
    "print('3rd Centrality: %.3f' % np.mean(dists_3rd))\n",
    "\n",
    "print(f_oneway(dists_co, dists_vz, dists_3rd))\n",
    "print(ttest_ind(dists_co, dists_vz))"
   ]
  },
  {
   "cell_type": "code",
   "execution_count": 57,
   "metadata": {},
   "outputs": [
    {
     "name": "stdout",
     "output_type": "stream",
     "text": [
      "Group graph, average dist <= 3: number and number VZ\n",
      "16\n",
      "1\n"
     ]
    }
   ],
   "source": [
    "print(\"Group graph, average dist <= 3: number and number VZ\")\n",
    "co = 0\n",
    "vz = 0\n",
    "print(len([i for i in Gcc[0] if average_dists[i] <= 3]))\n",
    "print(len([i for i in nodes_vz if average_dists[i] <= 3 and i in Gcc[0]]))\n"
   ]
  },
  {
   "cell_type": "markdown",
   "metadata": {},
   "source": [
    "## Correlates of centrality"
   ]
  },
  {
   "cell_type": "code",
   "execution_count": 58,
   "metadata": {},
   "outputs": [],
   "source": [
    "df_interact_groups_nodes['avg_dist'] = average_dists"
   ]
  },
  {
   "cell_type": "code",
   "execution_count": 59,
   "metadata": {},
   "outputs": [],
   "source": [
    "df_groups['G0_avg_dist'] = df_interact_groups_nodes.iloc[list(G0)]['avg_dist']\n",
    "df_groups_G0 = df_groups[df_groups['G0_avg_dist'].notnull()]"
   ]
  },
  {
   "cell_type": "code",
   "execution_count": 60,
   "metadata": {},
   "outputs": [
    {
     "name": "stdout",
     "output_type": "stream",
     "text": [
      "With G0_avg_dist\n",
      "============= Size =============\n",
      "(-0.27182086536756184, 0.011349852354647947)\n",
      "============= pVZ =============\n",
      "(0.04225742555547344, 0.6992615411753947)\n",
      "============= pCO =============\n",
      "(-0.1271925679198834, 0.24320143643718442)\n",
      "============= pUS =============\n",
      "(-0.04418591729836163, 0.6862387100174795)\n",
      "============= pPE =============\n",
      "(-0.010607229883454472, 0.9227814300685595)\n",
      "============= pCL =============\n",
      "(0.12707729505844576, 0.24363231830327206)\n",
      "============= pEC =============\n",
      "(-0.016935378155973707, 0.8770064578003953)\n",
      "============= p3rdCountry =============\n",
      "(0.12077502007717883, 0.2679945769253617)\n",
      "============= entropy =============\n",
      "(0.021454026594639134, 0.8445572040709681)\n",
      "============= simpson =============\n",
      "(-0.02235149777871722, 0.8381412332484495)\n"
     ]
    }
   ],
   "source": [
    "print(\"With G0_avg_dist\")\n",
    "for col in ['Size', 'pVZ', 'pCO', 'pUS', 'pPE', \\\n",
    "       'pCL', 'pEC', 'p3rdCountry', 'entropy', 'simpson']:\n",
    "    \n",
    "    print(\"============= %s =============\" % col)\n",
    "    print(scipy.stats.pearsonr(df_groups_G0[col], df_groups_G0['G0_avg_dist']))"
   ]
  },
  {
   "cell_type": "code",
   "execution_count": 61,
   "metadata": {},
   "outputs": [
    {
     "name": "stdout",
     "output_type": "stream",
     "text": [
      "G0_avg_dist ~ Size\n",
      "                            OLS Regression Results                            \n",
      "==============================================================================\n",
      "Dep. Variable:            G0_avg_dist   R-squared:                       0.074\n",
      "Model:                            OLS   Adj. R-squared:                  0.063\n",
      "Method:                 Least Squares   F-statistic:                     6.702\n",
      "Date:                Tue, 14 Apr 2020   Prob (F-statistic):             0.0113\n",
      "Time:                        17:42:31   Log-Likelihood:                -77.335\n",
      "No. Observations:                  86   AIC:                             158.7\n",
      "Df Residuals:                      84   BIC:                             163.6\n",
      "Df Model:                           1                                         \n",
      "Covariance Type:            nonrobust                                         \n",
      "==============================================================================\n",
      "                 coef    std err          t      P>|t|      [0.025      0.975]\n",
      "------------------------------------------------------------------------------\n",
      "Intercept      3.7008      0.088     42.258      0.000       3.527       3.875\n",
      "Size          -0.0021      0.001     -2.589      0.011      -0.004      -0.000\n",
      "==============================================================================\n",
      "Omnibus:                        6.936   Durbin-Watson:                   2.075\n",
      "Prob(Omnibus):                  0.031   Jarque-Bera (JB):                6.555\n",
      "Skew:                           0.666   Prob(JB):                       0.0377\n",
      "Kurtosis:                       3.237   Cond. No.                         144.\n",
      "==============================================================================\n",
      "\n",
      "Warnings:\n",
      "[1] Standard Errors assume that the covariance matrix of the errors is correctly specified.\n"
     ]
    }
   ],
   "source": [
    "print(\"G0_avg_dist ~ Size\")\n",
    "reg = smf.ols('G0_avg_dist ~ Size', data = df_groups).fit()\n",
    "print(reg.summary())"
   ]
  },
  {
   "cell_type": "markdown",
   "metadata": {},
   "source": [
    "## Correlates of group degree"
   ]
  },
  {
   "cell_type": "code",
   "execution_count": 62,
   "metadata": {},
   "outputs": [],
   "source": [
    "# distribution of group degrees\n",
    "\n",
    "plt.hist(df_groups[\"degree\"], bins = 30)\n",
    "plt.xlabel(\"Degree\")\n",
    "plt.ylabel(\"# of Groups\")\n",
    "plt.title(\"Group Network\")\n",
    "plt.savefig('images/ch-members/active/hist_degree.png', bbox_inches = 'tight', pad_inches = 0.05)\n",
    "plt.close()"
   ]
  },
  {
   "cell_type": "code",
   "execution_count": 63,
   "metadata": {},
   "outputs": [
    {
     "name": "stdout",
     "output_type": "stream",
     "text": [
      "Group degree: mean, median, <5 prop, >20 prop\n",
      "13.137931034482758\n",
      "3.0\n",
      "0.5919540229885057\n",
      "0.20689655172413793\n"
     ]
    }
   ],
   "source": [
    "print(\"Group degree: mean, median, <5 prop, >20 prop\")\n",
    "print(np.mean(df_groups[\"degree\"]))\n",
    "print(np.median(df_groups[\"degree\"]))\n",
    "print(np.mean(df_groups[\"degree\"] < 5))\n",
    "print(np.mean(df_groups[\"degree\"] > 20))"
   ]
  },
  {
   "cell_type": "code",
   "execution_count": 64,
   "metadata": {},
   "outputs": [
    {
     "name": "stdout",
     "output_type": "stream",
     "text": [
      "With degree\n",
      "============= Size =============\n",
      "(0.48336865909383336, 1.4203527681663546e-11)\n",
      "============= pVZ =============\n",
      "(0.0229013644263432, 0.7642139984639535)\n",
      "============= pCO =============\n",
      "(-0.04298145909497579, 0.5733407963987452)\n",
      "============= pUS =============\n",
      "(-0.07306825743003638, 0.33797658223277727)\n",
      "============= pPE =============\n",
      "(0.08115494749447351, 0.28708037108299356)\n",
      "============= pCL =============\n",
      "(-0.030011719395183382, 0.6942331260013966)\n",
      "============= pEC =============\n",
      "(0.0246334702318857, 0.7469643488557437)\n",
      "============= p3rdCountry =============\n",
      "(0.030887952989118356, 0.6857716187223513)\n",
      "============= entropy =============\n",
      "(0.31686284686195454, 2.0454453381775717e-05)\n",
      "============= simpson =============\n",
      "(-0.2484712583922792, 0.0009465896880191944)\n",
      "============= G0_avg_dist =============\n",
      "(-0.30639430164783776, 0.004115715195865375)\n"
     ]
    }
   ],
   "source": [
    "print(\"With degree\")\n",
    "\n",
    "for col in ['Size', 'pVZ', 'pCO', 'pUS', 'pPE', \\\n",
    "       'pCL', 'pEC', 'p3rdCountry', 'entropy', 'simpson']:\n",
    "    \n",
    "    print(\"============= %s =============\" % col)\n",
    "    print(scipy.stats.pearsonr(df_groups[col], df_groups['degree']))\n",
    "    \n",
    "print(\"============= G0_avg_dist =============\")\n",
    "print(scipy.stats.pearsonr(df_groups_G0['degree'], df_groups_G0['G0_avg_dist']))"
   ]
  },
  {
   "cell_type": "code",
   "execution_count": 65,
   "metadata": {},
   "outputs": [
    {
     "name": "stdout",
     "output_type": "stream",
     "text": [
      "Degree ~ size + entropy\n",
      "                            OLS Regression Results                            \n",
      "==============================================================================\n",
      "Dep. Variable:                 degree   R-squared:                       0.263\n",
      "Model:                            OLS   Adj. R-squared:                  0.254\n",
      "Method:                 Least Squares   F-statistic:                     30.46\n",
      "Date:                Tue, 14 Apr 2020   Prob (F-statistic):           4.83e-12\n",
      "Time:                        17:42:37   Log-Likelihood:                -765.05\n",
      "No. Observations:                 174   AIC:                             1536.\n",
      "Df Residuals:                     171   BIC:                             1546.\n",
      "Df Model:                           2                                         \n",
      "Covariance Type:            nonrobust                                         \n",
      "==============================================================================\n",
      "                 coef    std err          t      P>|t|      [0.025      0.975]\n",
      "------------------------------------------------------------------------------\n",
      "Intercept      1.6517      2.402      0.688      0.493      -3.089       6.393\n",
      "Size           0.1344      0.022      6.135      0.000       0.091       0.178\n",
      "entropy        6.4534      2.487      2.595      0.010       1.545      11.362\n",
      "==============================================================================\n",
      "Omnibus:                       82.987   Durbin-Watson:                   1.872\n",
      "Prob(Omnibus):                  0.000   Jarque-Bera (JB):              467.384\n",
      "Skew:                           1.694   Prob(JB):                    3.23e-102\n",
      "Kurtosis:                      10.279   Cond. No.                         183.\n",
      "==============================================================================\n",
      "\n",
      "Warnings:\n",
      "[1] Standard Errors assume that the covariance matrix of the errors is correctly specified.\n"
     ]
    }
   ],
   "source": [
    "print(\"Degree ~ size + entropy\")\n",
    "\n",
    "reg = smf.ols('degree ~ Size + entropy', data = df_groups).fit()\n",
    "print(reg.summary())"
   ]
  },
  {
   "cell_type": "code",
   "execution_count": 66,
   "metadata": {},
   "outputs": [
    {
     "name": "stdout",
     "output_type": "stream",
     "text": [
      "Degree ~ size + entropy, only degree <= 70\n",
      "                            OLS Regression Results                            \n",
      "==============================================================================\n",
      "Dep. Variable:                 degree   R-squared:                       0.110\n",
      "Model:                            OLS   Adj. R-squared:                  0.099\n",
      "Method:                 Least Squares   F-statistic:                     10.19\n",
      "Date:                Tue, 14 Apr 2020   Prob (F-statistic):           6.69e-05\n",
      "Time:                        17:42:37   Log-Likelihood:                -677.38\n",
      "No. Observations:                 168   AIC:                             1361.\n",
      "Df Residuals:                     165   BIC:                             1370.\n",
      "Df Model:                           2                                         \n",
      "Covariance Type:            nonrobust                                         \n",
      "==============================================================================\n",
      "                 coef    std err          t      P>|t|      [0.025      0.975]\n",
      "------------------------------------------------------------------------------\n",
      "Intercept      4.7618      1.691      2.816      0.005       1.423       8.101\n",
      "Size           0.0562      0.017      3.312      0.001       0.023       0.090\n",
      "entropy        3.6667      1.751      2.094      0.038       0.209       7.124\n",
      "==============================================================================\n",
      "Omnibus:                       51.798   Durbin-Watson:                   1.467\n",
      "Prob(Omnibus):                  0.000   Jarque-Bera (JB):               99.434\n",
      "Skew:                           1.465   Prob(JB):                     2.56e-22\n",
      "Kurtosis:                       5.370   Cond. No.                         162.\n",
      "==============================================================================\n",
      "\n",
      "Warnings:\n",
      "[1] Standard Errors assume that the covariance matrix of the errors is correctly specified.\n"
     ]
    }
   ],
   "source": [
    "print(\"Degree ~ size + entropy, only degree <= 70\")\n",
    "\n",
    "reg = smf.ols('degree ~ Size + entropy', data = df_groups[df_groups['degree'] <= 70]).fit()\n",
    "print(reg.summary())"
   ]
  },
  {
   "cell_type": "markdown",
   "metadata": {},
   "source": [
    "## Clustering coefficient"
   ]
  },
  {
   "cell_type": "code",
   "execution_count": 67,
   "metadata": {},
   "outputs": [],
   "source": [
    "groups_clustering = pd.DataFrame(index = df_interact_groups_nodes.index.values,\n",
    "                                 data = nx.clustering(G).values(), columns = ['clustering'])"
   ]
  },
  {
   "cell_type": "code",
   "execution_count": 68,
   "metadata": {},
   "outputs": [],
   "source": [
    "df_groups['clustering'] = groups_clustering['clustering']"
   ]
  },
  {
   "cell_type": "code",
   "execution_count": 69,
   "metadata": {},
   "outputs": [],
   "source": [
    "df_c = df_groups[df_groups['clustering'].notna()]"
   ]
  },
  {
   "cell_type": "code",
   "execution_count": 70,
   "metadata": {},
   "outputs": [
    {
     "name": "stdout",
     "output_type": "stream",
     "text": [
      "df_c (clustering) shape\n",
      "(107, 64)\n"
     ]
    }
   ],
   "source": [
    "print(\"df_c (clustering) shape\")\n",
    "print(df_c.shape)"
   ]
  },
  {
   "cell_type": "code",
   "execution_count": 71,
   "metadata": {},
   "outputs": [],
   "source": [
    "# distribution of group sizes\n",
    "\n",
    "plt.hist(df_c[\"clustering\"], bins = 20)\n",
    "plt.xlabel(\"Clustering Coefficient\")\n",
    "plt.ylabel(\"# of Groups\")\n",
    "plt.title(\"Group Network\")\n",
    "plt.savefig('images/ch-members/active/hist_clustering.png', bbox_inches = 'tight', pad_inches = 0.05)\n",
    "plt.close()"
   ]
  },
  {
   "cell_type": "code",
   "execution_count": 72,
   "metadata": {},
   "outputs": [
    {
     "name": "stdout",
     "output_type": "stream",
     "text": [
      "With clustering\n",
      "============= Size =============\n",
      "(-0.29467228825574776, 0.0020628825201293157)\n",
      "============= pVZ =============\n",
      "(0.06135727682049273, 0.5301206519554046)\n",
      "============= pCO =============\n",
      "(0.1134853873531027, 0.244473333888821)\n",
      "============= pUS =============\n",
      "(0.020269469129507965, 0.8358320915814725)\n",
      "============= pPE =============\n",
      "(-0.19719569083534397, 0.04176176348618285)\n",
      "============= pCL =============\n",
      "(-0.20941831365486735, 0.030398280078141677)\n",
      "============= pEC =============\n",
      "(0.11174856082441106, 0.25181481943674505)\n",
      "============= p3rdCountry =============\n",
      "(-0.17760130406248176, 0.0672316681600139)\n",
      "============= entropy =============\n",
      "(-0.07111335920770363, 0.4666842701179089)\n",
      "============= simpson =============\n",
      "(0.06831240082307934, 0.4844604283633672)\n",
      "============= degree =============\n",
      "(0.057584993160039656, 0.5557562071928962)\n"
     ]
    }
   ],
   "source": [
    "print(\"With clustering\")\n",
    "\n",
    "for col in ['Size', 'pVZ', 'pCO', 'pUS', 'pPE', \\\n",
    "       'pCL', 'pEC', 'p3rdCountry', 'entropy', 'simpson', 'degree']:\n",
    "    \n",
    "    print(\"============= %s =============\" % col)\n",
    "    print(scipy.stats.pearsonr(df_c[col], df_c['clustering']))"
   ]
  },
  {
   "cell_type": "markdown",
   "metadata": {},
   "source": [
    "## 3 Class graphs (groups)"
   ]
  },
  {
   "cell_type": "code",
   "execution_count": 73,
   "metadata": {},
   "outputs": [],
   "source": [
    "def threeClassGraphG0(colname, label, appendix = False):\n",
    "    def valsMap(uid):\n",
    "        return df_groups.loc[uid, colname]\n",
    "    \n",
    "    l = np.quantile(df_groups[colname], .3)\n",
    "    h = np.quantile(df_groups[colname], .7)\n",
    "\n",
    "    vals = [valsMap(u) for u in df_interact_groups_nodes.index.values]\n",
    "\n",
    "    nodes_low = [i for i in Gcc[0] if vals[i] <= l]\n",
    "    nodes_mid = [i for i in Gcc[0] if vals[i] > l and vals[i] <= h]\n",
    "    nodes_high = [i for i in Gcc[0] if vals[i] > h]\n",
    "    \n",
    "    plt.figure(figsize = (14, 14))\n",
    "    pos = nx.spring_layout(G0, iterations = 200, seed = 0)\n",
    "    nx.draw_networkx_nodes(G0, pos=pos, nodelist=nodes_low, node_color='#ffb1b1',\n",
    "                           label='%s $\\leq$ %.3f' % (label, l), node_size = 120)\n",
    "    nx.draw_networkx_nodes(G0, pos=pos, nodelist=nodes_mid, node_color='#d80000',\n",
    "                           label='%s $>$ %.3f, $\\leq$ %.3f' % (label, l, h), node_size = 120)\n",
    "    nx.draw_networkx_nodes(G0, pos=pos, nodelist=nodes_high, node_color='#4e0000',\n",
    "                           label='%s $>$ %.3f' % (label, h), node_size = 120)\n",
    "    nx.draw_networkx_edges(G0, pos=pos, width = 1)\n",
    "    plt.legend(scatterpoints = 1)\n",
    "    plt.title(\"Groups as Nodes\")\n",
    "    \n",
    "    if appendix:\n",
    "        plt.savefig('images/ch-appendicies/members/networkx_3cls_%s.png' % colname, bbox_inches = 'tight', pad_inches = 0.05)\n",
    "        plt.close()\n",
    "    else:\n",
    "        plt.savefig('images/ch-members/active/networkx_3cls_%s.png' % colname, bbox_inches = 'tight', pad_inches = 0.05)\n",
    "        plt.close()\n",
    "    \n",
    "    dists_low = [average_dists[i] for i in nodes_low]\n",
    "    dists_mid = [average_dists[i] for i in nodes_mid]\n",
    "    dists_high = [average_dists[i] for i in nodes_high]\n",
    "    print(\"Three class graph\")\n",
    "    print('%s < %s Centrality: %.3f' %\n",
    "          (label, l, np.mean(dists_low)))\n",
    "    print('%s > %s, <= %s Centrality: %.3f' %\n",
    "          (label, l, h, np.mean(dists_mid)))    \n",
    "    print('%s > %s Centrality: %.3f' %\n",
    "          (label, h, np.mean(dists_high)))\n",
    "    print(f_oneway(dists_low, dists_mid, dists_high))\n",
    "    print(ttest_ind(dists_low, dists_high))\n",
    "    "
   ]
  },
  {
   "cell_type": "code",
   "execution_count": 74,
   "metadata": {},
   "outputs": [
    {
     "name": "stdout",
     "output_type": "stream",
     "text": [
      "Three class graph\n",
      "Size < 5.0 Centrality: 3.929\n",
      "Size > 5.0, <= 46.099999999999994 Centrality: 3.689\n",
      "Size > 46.099999999999994 Centrality: 3.351\n",
      "F_onewayResult(statistic=4.492003079061608, pvalue=0.014050103968561442)\n",
      "Ttest_indResult(statistic=2.020439643113485, pvalue=0.04945073331728726)\n"
     ]
    }
   ],
   "source": [
    "threeClassGraphG0('Size', 'Size')"
   ]
  },
  {
   "cell_type": "code",
   "execution_count": 75,
   "metadata": {},
   "outputs": [
    {
     "name": "stdout",
     "output_type": "stream",
     "text": [
      "Three class graph\n",
      "Prop. CO < 0.23076923076923078 Centrality: 3.734\n",
      "Prop. CO > 0.23076923076923078, <= 0.8065217391304347 Centrality: 3.492\n",
      "Prop. CO > 0.8065217391304347 Centrality: 3.459\n",
      "F_onewayResult(statistic=1.4304707292530303, pvalue=0.24503127359905394)\n",
      "Ttest_indResult(statistic=1.6482245190285338, pvalue=0.10676847456880452)\n"
     ]
    }
   ],
   "source": [
    "threeClassGraphG0('pCO', 'Prop. CO')"
   ]
  },
  {
   "cell_type": "code",
   "execution_count": 76,
   "metadata": {},
   "outputs": [
    {
     "name": "stdout",
     "output_type": "stream",
     "text": [
      "Three class graph\n",
      "Prop. VZ < 0.0 Centrality: 3.738\n",
      "Prop. VZ > 0.0, <= 0.24471830985915488 Centrality: 3.436\n",
      "Prop. VZ > 0.24471830985915488 Centrality: 3.625\n",
      "F_onewayResult(statistic=1.5052703790141295, pvalue=0.22795346132671993)\n",
      "Ttest_indResult(statistic=0.6109110317693726, pvalue=0.5445507066407507)\n"
     ]
    }
   ],
   "source": [
    "threeClassGraphG0('pVZ', 'Prop. VZ', True)"
   ]
  },
  {
   "cell_type": "code",
   "execution_count": 77,
   "metadata": {},
   "outputs": [
    {
     "name": "stdout",
     "output_type": "stream",
     "text": [
      "Three class graph\n",
      "Prop. Non-CO, Non-VZ < 0.012294543063773877 Centrality: 3.739\n",
      "Prop. Non-CO, Non-VZ > 0.012294543063773877, <= 0.43977154724818274 Centrality: 3.483\n",
      "Prop. Non-CO, Non-VZ > 0.43977154724818274 Centrality: 3.543\n",
      "F_onewayResult(statistic=1.0653012702597509, pvalue=0.349288254557079)\n",
      "Ttest_indResult(statistic=1.0061648530476544, pvalue=0.3210516280586712)\n"
     ]
    }
   ],
   "source": [
    "threeClassGraphG0('p3rdCountry', 'Prop. Non-CO, Non-VZ', True)"
   ]
  },
  {
   "cell_type": "code",
   "execution_count": 78,
   "metadata": {},
   "outputs": [
    {
     "name": "stdout",
     "output_type": "stream",
     "text": [
      "Three class graph\n",
      "Entropy < 0.3237385189613794 Centrality: 3.580\n",
      "Entropy > 0.3237385189613794, <= 1.164033446128445 Centrality: 3.544\n",
      "Entropy > 1.164033446128445 Centrality: 3.541\n",
      "F_onewayResult(statistic=0.020816675737600158, pvalue=0.9794036072568366)\n",
      "Ttest_indResult(statistic=0.19060401502645746, pvalue=0.8496567751837993)\n"
     ]
    }
   ],
   "source": [
    "threeClassGraphG0('entropy', 'Entropy', True)"
   ]
  },
  {
   "cell_type": "markdown",
   "metadata": {},
   "source": [
    "# Graph: Users as nodes"
   ]
  },
  {
   "cell_type": "code",
   "execution_count": 79,
   "metadata": {},
   "outputs": [],
   "source": [
    "users_cols = [c for c in df_interact.columns if c[0] == '+']"
   ]
  },
  {
   "cell_type": "code",
   "execution_count": 80,
   "metadata": {},
   "outputs": [],
   "source": [
    "matr_interact = df_interact[users_cols].fillna(0).values"
   ]
  },
  {
   "cell_type": "code",
   "execution_count": 81,
   "metadata": {},
   "outputs": [],
   "source": [
    "G = nx.from_numpy_matrix(matr_interact)"
   ]
  },
  {
   "cell_type": "code",
   "execution_count": 82,
   "metadata": {},
   "outputs": [],
   "source": [
    "Gcc = sorted(nx.connected_components(G), key=len, reverse=True)\n",
    "G0 = G.subgraph(Gcc[0])"
   ]
  },
  {
   "cell_type": "code",
   "execution_count": 83,
   "metadata": {},
   "outputs": [
    {
     "name": "stdout",
     "output_type": "stream",
     "text": [
      "Users as nodes graph\n",
      "Largest CC n_nodes: 5693\n",
      "Graph n_nodes: 7860\n"
     ]
    }
   ],
   "source": [
    "print(\"Users as nodes graph\")\n",
    "print(\"Largest CC n_nodes: %s\" % G0.number_of_nodes())\n",
    "print(\"Graph n_nodes: %s\" % G.number_of_nodes())"
   ]
  },
  {
   "cell_type": "code",
   "execution_count": 84,
   "metadata": {},
   "outputs": [],
   "source": [
    "def colorMap(tel):\n",
    "    if tel[:4] == '+57 ':\n",
    "        return '#8b0000'\n",
    "    elif tel[:4] == '+58 ':\n",
    "        return '#0000ff'\n",
    "    else:\n",
    "        return '#ffff00'\n",
    "\n",
    "cmap = [colorMap(t) for t in df_interact.index.values]\n",
    "cmap0 = [cmap[i] for i in list(Gcc[0])]"
   ]
  },
  {
   "cell_type": "code",
   "execution_count": 85,
   "metadata": {},
   "outputs": [],
   "source": [
    "pos = nx.spring_layout(G0, iterations = 50, seed = 0)"
   ]
  },
  {
   "cell_type": "code",
   "execution_count": 86,
   "metadata": {},
   "outputs": [],
   "source": [
    "nodes_co = [i for i in Gcc[0] if df_interact.index[i][:4] == '+57 ']\n",
    "nodes_vz = [i for i in Gcc[0] if df_interact.index[i][:4] == '+58 ']\n",
    "nodes_3rd = [i for i in Gcc[0] if (df_interact.index[i][:4] != '+57 ') and (df_interact.index[i][:4] != '+58 ')]"
   ]
  },
  {
   "cell_type": "code",
   "execution_count": 87,
   "metadata": {},
   "outputs": [],
   "source": [
    "plt.figure(figsize = (14, 14))\n",
    "\n",
    "nx.draw_networkx_nodes(G0, pos=pos, nodelist = nodes_co, node_size = 50, node_color = 'blue', alpha = 0.05)\n",
    "nx.draw_networkx_nodes(G0, pos=pos, nodelist = nodes_vz, node_size = 50, node_color = 'red', alpha = 0.05)\n",
    "nx.draw_networkx_nodes(G0, pos=pos, nodelist = [nodes_co[0]], node_size = 50, node_color = 'blue', alpha = 0.5, label = 'CO Users')\n",
    "nx.draw_networkx_nodes(G0, pos=pos, nodelist = [nodes_vz[0]], node_size = 50, node_color = 'red', alpha = 0.5, label = 'VZ Users')\n",
    "\n",
    "nx.draw_networkx_edges(G0, pos=pos, width = 0.005)\n",
    "plt.legend()\n",
    "plt.title(\"Users as Nodes (connected if in same group)\")\n",
    "plt.savefig('images/ch-members/active/networkx_co_vz.png', bbox_inches = 'tight', pad_inches = 0.05)\n",
    "plt.close()"
   ]
  },
  {
   "cell_type": "code",
   "execution_count": 88,
   "metadata": {},
   "outputs": [],
   "source": [
    "plt.figure(figsize = (14, 14))\n",
    "\n",
    "nx.draw_networkx_nodes(G0, pos=pos, nodelist = nodes_co, node_size = 50, node_color = 'blue', alpha = 0.05)\n",
    "nx.draw_networkx_nodes(G0, pos=pos, nodelist = nodes_vz, node_size = 50, node_color = 'red', alpha = 0.05)\n",
    "nx.draw_networkx_nodes(G0, pos=pos, nodelist = nodes_3rd, node_size = 50, node_color = 'yellow', alpha = 0.05)\n",
    "nx.draw_networkx_nodes(G0, pos=pos, nodelist = [nodes_co[0]], node_size = 50, node_color = 'blue', alpha = 0.5, label = 'CO Users')\n",
    "nx.draw_networkx_nodes(G0, pos=pos, nodelist = [nodes_vz[0]], node_size = 50, node_color = 'red', alpha = 0.5, label = 'VZ Users')\n",
    "nx.draw_networkx_nodes(G0, pos=pos, nodelist = [nodes_3rd[0]], node_size = 50, node_color = 'yellow', alpha = 0.5, label = 'Other Users')\n",
    "\n",
    "nx.draw_networkx_edges(G0, pos=pos, width = 0.005)\n",
    "plt.legend()\n",
    "plt.title(\"Users as Nodes (connected if in same group)\")\n",
    "plt.savefig('images/ch-members/active/networkx_co_vz_other.png', bbox_inches = 'tight', pad_inches = 0.05)\n",
    "plt.close()"
   ]
  },
  {
   "cell_type": "markdown",
   "metadata": {},
   "source": [
    "## Degree distributions of users"
   ]
  },
  {
   "cell_type": "code",
   "execution_count": 89,
   "metadata": {},
   "outputs": [],
   "source": [
    "plt.figure(figsize = (12, 6))\n",
    "df_interact['nConnections'].hist(bins = 100)\n",
    "plt.xlabel(\"Number of Connections\")\n",
    "plt.ylabel('# of Users')\n",
    "plt.title(\"User Degree Distribution (All Users)\")\n",
    "plt.savefig(\"images/ch-members/active/degree_dist.png\", bbox_inches = 'tight', pad_inches = 0.05)\n",
    "plt.close()"
   ]
  },
  {
   "cell_type": "code",
   "execution_count": 90,
   "metadata": {},
   "outputs": [],
   "source": [
    "plt.figure(figsize = (12, 6))\n",
    "df_interact_co['nConnections'].hist(bins = 100, alpha = 0.3, range = (0, 500), label = 'CO Users')\n",
    "df_interact_vz['nConnections'].hist(bins = 100, alpha = 0.4, range = (0, 500), label = 'VZ Users')\n",
    "plt.legend()\n",
    "plt.xlabel(\"Number of Connections\")\n",
    "plt.ylabel('# of Users')\n",
    "plt.title(\"User Degree Distribution (CO and VZ Users)\")\n",
    "plt.savefig(\"images/ch-members/active/degree_dist_VZ_vs_CO.png\", bbox_inches = 'tight', pad_inches = 0.05)\n",
    "plt.close()"
   ]
  },
  {
   "cell_type": "code",
   "execution_count": 91,
   "metadata": {},
   "outputs": [
    {
     "name": "stdout",
     "output_type": "stream",
     "text": [
      "nConnections means: VZ, CO\n",
      "165.938713592233\n",
      "161.9832481544577\n"
     ]
    }
   ],
   "source": [
    "print(\"nConnections means: VZ, CO\")\n",
    "\n",
    "print(df_interact_vz['nConnections'].mean())\n",
    "print(df_interact_co['nConnections'].mean())"
   ]
  },
  {
   "cell_type": "code",
   "execution_count": 92,
   "metadata": {},
   "outputs": [
    {
     "name": "stdout",
     "output_type": "stream",
     "text": [
      "Ttest_indResult(statistic=1.3184905615625262, pvalue=0.18739791040818618)\n"
     ]
    }
   ],
   "source": [
    "print(ttest_ind(df_interact_vz['nConnections'], df_interact_co['nConnections']))"
   ]
  },
  {
   "cell_type": "code",
   "execution_count": 93,
   "metadata": {},
   "outputs": [
    {
     "name": "stdout",
     "output_type": "stream",
     "text": [
      "Users with most connections\n",
      "+52 1 55 8520 8763    701.0\n",
      "+51 923 793 356       589.0\n",
      "+58 414-2014369       583.0\n",
      "+58 414-7912202       545.0\n",
      "+58 414-2685679       534.0\n",
      "+57 311 6302043       509.0\n",
      "+57 301 4350295       506.0\n",
      "+58 424-9474681       506.0\n",
      "+57 313 7614232       498.0\n",
      "+58 416-8410879       498.0\n",
      "+57 322 2611650       498.0\n",
      "+58 416-8748808       498.0\n",
      "+57 313 2882015       479.0\n",
      "+593 97 897 4451      440.0\n",
      "+55 16 99347-9730     438.0\n",
      "+58 416-8741626       437.0\n",
      "+51 985 159 137       436.0\n",
      "+51 943 344 989       432.0\n",
      "+51 955 087 225       427.0\n",
      "+57 311 4922543       420.0\n",
      "Name: nConnections, dtype: float64\n"
     ]
    }
   ],
   "source": [
    "print(\"Users with most connections\")\n",
    "\n",
    "print(df_interact['nConnections'].sort_values(ascending = False)[:20])"
   ]
  },
  {
   "cell_type": "code",
   "execution_count": 94,
   "metadata": {},
   "outputs": [
    {
     "name": "stdout",
     "output_type": "stream",
     "text": [
      "nConnections mean, median, prop > 100, prop > 200\n",
      "167.83091603053435\n",
      "155.0\n",
      "0.7057251908396946\n",
      "0.3567430025445293\n"
     ]
    }
   ],
   "source": [
    "print(\"nConnections mean, median, prop > 100, prop > 200\")\n",
    "\n",
    "print(np.mean(df_interact['nConnections']))\n",
    "print(np.median(df_interact['nConnections']))\n",
    "print(np.mean(df_interact['nConnections'] > 100))\n",
    "print(np.mean(df_interact['nConnections'] > 200))"
   ]
  },
  {
   "cell_type": "code",
   "execution_count": 95,
   "metadata": {},
   "outputs": [],
   "source": [
    "df_groups.to_csv(\"Data/df_groups_nb1-members-byMessaging.csv\")"
   ]
  }
 ],
 "metadata": {
  "kernelspec": {
   "display_name": "Environment (conda_vzwa)",
   "language": "python",
   "name": "conda_vzwa"
  },
  "language_info": {
   "codemirror_mode": {
    "name": "ipython",
    "version": 3
   },
   "file_extension": ".py",
   "mimetype": "text/x-python",
   "name": "python",
   "nbconvert_exporter": "python",
   "pygments_lexer": "ipython3",
   "version": "3.7.5"
  }
 },
 "nbformat": 4,
 "nbformat_minor": 2
}
