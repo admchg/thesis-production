{
 "cells": [
  {
   "cell_type": "code",
   "execution_count": 1,
   "metadata": {},
   "outputs": [],
   "source": [
    "import numpy as np\n",
    "import pandas as pd"
   ]
  },
  {
   "cell_type": "code",
   "execution_count": 2,
   "metadata": {},
   "outputs": [],
   "source": [
    "import matplotlib.pyplot as plt\n",
    "SMALL_SIZE = 8\n",
    "MEDIUM_SIZE = 10\n",
    "BIGGER_SIZE = 20\n",
    "\n",
    "plt.rc('font', size=BIGGER_SIZE)          # controls default text sizes\n",
    "plt.rc('axes', titlesize=BIGGER_SIZE)     # fontsize of the axes title\n",
    "plt.rc('axes', labelsize=BIGGER_SIZE)    # fontsize of the x and y labels\n",
    "plt.rc('xtick', labelsize=BIGGER_SIZE)    # fontsize of the tick labels\n",
    "plt.rc('ytick', labelsize=BIGGER_SIZE)    # fontsize of the tick labels\n",
    "plt.rc('legend', fontsize=BIGGER_SIZE)    # legend fontsize\n",
    "plt.rc('figure', titlesize=BIGGER_SIZE)  # fontsize of the figure title"
   ]
  },
  {
   "cell_type": "code",
   "execution_count": 3,
   "metadata": {},
   "outputs": [],
   "source": [
    "import statsmodels.formula.api as smf\n",
    "import scipy.stats\n",
    "from scipy.stats import ttest_ind\n",
    "from scipy.stats import f_oneway"
   ]
  },
  {
   "cell_type": "code",
   "execution_count": 4,
   "metadata": {},
   "outputs": [
    {
     "name": "stdout",
     "output_type": "stream",
     "text": [
      "(171634, 34)\n"
     ]
    }
   ],
   "source": [
    "df_x = pd.read_csv(\"Data/df_x_nb4a-mis.csv\", index_col = 0)\n",
    "print(df_x.shape)"
   ]
  },
  {
   "cell_type": "code",
   "execution_count": 5,
   "metadata": {},
   "outputs": [],
   "source": [
    "df_x['text'] = df_x['text'].fillna('')\n",
    "df_x['textlower'] = df_x['textlower'].fillna('')\n",
    "df_x['virality'] = df_x['virality'].fillna(0)"
   ]
  },
  {
   "cell_type": "markdown",
   "metadata": {},
   "source": [
    "### Text similarity imports/functions"
   ]
  },
  {
   "cell_type": "code",
   "execution_count": 6,
   "metadata": {},
   "outputs": [],
   "source": [
    "import string, re, unidecode\n",
    "from sklearn.decomposition import LatentDirichletAllocation as LDA\n",
    "\n",
    "import nltk\n",
    "from nltk.corpus import stopwords\n",
    "from nltk.stem import SnowballStemmer\n",
    "\n",
    "from collections import Counter\n",
    "\n",
    "from sklearn.feature_extraction.text import TfidfVectorizer, CountVectorizer\n",
    "from sklearn.metrics.pairwise import cosine_similarity"
   ]
  },
  {
   "cell_type": "code",
   "execution_count": 7,
   "metadata": {},
   "outputs": [],
   "source": [
    "stemmer = SnowballStemmer('spanish')\n",
    "remove_punc = str.maketrans(string.punctuation, len(string.punctuation) * \" \")\n",
    "stopwords_ascii = [unidecode.unidecode(w) for w in stopwords.words('spanish')]\n",
    "\n",
    "def tokenize(s):\n",
    "    s = unidecode.unidecode(s)\n",
    "    s = s.translate(remove_punc)\n",
    "    tokens = nltk.word_tokenize(s)\n",
    "    filtered = [w for w in tokens if w not in stopwords_ascii]\n",
    "    return [stemmer.stem(w) for w in filtered]"
   ]
  },
  {
   "cell_type": "code",
   "execution_count": 8,
   "metadata": {},
   "outputs": [],
   "source": [
    "def dummy(x):\n",
    "    return x\n",
    "\n",
    "vectorizer = TfidfVectorizer(analyzer='word', tokenizer=dummy, preprocessor=dummy,\n",
    "                            token_pattern=None)\n",
    "\n",
    "count_vectorizer = CountVectorizer(analyzer='word', tokenizer=dummy, preprocessor=dummy,\n",
    "                            token_pattern=None)"
   ]
  },
  {
   "cell_type": "code",
   "execution_count": 9,
   "metadata": {},
   "outputs": [
    {
     "name": "stdout",
     "output_type": "stream",
     "text": [
      "                                  +52  +55   +57  +58  +34   +1  +263  +27  \\\n",
      "uid                                                                          \n",
      "0526efbcbfd2a4c352206eef2a4dd6da  1.0  1.0   3.0  3.0  0.0  0.0   0.0  0.0   \n",
      "07d5068cc56fa32bb22935edee3cf10a  0.0  0.0   8.0  3.0  0.0  0.0   0.0  0.0   \n",
      "1eea1e85e89157f35943c0c1e8de0535  0.0  0.0  10.0  0.0  0.0  0.0   0.0  0.0   \n",
      "2bcb099b4f7c3ddf444f15d69fce0ed8  0.0  0.0   3.0  0.0  0.0  0.0   0.0  0.0   \n",
      "35c0a8c5a334567e7087db5c6c8d38c5  0.0  0.0  18.0  0.0  1.0  0.0   0.0  0.0   \n",
      "\n",
      "                                  +381  +505  ...  pCL  pEC  p3rdCountry  \\\n",
      "uid                                           ...                          \n",
      "0526efbcbfd2a4c352206eef2a4dd6da   0.0   0.0  ...  0.0  0.0     0.250000   \n",
      "07d5068cc56fa32bb22935edee3cf10a   0.0   0.0  ...  0.0  0.0     0.000000   \n",
      "1eea1e85e89157f35943c0c1e8de0535   0.0   0.0  ...  0.0  0.0     0.000000   \n",
      "2bcb099b4f7c3ddf444f15d69fce0ed8   0.0   0.0  ...  0.0  0.0     0.000000   \n",
      "35c0a8c5a334567e7087db5c6c8d38c5   0.0   0.0  ...  0.0  0.0     0.052632   \n",
      "\n",
      "                                   entropy  degree  activity    hhConc  \\\n",
      "uid                                                                      \n",
      "0526efbcbfd2a4c352206eef2a4dd6da  1.255482    21.0      38.0  0.518006   \n",
      "07d5068cc56fa32bb22935edee3cf10a  0.585953    24.0      64.5  0.223364   \n",
      "1eea1e85e89157f35943c0c1e8de0535  0.000000    16.0      35.0  0.229388   \n",
      "2bcb099b4f7c3ddf444f15d69fce0ed8  0.000000     0.0       1.5  0.333333   \n",
      "35c0a8c5a334567e7087db5c6c8d38c5  0.206192    14.0      59.0  0.118070   \n",
      "\n",
      "                                      gini  replies_n  virality  \n",
      "uid                                                              \n",
      "0526efbcbfd2a4c352206eef2a4dd6da  0.625000   0.157895  0.791667  \n",
      "07d5068cc56fa32bb22935edee3cf10a  0.591966   0.310078  0.830065  \n",
      "1eea1e85e89157f35943c0c1e8de0535  0.528571   0.457143  0.921569  \n",
      "2bcb099b4f7c3ddf444f15d69fce0ed8  0.000000   0.333333  0.500000  \n",
      "35c0a8c5a334567e7087db5c6c8d38c5  0.537913   0.457627  1.404040  \n",
      "\n",
      "[5 rows x 66 columns]\n"
     ]
    }
   ],
   "source": [
    "df_groups = pd.read_csv('Data/df_groups_nb3b-virality.csv', index_col = 0)\n",
    "print(df_groups.head())"
   ]
  },
  {
   "cell_type": "markdown",
   "metadata": {},
   "source": [
    "# Initial statistics"
   ]
  },
  {
   "cell_type": "markdown",
   "metadata": {},
   "source": [
    "# Message dynamics"
   ]
  },
  {
   "cell_type": "code",
   "execution_count": 10,
   "metadata": {},
   "outputs": [],
   "source": [
    "df_x['posMisinfo'] = (df_x['textlower'].apply(lambda x: len(tokenize(x)) >= 5))\n",
    "df_p = df_x[df_x['posMisinfo']]"
   ]
  },
  {
   "cell_type": "code",
   "execution_count": 11,
   "metadata": {},
   "outputs": [
    {
     "name": "stdout",
     "output_type": "stream",
     "text": [
      "(472, 35)\n",
      "(44025, 35)\n"
     ]
    }
   ],
   "source": [
    "print(df_p[df_p['fake_news']].shape)\n",
    "print(df_p.shape)"
   ]
  },
  {
   "cell_type": "markdown",
   "metadata": {},
   "source": [
    "### Replies"
   ]
  },
  {
   "cell_type": "code",
   "execution_count": 12,
   "metadata": {},
   "outputs": [
    {
     "name": "stdout",
     "output_type": "stream",
     "text": [
      "                            OLS Regression Results                            \n",
      "==============================================================================\n",
      "Dep. Variable:              replies_n   R-squared:                       0.001\n",
      "Model:                            OLS   Adj. R-squared:                  0.001\n",
      "Method:                 Least Squares   F-statistic:                     37.55\n",
      "Date:                Wed, 15 Apr 2020   Prob (F-statistic):           8.99e-10\n",
      "Time:                        10:30:08   Log-Likelihood:                -86133.\n",
      "No. Observations:               44025   AIC:                         1.723e+05\n",
      "Df Residuals:                   44023   BIC:                         1.723e+05\n",
      "Df Model:                           1                                         \n",
      "Covariance Type:            nonrobust                                         \n",
      "=====================================================================================\n",
      "                        coef    std err          t      P>|t|      [0.025      0.975]\n",
      "-------------------------------------------------------------------------------------\n",
      "Intercept             0.5659      0.008     68.996      0.000       0.550       0.582\n",
      "fake_news[T.True]    -0.4854      0.079     -6.128      0.000      -0.641      -0.330\n",
      "==============================================================================\n",
      "Omnibus:                    58357.687   Durbin-Watson:                   1.812\n",
      "Prob(Omnibus):                  0.000   Jarque-Bera (JB):         18718060.222\n",
      "Skew:                           7.406   Prob(JB):                         0.00\n",
      "Kurtosis:                     102.923   Cond. No.                         9.71\n",
      "==============================================================================\n",
      "\n",
      "Warnings:\n",
      "[1] Standard Errors assume that the covariance matrix of the errors is correctly specified.\n",
      "                            OLS Regression Results                            \n",
      "==============================================================================\n",
      "Dep. Variable:              replies_n   R-squared:                       0.000\n",
      "Model:                            OLS   Adj. R-squared:                  0.000\n",
      "Method:                 Least Squares   F-statistic:                     31.20\n",
      "Date:                Wed, 15 Apr 2020   Prob (F-statistic):           2.33e-08\n",
      "Time:                        10:30:08   Log-Likelihood:            -3.4351e+05\n",
      "No. Observations:              171634   AIC:                         6.870e+05\n",
      "Df Residuals:                  171632   BIC:                         6.871e+05\n",
      "Df Model:                           1                                         \n",
      "Covariance Type:            nonrobust                                         \n",
      "=====================================================================================\n",
      "                        coef    std err          t      P>|t|      [0.025      0.975]\n",
      "-------------------------------------------------------------------------------------\n",
      "Intercept             0.5415      0.004    125.124      0.000       0.533       0.550\n",
      "fake_news[T.True]    -0.4610      0.083     -5.586      0.000      -0.623      -0.299\n",
      "==============================================================================\n",
      "Omnibus:                   220737.894   Durbin-Watson:                   1.781\n",
      "Prob(Omnibus):                  0.000   Jarque-Bera (JB):         47202471.829\n",
      "Skew:                           7.173   Prob(JB):                         0.00\n",
      "Kurtosis:                      82.966   Cond. No.                         19.1\n",
      "==============================================================================\n",
      "\n",
      "Warnings:\n",
      "[1] Standard Errors assume that the covariance matrix of the errors is correctly specified.\n"
     ]
    }
   ],
   "source": [
    "reg = smf.ols('replies_n ~ fake_news', data = df_p).fit()\n",
    "print(reg.summary())\n",
    "reg = smf.ols('replies_n ~ fake_news', data = df_x).fit()\n",
    "print(reg.summary())"
   ]
  },
  {
   "cell_type": "code",
   "execution_count": 13,
   "metadata": {},
   "outputs": [
    {
     "name": "stdout",
     "output_type": "stream",
     "text": [
      "0.0\n",
      "3.0\n"
     ]
    }
   ],
   "source": [
    "print(np.quantile(df_p[df_p['fake_news']]['replies_n'], .95))\n",
    "print(np.quantile(df_p[~df_p['fake_news']]['replies_n'], .95))"
   ]
  },
  {
   "cell_type": "code",
   "execution_count": 14,
   "metadata": {},
   "outputs": [
    {
     "name": "stdout",
     "output_type": "stream",
     "text": [
      "0.048728813559322036\n"
     ]
    }
   ],
   "source": [
    "print(np.mean(df_p[df_p['fake_news']]['replies_n'] > 0))"
   ]
  },
  {
   "cell_type": "markdown",
   "metadata": {},
   "source": [
    "### Virality"
   ]
  },
  {
   "cell_type": "code",
   "execution_count": 16,
   "metadata": {},
   "outputs": [
    {
     "name": "stdout",
     "output_type": "stream",
     "text": [
      "                            OLS Regression Results                            \n",
      "==============================================================================\n",
      "Dep. Variable:               virality   R-squared:                       0.000\n",
      "Model:                            OLS   Adj. R-squared:                  0.000\n",
      "Method:                 Least Squares   F-statistic:                     6.129\n",
      "Date:                Wed, 15 Apr 2020   Prob (F-statistic):             0.0133\n",
      "Time:                        10:31:04   Log-Likelihood:                -22069.\n",
      "No. Observations:               14227   AIC:                         4.414e+04\n",
      "Df Residuals:                   14225   BIC:                         4.416e+04\n",
      "Df Model:                           1                                         \n",
      "Covariance Type:            nonrobust                                         \n",
      "=====================================================================================\n",
      "                        coef    std err          t      P>|t|      [0.025      0.975]\n",
      "-------------------------------------------------------------------------------------\n",
      "Intercept             1.3565      0.010    141.626      0.000       1.338       1.375\n",
      "fake_news[T.True]    -0.5898      0.238     -2.476      0.013      -1.057      -0.123\n",
      "==============================================================================\n",
      "Omnibus:                     7630.268   Durbin-Watson:                   1.367\n",
      "Prob(Omnibus):                  0.000   Jarque-Bera (JB):            59455.474\n",
      "Skew:                           2.499   Prob(JB):                         0.00\n",
      "Kurtosis:                      11.678   Cond. No.                         24.9\n",
      "==============================================================================\n",
      "\n",
      "Warnings:\n",
      "[1] Standard Errors assume that the covariance matrix of the errors is correctly specified.\n",
      "                            OLS Regression Results                            \n",
      "==============================================================================\n",
      "Dep. Variable:               virality   R-squared:                       0.000\n",
      "Model:                            OLS   Adj. R-squared:                  0.000\n",
      "Method:                 Least Squares   F-statistic:                     7.215\n",
      "Date:                Wed, 15 Apr 2020   Prob (F-statistic):            0.00723\n",
      "Time:                        10:31:04   Log-Likelihood:            -1.0557e+05\n",
      "No. Observations:               62421   AIC:                         2.111e+05\n",
      "Df Residuals:                   62419   BIC:                         2.112e+05\n",
      "Df Model:                           1                                         \n",
      "Covariance Type:            nonrobust                                         \n",
      "=====================================================================================\n",
      "                        coef    std err          t      P>|t|      [0.025      0.975]\n",
      "-------------------------------------------------------------------------------------\n",
      "Intercept             1.5022      0.005    285.803      0.000       1.492       1.513\n",
      "fake_news[T.True]    -0.7355      0.274     -2.686      0.007      -1.272      -0.199\n",
      "==============================================================================\n",
      "Omnibus:                    28656.717   Durbin-Watson:                   1.218\n",
      "Prob(Omnibus):                  0.000   Jarque-Bera (JB):           150479.970\n",
      "Skew:                           2.221   Prob(JB):                         0.00\n",
      "Kurtosis:                       9.175   Cond. No.                         52.1\n",
      "==============================================================================\n",
      "\n",
      "Warnings:\n",
      "[1] Standard Errors assume that the covariance matrix of the errors is correctly specified.\n"
     ]
    }
   ],
   "source": [
    "reg = smf.ols('virality ~ fake_news', data = df_p[df_p['virality'] > 0]).fit()\n",
    "print(reg.summary())\n",
    "reg = smf.ols('virality ~ fake_news', data = df_x[df_x['virality'] > 0]).fit()\n",
    "print(reg.summary())"
   ]
  },
  {
   "cell_type": "code",
   "execution_count": 17,
   "metadata": {},
   "outputs": [
    {
     "name": "stdout",
     "output_type": "stream",
     "text": [
      "1.4084999999999994\n"
     ]
    }
   ],
   "source": [
    "print(np.quantile(df_p[df_p['fake_news'] & (df_p['virality'] > 0)]['virality'], .95))"
   ]
  },
  {
   "cell_type": "code",
   "execution_count": 18,
   "metadata": {},
   "outputs": [
    {
     "name": "stdout",
     "output_type": "stream",
     "text": [
      "3.5546875\n"
     ]
    }
   ],
   "source": [
    "print(np.quantile(df_p[~df_p['fake_news'] & (df_p['virality'] > 0)]['virality'], .95))"
   ]
  },
  {
   "cell_type": "markdown",
   "metadata": {},
   "source": [
    "### Size"
   ]
  },
  {
   "cell_type": "code",
   "execution_count": 19,
   "metadata": {},
   "outputs": [
    {
     "name": "stderr",
     "output_type": "stream",
     "text": [
      "//anaconda3/envs/vzwa/lib/python3.7/site-packages/ipykernel/__main__.py:1: SettingWithCopyWarning: \n",
      "A value is trying to be set on a copy of a slice from a DataFrame.\n",
      "Try using .loc[row_indexer,col_indexer] = value instead\n",
      "\n",
      "See the caveats in the documentation: http://pandas.pydata.org/pandas-docs/stable/user_guide/indexing.html#returning-a-view-versus-a-copy\n",
      "  if __name__ == '__main__':\n",
      "//anaconda3/envs/vzwa/lib/python3.7/site-packages/ipykernel/__main__.py:2: SettingWithCopyWarning: \n",
      "A value is trying to be set on a copy of a slice from a DataFrame.\n",
      "Try using .loc[row_indexer,col_indexer] = value instead\n",
      "\n",
      "See the caveats in the documentation: http://pandas.pydata.org/pandas-docs/stable/user_guide/indexing.html#returning-a-view-versus-a-copy\n",
      "  from ipykernel import kernelapp as app\n"
     ]
    }
   ],
   "source": [
    "df_p['charlength'] = df_p['text'].apply(len)\n",
    "df_p['wordlength'] = df_p['text'].apply(lambda x: x.count(\" \"))"
   ]
  },
  {
   "cell_type": "code",
   "execution_count": 20,
   "metadata": {},
   "outputs": [
    {
     "name": "stdout",
     "output_type": "stream",
     "text": [
      "                            OLS Regression Results                            \n",
      "==============================================================================\n",
      "Dep. Variable:             charlength   R-squared:                       0.027\n",
      "Model:                            OLS   Adj. R-squared:                  0.027\n",
      "Method:                 Least Squares   F-statistic:                     1210.\n",
      "Date:                Wed, 15 Apr 2020   Prob (F-statistic):          1.37e-261\n",
      "Time:                        10:34:59   Log-Likelihood:            -3.4845e+05\n",
      "No. Observations:               44025   AIC:                         6.969e+05\n",
      "Df Residuals:                   44023   BIC:                         6.969e+05\n",
      "Df Model:                           1                                         \n",
      "Covariance Type:            nonrobust                                         \n",
      "=====================================================================================\n",
      "                        coef    std err          t      P>|t|      [0.025      0.975]\n",
      "-------------------------------------------------------------------------------------\n",
      "Intercept           318.1145      3.174    100.231      0.000     311.894     324.335\n",
      "fake_news[T.True]  1066.2902     30.652     34.787      0.000    1006.212    1126.369\n",
      "==============================================================================\n",
      "Omnibus:                    35222.793   Durbin-Watson:                   1.709\n",
      "Prob(Omnibus):                  0.000   Jarque-Bera (JB):           602127.263\n",
      "Skew:                           3.946   Prob(JB):                         0.00\n",
      "Kurtosis:                      19.308   Cond. No.                         9.71\n",
      "==============================================================================\n",
      "\n",
      "Warnings:\n",
      "[1] Standard Errors assume that the covariance matrix of the errors is correctly specified.\n",
      "                            OLS Regression Results                            \n",
      "==============================================================================\n",
      "Dep. Variable:             wordlength   R-squared:                       0.033\n",
      "Model:                            OLS   Adj. R-squared:                  0.033\n",
      "Method:                 Least Squares   F-statistic:                     1494.\n",
      "Date:                Wed, 15 Apr 2020   Prob (F-statistic):          2.31e-321\n",
      "Time:                        10:34:59   Log-Likelihood:            -2.6654e+05\n",
      "No. Observations:               44025   AIC:                         5.331e+05\n",
      "Df Residuals:                   44023   BIC:                         5.331e+05\n",
      "Df Model:                           1                                         \n",
      "Covariance Type:            nonrobust                                         \n",
      "=====================================================================================\n",
      "                        coef    std err          t      P>|t|      [0.025      0.975]\n",
      "-------------------------------------------------------------------------------------\n",
      "Intercept            48.5304      0.494     98.272      0.000      47.562      49.498\n",
      "fake_news[T.True]   184.3255      4.769     38.648      0.000     174.977     193.674\n",
      "==============================================================================\n",
      "Omnibus:                    36365.728   Durbin-Watson:                   1.726\n",
      "Prob(Omnibus):                  0.000   Jarque-Bera (JB):           746697.220\n",
      "Skew:                           4.054   Prob(JB):                         0.00\n",
      "Kurtosis:                      21.475   Cond. No.                         9.71\n",
      "==============================================================================\n",
      "\n",
      "Warnings:\n",
      "[1] Standard Errors assume that the covariance matrix of the errors is correctly specified.\n"
     ]
    }
   ],
   "source": [
    "reg = smf.ols('charlength ~ fake_news', data = df_p).fit()\n",
    "print(reg.summary())\n",
    "reg = smf.ols('wordlength ~ fake_news', data = df_p).fit()\n",
    "print(reg.summary())"
   ]
  },
  {
   "cell_type": "markdown",
   "metadata": {},
   "source": [
    "### LDA"
   ]
  },
  {
   "cell_type": "code",
   "execution_count": 21,
   "metadata": {},
   "outputs": [
    {
     "name": "stderr",
     "output_type": "stream",
     "text": [
      "//anaconda3/envs/vzwa/lib/python3.7/site-packages/pandas/core/indexing.py:376: SettingWithCopyWarning: \n",
      "A value is trying to be set on a copy of a slice from a DataFrame.\n",
      "Try using .loc[row_indexer,col_indexer] = value instead\n",
      "\n",
      "See the caveats in the documentation: http://pandas.pydata.org/pandas-docs/stable/user_guide/indexing.html#returning-a-view-versus-a-copy\n",
      "  self.obj[key] = _infer_fill_value(value)\n",
      "//anaconda3/envs/vzwa/lib/python3.7/site-packages/pandas/core/indexing.py:494: SettingWithCopyWarning: \n",
      "A value is trying to be set on a copy of a slice from a DataFrame.\n",
      "Try using .loc[row_indexer,col_indexer] = value instead\n",
      "\n",
      "See the caveats in the documentation: http://pandas.pydata.org/pandas-docs/stable/user_guide/indexing.html#returning-a-view-versus-a-copy\n",
      "  self.obj[item] = s\n"
     ]
    }
   ],
   "source": [
    "df_t = df_p[df_p['fake_news']]\n",
    "df_t.loc[:,'token'] = df_t.loc[:,'textlower'].apply(tokenize)"
   ]
  },
  {
   "cell_type": "code",
   "execution_count": 22,
   "metadata": {},
   "outputs": [
    {
     "name": "stdout",
     "output_type": "stream",
     "text": [
      "\n",
      "Topic 0:\n",
      "virus chin mund salud pais cas egipt limon pas merc\n",
      "\n",
      "Topic 1:\n",
      "virus dias pulmon tom vias agu chin evit pais sol\n",
      "\n",
      "Topic 2:\n",
      "alert hij inform nin pas compart ser pais segur escuel\n",
      "\n",
      "Topic 3:\n",
      "limon tom agu pued calient cuerp celul cuid alcalin sustanci\n",
      "\n",
      "Topic 4:\n",
      "agu tom inclu ibuprofen sintom sal favor salv ajo virus\n",
      "\n",
      "Topic 5:\n",
      "contact virus pasal urgent celular mensaj llam dil vide murcielag\n",
      "\n",
      "Topic 6:\n",
      "chin accion telon mund coronavirus mundial virus empres compr tod\n",
      "\n",
      "Topic 7:\n",
      "virus pued calient sol agu coronavirus man hor beb hac\n",
      "\n",
      "Topic 8:\n",
      "40 dios dias person jesus mand mensaj pued despu famili\n",
      "\n",
      "Topic 9:\n",
      "chin virus caf wuh mund coron quimic pacient km beijing\n"
     ]
    }
   ],
   "source": [
    "X = count_vectorizer.fit_transform(df_t['token'])\n",
    "\n",
    "# Tweak the two parameters below\n",
    "number_topics = 10\n",
    "number_words = 10\n",
    "\n",
    "# Create and fit the LDA model\n",
    "lda = LDA(n_components=number_topics, n_jobs=-1)\n",
    "lda.fit(X)\n",
    "\n",
    "# Helper function (sourced from somewhere online)\n",
    "def print_topics(model, count_vectorizer, n_top_words):\n",
    "    words = count_vectorizer.get_feature_names()\n",
    "    for topic_idx, topic in enumerate(model.components_):\n",
    "        print(\"\\nTopic %d:\" % topic_idx)\n",
    "        print(\" \".join([words[i]\n",
    "                        for i in topic.argsort()[:-n_top_words - 1:-1]]))\n",
    "        \n",
    "# Print the topics found by the LDA model\n",
    "print_topics(lda, count_vectorizer, number_words)"
   ]
  },
  {
   "cell_type": "markdown",
   "metadata": {},
   "source": [
    "# User dynamics"
   ]
  },
  {
   "cell_type": "code",
   "execution_count": 23,
   "metadata": {},
   "outputs": [
    {
     "name": "stdout",
     "output_type": "stream",
     "text": [
      "(309,)\n"
     ]
    }
   ],
   "source": [
    "df_x[df_x['fake_news']]['tel'].value_counts().hist(bins = 20)\n",
    "plt.xlabel(\"Number of Fake News Shared\")\n",
    "plt.ylabel(\"# of Users\")\n",
    "plt.savefig('images/ch-misinformation/hist_fakenews_user_frequency.png', bbox_inches = 'tight', pad_inches = 0.05)\n",
    "plt.close()\n",
    "print(df_x[df_x['fake_news']]['tel'].unique().shape)"
   ]
  },
  {
   "cell_type": "code",
   "execution_count": 24,
   "metadata": {},
   "outputs": [
    {
     "name": "stdout",
     "output_type": "stream",
     "text": [
      "0.7443365695792881\n",
      "0.1488673139158576\n"
     ]
    }
   ],
   "source": [
    "print(np.mean(df_x[df_x['fake_news']]['tel'].value_counts() == 1))\n",
    "print(np.mean(df_x[df_x['fake_news']]['tel'].value_counts() == 2))"
   ]
  },
  {
   "cell_type": "code",
   "execution_count": 25,
   "metadata": {},
   "outputs": [],
   "source": [
    "tel_fake_news = df_p[['tel', 'fake_news']].groupby('tel').mean()\n",
    "tel_fake_news_n = df_p[['tel', 'fake_news']].groupby('tel').sum()"
   ]
  },
  {
   "cell_type": "code",
   "execution_count": 26,
   "metadata": {},
   "outputs": [
    {
     "name": "stdout",
     "output_type": "stream",
     "text": [
      "fake_news    0.933477\n",
      "dtype: float64\n",
      "(4645, 1)\n"
     ]
    }
   ],
   "source": [
    "print(np.mean(tel_fake_news == 0))\n",
    "print(tel_fake_news.shape)"
   ]
  },
  {
   "cell_type": "code",
   "execution_count": 27,
   "metadata": {},
   "outputs": [],
   "source": [
    "tel_fake_news[tel_fake_news > 0].hist(bins = 20)\n",
    "plt.xlabel(\"Prevalence of Fake News\")\n",
    "plt.ylabel(\"# of Users\")\n",
    "plt.title(None)\n",
    "plt.savefig('images/ch-misinformation/hist_fakenews_user_prevalence.png', bbox_inches = 'tight', pad_inches = 0.05)\n",
    "plt.close()"
   ]
  },
  {
   "cell_type": "code",
   "execution_count": 28,
   "metadata": {},
   "outputs": [
    {
     "data": {
      "text/html": [
       "<div>\n",
       "<style scoped>\n",
       "    .dataframe tbody tr th:only-of-type {\n",
       "        vertical-align: middle;\n",
       "    }\n",
       "\n",
       "    .dataframe tbody tr th {\n",
       "        vertical-align: top;\n",
       "    }\n",
       "\n",
       "    .dataframe thead th {\n",
       "        text-align: right;\n",
       "    }\n",
       "</style>\n",
       "<table border=\"1\" class=\"dataframe\">\n",
       "  <thead>\n",
       "    <tr style=\"text-align: right;\">\n",
       "      <th></th>\n",
       "      <th>fake_news</th>\n",
       "    </tr>\n",
       "    <tr>\n",
       "      <th>tel</th>\n",
       "      <th></th>\n",
       "    </tr>\n",
       "  </thead>\n",
       "  <tbody>\n",
       "    <tr>\n",
       "      <th>+51 949 409 535</th>\n",
       "      <td>5.0</td>\n",
       "    </tr>\n",
       "    <tr>\n",
       "      <th>+51 993 052 933</th>\n",
       "      <td>5.0</td>\n",
       "    </tr>\n",
       "    <tr>\n",
       "      <th>+57 300 5290738</th>\n",
       "      <td>6.0</td>\n",
       "    </tr>\n",
       "    <tr>\n",
       "      <th>+57 302 2355873</th>\n",
       "      <td>11.0</td>\n",
       "    </tr>\n",
       "    <tr>\n",
       "      <th>+57 318 6079933</th>\n",
       "      <td>5.0</td>\n",
       "    </tr>\n",
       "    <tr>\n",
       "      <th>+58 412-6397289</th>\n",
       "      <td>5.0</td>\n",
       "    </tr>\n",
       "    <tr>\n",
       "      <th>+58 414-6959685</th>\n",
       "      <td>7.0</td>\n",
       "    </tr>\n",
       "    <tr>\n",
       "      <th>+58 416-1952254</th>\n",
       "      <td>9.0</td>\n",
       "    </tr>\n",
       "    <tr>\n",
       "      <th>+58 424-9163789</th>\n",
       "      <td>8.0</td>\n",
       "    </tr>\n",
       "    <tr>\n",
       "      <th>+58 426-2841379</th>\n",
       "      <td>7.0</td>\n",
       "    </tr>\n",
       "  </tbody>\n",
       "</table>\n",
       "</div>"
      ],
      "text/plain": [
       "                 fake_news\n",
       "tel                       \n",
       "+51 949 409 535        5.0\n",
       "+51 993 052 933        5.0\n",
       "+57 300 5290738        6.0\n",
       "+57 302 2355873       11.0\n",
       "+57 318 6079933        5.0\n",
       "+58 412-6397289        5.0\n",
       "+58 414-6959685        7.0\n",
       "+58 416-1952254        9.0\n",
       "+58 424-9163789        8.0\n",
       "+58 426-2841379        7.0"
      ]
     },
     "execution_count": 28,
     "metadata": {},
     "output_type": "execute_result"
    }
   ],
   "source": [
    "tel_fake_news_n[tel_fake_news_n['fake_news'] >= 5]"
   ]
  },
  {
   "cell_type": "markdown",
   "metadata": {},
   "source": [
    "## Comparing by country"
   ]
  },
  {
   "cell_type": "markdown",
   "metadata": {},
   "source": [
    "### User shares fake news"
   ]
  },
  {
   "cell_type": "code",
   "execution_count": 29,
   "metadata": {},
   "outputs": [],
   "source": [
    "x = ['PER', 'CHL', 'COL', 'VEN', 'ECU']"
   ]
  },
  {
   "cell_type": "code",
   "execution_count": 39,
   "metadata": {},
   "outputs": [
    {
     "name": "stdout",
     "output_type": "stream",
     "text": [
      "F_onewayResult(statistic=array([7.73945238]), pvalue=array([3.28530764e-06]))\n",
      "\n",
      "VZ t-tests\n",
      "Ttest_indResult(statistic=array([2.82214302]), pvalue=array([0.00482543]))\n",
      "Ttest_indResult(statistic=array([2.00589309]), pvalue=array([0.04507311]))\n",
      "Ttest_indResult(statistic=array([5.34657351]), pvalue=array([9.57544473e-08]))\n",
      "Ttest_indResult(statistic=array([0.8631068]), pvalue=array([0.38823578]))\n",
      "\n",
      "CO t-tests\n",
      "Ttest_indResult(statistic=array([-0.73764127]), pvalue=array([0.46079739]))\n",
      "Ttest_indResult(statistic=array([0.15758127]), pvalue=array([0.87480083]))\n",
      "Ttest_indResult(statistic=array([-5.34657351]), pvalue=array([9.57544473e-08]))\n",
      "Ttest_indResult(statistic=array([-1.42379329]), pvalue=array([0.15464376]))\n"
     ]
    }
   ],
   "source": [
    "pe = tel_fake_news[tel_fake_news.index.str.startswith('+51')] > 0\n",
    "cl = tel_fake_news[tel_fake_news.index.str.startswith('+56')] > 0\n",
    "co = tel_fake_news[tel_fake_news.index.str.startswith('+57')] > 0\n",
    "vz = tel_fake_news[tel_fake_news.index.str.startswith('+58')] > 0\n",
    "ec = tel_fake_news[tel_fake_news.index.str.startswith('+593')] > 0\n",
    "\n",
    "y = [100 * np.mean(country)[0] for country in [pe, cl, co, vz, ec]]\n",
    "\n",
    "plt.figure()\n",
    "plt.bar(x, y)\n",
    "plt.xlabel(\"Country\")\n",
    "plt.ylabel(\"% of Users Who've\\nShared Fake News\")\n",
    "plt.savefig('images/ch-misinformation/bar_fakenews_country_whoshared.png', bbox_inches = 'tight', pad_inches = 0.05)\n",
    "plt.close()\n",
    "\n",
    "print(f_oneway(pe, cl, co, vz, ec))\n",
    "\n",
    "print(\"\\nVZ t-tests\")\n",
    "print(ttest_ind(vz, pe))\n",
    "print(ttest_ind(vz, cl))\n",
    "print(ttest_ind(vz, co))\n",
    "print(ttest_ind(vz, ec))\n",
    "\n",
    "print(\"\\nCO t-tests\")\n",
    "print(ttest_ind(co, pe))\n",
    "print(ttest_ind(co, cl))\n",
    "print(ttest_ind(co, vz))\n",
    "print(ttest_ind(co, ec))"
   ]
  },
  {
   "cell_type": "code",
   "execution_count": 40,
   "metadata": {},
   "outputs": [
    {
     "name": "stdout",
     "output_type": "stream",
     "text": [
      "fake_news    0.101796\n",
      "dtype: float64\n",
      "fake_news    0.052334\n",
      "dtype: float64\n"
     ]
    }
   ],
   "source": [
    "print(np.mean(vz))\n",
    "print(np.mean(co))"
   ]
  },
  {
   "cell_type": "markdown",
   "metadata": {},
   "source": [
    "### Prop of user content is fake news"
   ]
  },
  {
   "cell_type": "code",
   "execution_count": 41,
   "metadata": {},
   "outputs": [
    {
     "name": "stdout",
     "output_type": "stream",
     "text": [
      "F_onewayResult(statistic=array([5.31009887]), pvalue=array([0.00029021]))\n",
      "\n",
      "VZ t-tests\n",
      "Ttest_indResult(statistic=array([1.41746528]), pvalue=array([0.15652869]))\n",
      "Ttest_indResult(statistic=array([0.5828995]), pvalue=array([0.56006135]))\n",
      "Ttest_indResult(statistic=array([4.71825229]), pvalue=array([2.47793248e-06]))\n",
      "Ttest_indResult(statistic=array([0.90261145]), pvalue=array([0.36689707]))\n",
      "\n",
      "CO t-tests\n",
      "Ttest_indResult(statistic=array([-1.87477248]), pvalue=array([0.06093328]))\n",
      "Ttest_indResult(statistic=array([-1.44180965]), pvalue=array([0.14949457]))\n",
      "Ttest_indResult(statistic=array([-4.71825229]), pvalue=array([2.47793248e-06]))\n",
      "Ttest_indResult(statistic=array([-1.10727577]), pvalue=array([0.26829203]))\n"
     ]
    }
   ],
   "source": [
    "pe = tel_fake_news[tel_fake_news.index.str.startswith('+51')]\n",
    "cl = tel_fake_news[tel_fake_news.index.str.startswith('+56')]\n",
    "co = tel_fake_news[tel_fake_news.index.str.startswith('+57')]\n",
    "vz = tel_fake_news[tel_fake_news.index.str.startswith('+58')]\n",
    "ec = tel_fake_news[tel_fake_news.index.str.startswith('+593')]\n",
    "\n",
    "y = [np.mean(country)[0] for country in [pe, cl, co, vz, ec]]\n",
    "\n",
    "plt.figure()\n",
    "plt.bar(x, y)\n",
    "plt.xlabel(\"Country\")\n",
    "plt.ylabel(\"Avg. Fake News Prevalence\")\n",
    "plt.title(\"All Users from Country\")\n",
    "plt.savefig('images/ch-misinformation/bar_fakenews_country_prevalence.png', bbox_inches = 'tight', pad_inches = 0.05)\n",
    "plt.close()\n",
    "print(f_oneway(pe, cl, co, vz, ec))\n",
    "\n",
    "print(\"\\nVZ t-tests\")\n",
    "print(ttest_ind(vz, pe))\n",
    "print(ttest_ind(vz, cl))\n",
    "print(ttest_ind(vz, co))\n",
    "print(ttest_ind(vz, ec))\n",
    "\n",
    "print(\"\\nCO t-tests\")\n",
    "print(ttest_ind(co, pe))\n",
    "print(ttest_ind(co, cl))\n",
    "print(ttest_ind(co, vz))\n",
    "print(ttest_ind(co, ec))"
   ]
  },
  {
   "cell_type": "code",
   "execution_count": 42,
   "metadata": {},
   "outputs": [
    {
     "name": "stdout",
     "output_type": "stream",
     "text": [
      "fake_news    0.032561\n",
      "dtype: float64\n",
      "fake_news    0.013752\n",
      "dtype: float64\n"
     ]
    }
   ],
   "source": [
    "print(np.mean(vz))\n",
    "print(np.mean(co))"
   ]
  },
  {
   "cell_type": "markdown",
   "metadata": {},
   "source": [
    "### Prop user content is fake news, ONLY FOR FAKE NEWS sharers"
   ]
  },
  {
   "cell_type": "code",
   "execution_count": 43,
   "metadata": {},
   "outputs": [],
   "source": [
    "tel_fake_news_pos = tel_fake_news[tel_fake_news['fake_news'] > 0]"
   ]
  },
  {
   "cell_type": "code",
   "execution_count": 44,
   "metadata": {},
   "outputs": [
    {
     "name": "stdout",
     "output_type": "stream",
     "text": [
      "F_onewayResult(statistic=1.7051998289452537, pvalue=0.14898933598209077)\n",
      "\n",
      "VZ t-tests\n",
      "Ttest_indResult(statistic=-0.7841262952679269, pvalue=0.43420250389631265)\n",
      "Ttest_indResult(statistic=-1.4745370001139, pvalue=0.14287146642057622)\n",
      "Ttest_indResult(statistic=1.4193907506446761, pvalue=0.15715084067384924)\n",
      "Ttest_indResult(statistic=0.4652672892833055, pvalue=0.6425245334935901)\n",
      "\n",
      "CO t-tests\n",
      "Ttest_indResult(statistic=-1.7953800640299724, pvalue=0.07471984527298495)\n",
      "Ttest_indResult(statistic=-2.175503521849528, pvalue=0.03162097284105715)\n",
      "Ttest_indResult(statistic=-1.4193907506446761, pvalue=0.15715084067384924)\n",
      "Ttest_indResult(statistic=-0.1492532755784232, pvalue=0.8816022616296135)\n"
     ]
    }
   ],
   "source": [
    "pe = tel_fake_news_pos[tel_fake_news_pos.index.str.startswith('+51')]['fake_news'].values\n",
    "cl = tel_fake_news_pos[tel_fake_news_pos.index.str.startswith('+56')]['fake_news'].values\n",
    "co = tel_fake_news_pos[tel_fake_news_pos.index.str.startswith('+57')]['fake_news'].values\n",
    "vz = tel_fake_news_pos[tel_fake_news_pos.index.str.startswith('+58')]['fake_news'].values\n",
    "ec = tel_fake_news_pos[tel_fake_news_pos.index.str.startswith('+593')]['fake_news'].values\n",
    "\n",
    "fig, ax = plt.subplots()\n",
    "ax.violinplot([pe, cl, co, vz, ec], showmeans = True)\n",
    "ax.set_xticklabels(['','PER', 'CHL', 'COL', 'VEN', 'ECU'])\n",
    "plt.xlabel(\"Country\")\n",
    "plt.ylabel(\"Fake News Prevalence\")\n",
    "plt.title(\"Users Who've Shared Fake News\")\n",
    "plt.savefig('images/ch-misinformation/violin_fakenews_country_prevalence_sharers.png', bbox_inches = 'tight', pad_inches = 0.05)\n",
    "plt.close()\n",
    "print(f_oneway(pe, cl, co, vz, ec))\n",
    "\n",
    "print(\"\\nVZ t-tests\")\n",
    "print(ttest_ind(vz, pe))\n",
    "print(ttest_ind(vz, cl))\n",
    "print(ttest_ind(vz, co))\n",
    "print(ttest_ind(vz, ec))\n",
    "\n",
    "print(\"\\nCO t-tests\")\n",
    "print(ttest_ind(co, pe))\n",
    "print(ttest_ind(co, cl))\n",
    "print(ttest_ind(co, vz))\n",
    "print(ttest_ind(co, ec))"
   ]
  },
  {
   "cell_type": "markdown",
   "metadata": {},
   "source": [
    "### Number of fake news"
   ]
  },
  {
   "cell_type": "code",
   "execution_count": 45,
   "metadata": {},
   "outputs": [
    {
     "name": "stdout",
     "output_type": "stream",
     "text": [
      "fake_news    0.077793\n",
      "dtype: float64\n",
      "fake_news    0.166809\n",
      "dtype: float64\n"
     ]
    },
    {
     "data": {
      "text/plain": [
       "Ttest_indResult(statistic=array([-4.56394396]), pvalue=array([5.20392321e-06]))"
      ]
     },
     "execution_count": 45,
     "metadata": {},
     "output_type": "execute_result"
    }
   ],
   "source": [
    "print(np.mean(tel_fake_news_n[tel_fake_news_n.index.str.startswith('+57')]))\n",
    "print(np.mean(tel_fake_news_n[tel_fake_news_n.index.str.startswith('+58')]))\n",
    "ttest_ind(tel_fake_news_n[tel_fake_news_n.index.str.startswith('+57')],\n",
    "          tel_fake_news_n[tel_fake_news_n.index.str.startswith('+58')])"
   ]
  },
  {
   "cell_type": "code",
   "execution_count": 46,
   "metadata": {},
   "outputs": [
    {
     "name": "stdout",
     "output_type": "stream",
     "text": [
      "F_onewayResult(statistic=array([5.96462604]), pvalue=array([8.77767881e-05]))\n",
      "\n",
      "VZ t-tests\n",
      "Ttest_indResult(statistic=array([2.13577096]), pvalue=array([0.03283944]))\n",
      "Ttest_indResult(statistic=array([1.94620977]), pvalue=array([0.05184328]))\n",
      "Ttest_indResult(statistic=array([4.56394396]), pvalue=array([5.20392321e-06]))\n",
      "Ttest_indResult(statistic=array([0.60427657]), pvalue=array([0.54576378]))\n",
      "\n",
      "CO t-tests\n",
      "Ttest_indResult(statistic=array([-0.96709862]), pvalue=array([0.33358245]))\n",
      "Ttest_indResult(statistic=array([0.56909404]), pvalue=array([0.56934885]))\n",
      "Ttest_indResult(statistic=array([-4.56394396]), pvalue=array([5.20392321e-06]))\n",
      "Ttest_indResult(statistic=array([-1.43608499]), pvalue=array([0.15111595]))\n"
     ]
    }
   ],
   "source": [
    "pe = tel_fake_news_n[tel_fake_news_n.index.str.startswith('+51')]\n",
    "cl = tel_fake_news_n[tel_fake_news_n.index.str.startswith('+56')]\n",
    "co = tel_fake_news_n[tel_fake_news_n.index.str.startswith('+57')]\n",
    "vz = tel_fake_news_n[tel_fake_news_n.index.str.startswith('+58')]\n",
    "ec = tel_fake_news_n[tel_fake_news_n.index.str.startswith('+593')]\n",
    "\n",
    "y = [np.mean(country)[0] for country in [pe, cl, co, vz, ec]]\n",
    "\n",
    "plt.figure()\n",
    "plt.bar(x, y)\n",
    "plt.xlabel(\"Country\")\n",
    "plt.ylabel(\"Avg. # of Fake News\")\n",
    "plt.title(\"All Users from Country\")\n",
    "plt.savefig('images/ch-misinformation/bar_fakenews_country_frequency.png', bbox_inches = 'tight', pad_inches = 0.05)\n",
    "plt.close()\n",
    "print(f_oneway(pe, cl, co, vz, ec))\n",
    "\n",
    "print(\"\\nVZ t-tests\")\n",
    "print(ttest_ind(vz, pe))\n",
    "print(ttest_ind(vz, cl))\n",
    "print(ttest_ind(vz, co))\n",
    "print(ttest_ind(vz, ec))\n",
    "\n",
    "print(\"\\nCO t-tests\")\n",
    "print(ttest_ind(co, pe))\n",
    "print(ttest_ind(co, cl))\n",
    "print(ttest_ind(co, vz))\n",
    "print(ttest_ind(co, ec))"
   ]
  },
  {
   "cell_type": "markdown",
   "metadata": {},
   "source": [
    "### Number of fake news, only for fake news sharers"
   ]
  },
  {
   "cell_type": "code",
   "execution_count": 47,
   "metadata": {},
   "outputs": [],
   "source": [
    "tel_fake_news_pos_n = tel_fake_news_n[tel_fake_news_n['fake_news'] > 0]"
   ]
  },
  {
   "cell_type": "code",
   "execution_count": 48,
   "metadata": {},
   "outputs": [
    {
     "name": "stdout",
     "output_type": "stream",
     "text": [
      "F_onewayResult(statistic=0.4134323649610367, pvalue=0.7989197527541476)\n",
      "\n",
      "VZ t-tests\n",
      "Ttest_indResult(statistic=0.00853998495162298, pvalue=0.9931975080891522)\n",
      "Ttest_indResult(statistic=0.9195460610923518, pvalue=0.3595953728339022)\n",
      "Ttest_indResult(statistic=0.8464394806084964, pvalue=0.3981951398286613)\n",
      "Ttest_indResult(statistic=-0.06615212843892694, pvalue=0.9473591219462485)\n",
      "\n",
      "CO t-tests\n",
      "Ttest_indResult(statistic=-0.5973845156394809, pvalue=0.5512020987118321)\n",
      "Ttest_indResult(statistic=0.6952615306165695, pvalue=0.4882818472963889)\n",
      "Ttest_indResult(statistic=-0.8464394806084964, pvalue=0.3981951398286613)\n",
      "Ttest_indResult(statistic=-0.46073828873098926, pvalue=0.6458133998194324)\n"
     ]
    }
   ],
   "source": [
    "pe = tel_fake_news_pos_n[tel_fake_news_pos_n.index.str.startswith('+51')]['fake_news'].values\n",
    "cl = tel_fake_news_pos_n[tel_fake_news_pos_n.index.str.startswith('+56')]['fake_news'].values\n",
    "co = tel_fake_news_pos_n[tel_fake_news_pos_n.index.str.startswith('+57')]['fake_news'].values\n",
    "vz = tel_fake_news_pos_n[tel_fake_news_pos_n.index.str.startswith('+58')]['fake_news'].values\n",
    "ec = tel_fake_news_pos_n[tel_fake_news_pos_n.index.str.startswith('+593')]['fake_news'].values\n",
    "\n",
    "fig, ax = plt.subplots()\n",
    "ax.violinplot([pe, cl, co, vz, ec], showmeans = True)\n",
    "ax.set_xticklabels(['','PER', 'CHL', 'COL', 'VEN', 'ECU'])\n",
    "plt.xlabel(\"Country\")\n",
    "plt.ylabel(\"# of Fake News\")\n",
    "plt.title(\"Users Who've Shared Fake News\")\n",
    "plt.savefig('images/ch-misinformation/violin_fakenews_country_frequency_sharers.png', bbox_inches = 'tight', pad_inches = 0.05)\n",
    "plt.close()\n",
    "print(f_oneway(pe, cl, co, vz, ec))\n",
    "\n",
    "print(\"\\nVZ t-tests\")\n",
    "print(ttest_ind(vz, pe))\n",
    "print(ttest_ind(vz, cl))\n",
    "print(ttest_ind(vz, co))\n",
    "print(ttest_ind(vz, ec))\n",
    "\n",
    "print(\"\\nCO t-tests\")\n",
    "print(ttest_ind(co, pe))\n",
    "print(ttest_ind(co, cl))\n",
    "print(ttest_ind(co, vz))\n",
    "print(ttest_ind(co, ec))"
   ]
  },
  {
   "cell_type": "markdown",
   "metadata": {},
   "source": [
    "# Group dynamics"
   ]
  },
  {
   "cell_type": "code",
   "execution_count": 49,
   "metadata": {},
   "outputs": [],
   "source": [
    "df_groups['fakeNews'] = df_p.groupby('uid')['fake_news'].mean()\n",
    "df_groups['fakeNews'] = df_groups['fakeNews'].fillna(0)"
   ]
  },
  {
   "cell_type": "code",
   "execution_count": 50,
   "metadata": {},
   "outputs": [],
   "source": [
    "df_groups['fakeNews_users'] = (df_p[['tel', 'uid', 'fake_news']].groupby(['tel', 'uid']).sum() > 1).groupby('uid').mean()\n",
    "df_groups['fakeNews_users'] = df_groups['fakeNews_users'].fillna(0)"
   ]
  },
  {
   "cell_type": "code",
   "execution_count": 51,
   "metadata": {},
   "outputs": [],
   "source": [
    "df_groups.to_csv('Data/df_groups_nb4b-fakeNews.csv')"
   ]
  },
  {
   "cell_type": "code",
   "execution_count": 52,
   "metadata": {},
   "outputs": [
    {
     "name": "stdout",
     "output_type": "stream",
     "text": [
      "0.6436781609195402\n",
      "112\n",
      "166\n"
     ]
    }
   ],
   "source": [
    "print(np.mean(df_groups['fakeNews'] == 0))\n",
    "print(np.sum(df_groups['fakeNews'] == 0))\n",
    "print(np.sum(df_groups['fakeNews'] <= 0.1))"
   ]
  },
  {
   "cell_type": "code",
   "execution_count": 53,
   "metadata": {},
   "outputs": [],
   "source": [
    "df_groups[df_groups['fakeNews'] > 0]['fakeNews'].hist(bins = 20)\n",
    "plt.xlabel(\"Message Prevalence\")\n",
    "plt.ylabel(\"# of Groups\")\n",
    "plt.title(\"Groups with Fake News\")\n",
    "plt.savefig('images/ch-misinformation/hist_fakenews_group_prevalence.png', bbox_inches = 'tight', pad_inches = 0.05)\n",
    "plt.close()"
   ]
  },
  {
   "cell_type": "code",
   "execution_count": 54,
   "metadata": {},
   "outputs": [],
   "source": [
    "plt.scatter(df_groups[df_groups['fakeNews'] > 0]['fakeNews'], df_groups[df_groups['fakeNews'] > 0]['fakeNews_users'], alpha = 0.2)\n",
    "plt.xlabel(\"Message Prevalence\")\n",
    "plt.ylabel(\"User Prevalence\")\n",
    "plt.title(\"Groups with Fake News\")\n",
    "plt.savefig('images/ch-misinformation/scatter_fakenews_group.png', bbox_inches = 'tight', pad_inches = 0.05)\n",
    "plt.close()"
   ]
  },
  {
   "cell_type": "code",
   "execution_count": 55,
   "metadata": {},
   "outputs": [
    {
     "name": "stdout",
     "output_type": "stream",
     "text": [
      "(0.6787991515260561, 7.614051648119618e-25)\n",
      "(0.6441870666560023, 1.6137914418074645e-08)\n"
     ]
    }
   ],
   "source": [
    "print(scipy.stats.pearsonr(df_groups['fakeNews'], df_groups['fakeNews_users']))\n",
    "print(scipy.stats.pearsonr(df_groups[df_groups['fakeNews'] > 0]['fakeNews'], df_groups[df_groups['fakeNews'] > 0]['fakeNews_users']))\n",
    "# Fake news less likely to go viral?!?!"
   ]
  },
  {
   "cell_type": "code",
   "execution_count": 56,
   "metadata": {},
   "outputs": [
    {
     "data": {
      "text/html": [
       "<div>\n",
       "<style scoped>\n",
       "    .dataframe tbody tr th:only-of-type {\n",
       "        vertical-align: middle;\n",
       "    }\n",
       "\n",
       "    .dataframe tbody tr th {\n",
       "        vertical-align: top;\n",
       "    }\n",
       "\n",
       "    .dataframe thead th {\n",
       "        text-align: right;\n",
       "    }\n",
       "</style>\n",
       "<table border=\"1\" class=\"dataframe\">\n",
       "  <thead>\n",
       "    <tr style=\"text-align: right;\">\n",
       "      <th></th>\n",
       "      <th>+52</th>\n",
       "      <th>+55</th>\n",
       "      <th>+57</th>\n",
       "      <th>+58</th>\n",
       "      <th>+34</th>\n",
       "      <th>+1</th>\n",
       "      <th>+263</th>\n",
       "      <th>+27</th>\n",
       "      <th>+381</th>\n",
       "      <th>+505</th>\n",
       "      <th>...</th>\n",
       "      <th>p3rdCountry</th>\n",
       "      <th>entropy</th>\n",
       "      <th>degree</th>\n",
       "      <th>activity</th>\n",
       "      <th>hhConc</th>\n",
       "      <th>gini</th>\n",
       "      <th>replies_n</th>\n",
       "      <th>virality</th>\n",
       "      <th>fakeNews</th>\n",
       "      <th>fakeNews_users</th>\n",
       "    </tr>\n",
       "    <tr>\n",
       "      <th>uid</th>\n",
       "      <th></th>\n",
       "      <th></th>\n",
       "      <th></th>\n",
       "      <th></th>\n",
       "      <th></th>\n",
       "      <th></th>\n",
       "      <th></th>\n",
       "      <th></th>\n",
       "      <th></th>\n",
       "      <th></th>\n",
       "      <th></th>\n",
       "      <th></th>\n",
       "      <th></th>\n",
       "      <th></th>\n",
       "      <th></th>\n",
       "      <th></th>\n",
       "      <th></th>\n",
       "      <th></th>\n",
       "      <th></th>\n",
       "      <th></th>\n",
       "      <th></th>\n",
       "    </tr>\n",
       "  </thead>\n",
       "  <tbody>\n",
       "    <tr>\n",
       "      <th>573123674647-1578400081</th>\n",
       "      <td>0.0</td>\n",
       "      <td>0.0</td>\n",
       "      <td>1.0</td>\n",
       "      <td>0.0</td>\n",
       "      <td>0.0</td>\n",
       "      <td>0.0</td>\n",
       "      <td>0.0</td>\n",
       "      <td>0.0</td>\n",
       "      <td>0.0</td>\n",
       "      <td>0.0</td>\n",
       "      <td>...</td>\n",
       "      <td>0.000000</td>\n",
       "      <td>0.000000</td>\n",
       "      <td>0.0</td>\n",
       "      <td>2.0</td>\n",
       "      <td>1.000000</td>\n",
       "      <td>0.000000</td>\n",
       "      <td>0.0</td>\n",
       "      <td>0.0</td>\n",
       "      <td>0.500</td>\n",
       "      <td>0.000000</td>\n",
       "    </tr>\n",
       "    <tr>\n",
       "      <th>584167881770-1573754266</th>\n",
       "      <td>0.0</td>\n",
       "      <td>0.0</td>\n",
       "      <td>1.0</td>\n",
       "      <td>3.0</td>\n",
       "      <td>0.0</td>\n",
       "      <td>0.0</td>\n",
       "      <td>0.0</td>\n",
       "      <td>0.0</td>\n",
       "      <td>0.0</td>\n",
       "      <td>0.0</td>\n",
       "      <td>...</td>\n",
       "      <td>0.333333</td>\n",
       "      <td>1.011404</td>\n",
       "      <td>0.0</td>\n",
       "      <td>0.8</td>\n",
       "      <td>0.253472</td>\n",
       "      <td>0.347222</td>\n",
       "      <td>0.0</td>\n",
       "      <td>0.0</td>\n",
       "      <td>0.625</td>\n",
       "      <td>0.666667</td>\n",
       "    </tr>\n",
       "  </tbody>\n",
       "</table>\n",
       "<p>2 rows × 68 columns</p>\n",
       "</div>"
      ],
      "text/plain": [
       "                         +52  +55  +57  +58  +34   +1  +263  +27  +381  +505  \\\n",
       "uid                                                                            \n",
       "573123674647-1578400081  0.0  0.0  1.0  0.0  0.0  0.0   0.0  0.0   0.0   0.0   \n",
       "584167881770-1573754266  0.0  0.0  1.0  3.0  0.0  0.0   0.0  0.0   0.0   0.0   \n",
       "\n",
       "                         ...  p3rdCountry   entropy  degree  activity  \\\n",
       "uid                      ...                                            \n",
       "573123674647-1578400081  ...     0.000000  0.000000     0.0       2.0   \n",
       "584167881770-1573754266  ...     0.333333  1.011404     0.0       0.8   \n",
       "\n",
       "                           hhConc      gini  replies_n  virality  fakeNews  \\\n",
       "uid                                                                          \n",
       "573123674647-1578400081  1.000000  0.000000        0.0       0.0     0.500   \n",
       "584167881770-1573754266  0.253472  0.347222        0.0       0.0     0.625   \n",
       "\n",
       "                         fakeNews_users  \n",
       "uid                                      \n",
       "573123674647-1578400081        0.000000  \n",
       "584167881770-1573754266        0.666667  \n",
       "\n",
       "[2 rows x 68 columns]"
      ]
     },
     "execution_count": 56,
     "metadata": {},
     "output_type": "execute_result"
    }
   ],
   "source": [
    "df_groups[df_groups['fakeNews'] > 0.4]\n",
    "# Small groups, one 2 messages, one 24 messages"
   ]
  },
  {
   "cell_type": "code",
   "execution_count": 57,
   "metadata": {},
   "outputs": [],
   "source": [
    "df_p[df_p['fake_news']].groupby('uid')['fake_news'].sum().hist()\n",
    "plt.xlabel(\"# Fake News Shared\")\n",
    "plt.ylabel(\"# of Groups\")\n",
    "plt.title(\"Groups with Fake News\")\n",
    "plt.savefig('images/ch-misinformation/hist_fakenews_group_frequency.png', bbox_inches = 'tight', pad_inches = 0.05)\n",
    "plt.close()"
   ]
  },
  {
   "cell_type": "markdown",
   "metadata": {},
   "source": [
    "### Correlates"
   ]
  },
  {
   "cell_type": "code",
   "execution_count": 58,
   "metadata": {},
   "outputs": [],
   "source": [
    "cols = ['Size', 'pVZ', 'pCO',\n",
    "       'pUS', 'pPE', 'pCL', 'pEC', 'p3rdCountry', 'entropy',\n",
    "       'activity', 'degree', 'hhConc',\n",
    "       'gini', 'virality']"
   ]
  },
  {
   "cell_type": "code",
   "execution_count": 59,
   "metadata": {},
   "outputs": [
    {
     "name": "stdout",
     "output_type": "stream",
     "text": [
      "============= Size =============\n",
      "(-0.04992951328889845, 0.5129336071415392)\n",
      "(0.00730552665489265, 0.923780124413848)\n",
      "============= pVZ =============\n",
      "(0.09132253433290873, 0.23074176166532093)\n",
      "(0.20518134425467405, 0.006608027641445932)\n",
      "============= pCO =============\n",
      "(-0.023680592463684938, 0.7564389124887922)\n",
      "(-0.13240184360174437, 0.08158063304611017)\n",
      "============= pUS =============\n",
      "(-0.035606885836921134, 0.6408936792779503)\n",
      "(-0.007655404627076388, 0.9201416146176552)\n",
      "============= pPE =============\n",
      "(0.03472991820590573, 0.6491420725033092)\n",
      "(0.06713697100256533, 0.3787466857674571)\n",
      "============= pCL =============\n",
      "(-0.05371775723547723, 0.4814408216803178)\n",
      "(-0.04321794161231393, 0.5712310248964376)\n",
      "============= pEC =============\n",
      "(0.0061657419926271755, 0.9356437398767903)\n",
      "(0.025244215025865456, 0.7409114209900581)\n",
      "============= p3rdCountry =============\n",
      "(-0.04531863629068106, 0.5526523732828665)\n",
      "(-0.011485733494061592, 0.8804331355393074)\n",
      "============= entropy =============\n",
      "(0.032591424036658594, 0.6694338348870772)\n",
      "(0.08046408571294406, 0.2912166718957516)\n",
      "============= activity =============\n",
      "(-0.0695195294772921, 0.3620218341405534)\n",
      "(-0.027941828234352352, 0.7143703859154057)\n",
      "============= degree =============\n",
      "(-0.08035211203817734, 0.29189079828954334)\n",
      "(-0.021957431761547668, 0.7736640840555922)\n",
      "============= hhConc =============\n",
      "(0.009421793041127634, 0.901799124843371)\n",
      "(-0.08110850618087545, 0.2873571840198865)\n",
      "============= gini =============\n",
      "(-0.04171849924576836, 0.5846698033067014)\n",
      "(0.0895667850222127, 0.2398686696514093)\n",
      "============= virality =============\n",
      "(-0.10462214371915957, 0.16947672056093616)\n",
      "(-0.053739462582040765, 0.4812634351271846)\n"
     ]
    }
   ],
   "source": [
    "for col in cols:\n",
    "    print(\"============= %s =============\" % col)\n",
    "    print(scipy.stats.pearsonr(df_groups[col], df_groups['fakeNews']))\n",
    "    print(scipy.stats.pearsonr(df_groups[col], df_groups['fakeNews_users']))"
   ]
  },
  {
   "cell_type": "code",
   "execution_count": 60,
   "metadata": {},
   "outputs": [
    {
     "name": "stdout",
     "output_type": "stream",
     "text": [
      "                            OLS Regression Results                            \n",
      "==============================================================================\n",
      "Dep. Variable:         fakeNews_users   R-squared:                       0.042\n",
      "Model:                            OLS   Adj. R-squared:                  0.037\n",
      "Method:                 Least Squares   F-statistic:                     7.559\n",
      "Date:                Wed, 15 Apr 2020   Prob (F-statistic):            0.00661\n",
      "Time:                        10:49:58   Log-Likelihood:                 258.48\n",
      "No. Observations:                 174   AIC:                            -513.0\n",
      "Df Residuals:                     172   BIC:                            -506.6\n",
      "Df Model:                           1                                         \n",
      "Covariance Type:            nonrobust                                         \n",
      "==============================================================================\n",
      "                 coef    std err          t      P>|t|      [0.025      0.975]\n",
      "------------------------------------------------------------------------------\n",
      "Intercept      0.0034      0.005      0.657      0.512      -0.007       0.014\n",
      "pVZ            0.0453      0.016      2.749      0.007       0.013       0.078\n",
      "==============================================================================\n",
      "Omnibus:                      323.238   Durbin-Watson:                   2.054\n",
      "Prob(Omnibus):                  0.000   Jarque-Bera (JB):            82655.771\n",
      "Skew:                           9.432   Prob(JB):                         0.00\n",
      "Kurtosis:                     108.095   Cond. No.                         4.09\n",
      "==============================================================================\n",
      "\n",
      "Warnings:\n",
      "[1] Standard Errors assume that the covariance matrix of the errors is correctly specified.\n"
     ]
    }
   ],
   "source": [
    "reg = smf.ols('fakeNews_users ~ pVZ',\n",
    "              data = df_groups).fit()\n",
    "print(reg.summary())"
   ]
  },
  {
   "cell_type": "markdown",
   "metadata": {},
   "source": [
    "#### Of groups that share ANY fake news"
   ]
  },
  {
   "cell_type": "code",
   "execution_count": 61,
   "metadata": {},
   "outputs": [
    {
     "name": "stdout",
     "output_type": "stream",
     "text": [
      "============= Size =============\n",
      "(-0.3486823695031871, 0.005479595370356749)\n",
      "(-0.1933604031931211, 0.13212184920483167)\n",
      "============= pVZ =============\n",
      "(0.010171695939757988, 0.9374589192566938)\n",
      "(0.21340710814446245, 0.09582934059837665)\n",
      "============= pCO =============\n",
      "(0.07599419486539552, 0.5571693146750872)\n",
      "(-0.15175102529251508, 0.23903384082949636)\n",
      "============= pUS =============\n",
      "(-0.04242841287678181, 0.7433424861091564)\n",
      "(0.05621522147897937, 0.6643070266544209)\n",
      "============= pPE =============\n",
      "(-0.003392525944652537, 0.9791223759957611)\n",
      "(0.06588765731456397, 0.6108957321141079)\n",
      "============= pCL =============\n",
      "(-0.10751060459189044, 0.4055636430059557)\n",
      "(-0.08407839611456094, 0.5158777356328844)\n",
      "============= pEC =============\n",
      "(0.0009662557647893838, 0.9940530486123315)\n",
      "(0.053887033067781295, 0.6774287928332988)\n",
      "============= p3rdCountry =============\n",
      "(-0.09826752771259642, 0.4473416672220871)\n",
      "(-0.029759129371364112, 0.8183981655990866)\n",
      "============= entropy =============\n",
      "(-0.07915858403707808, 0.5408213019170923)\n",
      "(0.034948856403175875, 0.7874144526072789)\n",
      "============= activity =============\n",
      "(-0.20766333470041776, 0.10532350745933453)\n",
      "(-0.11140481731666199, 0.3886664553892663)\n",
      "============= degree =============\n",
      "(-0.23205282125998192, 0.06954517161817202)\n",
      "(-0.1226078920713557, 0.34243930470518724)\n",
      "============= hhConc =============\n",
      "(0.4710359852320506, 0.00011158690428809644)\n",
      "(0.08472429118616076, 0.5126467983012765)\n",
      "============= gini =============\n",
      "(-0.6562544490604219, 7.015860801482694e-09)\n",
      "(-0.13354615157145727, 0.30076816452793764)\n",
      "============= virality =============\n",
      "(-0.4852825944205176, 6.397356590634916e-05)\n",
      "(-0.2938100790223726, 0.020460525664369626)\n"
     ]
    }
   ],
   "source": [
    "for col in cols:\n",
    "    print(\"============= %s =============\" % col)\n",
    "    print(scipy.stats.pearsonr(df_groups[df_groups['fakeNews'] > 0][col], df_groups[df_groups['fakeNews'] > 0]['fakeNews']))\n",
    "    print(scipy.stats.pearsonr(df_groups[df_groups['fakeNews'] > 0][col], df_groups[df_groups['fakeNews'] > 0]['fakeNews_users']))\n",
    "    "
   ]
  },
  {
   "cell_type": "code",
   "execution_count": 62,
   "metadata": {},
   "outputs": [
    {
     "name": "stdout",
     "output_type": "stream",
     "text": [
      "                            OLS Regression Results                            \n",
      "==============================================================================\n",
      "Dep. Variable:               fakeNews   R-squared:                       0.506\n",
      "Model:                            OLS   Adj. R-squared:                  0.462\n",
      "Method:                 Least Squares   F-statistic:                     11.49\n",
      "Date:                Wed, 15 Apr 2020   Prob (F-statistic):           1.17e-07\n",
      "Time:                        10:52:29   Log-Likelihood:                 71.141\n",
      "No. Observations:                  62   AIC:                            -130.3\n",
      "Df Residuals:                      56   BIC:                            -117.5\n",
      "Df Model:                           5                                         \n",
      "Covariance Type:            nonrobust                                         \n",
      "==============================================================================\n",
      "                 coef    std err          t      P>|t|      [0.025      0.975]\n",
      "------------------------------------------------------------------------------\n",
      "Intercept      0.2825      0.051      5.496      0.000       0.180       0.385\n",
      "Size        7.392e-05      0.000      0.509      0.612      -0.000       0.000\n",
      "activity       0.0001      0.000      1.047      0.299   -9.93e-05       0.000\n",
      "hhConc         0.1592      0.070      2.276      0.027       0.019       0.299\n",
      "gini          -0.3662      0.082     -4.451      0.000      -0.531      -0.201\n",
      "virality      -0.0348      0.037     -0.932      0.356      -0.110       0.040\n",
      "==============================================================================\n",
      "Omnibus:                       60.820   Durbin-Watson:                   2.357\n",
      "Prob(Omnibus):                  0.000   Jarque-Bera (JB):              619.809\n",
      "Skew:                           2.457   Prob(JB):                    2.57e-135\n",
      "Kurtosis:                      17.689   Cond. No.                     1.67e+03\n",
      "==============================================================================\n",
      "\n",
      "Warnings:\n",
      "[1] Standard Errors assume that the covariance matrix of the errors is correctly specified.\n",
      "[2] The condition number is large, 1.67e+03. This might indicate that there are\n",
      "strong multicollinearity or other numerical problems.\n"
     ]
    }
   ],
   "source": [
    "reg = smf.ols('fakeNews ~ Size + activity + hhConc + gini + virality',\n",
    "              data = df_groups[df_groups['fakeNews'] > 0]).fit()\n",
    "print(reg.summary())"
   ]
  },
  {
   "cell_type": "code",
   "execution_count": 63,
   "metadata": {},
   "outputs": [
    {
     "name": "stdout",
     "output_type": "stream",
     "text": [
      "                            OLS Regression Results                            \n",
      "==============================================================================\n",
      "Dep. Variable:               fakeNews   R-squared:                       0.337\n",
      "Model:                            OLS   Adj. R-squared:                  0.275\n",
      "Method:                 Least Squares   F-statistic:                     5.487\n",
      "Date:                Wed, 15 Apr 2020   Prob (F-statistic):           0.000373\n",
      "Time:                        10:52:34   Log-Likelihood:                 98.298\n",
      "No. Observations:                  60   AIC:                            -184.6\n",
      "Df Residuals:                      54   BIC:                            -172.0\n",
      "Df Model:                           5                                         \n",
      "Covariance Type:            nonrobust                                         \n",
      "==============================================================================\n",
      "                 coef    std err          t      P>|t|      [0.025      0.975]\n",
      "------------------------------------------------------------------------------\n",
      "Intercept      0.1653      0.034      4.804      0.000       0.096       0.234\n",
      "Size       -1.666e-05   9.67e-05     -0.172      0.864      -0.000       0.000\n",
      "activity    5.005e-06   6.46e-05      0.077      0.939      -0.000       0.000\n",
      "hhConc         0.0932      0.055      1.681      0.098      -0.018       0.204\n",
      "gini          -0.2159      0.061     -3.536      0.001      -0.338      -0.094\n",
      "virality       0.0027      0.024      0.114      0.910      -0.045       0.050\n",
      "==============================================================================\n",
      "Omnibus:                       29.088   Durbin-Watson:                   2.332\n",
      "Prob(Omnibus):                  0.000   Jarque-Bera (JB):               73.485\n",
      "Skew:                           1.415   Prob(JB):                     1.10e-16\n",
      "Kurtosis:                       7.624   Cond. No.                     2.06e+03\n",
      "==============================================================================\n",
      "\n",
      "Warnings:\n",
      "[1] Standard Errors assume that the covariance matrix of the errors is correctly specified.\n",
      "[2] The condition number is large, 2.06e+03. This might indicate that there are\n",
      "strong multicollinearity or other numerical problems.\n"
     ]
    }
   ],
   "source": [
    "reg = smf.ols('fakeNews ~ Size + activity + hhConc + gini + virality',\n",
    "              data = df_groups[(df_groups['fakeNews'] > 0) & (df_groups['fakeNews'] < 0.3)]).fit()\n",
    "print(reg.summary())"
   ]
  },
  {
   "cell_type": "markdown",
   "metadata": {},
   "source": [
    "# Grouping fake news together"
   ]
  },
  {
   "cell_type": "code",
   "execution_count": 64,
   "metadata": {},
   "outputs": [],
   "source": [
    "fake_news_corpus = df_x[df_x['fake_news']]['textlower'].unique()\n",
    "fake_news_tokenize = [tokenize(c) for c in fake_news_corpus]"
   ]
  },
  {
   "cell_type": "code",
   "execution_count": 65,
   "metadata": {},
   "outputs": [
    {
     "name": "stdout",
     "output_type": "stream",
     "text": [
      "214\n"
     ]
    }
   ],
   "source": [
    "print(len(fake_news_corpus))"
   ]
  },
  {
   "cell_type": "code",
   "execution_count": 66,
   "metadata": {},
   "outputs": [],
   "source": [
    "X = vectorizer.fit_transform(fake_news_tokenize)"
   ]
  },
  {
   "cell_type": "code",
   "execution_count": 67,
   "metadata": {},
   "outputs": [],
   "source": [
    "redirect_from_to = {}"
   ]
  },
  {
   "cell_type": "code",
   "execution_count": 68,
   "metadata": {},
   "outputs": [
    {
     "name": "stdout",
     "output_type": "stream",
     "text": [
      "98\n"
     ]
    }
   ],
   "source": [
    "for i, j in zip(np.where(cosine_similarity(X) > 0.8)[0], np.where(cosine_similarity(X) > 0.8)[1]):\n",
    "    if i < j:\n",
    "        if i in redirect_from_to:\n",
    "            redirect_from_to[j] = redirect_from_to[i]\n",
    "        else:\n",
    "            redirect_from_to[j] = i\n",
    "\n",
    "print(len(redirect_from_to))"
   ]
  },
  {
   "cell_type": "code",
   "execution_count": 69,
   "metadata": {},
   "outputs": [
    {
     "name": "stdout",
     "output_type": "stream",
     "text": [
      "{7: 0, 14: 0, 28: 0, 40: 0, 44: 0, 35: 2, 42: 2, 47: 2, 36: 10, 37: 11, 13: 12, 15: 12, 18: 12, 19: 12, 27: 12, 34: 0, 187: 20, 25: 24, 33: 31, 48: 31, 73: 32, 185: 38, 59: 43, 90: 43, 91: 43, 49: 45, 88: 45, 120: 45, 51: 50, 52: 50, 188: 55, 170: 57, 62: 60, 64: 60, 69: 61, 84: 63, 85: 63, 89: 63, 95: 63, 100: 63, 87: 66, 96: 66, 99: 66, 118: 66, 68: 67, 82: 67, 97: 67, 189: 70, 83: 71, 74: 72, 75: 72, 109: 92, 110: 103, 111: 103, 116: 103, 105: 104, 107: 104, 114: 104, 117: 104, 113: 106, 166: 106, 202: 108, 182: 121, 131: 122, 163: 122, 134: 124, 146: 124, 160: 124, 168: 124, 186: 124, 205: 124, 130: 126, 154: 126, 133: 127, 153: 127, 143: 135, 145: 135, 148: 135, 138: 136, 141: 136, 158: 136, 196: 136, 161: 137, 156: 147, 167: 151, 197: 151, 173: 126, 165: 159, 179: 171, 208: 177, 183: 181, 192: 191, 193: 191, 199: 191, 206: 191, 201: 198, 203: 198, 211: 207}\n"
     ]
    }
   ],
   "source": [
    "print(redirect_from_to)"
   ]
  },
  {
   "cell_type": "code",
   "execution_count": 70,
   "metadata": {},
   "outputs": [
    {
     "name": "stdout",
     "output_type": "stream",
     "text": [
      "SeñoreS, les  recuerdo que deben evitar tomar  Ibuprofeno, Motrin, Advil y aspirina para síntomas de fiebre por el Covid - 19 En Italia y Francia han descubierto que personas que han fallecido es porque han tomado ibuprofeno y ocasiona que el virus se potencie 5 o más veces. Favor evitar la automedicacion,   divulgar esto y a cuidarnos. \n",
      "\n",
      "Buenos días familia como amanecieron, les  recuerdo que deben evitar tomar  Ibuprofeno, Motrin, Advil y aspirina para síntomas de fiebre por el Covid - 19 En Italia y Francia han descubierto que personas que han fallecido es porque han tomado ibuprofeno y ocasiona que el virus se potencie 5 o más veces. Favor evitar la automedicacion,   divulgar esto y a cuidarnos. \n"
     ]
    }
   ],
   "source": [
    "print(df_p[df_p['textlower'] == fake_news_corpus[116]]['text'].iloc[0])\n",
    "print()\n",
    "print(df_p[df_p['textlower'] == fake_news_corpus[103]]['text'].iloc[0])"
   ]
  },
  {
   "cell_type": "code",
   "execution_count": 71,
   "metadata": {},
   "outputs": [
    {
     "name": "stdout",
     "output_type": "stream",
     "text": [
      "*Consejo del Dr. Yuri Ortega Sotelo +51987453411\n",
      "El coronavirus es de gran tamaño con un diámetro celular de 400-500 micras, por lo que cualquier máscara impide su entrada, por lo que no es necesario explotar a los farmacéuticos para comerciar con bozales.\n",
      "El virus no se instala en el aire, sino en el suelo, por lo que no se transmite por el aire.\n",
      "El virus, cuando cae sobre una superficie de metal, vivirá durante 12 horas, por lo que lavarse bien las manos con agua y jabón será suficiente.\n",
      "El virus cuando cae sobre las telas permanece durante 9 horas, por lo que lavar la ropa o exponerla al sol durante dos horas es suficiente para matarlo.\n",
      "El virus vive en las manos durante 10 minutos, por lo que llevar un desinfectante con alcohol en el bolsillo y aplicar es suficiente para prevenirlo.\n",
      "Si el virus se expone a una temperatura de 26-27 ° C, se matará, no vive en áreas calientes. También es suficiente beber agua caliente y exponerse al sol. Mantenerse alejado del helado y la comida fría es importante.\n",
      "Hacer gárgaras con agua tibia y sal mata el virus en las amígdalas y evita que se filtren a los pulmones.\n",
      "Cumplir con estas instrucciones es suficiente para prevenir el virus.\n",
      "Dr. Yuri Ortega Sotelo\n",
      "\n",
      "Consejos de la Unicef\n",
      "El coronavirus es de gran tamaño con un diámetro celular de 400-500 micras, por lo que cualquier máscara impide su entrada, por lo que no es necesario explotar a los farmacéuticos para comerciar con bozales.\n",
      "El virus no se instala en el aire, sino en el suelo, por lo que no se transmite por el aire.\n",
      "El virus, cuando cae sobre una superficie de metal, vivirá durante 12 horas, por lo que lavarse bien las manos con agua y jabón será suficiente.\n",
      "El virus cuando cae sobre las telas permanece durante 9 horas, por lo que lavar la ropa o exponerla al sol durante dos horas es suficiente para matarlo.\n",
      "El virus vive en las manos durante 10 minutos, por lo que llevar un desinfectante con alcohol en el bolsillo y aplicar es suficiente para prev…\n"
     ]
    }
   ],
   "source": [
    "print(df_p[df_p['textlower'] == fake_news_corpus[97]]['text'].iloc[0])\n",
    "print()\n",
    "print(df_p[df_p['textlower'] == fake_news_corpus[67]]['text'].iloc[0])\n"
   ]
  },
  {
   "cell_type": "code",
   "execution_count": 72,
   "metadata": {},
   "outputs": [],
   "source": [
    "groups_where_shared = {}\n",
    "users_who_shared = {}"
   ]
  },
  {
   "cell_type": "code",
   "execution_count": 73,
   "metadata": {},
   "outputs": [],
   "source": [
    "for i in range(len(fake_news_corpus)):\n",
    "    groups_where_shared[i] = df_x.loc[df_x['textlower'] == fake_news_corpus[i], 'uid'].tolist()\n",
    "    users_who_shared[i] = df_x.loc[df_x['textlower'] == fake_news_corpus[i], 'tel'].tolist()"
   ]
  },
  {
   "cell_type": "code",
   "execution_count": 74,
   "metadata": {},
   "outputs": [],
   "source": [
    "for from_i in redirect_from_to.keys():\n",
    "    to_i = redirect_from_to[from_i]\n",
    "    groups_where_shared[to_i] = groups_where_shared[to_i] + groups_where_shared[from_i]\n",
    "    users_who_shared[to_i] = users_who_shared[to_i] + users_who_shared[from_i]\n",
    "    \n",
    "    del groups_where_shared[from_i]\n",
    "    del users_who_shared[from_i]"
   ]
  },
  {
   "cell_type": "code",
   "execution_count": 75,
   "metadata": {},
   "outputs": [],
   "source": [
    "list_mergedFakeNews = \\\n",
    "    [[fake_news_corpus[i], groups_where_shared[i], users_who_shared[i]] for i in groups_where_shared.keys()]\n",
    "df_mergedFakeNews = pd.DataFrame(list_mergedFakeNews, columns = ['textlower', 'groups', 'users'])"
   ]
  },
  {
   "cell_type": "code",
   "execution_count": 76,
   "metadata": {},
   "outputs": [],
   "source": [
    "df_mergedFakeNews['n_shares'] = df_mergedFakeNews['groups'].apply(len)\n",
    "df_mergedFakeNews['n_groups'] = df_mergedFakeNews['groups'].apply(lambda x: len(set(x)))\n",
    "df_mergedFakeNews['n_users'] = df_mergedFakeNews['users'].apply(lambda x: len(set(x)))\n",
    "df_mergedFakeNews['shares/groups'] = df_mergedFakeNews['n_shares'] / df_mergedFakeNews['n_groups']\n",
    "df_mergedFakeNews['shares/users'] = df_mergedFakeNews['n_shares'] / df_mergedFakeNews['n_users']"
   ]
  },
  {
   "cell_type": "code",
   "execution_count": 77,
   "metadata": {},
   "outputs": [],
   "source": [
    "df_mergedFakeNews['n_shares'].hist()\n",
    "plt.xlabel(\"Number of Shares\")\n",
    "plt.ylabel(\"# of Fake News\")\n",
    "plt.title(\"Unique Pieces of Fake News\")\n",
    "plt.savefig('images/ch-misinformation/hist_fakenews_unique_frequency.png', bbox_inches = 'tight', pad_inches = 0.05)\n",
    "plt.close()"
   ]
  },
  {
   "cell_type": "code",
   "execution_count": 78,
   "metadata": {},
   "outputs": [],
   "source": [
    "df_mergedFakeNews['n_users'].hist()\n",
    "plt.xlabel(\"# of Unique Users Shared By\")\n",
    "plt.ylabel(\"# of Fake News\")\n",
    "plt.title(\"Unique Pieces of Fake News\")\n",
    "plt.savefig('images/ch-misinformation/hist_fakenews_unique_user.png', bbox_inches = 'tight', pad_inches = 0.05)\n",
    "plt.close()"
   ]
  },
  {
   "cell_type": "code",
   "execution_count": 79,
   "metadata": {},
   "outputs": [],
   "source": [
    "df_mergedFakeNews['n_groups'].hist()\n",
    "plt.xlabel(\"# of Unique Groups Shared In\")\n",
    "plt.ylabel(\"# of Fake News\")\n",
    "plt.title(\"Unique Pieces of Fake News\")\n",
    "plt.savefig('images/ch-misinformation/hist_fakenews_unique_group.png', bbox_inches = 'tight', pad_inches = 0.05)\n",
    "plt.close()"
   ]
  },
  {
   "cell_type": "code",
   "execution_count": 80,
   "metadata": {},
   "outputs": [
    {
     "name": "stdout",
     "output_type": "stream",
     "text": [
      "1.2839610700602078\n",
      "1.063767697819422\n"
     ]
    }
   ],
   "source": [
    "print(np.mean(df_mergedFakeNews['shares/groups']))\n",
    "print(np.mean(df_mergedFakeNews['shares/users']))"
   ]
  },
  {
   "cell_type": "code",
   "execution_count": 81,
   "metadata": {},
   "outputs": [
    {
     "data": {
      "text/plain": [
       "Counter({0: 6,\n",
       "         2: 3,\n",
       "         10: 1,\n",
       "         11: 1,\n",
       "         12: 5,\n",
       "         20: 1,\n",
       "         24: 1,\n",
       "         31: 2,\n",
       "         32: 1,\n",
       "         38: 1,\n",
       "         43: 3,\n",
       "         45: 3,\n",
       "         50: 2,\n",
       "         55: 1,\n",
       "         57: 1,\n",
       "         60: 2,\n",
       "         61: 1,\n",
       "         63: 5,\n",
       "         66: 4,\n",
       "         67: 3,\n",
       "         70: 1,\n",
       "         71: 1,\n",
       "         72: 2,\n",
       "         92: 1,\n",
       "         103: 3,\n",
       "         104: 4,\n",
       "         106: 2,\n",
       "         108: 1,\n",
       "         121: 1,\n",
       "         122: 2,\n",
       "         124: 6,\n",
       "         126: 3,\n",
       "         127: 2,\n",
       "         135: 3,\n",
       "         136: 4,\n",
       "         137: 1,\n",
       "         147: 1,\n",
       "         151: 2,\n",
       "         159: 1,\n",
       "         171: 1,\n",
       "         177: 1,\n",
       "         181: 1,\n",
       "         191: 4,\n",
       "         198: 2,\n",
       "         207: 1})"
      ]
     },
     "execution_count": 81,
     "metadata": {},
     "output_type": "execute_result"
    }
   ],
   "source": [
    "Counter(redirect_from_to.values())"
   ]
  },
  {
   "cell_type": "code",
   "execution_count": 82,
   "metadata": {},
   "outputs": [
    {
     "name": "stdout",
     "output_type": "stream",
     "text": [
      "hablando con una otorrinolaringóloga y comentando del coronavirus,ella dijo que definitivamente el virus va a llegar a todo el mundo y que viene lo peor a nivel mundial debido a que no hay vacuna y el virus resiste a los antivirales actuales. su recomendación es que empecemos niños y adultos a tomar 1 tableta diaria de vitamina c y omega (de gnc) y comer frutas y verduras para fortalecer el sistema inmunológico. la cantidad de casos y muertes que se reportan oficialmente no son las reales. otra recomendación importante es lavarse las manos muy seguido, tomar agua, evitar el saludo de mano o de beso desde ya, incluso no dar la paz con la mano en misa... y conforme  esto avance  \"evitar lugares publicos y cubrirse la boca\" por último, comentó que diariamente están  llegando personas de china a todos los paises y no hay cerco sanitario, esto al menos hasta que ya se declaró como emergencia mundial... esperemos que los gobiernos y sistemas de salud realmente se pongan las pilas por el bien de todos los ciudadanos y roguemos a dios   que los científicos pronto encuentren la cura para esta enfermedad.   no echemos en saco roto estas recomendaciones,y hagamos mucha oración y compartamos esta información con nuestros seres queridos !!\n",
      "\n",
      "los chinos ya conocen el comportaiento del virus gracias a las autopsias realizadas.  el virus se caracteriza por obstruir las vias respiratorias con mucosidad vizcosa que se solidifica rapido tapando asi dichas vias y los pulmones, entonces descubrieron que deben aplicar una medicina para abrir y destapar esas vias de manera que el tratamiento que usen pueda surtir efecto, sin embargo, todo tiene un numero de dias, las recomendaciones son, (1) tomar muchos liquidos calientes (cafe, sopas, te hasta agua tibia) tambien se debe tomar un sorbo de agua cada 20min porque eso hace que el virus baje al estomago (si ya se encuentra en la garganta) y los jugos gastricos lo neutralizan antes de llegar a los pulmones, (2) hacer gargaras con antisepticos (vinagre, sal, limon cualquiera con agua tibia) todos los dias si es posible, (3) el virus se pega del cabello y la ropa (cualquier jabon corta el virus pero hay que asearse al llegar de la calle, de no poder lavar la ropa todos los dias sacarla al sol eso lo neutraliza (4) limpiar las superficies metalicas porque el virus vive ahi hasta 9 dias *ojo con esto* manillas de puertas, pasamanos etc. (5) no fumar (6) lavar las manos cada 20 minutos con cualquier jabon que haga espuma (7) comer frutas y verduras (elevar el zinc) no es solo vitamina c (8) los animales no contagian el virus a personas (9) evitar contraer gripes comunes (evitar comer y tomar muchas cosas frias)............ si sientes malestar en la garganta atacalo de una vez, el virus entra por alli, y dura de 3 a 4 dias hasta que pasa a los pulmones!!!! **** evita***** y comparte!!!\n"
     ]
    }
   ],
   "source": [
    "print(fake_news_corpus[0])\n",
    "print()\n",
    "print(fake_news_corpus[124])"
   ]
  }
 ],
 "metadata": {
  "kernelspec": {
   "display_name": "Environment (conda_vzwa)",
   "language": "python",
   "name": "conda_vzwa"
  },
  "language_info": {
   "codemirror_mode": {
    "name": "ipython",
    "version": 3
   },
   "file_extension": ".py",
   "mimetype": "text/x-python",
   "name": "python",
   "nbconvert_exporter": "python",
   "pygments_lexer": "ipython3",
   "version": "3.7.5"
  }
 },
 "nbformat": 4,
 "nbformat_minor": 2
}
