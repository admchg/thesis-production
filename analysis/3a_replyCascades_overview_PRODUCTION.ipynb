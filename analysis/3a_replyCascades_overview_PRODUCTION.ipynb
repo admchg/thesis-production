{
 "cells": [
  {
   "cell_type": "code",
   "execution_count": 1,
   "metadata": {},
   "outputs": [],
   "source": [
    "import numpy as np\n",
    "import pandas as pd\n",
    "from datetime import datetime, timedelta, time"
   ]
  },
  {
   "cell_type": "code",
   "execution_count": 2,
   "metadata": {},
   "outputs": [],
   "source": [
    "import ast # string rep. of list to list"
   ]
  },
  {
   "cell_type": "code",
   "execution_count": 3,
   "metadata": {},
   "outputs": [],
   "source": [
    "import statsmodels.formula.api as smf\n",
    "import scipy.stats\n",
    "from scipy.stats import ttest_ind"
   ]
  },
  {
   "cell_type": "code",
   "execution_count": 4,
   "metadata": {},
   "outputs": [],
   "source": [
    "import matplotlib.pyplot as plt\n",
    "import matplotlib.dates as mdates\n",
    "SMALL_SIZE = 8\n",
    "MEDIUM_SIZE = 10\n",
    "BIGGER_SIZE = 20\n",
    "\n",
    "plt.rc('font', size=BIGGER_SIZE)          # controls default text sizes\n",
    "plt.rc('axes', titlesize=BIGGER_SIZE)     # fontsize of the axes title\n",
    "plt.rc('axes', labelsize=BIGGER_SIZE)    # fontsize of the x and y labels\n",
    "plt.rc('xtick', labelsize=BIGGER_SIZE)    # fontsize of the tick labels\n",
    "plt.rc('ytick', labelsize=BIGGER_SIZE)    # fontsize of the tick labels\n",
    "plt.rc('legend', fontsize=BIGGER_SIZE)    # legend fontsize\n",
    "plt.rc('figure', titlesize=BIGGER_SIZE)  # fontsize of the figure title"
   ]
  },
  {
   "cell_type": "code",
   "execution_count": 9,
   "metadata": {},
   "outputs": [
    {
     "name": "stdout",
     "output_type": "stream",
     "text": [
      "(171634, 30)\n"
     ]
    }
   ],
   "source": [
    "df_x = pd.read_csv('Data/df_x_nb3-reply.csv', index_col=0)\n",
    "print(df_x.shape)"
   ]
  },
  {
   "cell_type": "code",
   "execution_count": 10,
   "metadata": {},
   "outputs": [],
   "source": [
    "df_x['reply_link'] = df_x['reply_link'].astype(pd.Int32Dtype())\n",
    "df_x['reply_list'] = df_x['reply_list'].apply(lambda x: ast.literal_eval(x))"
   ]
  },
  {
   "cell_type": "code",
   "execution_count": 11,
   "metadata": {},
   "outputs": [],
   "source": [
    "df_x['message_dt'] = pd.to_datetime(df_x[\"message_dt\"], format='%Y-%m-%d %H:%M:00')\n",
    "df_x['message_date'] = pd.to_datetime(df_x[\"message_date\"], format='%Y-%m-%d')"
   ]
  },
  {
   "cell_type": "markdown",
   "metadata": {},
   "source": [
    "# General statistics"
   ]
  },
  {
   "cell_type": "code",
   "execution_count": 12,
   "metadata": {},
   "outputs": [
    {
     "data": {
      "text/plain": [
       "171634"
      ]
     },
     "execution_count": 12,
     "metadata": {},
     "output_type": "execute_result"
    }
   ],
   "source": [
    "df_x.shape[0]"
   ]
  },
  {
   "cell_type": "code",
   "execution_count": 13,
   "metadata": {},
   "outputs": [
    {
     "name": "stdout",
     "output_type": "stream",
     "text": [
      "43913\n",
      "49212\n",
      "0.8923230106478095\n"
     ]
    }
   ],
   "source": [
    "# Traced replies\n",
    "trace = df_x[df_x['reply_link'] > 0].shape[0]\n",
    "actual = df_x[df_x['reply_to'].notnull()].shape[0]\n",
    "print(trace)\n",
    "print(actual)\n",
    "print(trace/actual)"
   ]
  },
  {
   "cell_type": "markdown",
   "metadata": {},
   "source": [
    "## Messages that were replied to"
   ]
  },
  {
   "cell_type": "code",
   "execution_count": 14,
   "metadata": {},
   "outputs": [
    {
     "data": {
      "text/plain": [
       "34444"
      ]
     },
     "execution_count": 14,
     "metadata": {},
     "output_type": "execute_result"
    }
   ],
   "source": [
    "# Replied to\n",
    "df_x[df_x['replies_n'] > 0].shape[0]"
   ]
  },
  {
   "cell_type": "code",
   "execution_count": 15,
   "metadata": {},
   "outputs": [],
   "source": [
    "df_x[df_x['replies_n'] > 0]['replies_n'].hist(range = (1, 10), bins = 10)\n",
    "plt.xlabel(\"Number of Replies Received\")\n",
    "plt.ylabel(\"# of Messages\")\n",
    "plt.savefig('images/ch-replycascades/hist_replies_n.png', bbox_inches = 'tight', pad_inches = 0.05)\n",
    "plt.close()"
   ]
  },
  {
   "cell_type": "code",
   "execution_count": 16,
   "metadata": {},
   "outputs": [
    {
     "data": {
      "text/plain": [
       "16959"
      ]
     },
     "execution_count": 16,
     "metadata": {},
     "output_type": "execute_result"
    }
   ],
   "source": [
    "df_x[df_x['replies_n'] == 1].shape[0]"
   ]
  },
  {
   "cell_type": "code",
   "execution_count": 17,
   "metadata": {},
   "outputs": [
    {
     "data": {
      "text/plain": [
       "6944"
      ]
     },
     "execution_count": 17,
     "metadata": {},
     "output_type": "execute_result"
    }
   ],
   "source": [
    "df_x[df_x['replies_n'] == 2].shape[0]"
   ]
  },
  {
   "cell_type": "code",
   "execution_count": 18,
   "metadata": {},
   "outputs": [
    {
     "data": {
      "text/plain": [
       "29478"
      ]
     },
     "execution_count": 18,
     "metadata": {},
     "output_type": "execute_result"
    }
   ],
   "source": [
    "df_x[(df_x['replies_n'] > 0) & (df_x['replies_n'] < 5)].shape[0]"
   ]
  },
  {
   "cell_type": "markdown",
   "metadata": {},
   "source": [
    "### Content type"
   ]
  },
  {
   "cell_type": "code",
   "execution_count": 19,
   "metadata": {},
   "outputs": [
    {
     "name": "stdout",
     "output_type": "stream",
     "text": [
      "25191\n",
      "101414\n",
      "0.24839765712820716\n"
     ]
    }
   ],
   "source": [
    "withrep = df_x[(df_x['replies_n'] > 0) & (df_x['text'].notnull())].shape[0]\n",
    "n = df_x[df_x['text'].notnull()].shape[0]\n",
    "\n",
    "print(withrep)\n",
    "print(n)\n",
    "print(withrep/n)"
   ]
  },
  {
   "cell_type": "code",
   "execution_count": 20,
   "metadata": {},
   "outputs": [
    {
     "name": "stdout",
     "output_type": "stream",
     "text": [
      "6768\n",
      "38455\n",
      "0.17599791964633987\n"
     ]
    }
   ],
   "source": [
    "withrep = df_x[(df_x['replies_n'] > 0) & (df_x['image'].notnull())].shape[0]\n",
    "n = df_x[df_x['image'].notnull()].shape[0]\n",
    "\n",
    "print(withrep)\n",
    "print(n)\n",
    "print(withrep/n)"
   ]
  },
  {
   "cell_type": "code",
   "execution_count": 21,
   "metadata": {},
   "outputs": [
    {
     "name": "stdout",
     "output_type": "stream",
     "text": [
      "1872\n",
      "15596\n",
      "0.12003077712233906\n"
     ]
    }
   ],
   "source": [
    "withrep = df_x[(df_x['replies_n'] > 0) & (df_x['video_length'].notnull())].shape[0]\n",
    "n = df_x[df_x['video_length'].notnull()].shape[0]\n",
    "\n",
    "print(withrep)\n",
    "print(n)\n",
    "print(withrep/n)"
   ]
  },
  {
   "cell_type": "code",
   "execution_count": 22,
   "metadata": {},
   "outputs": [
    {
     "name": "stdout",
     "output_type": "stream",
     "text": [
      "4305\n",
      "28886\n",
      "0.14903413418264905\n"
     ]
    }
   ],
   "source": [
    "withrep = df_x[(df_x['replies_n'] > 0) & (df_x['emojis'].notnull())].shape[0]\n",
    "n = df_x[df_x['emojis'].notnull()].shape[0]\n",
    "\n",
    "print(withrep)\n",
    "print(n)\n",
    "print(withrep/n)"
   ]
  },
  {
   "cell_type": "code",
   "execution_count": 23,
   "metadata": {},
   "outputs": [
    {
     "name": "stdout",
     "output_type": "stream",
     "text": [
      "2053\n",
      "8918\n",
      "0.23020856694326083\n"
     ]
    }
   ],
   "source": [
    "withrep = df_x[(df_x['replies_n'] > 0) & (df_x['audio_length'].notnull())].shape[0]\n",
    "n = df_x[df_x['audio_length'].notnull()].shape[0]\n",
    "\n",
    "print(withrep)\n",
    "print(n)\n",
    "print(withrep/n)"
   ]
  },
  {
   "cell_type": "markdown",
   "metadata": {},
   "source": [
    "### Forwarded content"
   ]
  },
  {
   "cell_type": "code",
   "execution_count": 24,
   "metadata": {},
   "outputs": [
    {
     "name": "stdout",
     "output_type": "stream",
     "text": [
      "1354\n",
      "26168\n",
      "0.05174258636502599\n"
     ]
    }
   ],
   "source": [
    "withrep = df_x[(df_x['replies_n'] > 0) & (df_x['forwarded'] | df_x['forwarded_highly'])].shape[0]\n",
    "n = df_x[(df_x['forwarded'] | df_x['forwarded_highly'])].shape[0]\n",
    "\n",
    "print(withrep)\n",
    "print(n)\n",
    "print(withrep/n)"
   ]
  },
  {
   "cell_type": "code",
   "execution_count": 25,
   "metadata": {},
   "outputs": [
    {
     "name": "stdout",
     "output_type": "stream",
     "text": [
      "6416\n",
      "33415\n",
      "0.19200957653748316\n"
     ]
    }
   ],
   "source": [
    "# not forwarded images\n",
    "# SLIGHTLY HIGHER\n",
    "withrep = df_x[(df_x['replies_n'] > 0) & ~(df_x['forwarded'] | df_x['forwarded_highly']) \\\n",
    "    & (df_x['image'].notnull())].shape[0]\n",
    "n = df_x[~(df_x['forwarded'] | df_x['forwarded_highly']) \\\n",
    "    & (df_x['image'].notnull())].shape[0]\n",
    "\n",
    "print(withrep)\n",
    "print(n)\n",
    "print(withrep/n)"
   ]
  },
  {
   "cell_type": "markdown",
   "metadata": {},
   "source": [
    "## By nationality"
   ]
  },
  {
   "cell_type": "code",
   "execution_count": 26,
   "metadata": {},
   "outputs": [],
   "source": [
    "df_c = df_x[df_x.tel.str.startswith('+57')]"
   ]
  },
  {
   "cell_type": "code",
   "execution_count": 27,
   "metadata": {},
   "outputs": [],
   "source": [
    "df_v = df_x[df_x.tel.str.startswith('+58')]"
   ]
  },
  {
   "cell_type": "code",
   "execution_count": 28,
   "metadata": {},
   "outputs": [
    {
     "name": "stdout",
     "output_type": "stream",
     "text": [
      "image\n",
      "0.20055363877076146\n",
      "0.2420066745613091\n",
      "\n",
      "text\n",
      "0.6256519297119474\n",
      "0.6028636021100227\n",
      "\n",
      "video_length\n",
      "0.08243066142448313\n",
      "0.07270965658305523\n",
      "\n",
      "audio_length\n",
      "0.05255556447083367\n",
      "0.04661427494886425\n",
      "\n"
     ]
    }
   ],
   "source": [
    "for col in ['image', 'text', 'video_length', 'audio_length']:\n",
    "    print(col)\n",
    "    print(df_c[df_c[col].notnull()].shape[0] / df_c.shape[0])\n",
    "    print(df_v[df_v[col].notnull()].shape[0] / df_v.shape[0])\n",
    "    print()"
   ]
  },
  {
   "cell_type": "code",
   "execution_count": 29,
   "metadata": {},
   "outputs": [
    {
     "name": "stdout",
     "output_type": "stream",
     "text": [
      "0.20650458691058868\n",
      "0.17937345247066422\n"
     ]
    }
   ],
   "source": [
    "print((df_c['replies_n'] > 0).mean())\n",
    "print((df_v['replies_n'] > 0).mean())"
   ]
  },
  {
   "cell_type": "code",
   "execution_count": 30,
   "metadata": {},
   "outputs": [
    {
     "name": "stdout",
     "output_type": "stream",
     "text": [
      "Ttest_indResult(statistic=11.572311999436215, pvalue=5.91035158690587e-31)\n",
      "Ttest_indResult(statistic=-17.058287055883227, pvalue=3.6152432544988e-65)\n",
      "Ttest_indResult(statistic=7.936455602334143, pvalue=2.0980350618193418e-15)\n"
     ]
    }
   ],
   "source": [
    "print(ttest_ind(df_c['replies_n'] > 0, df_v['replies_n'] > 0))\n",
    "print(ttest_ind(df_c['image'].notnull(), df_v['image'].notnull()))\n",
    "print(ttest_ind(df_c['text'].notnull(), df_v['text'].notnull()))"
   ]
  },
  {
   "cell_type": "markdown",
   "metadata": {},
   "source": [
    "# By time of day"
   ]
  },
  {
   "cell_type": "code",
   "execution_count": 31,
   "metadata": {},
   "outputs": [],
   "source": [
    "df_x['round_hour'] = df_x['message_dt'].dt.round('30T').apply(lambda x: x.time())"
   ]
  },
  {
   "cell_type": "code",
   "execution_count": 32,
   "metadata": {},
   "outputs": [],
   "source": [
    "x = [(pd.Timestamp(2017, 1, 1, h), pd.Timestamp(2017, 1, 1, h, 30)) for h in range(0, 24)]\n",
    "x = [j for i in x for j in i]\n",
    "y = df_x[['round_hour', 'replies_n']].groupby('round_hour').mean().values\n",
    "y_text = df_x[df_x['text'].notnull()][['round_hour', 'replies_n']].groupby('round_hour').mean().values"
   ]
  },
  {
   "cell_type": "code",
   "execution_count": 33,
   "metadata": {},
   "outputs": [
    {
     "name": "stderr",
     "output_type": "stream",
     "text": [
      "//anaconda3/envs/vzwa/lib/python3.7/site-packages/pandas/plotting/_matplotlib/converter.py:103: FutureWarning: Using an implicitly registered datetime converter for a matplotlib plotting method. The converter was registered by pandas on import. Future versions of pandas will require you to explicitly register matplotlib converters.\n",
      "\n",
      "To register the converters:\n",
      "\t>>> from pandas.plotting import register_matplotlib_converters\n",
      "\t>>> register_matplotlib_converters()\n",
      "  warnings.warn(msg, FutureWarning)\n"
     ]
    }
   ],
   "source": [
    "fig, ax = plt.subplots(figsize = (6, 4))\n",
    "ax.plot(x, y, label = 'All Messages')\n",
    "ax.plot(x, y_text, label = 'Text Messages')\n",
    "\n",
    "ax.xaxis.set_major_locator(mdates.HourLocator(interval = 8))\n",
    "ax.xaxis.set_major_formatter(mdates.DateFormatter('%H:%M:%S'))\n",
    "\n",
    "fig.autofmt_xdate()\n",
    "plt.xticks(ha='center', rotation=0)\n",
    "plt.xlabel(\"Time Message Is Sent\\n(30 Minute Buckets)\")\n",
    "plt.ylabel(\"Avg. # of\\nReplies Received\")\n",
    "plt.legend()\n",
    "plt.savefig('images/ch-replycascades/time_of_day.png', bbox_inches = 'tight', pad_inches = 0.05)\n",
    "plt.close()"
   ]
  },
  {
   "cell_type": "code",
   "execution_count": 34,
   "metadata": {},
   "outputs": [],
   "source": [
    "def replyToNotNull(df):\n",
    "    return df['reply_to'].notnull().mean()"
   ]
  },
  {
   "cell_type": "code",
   "execution_count": 35,
   "metadata": {},
   "outputs": [],
   "source": [
    "y = df_x[['round_hour', 'reply_to']].groupby('round_hour').apply(replyToNotNull).values"
   ]
  },
  {
   "cell_type": "code",
   "execution_count": 36,
   "metadata": {},
   "outputs": [],
   "source": [
    "fig, ax = plt.subplots(figsize = (6, 4))\n",
    "ax.plot(x, y * 100)\n",
    "ax.xaxis.set_major_locator(mdates.HourLocator(interval = 8))\n",
    "ax.xaxis.set_major_formatter(mdates.DateFormatter('%H:%M:%S'))\n",
    "\n",
    "fig.autofmt_xdate()\n",
    "plt.xticks(ha='center', rotation=0)\n",
    "plt.ylabel(\"What % of messages\\nare replies?\")\n",
    "plt.savefig('images/ch-replycascades/time_of_day_areReplies.png', bbox_inches = 'tight', pad_inches = 0.05)\n",
    "plt.close()"
   ]
  },
  {
   "cell_type": "markdown",
   "metadata": {},
   "source": [
    "# Average replies_n within groups"
   ]
  },
  {
   "cell_type": "code",
   "execution_count": 37,
   "metadata": {},
   "outputs": [],
   "source": [
    "df_groups = pd.read_csv('Data/df_groups_nb2b-concentration.csv', index_col = 0)"
   ]
  },
  {
   "cell_type": "code",
   "execution_count": 38,
   "metadata": {},
   "outputs": [],
   "source": [
    "df_groups['replies_n'] = df_x[['uid', 'replies_n']].groupby('uid').mean()"
   ]
  },
  {
   "cell_type": "code",
   "execution_count": 39,
   "metadata": {},
   "outputs": [],
   "source": [
    "df_groups.to_csv('Data/df_groups_nb3a-reply.csv')"
   ]
  },
  {
   "cell_type": "code",
   "execution_count": 40,
   "metadata": {},
   "outputs": [
    {
     "name": "stdout",
     "output_type": "stream",
     "text": [
      "50\n"
     ]
    }
   ],
   "source": [
    "print((df_groups['replies_n'] == 0).sum())"
   ]
  },
  {
   "cell_type": "code",
   "execution_count": 41,
   "metadata": {},
   "outputs": [],
   "source": [
    "df_groups['replies_n'].hist(bins = 20)\n",
    "plt.xlabel(\"Avg. Number of Replies\\n(To All Messages)\")\n",
    "plt.ylabel(\"# of Groups\")\n",
    "plt.savefig('images/ch-replycascades/hist_group_replies_n.png', bbox_inches = 'tight', pad_inches = 0.05)\n",
    "plt.close()"
   ]
  },
  {
   "cell_type": "code",
   "execution_count": 42,
   "metadata": {},
   "outputs": [
    {
     "name": "stdout",
     "output_type": "stream",
     "text": [
      "                            OLS Regression Results                            \n",
      "==============================================================================\n",
      "Dep. Variable:              replies_n   R-squared:                       0.253\n",
      "Model:                            OLS   Adj. R-squared:                  0.240\n",
      "Method:                 Least Squares   F-statistic:                     19.21\n",
      "Date:                Tue, 14 Apr 2020   Prob (F-statistic):           8.90e-11\n",
      "Time:                        22:49:57   Log-Likelihood:                -51.493\n",
      "No. Observations:                 174   AIC:                             111.0\n",
      "Df Residuals:                     170   BIC:                             123.6\n",
      "Df Model:                           3                                         \n",
      "Covariance Type:            nonrobust                                         \n",
      "==============================================================================\n",
      "                 coef    std err          t      P>|t|      [0.025      0.975]\n",
      "------------------------------------------------------------------------------\n",
      "Intercept      0.2548      0.100      2.551      0.012       0.058       0.452\n",
      "entropy        0.1328      0.046      2.876      0.005       0.042       0.224\n",
      "hhConc        -0.3739      0.117     -3.195      0.002      -0.605      -0.143\n",
      "gini           0.0815      0.136      0.601      0.549      -0.186       0.349\n",
      "==============================================================================\n",
      "Omnibus:                       79.445   Durbin-Watson:                   1.617\n",
      "Prob(Omnibus):                  0.000   Jarque-Bera (JB):              267.272\n",
      "Skew:                           1.854   Prob(JB):                     9.17e-59\n",
      "Kurtosis:                       7.808   Cond. No.                         10.8\n",
      "==============================================================================\n",
      "\n",
      "Warnings:\n",
      "[1] Standard Errors assume that the covariance matrix of the errors is correctly specified.\n"
     ]
    }
   ],
   "source": [
    "reg = smf.ols('replies_n ~ entropy + hhConc + gini', data = df_groups).fit()\n",
    "print(reg.summary())\n",
    "# strong in HHCONC"
   ]
  },
  {
   "cell_type": "code",
   "execution_count": 43,
   "metadata": {},
   "outputs": [
    {
     "name": "stdout",
     "output_type": "stream",
     "text": [
      "                            OLS Regression Results                            \n",
      "==============================================================================\n",
      "Dep. Variable:              replies_n   R-squared:                       0.182\n",
      "Model:                            OLS   Adj. R-squared:                  0.162\n",
      "Method:                 Least Squares   F-statistic:                     8.906\n",
      "Date:                Tue, 14 Apr 2020   Prob (F-statistic):           2.25e-05\n",
      "Time:                        22:49:58   Log-Likelihood:                -48.593\n",
      "No. Observations:                 124   AIC:                             105.2\n",
      "Df Residuals:                     120   BIC:                             116.5\n",
      "Df Model:                           3                                         \n",
      "Covariance Type:            nonrobust                                         \n",
      "==============================================================================\n",
      "                 coef    std err          t      P>|t|      [0.025      0.975]\n",
      "------------------------------------------------------------------------------\n",
      "Intercept      0.3855      0.137      2.819      0.006       0.115       0.656\n",
      "entropy        0.1901      0.055      3.452      0.001       0.081       0.299\n",
      "hhConc        -0.7667      0.233     -3.285      0.001      -1.229      -0.305\n",
      "gini          -0.0626      0.196     -0.319      0.751      -0.451       0.326\n",
      "==============================================================================\n",
      "Omnibus:                       40.822   Durbin-Watson:                   1.690\n",
      "Prob(Omnibus):                  0.000   Jarque-Bera (JB):               80.825\n",
      "Skew:                           1.413   Prob(JB):                     2.81e-18\n",
      "Kurtosis:                       5.767   Cond. No.                         12.9\n",
      "==============================================================================\n",
      "\n",
      "Warnings:\n",
      "[1] Standard Errors assume that the covariance matrix of the errors is correctly specified.\n"
     ]
    }
   ],
   "source": [
    "reg = smf.ols('replies_n ~ entropy + hhConc + gini',\n",
    "              data = df_groups[df_groups['replies_n'] > 0]).fit()\n",
    "print(reg.summary())\n",
    "# strong in HHCONC"
   ]
  },
  {
   "cell_type": "code",
   "execution_count": 44,
   "metadata": {},
   "outputs": [],
   "source": [
    "cols = ['hhConc', 'entropy']\n",
    "labs = ['H-H Concentration', 'Entropy']\n",
    "\n",
    "for c, l in zip(cols, labs):\n",
    "    plt.scatter(df_groups[c], df_groups['replies_n'], alpha = 0.3)\n",
    "    plt.xlabel(l)\n",
    "    plt.ylabel(\"Average # of Replies\")\n",
    "    plt.title(\"All Groups\")\n",
    "    m, b = np.polyfit(df_groups[c], df_groups['replies_n'], 1)\n",
    "    plt.plot(df_groups[c], m*df_groups[c] + b, color = 'orange')\n",
    "    plt.savefig('images/ch-replycascades/scatter_%s_replies_n.png' % c, bbox_inches = 'tight', pad_inches = 0.05)\n",
    "    plt.close()"
   ]
  },
  {
   "cell_type": "markdown",
   "metadata": {},
   "source": [
    "## Competing messages"
   ]
  },
  {
   "cell_type": "code",
   "execution_count": null,
   "metadata": {},
   "outputs": [],
   "source": [
    "def n_msg_10msurround(row):\n",
    "    return df_x[(df_x.uid == row.uid) \\\n",
    "     & (df_x.message_dt <= row.message_dt + timedelta(minutes = 5)) \\\n",
    "     & (df_x.message_dt >= row.message_dt - timedelta(minutes = 5))].shape[0] - 1"
   ]
  },
  {
   "cell_type": "code",
   "execution_count": null,
   "metadata": {},
   "outputs": [],
   "source": [
    "df_x.loc[df_x['replies_n'] > 0, 'n_msg_10msurround'] = df_x.apply(n_msg_10msurround, axis = 1)"
   ]
  },
  {
   "cell_type": "code",
   "execution_count": null,
   "metadata": {},
   "outputs": [],
   "source": [
    "df_x.to_csv('Data/intermediate/df_x_nb3a-surround.csv')"
   ]
  },
  {
   "cell_type": "markdown",
   "metadata": {},
   "source": [
    "### Reimport"
   ]
  },
  {
   "cell_type": "code",
   "execution_count": 5,
   "metadata": {},
   "outputs": [],
   "source": [
    "df_x = pd.read_csv('Data/intermediate/df_x_nb3a-surround.csv')"
   ]
  },
  {
   "cell_type": "code",
   "execution_count": 6,
   "metadata": {},
   "outputs": [],
   "source": [
    "df_x['n_msg_10msurround'].hist(bins = 20)\n",
    "\n",
    "plt.title(\"Messages with Replies\")\n",
    "plt.xlabel('Number of \"Competing\" Messages\\nin $[t-5, t+5]$ Window')\n",
    "plt.ylabel('# of Messages')\n",
    "plt.savefig('images/ch-replycascades/competing_msg.png', bbox_inches = 'tight', pad_inches = 0.05)\n",
    "plt.close()"
   ]
  },
  {
   "cell_type": "code",
   "execution_count": 7,
   "metadata": {},
   "outputs": [
    {
     "data": {
      "text/plain": [
       "0.4398153524561607"
      ]
     },
     "execution_count": 7,
     "metadata": {},
     "output_type": "execute_result"
    }
   ],
   "source": [
    "(df_x.loc[df_x['replies_n'] > 0, 'n_msg_10msurround'] < 10).mean()"
   ]
  },
  {
   "cell_type": "code",
   "execution_count": 8,
   "metadata": {},
   "outputs": [
    {
     "data": {
      "text/plain": [
       "0.6489664382766229"
      ]
     },
     "execution_count": 8,
     "metadata": {},
     "output_type": "execute_result"
    }
   ],
   "source": [
    "(df_x.loc[df_x['replies_n'] > 0, 'n_msg_10msurround'] < 20).mean()"
   ]
  }
 ],
 "metadata": {
  "kernelspec": {
   "display_name": "Environment (conda_vzwa)",
   "language": "python",
   "name": "conda_vzwa"
  },
  "language_info": {
   "codemirror_mode": {
    "name": "ipython",
    "version": 3
   },
   "file_extension": ".py",
   "mimetype": "text/x-python",
   "name": "python",
   "nbconvert_exporter": "python",
   "pygments_lexer": "ipython3",
   "version": "3.7.5"
  }
 },
 "nbformat": 4,
 "nbformat_minor": 2
}
