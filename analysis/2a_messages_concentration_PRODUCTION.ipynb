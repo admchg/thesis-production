{
 "cells": [
  {
   "cell_type": "code",
   "execution_count": 1,
   "metadata": {},
   "outputs": [],
   "source": [
    "import numpy as np\n",
    "import pandas as pd\n",
    "from datetime import datetime, timedelta"
   ]
  },
  {
   "cell_type": "code",
   "execution_count": 2,
   "metadata": {},
   "outputs": [],
   "source": [
    "import matplotlib.pyplot as plt\n",
    "SMALL_SIZE = 8\n",
    "MEDIUM_SIZE = 10\n",
    "BIGGER_SIZE = 20\n",
    "\n",
    "plt.rc('font', size=BIGGER_SIZE)          # controls default text sizes\n",
    "plt.rc('axes', titlesize=BIGGER_SIZE)     # fontsize of the axes title\n",
    "plt.rc('axes', labelsize=BIGGER_SIZE)    # fontsize of the x and y labels\n",
    "plt.rc('xtick', labelsize=BIGGER_SIZE)    # fontsize of the tick labels\n",
    "plt.rc('ytick', labelsize=BIGGER_SIZE)    # fontsize of the tick labels\n",
    "plt.rc('legend', fontsize=BIGGER_SIZE)    # legend fontsize\n",
    "plt.rc('figure', titlesize=BIGGER_SIZE)  # fontsize of the figure title"
   ]
  },
  {
   "cell_type": "code",
   "execution_count": 3,
   "metadata": {},
   "outputs": [],
   "source": [
    "import statsmodels.formula.api as smf\n",
    "import scipy.stats"
   ]
  },
  {
   "cell_type": "code",
   "execution_count": 4,
   "metadata": {},
   "outputs": [
    {
     "name": "stdout",
     "output_type": "stream",
     "text": [
      "(171634, 26)\n"
     ]
    }
   ],
   "source": [
    "df_x = pd.read_csv(\"Data/df_x_nb0a-groupMerge.csv\", index_col = 0)\n",
    "print(df_x.shape)"
   ]
  },
  {
   "cell_type": "markdown",
   "metadata": {},
   "source": [
    "# Concentration"
   ]
  },
  {
   "cell_type": "code",
   "execution_count": 5,
   "metadata": {},
   "outputs": [],
   "source": [
    "def hhConc(df):\n",
    "    counts = df['tel'].value_counts()\n",
    "    props = counts / sum(counts)\n",
    "    \n",
    "    return sum(props**2)\n",
    "\n",
    "def top5Conc(df):\n",
    "    counts = df['tel'].value_counts()\n",
    "    props = counts / sum(counts)\n",
    "    \n",
    "    return sum(props[:5])\n",
    "\n",
    "def gini(df):\n",
    "    counts = np.sort(df['tel'].value_counts())\n",
    "    n = len(counts)\n",
    "    index = np.arange(1, n + 1)\n",
    "    \n",
    "    return sum((2 * index - n  - 1) * counts) / (n * sum(counts))"
   ]
  },
  {
   "cell_type": "code",
   "execution_count": 6,
   "metadata": {},
   "outputs": [],
   "source": [
    "df_groups = pd.read_csv('Data/df_groups_nb2-messages.csv', index_col = 0)"
   ]
  },
  {
   "cell_type": "code",
   "execution_count": 7,
   "metadata": {},
   "outputs": [],
   "source": [
    "df_groups['hhConc'] = df_x[['uid', 'tel']].groupby('uid').apply(hhConc)\n",
    "df_groups['gini'] = df_x[['uid', 'tel']].groupby('uid').apply(gini)"
   ]
  },
  {
   "cell_type": "code",
   "execution_count": 8,
   "metadata": {},
   "outputs": [],
   "source": [
    "df_groups = df_groups.drop(['simpson', 'G0_avg_dist', 'clustering', 'n_days'], axis = 1)"
   ]
  },
  {
   "cell_type": "code",
   "execution_count": 9,
   "metadata": {},
   "outputs": [],
   "source": [
    "df_groups.to_csv('Data/df_groups_nb2b-concentration.csv')"
   ]
  },
  {
   "cell_type": "code",
   "execution_count": 10,
   "metadata": {},
   "outputs": [],
   "source": [
    "df_groups['top5Conc'] = df_x[['uid', 'tel']].groupby('uid').apply(top5Conc)"
   ]
  },
  {
   "cell_type": "code",
   "execution_count": 11,
   "metadata": {},
   "outputs": [
    {
     "name": "stdout",
     "output_type": "stream",
     "text": [
      "(0.7307356779240799, 2.51683268140486e-30)\n"
     ]
    }
   ],
   "source": [
    "plt.scatter(df_groups['hhConc'], df_groups['top5Conc'], alpha = 0.3)\n",
    "plt.xlabel(\"H-H Concentration\")\n",
    "plt.ylabel(\"Top 5 Concentration\")\n",
    "plt.title(\"All Groups\")\n",
    "plt.savefig('images/ch-messages/scatter_hh_top5.png', bbox_inches = 'tight', pad_inches = 0.05)\n",
    "plt.close()\n",
    "print(scipy.stats.pearsonr(df_groups['hhConc'], df_groups['top5Conc']))"
   ]
  },
  {
   "cell_type": "code",
   "execution_count": 12,
   "metadata": {},
   "outputs": [
    {
     "name": "stdout",
     "output_type": "stream",
     "text": [
      "(-0.7085117192117811, 7.821940749975295e-28)\n"
     ]
    }
   ],
   "source": [
    "plt.scatter(df_groups['hhConc'], df_groups['gini'], alpha = 0.3)\n",
    "plt.xlabel(\"H-H Concentration\")\n",
    "plt.ylabel(\"Gini Coefficient\")\n",
    "plt.title(\"All Groups\")\n",
    "m, b = np.polyfit(df_groups['hhConc'], df_groups['gini'], 1)\n",
    "plt.plot(df_groups['hhConc'], m*df_groups['hhConc'] + b, color = 'orange')\n",
    "plt.savefig('images/ch-messages/scatter_hh_gini.png', bbox_inches = 'tight', pad_inches = 0.05)\n",
    "plt.close()\n",
    "print(scipy.stats.pearsonr(df_groups['hhConc'], df_groups['gini']))"
   ]
  },
  {
   "cell_type": "code",
   "execution_count": 13,
   "metadata": {},
   "outputs": [
    {
     "name": "stdout",
     "output_type": "stream",
     "text": [
      "(-0.37363115787430357, 2.123858098384153e-06)\n"
     ]
    }
   ],
   "source": [
    "plt.scatter(df_groups[df_groups['Size'] > 1]['hhConc'], df_groups[df_groups['Size'] > 1]['gini'], alpha = 0.3)\n",
    "plt.xlabel(\"H-H Concentration\")\n",
    "plt.ylabel(\"Gini Coefficient\")\n",
    "plt.title(\"Groups With $> 1$ Member\")\n",
    "m, b = np.polyfit(df_groups[df_groups['Size'] > 1]['hhConc'], df_groups[df_groups['Size'] > 1]['gini'], 1)\n",
    "plt.plot(df_groups[df_groups['Size'] > 1]['hhConc'], m*df_groups[df_groups['Size'] > 1]['hhConc'] + b, color = 'orange')\n",
    "plt.savefig('images/ch-messages/scatter_hh_gini_drop.png', bbox_inches = 'tight', pad_inches = 0.05)\n",
    "plt.close()\n",
    "print(scipy.stats.pearsonr(df_groups[df_groups['Size'] > 1]['hhConc'], df_groups[df_groups['Size'] > 1]['gini']))"
   ]
  },
  {
   "cell_type": "code",
   "execution_count": 14,
   "metadata": {},
   "outputs": [
    {
     "name": "stdout",
     "output_type": "stream",
     "text": [
      "22\n"
     ]
    }
   ],
   "source": [
    "print((df_groups['Size'] == 1).sum())"
   ]
  },
  {
   "cell_type": "markdown",
   "metadata": {},
   "source": [
    "## hhConc correlations"
   ]
  },
  {
   "cell_type": "code",
   "execution_count": 15,
   "metadata": {},
   "outputs": [
    {
     "data": {
      "text/plain": [
       "Index(['+52', '+55', '+57', '+58', '+34', '+1', '+263', '+27', '+381', '+505',\n",
       "       '+506', '+51', '+54', '+591', '+593', '+595', '+91', '+92', '+98',\n",
       "       '+56', '+39', '+53', '+229', '+502', '+592', '+599', '+504', '+32',\n",
       "       '+33', '+44', '+351', '+49', '+20', '+212', '+213', '+241', '+966',\n",
       "       '+967', '+971', '+503', '+40', '+297', '+41', '+507', '+597', '+598',\n",
       "       '+46', '+254', '+258', '+240', '+244', 'Size', 'pVZ', 'pCO', 'pUS',\n",
       "       'pPE', 'pCL', 'pEC', 'p3rdCountry', 'entropy', 'degree', 'activity',\n",
       "       'hhConc', 'gini', 'top5Conc'],\n",
       "      dtype='object')"
      ]
     },
     "execution_count": 15,
     "metadata": {},
     "output_type": "execute_result"
    }
   ],
   "source": [
    "df_groups.columns"
   ]
  },
  {
   "cell_type": "code",
   "execution_count": 16,
   "metadata": {},
   "outputs": [
    {
     "name": "stdout",
     "output_type": "stream",
     "text": [
      "============= Size =============\n",
      "(-0.5075681355609349, 8.804748052670846e-13)\n",
      "============= pVZ =============\n",
      "(-0.05753039269311824, 0.4508294138931243)\n",
      "============= pCO =============\n",
      "(0.08844087309651463, 0.2458525826168)\n",
      "============= pUS =============\n",
      "(-0.015706936515108044, 0.8370189745557833)\n",
      "============= pPE =============\n",
      "(-8.261152904454061e-05, 0.9991367956444462)\n",
      "============= pCL =============\n",
      "(-0.0290912326836545, 0.7031628233942069)\n",
      "============= pEC =============\n",
      "(0.05744906176507564, 0.4514708006448012)\n",
      "============= p3rdCountry =============\n",
      "(-0.055313765310498184, 0.46849199086135934)\n",
      "============= entropy =============\n",
      "(-0.4814544956034361, 1.7536414164221756e-11)\n",
      "============= degree =============\n",
      "(-0.36216841861569893, 9.078047756914363e-07)\n",
      "============= activity =============\n",
      "(-0.2947384307161544, 7.883786879078602e-05)\n"
     ]
    }
   ],
   "source": [
    "for col in ['Size', 'pVZ', 'pCO', 'pUS', 'pPE', \\\n",
    "       'pCL', 'pEC', 'p3rdCountry', 'entropy', 'degree', 'activity']:\n",
    "    \n",
    "    print(\"============= %s =============\" % col)\n",
    "    print(scipy.stats.pearsonr(df_groups[col], df_groups['hhConc']))"
   ]
  },
  {
   "cell_type": "code",
   "execution_count": 17,
   "metadata": {},
   "outputs": [
    {
     "name": "stdout",
     "output_type": "stream",
     "text": [
      "                            OLS Regression Results                            \n",
      "==============================================================================\n",
      "Dep. Variable:                 hhConc   R-squared:                       0.375\n",
      "Model:                            OLS   Adj. R-squared:                  0.361\n",
      "Method:                 Least Squares   F-statistic:                     25.39\n",
      "Date:                Tue, 14 Apr 2020   Prob (F-statistic):           1.76e-16\n",
      "Time:                        20:43:00   Log-Likelihood:                -1.5659\n",
      "No. Observations:                 174   AIC:                             13.13\n",
      "Df Residuals:                     169   BIC:                             28.93\n",
      "Df Model:                           4                                         \n",
      "Covariance Type:            nonrobust                                         \n",
      "==============================================================================\n",
      "                 coef    std err          t      P>|t|      [0.025      0.975]\n",
      "------------------------------------------------------------------------------\n",
      "Intercept      0.5460      0.030     18.028      0.000       0.486       0.606\n",
      "Size          -0.0015      0.000     -5.021      0.000      -0.002      -0.001\n",
      "entropy       -0.1651      0.033     -5.023      0.000      -0.230      -0.100\n",
      "degree        -0.0011      0.001     -1.106      0.270      -0.003       0.001\n",
      "activity    7.165e-06      0.000      0.043      0.966      -0.000       0.000\n",
      "==============================================================================\n",
      "Omnibus:                       14.169   Durbin-Watson:                   1.982\n",
      "Prob(Omnibus):                  0.001   Jarque-Bera (JB):               13.278\n",
      "Skew:                           0.611   Prob(JB):                      0.00131\n",
      "Kurtosis:                       2.418   Cond. No.                         324.\n",
      "==============================================================================\n",
      "\n",
      "Warnings:\n",
      "[1] Standard Errors assume that the covariance matrix of the errors is correctly specified.\n"
     ]
    }
   ],
   "source": [
    "reg = smf.ols('hhConc ~ Size + entropy + degree + activity', data = df_groups).fit()\n",
    "print(reg.summary())"
   ]
  },
  {
   "cell_type": "code",
   "execution_count": 18,
   "metadata": {},
   "outputs": [],
   "source": [
    "plt.scatter(df_groups['Size'], df_groups['hhConc'])\n",
    "plt.xlabel(\"Size\")\n",
    "plt.ylabel(\"H-H Concentration\")\n",
    "m, b = np.polyfit(df_groups['Size'], df_groups['hhConc'], 1)\n",
    "plt.plot(range(0, 200), m*range(0, 200) + b, color = 'orange')\n",
    "plt.savefig(\"images/ch-messages/scatter_size_hh.png\", bbox_inches = 'tight', pad_inches = 0.05)\n",
    "plt.close()"
   ]
  },
  {
   "cell_type": "code",
   "execution_count": 19,
   "metadata": {},
   "outputs": [],
   "source": [
    "plt.scatter(df_groups['entropy'], df_groups['hhConc'])\n",
    "plt.xlabel(\"Entropy\")\n",
    "plt.ylabel(\"H-H Concentration\")\n",
    "m, b = np.polyfit(df_groups['entropy'], df_groups['hhConc'], 1)\n",
    "plt.plot(df_groups['entropy'], m*df_groups['entropy'] + b, color = 'orange')\n",
    "plt.savefig(\"images/ch-messages/scatter_entropy_hh.png\", bbox_inches = 'tight', pad_inches = 0.05)\n",
    "plt.close()"
   ]
  },
  {
   "cell_type": "markdown",
   "metadata": {},
   "source": [
    "## Gini correlations"
   ]
  },
  {
   "cell_type": "code",
   "execution_count": 20,
   "metadata": {},
   "outputs": [
    {
     "name": "stdout",
     "output_type": "stream",
     "text": [
      "============= Size =============\n",
      "(0.5438867640149615, 8.779324318855178e-15)\n",
      "============= pVZ =============\n",
      "(0.13040825109232373, 0.08632025657235302)\n",
      "============= pCO =============\n",
      "(-0.09378610022609103, 0.21835213511357515)\n",
      "============= pUS =============\n",
      "(-0.03028656919773385, 0.6915748606510072)\n",
      "============= pPE =============\n",
      "(-0.0316274881334363, 0.678660381354542)\n",
      "============= pCL =============\n",
      "(-0.013677611357560814, 0.8578371674416525)\n",
      "============= pEC =============\n",
      "(-0.03785997941534598, 0.6199045009697741)\n",
      "============= p3rdCountry =============\n",
      "(0.003689702744077858, 0.9614613114620281)\n",
      "============= entropy =============\n",
      "(0.49980350487117475, 2.2008762306473083e-12)\n",
      "============= activity =============\n",
      "(0.3486409500132344, 2.422864215788752e-06)\n",
      "============= degree =============\n",
      "(0.4335386141525756, 2.2918205263423386e-09)\n"
     ]
    }
   ],
   "source": [
    "for col in ['Size', 'pVZ', 'pCO', 'pUS', 'pPE', \\\n",
    "       'pCL', 'pEC', 'p3rdCountry', 'entropy', 'activity', 'degree']:\n",
    "    \n",
    "    print(\"============= %s =============\" % col)\n",
    "    print(scipy.stats.pearsonr(df_groups[col], df_groups['gini']))"
   ]
  },
  {
   "cell_type": "code",
   "execution_count": 21,
   "metadata": {},
   "outputs": [
    {
     "name": "stdout",
     "output_type": "stream",
     "text": [
      "                            OLS Regression Results                            \n",
      "==============================================================================\n",
      "Dep. Variable:                   gini   R-squared:                       0.431\n",
      "Model:                            OLS   Adj. R-squared:                  0.418\n",
      "Method:                 Least Squares   F-statistic:                     32.03\n",
      "Date:                Tue, 14 Apr 2020   Prob (F-statistic):           7.38e-20\n",
      "Time:                        20:44:53   Log-Likelihood:                 30.061\n",
      "No. Observations:                 174   AIC:                            -50.12\n",
      "Df Residuals:                     169   BIC:                            -34.33\n",
      "Df Model:                           4                                         \n",
      "Covariance Type:            nonrobust                                         \n",
      "==============================================================================\n",
      "                 coef    std err          t      P>|t|      [0.025      0.975]\n",
      "------------------------------------------------------------------------------\n",
      "Intercept      0.2771      0.025     10.972      0.000       0.227       0.327\n",
      "Size           0.0013      0.000      5.250      0.000       0.001       0.002\n",
      "entropy        0.1386      0.027      5.055      0.000       0.084       0.193\n",
      "activity    6.023e-05      0.000      0.429      0.668      -0.000       0.000\n",
      "degree         0.0017      0.001      2.037      0.043    5.26e-05       0.003\n",
      "==============================================================================\n",
      "Omnibus:                       10.929   Durbin-Watson:                   2.092\n",
      "Prob(Omnibus):                  0.004   Jarque-Bera (JB):                4.484\n",
      "Skew:                          -0.021   Prob(JB):                        0.106\n",
      "Kurtosis:                       2.215   Cond. No.                         324.\n",
      "==============================================================================\n",
      "\n",
      "Warnings:\n",
      "[1] Standard Errors assume that the covariance matrix of the errors is correctly specified.\n"
     ]
    }
   ],
   "source": [
    "reg = smf.ols('gini ~ Size + entropy + activity + degree', data = df_groups).fit()\n",
    "print(reg.summary())"
   ]
  },
  {
   "cell_type": "code",
   "execution_count": 22,
   "metadata": {},
   "outputs": [],
   "source": [
    "plt.scatter(df_groups['Size'], df_groups['gini'])\n",
    "plt.xlabel(\"Size\")\n",
    "plt.ylabel(\"Gini\")\n",
    "m, b = np.polyfit(df_groups['Size'], df_groups['gini'], 1)\n",
    "plt.plot(range(0, 300), m*range(0, 300) + b, color = 'orange')\n",
    "plt.savefig(\"images/ch-messages/scatter_size_gini.png\", bbox_inches = 'tight', pad_inches = 0.05)\n",
    "plt.close()"
   ]
  },
  {
   "cell_type": "code",
   "execution_count": 23,
   "metadata": {},
   "outputs": [],
   "source": [
    "plt.scatter(df_groups['entropy'], df_groups['gini'])\n",
    "plt.xlabel(\"Entropy\")\n",
    "plt.ylabel(\"Gini\")\n",
    "m, b = np.polyfit(df_groups['entropy'], df_groups['gini'], 1)\n",
    "plt.plot(df_groups['entropy'], m*df_groups['entropy'] + b, color = 'orange')\n",
    "plt.savefig(\"images/ch-messages/scatter_entropy_gini.png\", bbox_inches = 'tight', pad_inches = 0.05)\n",
    "plt.close()"
   ]
  }
 ],
 "metadata": {
  "kernelspec": {
   "display_name": "Environment (conda_vzwa)",
   "language": "python",
   "name": "conda_vzwa"
  },
  "language_info": {
   "codemirror_mode": {
    "name": "ipython",
    "version": 3
   },
   "file_extension": ".py",
   "mimetype": "text/x-python",
   "name": "python",
   "nbconvert_exporter": "python",
   "pygments_lexer": "ipython3",
   "version": "3.7.5"
  }
 },
 "nbformat": 4,
 "nbformat_minor": 2
}
