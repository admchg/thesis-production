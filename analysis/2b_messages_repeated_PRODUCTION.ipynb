{
 "cells": [
  {
   "cell_type": "code",
   "execution_count": 1,
   "metadata": {},
   "outputs": [],
   "source": [
    "import numpy as np\n",
    "import pandas as pd\n",
    "from datetime import datetime, timedelta"
   ]
  },
  {
   "cell_type": "code",
   "execution_count": 2,
   "metadata": {},
   "outputs": [],
   "source": [
    "import matplotlib.pyplot as plt\n",
    "SMALL_SIZE = 8\n",
    "MEDIUM_SIZE = 10\n",
    "BIGGER_SIZE = 20\n",
    "\n",
    "plt.rc('font', size=BIGGER_SIZE)          # controls default text sizes\n",
    "plt.rc('axes', titlesize=BIGGER_SIZE)     # fontsize of the axes title\n",
    "plt.rc('axes', labelsize=BIGGER_SIZE)    # fontsize of the x and y labels\n",
    "plt.rc('xtick', labelsize=BIGGER_SIZE)    # fontsize of the tick labels\n",
    "plt.rc('ytick', labelsize=BIGGER_SIZE)    # fontsize of the tick labels\n",
    "plt.rc('legend', fontsize=BIGGER_SIZE)    # legend fontsize\n",
    "plt.rc('figure', titlesize=BIGGER_SIZE)  # fontsize of the figure title"
   ]
  },
  {
   "cell_type": "code",
   "execution_count": 3,
   "metadata": {},
   "outputs": [],
   "source": [
    "import statsmodels.formula.api as smf\n",
    "from scipy.stats import ttest_ind\n",
    "from collections import Counter"
   ]
  },
  {
   "cell_type": "code",
   "execution_count": 4,
   "metadata": {},
   "outputs": [
    {
     "name": "stdout",
     "output_type": "stream",
     "text": [
      "(171634, 26)\n"
     ]
    }
   ],
   "source": [
    "df_x = pd.read_csv(\"Data/df_x_nb0a-groupMerge.csv\", index_col = 0)\n",
    "print(df_x.shape)"
   ]
  },
  {
   "cell_type": "code",
   "execution_count": 5,
   "metadata": {},
   "outputs": [],
   "source": [
    "df_x['textlower'] = df_x['textlower'].fillna('')\n",
    "df_x['image'] = df_x['image'].fillna('')\n",
    "df_x['video_thumb'] = df_x['video_thumb'].fillna('')\n",
    "df_x['video_length'] = df_x['video_length'].fillna('')\n",
    "df_x['audio_length'] = df_x['audio_length'].fillna('')"
   ]
  },
  {
   "cell_type": "code",
   "execution_count": 6,
   "metadata": {},
   "outputs": [],
   "source": [
    "df_x['message_dt'] = pd.to_datetime(df_x[\"message_dt\"], format='%Y-%m-%d %H:%M:00')"
   ]
  },
  {
   "cell_type": "code",
   "execution_count": 7,
   "metadata": {},
   "outputs": [],
   "source": [
    "df_groups = pd.read_csv('Data/df_groups_nb2b-concentration.csv', index_col = 0)"
   ]
  },
  {
   "cell_type": "markdown",
   "metadata": {},
   "source": [
    "# Repeated images"
   ]
  },
  {
   "cell_type": "code",
   "execution_count": 8,
   "metadata": {},
   "outputs": [],
   "source": [
    "df_x['image_list'] = df_x['image'].apply(lambda x: [i for i in x.split('|') if i != ''])\n",
    "all_images = df_x['image_list'].sum()"
   ]
  },
  {
   "cell_type": "code",
   "execution_count": 9,
   "metadata": {},
   "outputs": [],
   "source": [
    "image_counter = Counter(all_images)"
   ]
  },
  {
   "cell_type": "code",
   "execution_count": 10,
   "metadata": {},
   "outputs": [],
   "source": [
    "image_shares = pd.DataFrame.from_dict(image_counter, orient='index', columns=['n_shares'])"
   ]
  },
  {
   "cell_type": "code",
   "execution_count": 11,
   "metadata": {},
   "outputs": [
    {
     "name": "stdout",
     "output_type": "stream",
     "text": [
      "23131\n"
     ]
    }
   ],
   "source": [
    "print(len(image_shares))"
   ]
  },
  {
   "cell_type": "markdown",
   "metadata": {},
   "source": [
    "### n_shares"
   ]
  },
  {
   "cell_type": "code",
   "execution_count": 12,
   "metadata": {},
   "outputs": [],
   "source": [
    "image_shares[image_shares['n_shares'] >= 2]['n_shares'].hist(bins = 40)\n",
    "plt.xlabel(\"Number of Shares\")\n",
    "plt.ylabel(\"# of Images\")\n",
    "plt.title(\"Images Shared Twice or More\")\n",
    "plt.savefig('images/ch-messages/hist_image_nshare.png', bbox_inches = 'tight', pad_inches = 0.05)\n",
    "plt.close()"
   ]
  },
  {
   "cell_type": "code",
   "execution_count": 13,
   "metadata": {},
   "outputs": [
    {
     "name": "stdout",
     "output_type": "stream",
     "text": [
      "0.7534045220699495\n",
      "17427\n",
      "5704\n",
      "\n",
      "3149\n",
      "0.9632527776576888\n"
     ]
    }
   ],
   "source": [
    "print(np.mean(image_shares['n_shares'] == 1))\n",
    "print(np.sum(image_shares['n_shares'] == 1))\n",
    "print(np.sum(image_shares['n_shares'] > 1))\n",
    "print()\n",
    "print(np.sum(image_shares['n_shares'] == 2))\n",
    "print(np.mean(image_shares['n_shares'] <= 5))"
   ]
  },
  {
   "cell_type": "markdown",
   "metadata": {},
   "source": [
    "### Images shared over 5 times"
   ]
  },
  {
   "cell_type": "code",
   "execution_count": 14,
   "metadata": {},
   "outputs": [],
   "source": [
    "groups_anyshare = set()\n",
    "groups_firstshare = set()\n",
    "\n",
    "for image in image_shares[image_shares['n_shares'] > 5].index:\n",
    "    groups_anyshare.update(df_x[df_x['image'].str.contains(image)]['uid'].unique())\n",
    "    groups_firstshare.add(df_x[df_x['image'].str.contains(image)]['uid'].iloc[0])"
   ]
  },
  {
   "cell_type": "code",
   "execution_count": 15,
   "metadata": {},
   "outputs": [
    {
     "name": "stdout",
     "output_type": "stream",
     "text": [
      "850\n",
      "96\n",
      "66\n",
      "174\n"
     ]
    }
   ],
   "source": [
    "print(image_shares[image_shares['n_shares'] > 5].shape[0])\n",
    "print(len(groups_anyshare))\n",
    "print(len(groups_firstshare))\n",
    "print(df_groups.shape[0])"
   ]
  },
  {
   "cell_type": "code",
   "execution_count": 16,
   "metadata": {},
   "outputs": [
    {
     "data": {
      "text/plain": [
       "Index(['+52', '+55', '+57', '+58', '+34', '+1', '+263', '+27', '+381', '+505',\n",
       "       '+506', '+51', '+54', '+591', '+593', '+595', '+91', '+92', '+98',\n",
       "       '+56', '+39', '+53', '+229', '+502', '+592', '+599', '+504', '+32',\n",
       "       '+33', '+44', '+351', '+49', '+20', '+212', '+213', '+241', '+966',\n",
       "       '+967', '+971', '+503', '+40', '+297', '+41', '+507', '+597', '+598',\n",
       "       '+46', '+254', '+258', '+240', '+244', 'Size', 'pVZ', 'pCO', 'pUS',\n",
       "       'pPE', 'pCL', 'pEC', 'p3rdCountry', 'entropy', 'degree', 'activity',\n",
       "       'hhConc', 'gini'],\n",
       "      dtype='object')"
      ]
     },
     "execution_count": 16,
     "metadata": {},
     "output_type": "execute_result"
    }
   ],
   "source": [
    "df_groups.columns"
   ]
  },
  {
   "cell_type": "code",
   "execution_count": 17,
   "metadata": {},
   "outputs": [],
   "source": [
    "stat_cols = ['Size', 'pVZ', 'pCO', 'pUS', 'pPE',\n",
    "       'pCL', 'pEC', 'p3rdCountry', 'entropy', 'degree', 'activity', 'hhConc', 'gini']"
   ]
  },
  {
   "cell_type": "code",
   "execution_count": 18,
   "metadata": {},
   "outputs": [],
   "source": [
    "df_groups_anyshare = df_groups.loc[df_groups.index.isin(groups_anyshare)][stat_cols]\n",
    "df_groups_firstshare = df_groups.loc[df_groups.index.isin(groups_firstshare)][stat_cols]\n",
    "\n",
    "df_groups_notany = df_groups.loc[~df_groups.index.isin(groups_anyshare)][stat_cols]\n",
    "df_groups_notfirst = df_groups.loc[~df_groups.index.isin(groups_firstshare)][stat_cols]"
   ]
  },
  {
   "cell_type": "code",
   "execution_count": 19,
   "metadata": {
    "scrolled": true
   },
   "outputs": [
    {
     "name": "stdout",
     "output_type": "stream",
     "text": [
      "Size\n",
      "101.31818181818181 15.925925925925926\n",
      "Ttest_indResult(statistic=9.145797204451101, pvalue=1.6584456919364905e-16)\n",
      "\n",
      "pVZ\n",
      "0.21487750230628364 0.1672975121794505\n",
      "Ttest_indResult(statistic=1.1986664989533455, pvalue=0.23230654199320824)\n",
      "\n",
      "pCO\n",
      "0.48509819320461356 0.5371752508768671\n",
      "Ttest_indResult(statistic=-0.9093799711806654, pvalue=0.36442210894987737)\n",
      "\n",
      "pUS\n",
      "0.011506983260118024 0.020107651923990093\n",
      "Ttest_indResult(statistic=-0.8357691291009817, pvalue=0.4044443073444731)\n",
      "\n",
      "pPE\n",
      "0.10871153293093667 0.10849132314832276\n",
      "Ttest_indResult(statistic=0.006815595052237837, pvalue=0.9945698825880428)\n",
      "\n",
      "pCL\n",
      "0.020349459688619766 0.018398305651694997\n",
      "Ttest_indResult(statistic=0.1733456372208999, pvalue=0.8625835854003021)\n",
      "\n",
      "pEC\n",
      "0.033426735079130875 0.046569246545402405\n",
      "Ttest_indResult(statistic=-0.7274685433636063, pvalue=0.46792803751199274)\n",
      "\n",
      "p3rdCountry\n",
      "0.3000243044891029 0.29552723694368244\n",
      "Ttest_indResult(statistic=0.08936052093843692, pvalue=0.9288993651821302)\n",
      "\n",
      "entropy\n",
      "1.04205005447749 0.6097164026355398\n",
      "Ttest_indResult(statistic=4.565215528270384, pvalue=9.469690970194307e-06)\n",
      "\n",
      "degree\n",
      "24.71212121212121 6.064814814814815\n",
      "Ttest_indResult(statistic=5.64656528222551, pvalue=6.644154502690667e-08)\n",
      "\n",
      "activity\n",
      "118.28027936542031 12.228696587810429\n",
      "Ttest_indResult(statistic=5.594037143884918, pvalue=8.589499930280943e-08)\n",
      "\n",
      "hhConc\n",
      "0.1410015667943163 0.4456298682068848\n",
      "Ttest_indResult(statistic=-7.146076567204196, pvalue=2.430874588891796e-11)\n",
      "\n",
      "gini\n",
      "0.6849692161606112 0.34550294698360673\n",
      "Ttest_indResult(statistic=10.101623539767374, pvalue=3.953814121395561e-19)\n",
      "\n"
     ]
    }
   ],
   "source": [
    "for col in stat_cols:\n",
    "    print(col)\n",
    "    print(np.mean(df_groups_firstshare[col]), np.mean(df_groups_notfirst[col]))\n",
    "    print(ttest_ind(df_groups_firstshare[col], df_groups_notfirst[col]))\n",
    "    print()"
   ]
  },
  {
   "cell_type": "code",
   "execution_count": 28,
   "metadata": {},
   "outputs": [
    {
     "name": "stdout",
     "output_type": "stream",
     "text": [
      "Size\n",
      "81.6875 7.243589743589744\n",
      "Ttest_indResult(statistic=7.798695905538668, pvalue=5.754314591774663e-13)\n",
      "\n",
      "pVZ\n",
      "0.20977890594875484 0.15527271149378083\n",
      "Ttest_indResult(statistic=1.409635459144458, pvalue=0.16045292400452468)\n",
      "\n",
      "pCO\n",
      "0.5140096618126656 0.5216215424639775\n",
      "Ttest_indResult(statistic=-0.13591637171199888, pvalue=0.8920463351467443)\n",
      "\n",
      "pUS\n",
      "0.012662706695469724 0.021993172566584958\n",
      "Ttest_indResult(statistic=-0.9297475315308802, pvalue=0.35380484681428337)\n",
      "\n",
      "pPE\n",
      "0.101142532829869 0.11772231951016991\n",
      "Ttest_indResult(statistic=-0.5263742526364362, pvalue=0.5993063012483106)\n",
      "\n",
      "pCL\n",
      "0.01751443600321755 0.021137121711834357\n",
      "Ttest_indResult(statistic=-0.3299518420851185, pvalue=0.7418378599442195)\n",
      "\n",
      "pEC\n",
      "0.035657604477248174 0.048878373234747086\n",
      "Ttest_indResult(statistic=-0.7501252187326267, pvalue=0.45420415397938674)\n",
      "\n",
      "p3rdCountry\n",
      "0.27621143223857964 0.32310574604224157\n",
      "Ttest_indResult(statistic=-0.9575910006556948, pvalue=0.3396130909236412)\n",
      "\n",
      "entropy\n",
      "0.943611929192918 0.5645888445850323\n",
      "Ttest_indResult(statistic=4.055063925654253, pvalue=7.584888520550644e-05)\n",
      "\n",
      "degree\n",
      "21.270833333333332 3.128205128205128\n",
      "Ttest_indResult(statistic=5.62785244289488, pvalue=7.281935699777537e-08)\n",
      "\n",
      "activity\n",
      "91.07164579930974 4.927175293173502\n",
      "Ttest_indResult(statistic=4.5324984810633735, pvalue=1.0878573318454304e-05)\n",
      "\n",
      "hhConc\n",
      "0.17846818676713191 0.5166818364759459\n",
      "Ttest_indResult(statistic=-8.513047965884287, pvalue=8.120475632647454e-15)\n",
      "\n",
      "gini\n",
      "0.6410080770035336 0.26904501472423914\n",
      "Ttest_indResult(statistic=12.341404658107328, pvalue=1.8101381225752953e-25)\n",
      "\n"
     ]
    }
   ],
   "source": [
    "for col in stat_cols:\n",
    "    print(col)\n",
    "    print(np.mean(df_groups_anyshare[col]), np.mean(df_groups_notany[col]))\n",
    "    print(ttest_ind(df_groups_anyshare[col], df_groups_notany[col]))\n",
    "    print()"
   ]
  },
  {
   "cell_type": "markdown",
   "metadata": {},
   "source": [
    "### Regressing number of shares on group characteristics"
   ]
  },
  {
   "cell_type": "code",
   "execution_count": null,
   "metadata": {},
   "outputs": [],
   "source": [
    "def firstGroupAppearImage(image):\n",
    "    return df_x.loc[df_x.image.str.contains(image), 'uid'].iloc[0]"
   ]
  },
  {
   "cell_type": "code",
   "execution_count": null,
   "metadata": {},
   "outputs": [],
   "source": [
    "image_shares['first_group'] = image_shares.index.map(firstGroupAppearImage).values"
   ]
  },
  {
   "cell_type": "code",
   "execution_count": null,
   "metadata": {},
   "outputs": [],
   "source": [
    "df_groups_Size = df_groups['Size'].to_dict()\n",
    "df_groups_entropy = df_groups['entropy'].to_dict()\n",
    "df_groups_activity = df_groups['activity'].to_dict()\n",
    "df_groups_hhConc = df_groups['hhConc'].to_dict()\n",
    "df_groups_gini = df_groups['gini'].to_dict()\n",
    "df_groups_degree = df_groups['degree'].to_dict()"
   ]
  },
  {
   "cell_type": "code",
   "execution_count": null,
   "metadata": {},
   "outputs": [],
   "source": [
    "image_shares['Size'] = image_shares['first_group'].apply(lambda x: df_groups_Size[x])\n",
    "image_shares['entropy'] = image_shares['first_group'].apply(lambda x: df_groups_entropy[x])\n",
    "image_shares['activity'] = image_shares['first_group'].apply(lambda x: df_groups_activity[x])\n",
    "image_shares['hhConc'] = image_shares['first_group'].apply(lambda x: df_groups_hhConc[x])\n",
    "image_shares['gini'] = image_shares['first_group'].apply(lambda x: df_groups_gini[x])\n",
    "image_shares['degree'] = image_shares['first_group'].apply(lambda x: df_groups_degree[x])"
   ]
  },
  {
   "cell_type": "code",
   "execution_count": 24,
   "metadata": {},
   "outputs": [],
   "source": [
    "image_shares.to_csv('Data/intermediate/df_image_shares_nb2a-repeated.csv')"
   ]
  },
  {
   "cell_type": "markdown",
   "metadata": {},
   "source": [
    "#### Re-import data from last run"
   ]
  },
  {
   "cell_type": "code",
   "execution_count": 29,
   "metadata": {},
   "outputs": [],
   "source": [
    "image_shares = pd.read_csv('Data/intermediate/df_image_shares_nb2a-repeated.csv', index_col = 0)"
   ]
  },
  {
   "cell_type": "code",
   "execution_count": 30,
   "metadata": {},
   "outputs": [
    {
     "data": {
      "text/html": [
       "<div>\n",
       "<style scoped>\n",
       "    .dataframe tbody tr th:only-of-type {\n",
       "        vertical-align: middle;\n",
       "    }\n",
       "\n",
       "    .dataframe tbody tr th {\n",
       "        vertical-align: top;\n",
       "    }\n",
       "\n",
       "    .dataframe thead th {\n",
       "        text-align: right;\n",
       "    }\n",
       "</style>\n",
       "<table border=\"1\" class=\"dataframe\">\n",
       "  <thead>\n",
       "    <tr style=\"text-align: right;\">\n",
       "      <th></th>\n",
       "      <th>n_shares</th>\n",
       "      <th>first_group</th>\n",
       "      <th>Size</th>\n",
       "      <th>entropy</th>\n",
       "      <th>activity</th>\n",
       "      <th>hhConc</th>\n",
       "      <th>gini</th>\n",
       "      <th>degree</th>\n",
       "    </tr>\n",
       "  </thead>\n",
       "  <tbody>\n",
       "    <tr>\n",
       "      <th>fbb87cb59de678c12360a168bb8dee34</th>\n",
       "      <td>1</td>\n",
       "      <td>573006401779-1563676942</td>\n",
       "      <td>147.0</td>\n",
       "      <td>0.631187</td>\n",
       "      <td>41.830189</td>\n",
       "      <td>0.053503</td>\n",
       "      <td>0.692626</td>\n",
       "      <td>61.0</td>\n",
       "    </tr>\n",
       "    <tr>\n",
       "      <th>5fd916eaa31e2aed75226758d8a12f24</th>\n",
       "      <td>1</td>\n",
       "      <td>573006401779-1563676942</td>\n",
       "      <td>147.0</td>\n",
       "      <td>0.631187</td>\n",
       "      <td>41.830189</td>\n",
       "      <td>0.053503</td>\n",
       "      <td>0.692626</td>\n",
       "      <td>61.0</td>\n",
       "    </tr>\n",
       "    <tr>\n",
       "      <th>744598bc2086ce9ec0b9571ef7ec0dcd</th>\n",
       "      <td>1</td>\n",
       "      <td>573137678218-1572620120</td>\n",
       "      <td>12.0</td>\n",
       "      <td>1.234268</td>\n",
       "      <td>1.981132</td>\n",
       "      <td>0.206349</td>\n",
       "      <td>0.592857</td>\n",
       "      <td>4.0</td>\n",
       "    </tr>\n",
       "    <tr>\n",
       "      <th>0aacdbf24a5bace94c1d9d54ead90452</th>\n",
       "      <td>2</td>\n",
       "      <td>584247622382-1574092989</td>\n",
       "      <td>1.0</td>\n",
       "      <td>0.000000</td>\n",
       "      <td>1.142857</td>\n",
       "      <td>1.000000</td>\n",
       "      <td>0.000000</td>\n",
       "      <td>3.0</td>\n",
       "    </tr>\n",
       "    <tr>\n",
       "      <th>5342d9cdb8197a3013fa61153591e839</th>\n",
       "      <td>1</td>\n",
       "      <td>584143426635-1560226365</td>\n",
       "      <td>285.0</td>\n",
       "      <td>1.344692</td>\n",
       "      <td>163.339623</td>\n",
       "      <td>0.071055</td>\n",
       "      <td>0.792048</td>\n",
       "      <td>123.0</td>\n",
       "    </tr>\n",
       "    <tr>\n",
       "      <th>...</th>\n",
       "      <td>...</td>\n",
       "      <td>...</td>\n",
       "      <td>...</td>\n",
       "      <td>...</td>\n",
       "      <td>...</td>\n",
       "      <td>...</td>\n",
       "      <td>...</td>\n",
       "      <td>...</td>\n",
       "    </tr>\n",
       "    <tr>\n",
       "      <th>ac6a8726183779f75305d06e4cfab8a2</th>\n",
       "      <td>1</td>\n",
       "      <td>573117575342-1576375028</td>\n",
       "      <td>4.0</td>\n",
       "      <td>1.039721</td>\n",
       "      <td>0.282051</td>\n",
       "      <td>0.388430</td>\n",
       "      <td>0.386364</td>\n",
       "      <td>0.0</td>\n",
       "    </tr>\n",
       "    <tr>\n",
       "      <th>fc52b125e10d95f167afa073c30f11b7</th>\n",
       "      <td>1</td>\n",
       "      <td>573227727724-1572791992</td>\n",
       "      <td>23.0</td>\n",
       "      <td>1.398144</td>\n",
       "      <td>22.981132</td>\n",
       "      <td>0.286956</td>\n",
       "      <td>0.737060</td>\n",
       "      <td>6.0</td>\n",
       "    </tr>\n",
       "    <tr>\n",
       "      <th>ba445a09ac3ed0524e1c3bb388d626c6</th>\n",
       "      <td>1</td>\n",
       "      <td>584143426635-1560226365</td>\n",
       "      <td>285.0</td>\n",
       "      <td>1.344692</td>\n",
       "      <td>163.339623</td>\n",
       "      <td>0.071055</td>\n",
       "      <td>0.792048</td>\n",
       "      <td>123.0</td>\n",
       "    </tr>\n",
       "    <tr>\n",
       "      <th>f1e1cd651c9e39ad073d0ca7994a79f1</th>\n",
       "      <td>2</td>\n",
       "      <td>51955257649-1554235320</td>\n",
       "      <td>73.0</td>\n",
       "      <td>0.980372</td>\n",
       "      <td>129.452830</td>\n",
       "      <td>0.424649</td>\n",
       "      <td>0.907560</td>\n",
       "      <td>2.0</td>\n",
       "    </tr>\n",
       "    <tr>\n",
       "      <th>52bf017b51c6d4b9bd6f90b06087ef91</th>\n",
       "      <td>2</td>\n",
       "      <td>51955257649-1554235320</td>\n",
       "      <td>73.0</td>\n",
       "      <td>0.980372</td>\n",
       "      <td>129.452830</td>\n",
       "      <td>0.424649</td>\n",
       "      <td>0.907560</td>\n",
       "      <td>2.0</td>\n",
       "    </tr>\n",
       "  </tbody>\n",
       "</table>\n",
       "<p>23131 rows × 8 columns</p>\n",
       "</div>"
      ],
      "text/plain": [
       "                                  n_shares              first_group   Size  \\\n",
       "fbb87cb59de678c12360a168bb8dee34         1  573006401779-1563676942  147.0   \n",
       "5fd916eaa31e2aed75226758d8a12f24         1  573006401779-1563676942  147.0   \n",
       "744598bc2086ce9ec0b9571ef7ec0dcd         1  573137678218-1572620120   12.0   \n",
       "0aacdbf24a5bace94c1d9d54ead90452         2  584247622382-1574092989    1.0   \n",
       "5342d9cdb8197a3013fa61153591e839         1  584143426635-1560226365  285.0   \n",
       "...                                    ...                      ...    ...   \n",
       "ac6a8726183779f75305d06e4cfab8a2         1  573117575342-1576375028    4.0   \n",
       "fc52b125e10d95f167afa073c30f11b7         1  573227727724-1572791992   23.0   \n",
       "ba445a09ac3ed0524e1c3bb388d626c6         1  584143426635-1560226365  285.0   \n",
       "f1e1cd651c9e39ad073d0ca7994a79f1         2   51955257649-1554235320   73.0   \n",
       "52bf017b51c6d4b9bd6f90b06087ef91         2   51955257649-1554235320   73.0   \n",
       "\n",
       "                                   entropy    activity    hhConc      gini  \\\n",
       "fbb87cb59de678c12360a168bb8dee34  0.631187   41.830189  0.053503  0.692626   \n",
       "5fd916eaa31e2aed75226758d8a12f24  0.631187   41.830189  0.053503  0.692626   \n",
       "744598bc2086ce9ec0b9571ef7ec0dcd  1.234268    1.981132  0.206349  0.592857   \n",
       "0aacdbf24a5bace94c1d9d54ead90452  0.000000    1.142857  1.000000  0.000000   \n",
       "5342d9cdb8197a3013fa61153591e839  1.344692  163.339623  0.071055  0.792048   \n",
       "...                                    ...         ...       ...       ...   \n",
       "ac6a8726183779f75305d06e4cfab8a2  1.039721    0.282051  0.388430  0.386364   \n",
       "fc52b125e10d95f167afa073c30f11b7  1.398144   22.981132  0.286956  0.737060   \n",
       "ba445a09ac3ed0524e1c3bb388d626c6  1.344692  163.339623  0.071055  0.792048   \n",
       "f1e1cd651c9e39ad073d0ca7994a79f1  0.980372  129.452830  0.424649  0.907560   \n",
       "52bf017b51c6d4b9bd6f90b06087ef91  0.980372  129.452830  0.424649  0.907560   \n",
       "\n",
       "                                  degree  \n",
       "fbb87cb59de678c12360a168bb8dee34    61.0  \n",
       "5fd916eaa31e2aed75226758d8a12f24    61.0  \n",
       "744598bc2086ce9ec0b9571ef7ec0dcd     4.0  \n",
       "0aacdbf24a5bace94c1d9d54ead90452     3.0  \n",
       "5342d9cdb8197a3013fa61153591e839   123.0  \n",
       "...                                  ...  \n",
       "ac6a8726183779f75305d06e4cfab8a2     0.0  \n",
       "fc52b125e10d95f167afa073c30f11b7     6.0  \n",
       "ba445a09ac3ed0524e1c3bb388d626c6   123.0  \n",
       "f1e1cd651c9e39ad073d0ca7994a79f1     2.0  \n",
       "52bf017b51c6d4b9bd6f90b06087ef91     2.0  \n",
       "\n",
       "[23131 rows x 8 columns]"
      ]
     },
     "execution_count": 30,
     "metadata": {},
     "output_type": "execute_result"
    }
   ],
   "source": [
    "image_shares"
   ]
  },
  {
   "cell_type": "code",
   "execution_count": 31,
   "metadata": {
    "scrolled": true
   },
   "outputs": [
    {
     "name": "stdout",
     "output_type": "stream",
     "text": [
      "                            OLS Regression Results                            \n",
      "==============================================================================\n",
      "Dep. Variable:               n_shares   R-squared:                       0.021\n",
      "Model:                            OLS   Adj. R-squared:                  0.021\n",
      "Method:                 Least Squares   F-statistic:                     81.95\n",
      "Date:                Tue, 14 Apr 2020   Prob (F-statistic):          6.47e-102\n",
      "Time:                        21:06:19   Log-Likelihood:                -58006.\n",
      "No. Observations:               23131   AIC:                         1.160e+05\n",
      "Df Residuals:                   23124   BIC:                         1.161e+05\n",
      "Df Model:                           6                                         \n",
      "Covariance Type:            nonrobust                                         \n",
      "==============================================================================\n",
      "                 coef    std err          t      P>|t|      [0.025      0.975]\n",
      "------------------------------------------------------------------------------\n",
      "Intercept      1.4880      0.183      8.129      0.000       1.129       1.847\n",
      "Size          -0.0033      0.000    -11.599      0.000      -0.004      -0.003\n",
      "entropy        0.3285      0.036      9.220      0.000       0.259       0.398\n",
      "degree         0.0070      0.001     11.993      0.000       0.006       0.008\n",
      "activity      -0.0002      0.000     -1.449      0.147      -0.000    6.29e-05\n",
      "hhConc        -1.5340      0.215     -7.122      0.000      -1.956      -1.112\n",
      "gini           0.5078      0.295      1.719      0.086      -0.071       1.087\n",
      "==============================================================================\n",
      "Omnibus:                    38548.765   Durbin-Watson:                   1.703\n",
      "Prob(Omnibus):                  0.000   Jarque-Bera (JB):         41351983.372\n",
      "Skew:                          11.231   Prob(JB):                         0.00\n",
      "Kurtosis:                     208.915   Cond. No.                     5.64e+03\n",
      "==============================================================================\n",
      "\n",
      "Warnings:\n",
      "[1] Standard Errors assume that the covariance matrix of the errors is correctly specified.\n",
      "[2] The condition number is large, 5.64e+03. This might indicate that there are\n",
      "strong multicollinearity or other numerical problems.\n"
     ]
    }
   ],
   "source": [
    "reg = smf.ols('n_shares ~ Size + entropy + degree + activity + hhConc + gini',\n",
    "              data = image_shares).fit()\n",
    "print(reg.summary())"
   ]
  },
  {
   "cell_type": "code",
   "execution_count": 33,
   "metadata": {},
   "outputs": [
    {
     "name": "stdout",
     "output_type": "stream",
     "text": [
      "                            OLS Regression Results                            \n",
      "==============================================================================\n",
      "Dep. Variable:               n_shares   R-squared:                       0.032\n",
      "Model:                            OLS   Adj. R-squared:                  0.031\n",
      "Method:                 Least Squares   F-statistic:                     31.73\n",
      "Date:                Tue, 14 Apr 2020   Prob (F-statistic):           9.44e-38\n",
      "Time:                        21:09:31   Log-Likelihood:                -17632.\n",
      "No. Observations:                5704   AIC:                         3.528e+04\n",
      "Df Residuals:                    5697   BIC:                         3.532e+04\n",
      "Df Model:                           6                                         \n",
      "Covariance Type:            nonrobust                                         \n",
      "==============================================================================\n",
      "                 coef    std err          t      P>|t|      [0.025      0.975]\n",
      "------------------------------------------------------------------------------\n",
      "Intercept      3.2665      0.668      4.889      0.000       1.957       4.576\n",
      "Size          -0.0037      0.001     -3.500      0.000      -0.006      -0.002\n",
      "entropy        0.7686      0.130      5.922      0.000       0.514       1.023\n",
      "degree         0.0164      0.002      8.002      0.000       0.012       0.020\n",
      "activity      -0.0011      0.000     -2.844      0.004      -0.002      -0.000\n",
      "hhConc        -2.2192      0.759     -2.926      0.003      -3.706      -0.732\n",
      "gini           0.2912      1.056      0.276      0.783      -1.779       2.361\n",
      "==============================================================================\n",
      "Omnibus:                     6868.681   Durbin-Watson:                   1.627\n",
      "Prob(Omnibus):                  0.000   Jarque-Bera (JB):          1032707.648\n",
      "Skew:                           6.379   Prob(JB):                         0.00\n",
      "Kurtosis:                      67.672   Cond. No.                     5.98e+03\n",
      "==============================================================================\n",
      "\n",
      "Warnings:\n",
      "[1] Standard Errors assume that the covariance matrix of the errors is correctly specified.\n",
      "[2] The condition number is large, 5.98e+03. This might indicate that there are\n",
      "strong multicollinearity or other numerical problems.\n"
     ]
    }
   ],
   "source": [
    "reg = smf.ols('n_shares ~ Size + entropy + degree + activity + hhConc + gini',\n",
    "              data = image_shares[image_shares['n_shares'] > 1]).fit()\n",
    "print(reg.summary())"
   ]
  },
  {
   "cell_type": "markdown",
   "metadata": {},
   "source": [
    "### Image share time"
   ]
  },
  {
   "cell_type": "code",
   "execution_count": 34,
   "metadata": {},
   "outputs": [],
   "source": [
    "def image_shareTimerange(image):\n",
    "    times = df_x[df_x['image'].str.contains(image)]['message_dt']\n",
    "    return (times.iloc[-1] - times.iloc[0]).total_seconds()"
   ]
  },
  {
   "cell_type": "code",
   "execution_count": 35,
   "metadata": {},
   "outputs": [],
   "source": [
    "image_shares.loc[image_shares['n_shares'] > 1, 'timerange'] = image_shares.loc[image_shares['n_shares'] > 1].index.map(image_shareTimerange)\n",
    "image_shares['timerange'] = image_shares['timerange'] / 3600\n",
    "image_shares['timerange'] = image_shares['timerange'].fillna(0)"
   ]
  },
  {
   "cell_type": "code",
   "execution_count": 36,
   "metadata": {},
   "outputs": [],
   "source": [
    "plt.figure()\n",
    "image_shares[image_shares['timerange'] > 0]['timerange'].hist(bins = 50)\n",
    "plt.xlabel(\"Share Time Range (Hours)\")\n",
    "plt.ylabel(\"# of Images\")\n",
    "plt.title(\"Images Shared Twice or More\")\n",
    "plt.savefig('images/ch-messages/hist_image_timerange.png', bbox_inches = 'tight', pad_inches = 0.05)\n",
    "plt.close()"
   ]
  },
  {
   "cell_type": "code",
   "execution_count": 37,
   "metadata": {},
   "outputs": [
    {
     "name": "stdout",
     "output_type": "stream",
     "text": [
      "                            OLS Regression Results                            \n",
      "==============================================================================\n",
      "Dep. Variable:              timerange   R-squared:                       0.036\n",
      "Model:                            OLS   Adj. R-squared:                  0.035\n",
      "Method:                 Least Squares   F-statistic:                     142.9\n",
      "Date:                Tue, 14 Apr 2020   Prob (F-statistic):          1.40e-178\n",
      "Time:                        21:23:02   Log-Likelihood:            -1.5509e+05\n",
      "No. Observations:               23131   AIC:                         3.102e+05\n",
      "Df Residuals:                   23124   BIC:                         3.102e+05\n",
      "Df Model:                           6                                         \n",
      "Covariance Type:            nonrobust                                         \n",
      "==============================================================================\n",
      "                 coef    std err          t      P>|t|      [0.025      0.975]\n",
      "------------------------------------------------------------------------------\n",
      "Intercept     83.3603     12.170      6.850      0.000      59.507     107.213\n",
      "Size          -0.2773      0.019    -14.615      0.000      -0.315      -0.240\n",
      "entropy       37.2854      2.369     15.739      0.000      32.642      41.929\n",
      "degree         0.5465      0.039     14.061      0.000       0.470       0.623\n",
      "activity      -0.1012      0.008    -12.363      0.000      -0.117      -0.085\n",
      "hhConc      -160.1983     14.319    -11.188      0.000    -188.264    -132.133\n",
      "gini         -13.5362     19.644     -0.689      0.491     -52.039      24.967\n",
      "==============================================================================\n",
      "Omnibus:                    19045.355   Durbin-Watson:                   1.602\n",
      "Prob(Omnibus):                  0.000   Jarque-Bera (JB):           346409.186\n",
      "Skew:                           4.090   Prob(JB):                         0.00\n",
      "Kurtosis:                      20.103   Cond. No.                     5.64e+03\n",
      "==============================================================================\n",
      "\n",
      "Warnings:\n",
      "[1] Standard Errors assume that the covariance matrix of the errors is correctly specified.\n",
      "[2] The condition number is large, 5.64e+03. This might indicate that there are\n",
      "strong multicollinearity or other numerical problems.\n"
     ]
    }
   ],
   "source": [
    "reg = smf.ols('timerange ~ Size + entropy + degree + activity + hhConc + gini',\n",
    "              data = image_shares).fit()\n",
    "print(reg.summary())"
   ]
  },
  {
   "cell_type": "code",
   "execution_count": 38,
   "metadata": {},
   "outputs": [
    {
     "name": "stdout",
     "output_type": "stream",
     "text": [
      "                            OLS Regression Results                            \n",
      "==============================================================================\n",
      "Dep. Variable:              timerange   R-squared:                       0.108\n",
      "Model:                            OLS   Adj. R-squared:                  0.107\n",
      "Method:                 Least Squares   F-statistic:                     89.76\n",
      "Date:                Tue, 14 Apr 2020   Prob (F-statistic):          1.14e-106\n",
      "Time:                        21:23:03   Log-Likelihood:                -32580.\n",
      "No. Observations:                4462   AIC:                         6.517e+04\n",
      "Df Residuals:                    4455   BIC:                         6.522e+04\n",
      "Df Model:                           6                                         \n",
      "Covariance Type:            nonrobust                                         \n",
      "==============================================================================\n",
      "                 coef    std err          t      P>|t|      [0.025      0.975]\n",
      "------------------------------------------------------------------------------\n",
      "Intercept    655.5457     54.962     11.927      0.000     547.792     763.299\n",
      "Size          -0.3593      0.082     -4.357      0.000      -0.521      -0.198\n",
      "entropy      120.0194     10.093     11.891      0.000     100.232     139.807\n",
      "degree         1.3974      0.154      9.068      0.000       1.095       1.699\n",
      "activity      -0.4606      0.029    -15.975      0.000      -0.517      -0.404\n",
      "hhConc      -367.1378     69.990     -5.246      0.000    -504.353    -229.922\n",
      "gini        -528.2028     87.003     -6.071      0.000    -698.772    -357.634\n",
      "==============================================================================\n",
      "Omnibus:                      598.988   Durbin-Watson:                   1.299\n",
      "Prob(Omnibus):                  0.000   Jarque-Bera (JB):              873.250\n",
      "Skew:                           1.081   Prob(JB):                    2.38e-190\n",
      "Kurtosis:                       3.154   Cond. No.                     7.03e+03\n",
      "==============================================================================\n",
      "\n",
      "Warnings:\n",
      "[1] Standard Errors assume that the covariance matrix of the errors is correctly specified.\n",
      "[2] The condition number is large, 7.03e+03. This might indicate that there are\n",
      "strong multicollinearity or other numerical problems.\n"
     ]
    }
   ],
   "source": [
    "reg = smf.ols('timerange ~ Size + entropy + degree + activity + hhConc + gini',\n",
    "              data = image_shares[image_shares['timerange'] > 0]).fit()\n",
    "print(reg.summary())"
   ]
  },
  {
   "cell_type": "markdown",
   "metadata": {},
   "source": [
    "# Repeated text"
   ]
  },
  {
   "cell_type": "code",
   "execution_count": 39,
   "metadata": {},
   "outputs": [],
   "source": [
    "text_counter = Counter(df_x['textlower'])\n",
    "text_shares = pd.DataFrame.from_dict(text_counter, orient='index', columns=['n_shares'])\n",
    "text_shares = text_shares.drop('')\n",
    "text_shares = text_shares.iloc[text_shares.index.str.len() >= 20]"
   ]
  },
  {
   "cell_type": "code",
   "execution_count": 40,
   "metadata": {},
   "outputs": [
    {
     "name": "stdout",
     "output_type": "stream",
     "text": [
      "0.9362971925636456\n",
      "0.9819323402933338\n",
      "0.997661832273255\n"
     ]
    }
   ],
   "source": [
    "print(np.mean(text_shares['n_shares'] == 1))\n",
    "print(np.mean(text_shares['n_shares'] <= 2))\n",
    "print(np.mean(text_shares['n_shares'] <= 5))"
   ]
  },
  {
   "cell_type": "markdown",
   "metadata": {},
   "source": [
    "Not interesting!"
   ]
  },
  {
   "cell_type": "markdown",
   "metadata": {},
   "source": [
    "# Video"
   ]
  },
  {
   "cell_type": "code",
   "execution_count": 41,
   "metadata": {},
   "outputs": [],
   "source": [
    "video_counter = Counter(df_x['video_thumb'] + df_x['video_length'])\n",
    "video_shares = pd.DataFrame.from_dict(video_counter, orient='index', columns=['n_shares'])\n",
    "video_shares = video_shares.drop('')"
   ]
  },
  {
   "cell_type": "code",
   "execution_count": 42,
   "metadata": {},
   "outputs": [
    {
     "name": "stdout",
     "output_type": "stream",
     "text": [
      "0.895507172504187\n",
      "0.08439525231194932\n",
      "0.9989077404791379\n"
     ]
    }
   ],
   "source": [
    "print(np.mean(video_shares['n_shares'] == 1))\n",
    "print(np.mean(video_shares['n_shares'] == 2))\n",
    "print(np.mean(video_shares['n_shares'] <= 5))"
   ]
  },
  {
   "cell_type": "code",
   "execution_count": 43,
   "metadata": {},
   "outputs": [
    {
     "name": "stdout",
     "output_type": "stream",
     "text": [
      "13733\n"
     ]
    }
   ],
   "source": [
    "print(len(video_shares))"
   ]
  },
  {
   "cell_type": "markdown",
   "metadata": {},
   "source": [
    "### Identify first group and characteristics"
   ]
  },
  {
   "cell_type": "code",
   "execution_count": null,
   "metadata": {},
   "outputs": [],
   "source": [
    "def firstGroupAppearVideo(videoLength):\n",
    "    return df_x.loc[(df_x['video_thumb'] + df_x['video_length'] == videoLength), 'uid'].iloc[0]"
   ]
  },
  {
   "cell_type": "code",
   "execution_count": null,
   "metadata": {},
   "outputs": [],
   "source": [
    "video_shares['first_group'] = video_shares.index.map(firstGroupAppearVideo).values"
   ]
  },
  {
   "cell_type": "code",
   "execution_count": null,
   "metadata": {},
   "outputs": [],
   "source": [
    "video_shares['Size'] = video_shares['first_group'].apply(lambda x: df_groups_Size[x])\n",
    "video_shares['entropy'] = video_shares['first_group'].apply(lambda x: df_groups_entropy[x])\n",
    "video_shares['activity'] = video_shares['first_group'].apply(lambda x: df_groups_activity[x])\n",
    "video_shares['hhConc'] = video_shares['first_group'].apply(lambda x: df_groups_hhConc[x])\n",
    "video_shares['gini'] = video_shares['first_group'].apply(lambda x: df_groups_gini[x])"
   ]
  },
  {
   "cell_type": "code",
   "execution_count": 63,
   "metadata": {},
   "outputs": [],
   "source": [
    "video_shares.to_csv('Data/intermediate/df_video_shares_nb2a-repeated.csv')"
   ]
  },
  {
   "cell_type": "markdown",
   "metadata": {},
   "source": [
    "#### Import from previous"
   ]
  },
  {
   "cell_type": "code",
   "execution_count": 64,
   "metadata": {},
   "outputs": [],
   "source": [
    "video_shares = pd.read_csv('Data/intermediate/df_video_shares_nb2a-repeated.csv', index_col = 0)"
   ]
  },
  {
   "cell_type": "code",
   "execution_count": 65,
   "metadata": {},
   "outputs": [
    {
     "data": {
      "text/html": [
       "<div>\n",
       "<style scoped>\n",
       "    .dataframe tbody tr th:only-of-type {\n",
       "        vertical-align: middle;\n",
       "    }\n",
       "\n",
       "    .dataframe tbody tr th {\n",
       "        vertical-align: top;\n",
       "    }\n",
       "\n",
       "    .dataframe thead th {\n",
       "        text-align: right;\n",
       "    }\n",
       "</style>\n",
       "<table border=\"1\" class=\"dataframe\">\n",
       "  <thead>\n",
       "    <tr style=\"text-align: right;\">\n",
       "      <th></th>\n",
       "      <th>n_shares</th>\n",
       "      <th>first_group</th>\n",
       "      <th>Size</th>\n",
       "      <th>entropy</th>\n",
       "      <th>activity</th>\n",
       "      <th>hhConc</th>\n",
       "      <th>gini</th>\n",
       "      <th>degree</th>\n",
       "    </tr>\n",
       "  </thead>\n",
       "  <tbody>\n",
       "    <tr>\n",
       "      <th>2cc65b0ac2b7854d4b65b12d16958c7f0:43</th>\n",
       "      <td>4</td>\n",
       "      <td>573106499958-1529031886</td>\n",
       "      <td>26.0</td>\n",
       "      <td>0.935182</td>\n",
       "      <td>3.283019</td>\n",
       "      <td>0.236821</td>\n",
       "      <td>0.683024</td>\n",
       "      <td>19.0</td>\n",
       "    </tr>\n",
       "    <tr>\n",
       "      <th>fe1416b2ef8f01ff6073dca335dc134b0:25</th>\n",
       "      <td>1</td>\n",
       "      <td>584164805353-1497744666</td>\n",
       "      <td>30.0</td>\n",
       "      <td>0.146145</td>\n",
       "      <td>26.471698</td>\n",
       "      <td>0.467487</td>\n",
       "      <td>0.886315</td>\n",
       "      <td>0.0</td>\n",
       "    </tr>\n",
       "    <tr>\n",
       "      <th>e25deed8a674d970b1e51eb79daf695b1:46</th>\n",
       "      <td>1</td>\n",
       "      <td>573145114610-1573649691</td>\n",
       "      <td>262.0</td>\n",
       "      <td>0.871355</td>\n",
       "      <td>97.339623</td>\n",
       "      <td>0.026352</td>\n",
       "      <td>0.736434</td>\n",
       "      <td>4.0</td>\n",
       "    </tr>\n",
       "    <tr>\n",
       "      <th>e178f7dda6796426baf3315427f0a7be0:30</th>\n",
       "      <td>1</td>\n",
       "      <td>e50fd0133fda35e4709d62c81059381e</td>\n",
       "      <td>26.0</td>\n",
       "      <td>1.864746</td>\n",
       "      <td>405.000000</td>\n",
       "      <td>0.101003</td>\n",
       "      <td>0.616619</td>\n",
       "      <td>26.0</td>\n",
       "    </tr>\n",
       "    <tr>\n",
       "      <th>dd874905ce1b61610c0900221e5f578d0:29</th>\n",
       "      <td>1</td>\n",
       "      <td>e50fd0133fda35e4709d62c81059381e</td>\n",
       "      <td>26.0</td>\n",
       "      <td>1.864746</td>\n",
       "      <td>405.000000</td>\n",
       "      <td>0.101003</td>\n",
       "      <td>0.616619</td>\n",
       "      <td>26.0</td>\n",
       "    </tr>\n",
       "    <tr>\n",
       "      <th>...</th>\n",
       "      <td>...</td>\n",
       "      <td>...</td>\n",
       "      <td>...</td>\n",
       "      <td>...</td>\n",
       "      <td>...</td>\n",
       "      <td>...</td>\n",
       "      <td>...</td>\n",
       "      <td>...</td>\n",
       "    </tr>\n",
       "    <tr>\n",
       "      <th>eee59856d15f93091c83400f7a42609e0:30</th>\n",
       "      <td>1</td>\n",
       "      <td>573006632902-1573570307</td>\n",
       "      <td>164.0</td>\n",
       "      <td>0.392869</td>\n",
       "      <td>44.396226</td>\n",
       "      <td>0.030326</td>\n",
       "      <td>0.687900</td>\n",
       "      <td>0.0</td>\n",
       "    </tr>\n",
       "    <tr>\n",
       "      <th>55e298941ab7b28ed5c1e62a790162411:28</th>\n",
       "      <td>1</td>\n",
       "      <td>573006632902-1573570307</td>\n",
       "      <td>164.0</td>\n",
       "      <td>0.392869</td>\n",
       "      <td>44.396226</td>\n",
       "      <td>0.030326</td>\n",
       "      <td>0.687900</td>\n",
       "      <td>0.0</td>\n",
       "    </tr>\n",
       "    <tr>\n",
       "      <th>ca8748ca862d722739c7ff9f648d77d40:28</th>\n",
       "      <td>1</td>\n",
       "      <td>584143426635-1560226365</td>\n",
       "      <td>285.0</td>\n",
       "      <td>1.344692</td>\n",
       "      <td>163.339623</td>\n",
       "      <td>0.071055</td>\n",
       "      <td>0.792048</td>\n",
       "      <td>123.0</td>\n",
       "    </tr>\n",
       "    <tr>\n",
       "      <th>1eb97c98c42cb6b4485ce854f8b913812:20</th>\n",
       "      <td>2</td>\n",
       "      <td>51955257649-1554235320</td>\n",
       "      <td>73.0</td>\n",
       "      <td>0.980372</td>\n",
       "      <td>129.452830</td>\n",
       "      <td>0.424649</td>\n",
       "      <td>0.907560</td>\n",
       "      <td>2.0</td>\n",
       "    </tr>\n",
       "    <tr>\n",
       "      <th>acc2bbc701331f7f38cb8c8f268efd501:00</th>\n",
       "      <td>1</td>\n",
       "      <td>51955257649-1554235320</td>\n",
       "      <td>73.0</td>\n",
       "      <td>0.980372</td>\n",
       "      <td>129.452830</td>\n",
       "      <td>0.424649</td>\n",
       "      <td>0.907560</td>\n",
       "      <td>2.0</td>\n",
       "    </tr>\n",
       "  </tbody>\n",
       "</table>\n",
       "<p>13733 rows × 8 columns</p>\n",
       "</div>"
      ],
      "text/plain": [
       "                                      n_shares  \\\n",
       "2cc65b0ac2b7854d4b65b12d16958c7f0:43         4   \n",
       "fe1416b2ef8f01ff6073dca335dc134b0:25         1   \n",
       "e25deed8a674d970b1e51eb79daf695b1:46         1   \n",
       "e178f7dda6796426baf3315427f0a7be0:30         1   \n",
       "dd874905ce1b61610c0900221e5f578d0:29         1   \n",
       "...                                        ...   \n",
       "eee59856d15f93091c83400f7a42609e0:30         1   \n",
       "55e298941ab7b28ed5c1e62a790162411:28         1   \n",
       "ca8748ca862d722739c7ff9f648d77d40:28         1   \n",
       "1eb97c98c42cb6b4485ce854f8b913812:20         2   \n",
       "acc2bbc701331f7f38cb8c8f268efd501:00         1   \n",
       "\n",
       "                                                           first_group   Size  \\\n",
       "2cc65b0ac2b7854d4b65b12d16958c7f0:43           573106499958-1529031886   26.0   \n",
       "fe1416b2ef8f01ff6073dca335dc134b0:25           584164805353-1497744666   30.0   \n",
       "e25deed8a674d970b1e51eb79daf695b1:46           573145114610-1573649691  262.0   \n",
       "e178f7dda6796426baf3315427f0a7be0:30  e50fd0133fda35e4709d62c81059381e   26.0   \n",
       "dd874905ce1b61610c0900221e5f578d0:29  e50fd0133fda35e4709d62c81059381e   26.0   \n",
       "...                                                                ...    ...   \n",
       "eee59856d15f93091c83400f7a42609e0:30           573006632902-1573570307  164.0   \n",
       "55e298941ab7b28ed5c1e62a790162411:28           573006632902-1573570307  164.0   \n",
       "ca8748ca862d722739c7ff9f648d77d40:28           584143426635-1560226365  285.0   \n",
       "1eb97c98c42cb6b4485ce854f8b913812:20            51955257649-1554235320   73.0   \n",
       "acc2bbc701331f7f38cb8c8f268efd501:00            51955257649-1554235320   73.0   \n",
       "\n",
       "                                       entropy    activity    hhConc  \\\n",
       "2cc65b0ac2b7854d4b65b12d16958c7f0:43  0.935182    3.283019  0.236821   \n",
       "fe1416b2ef8f01ff6073dca335dc134b0:25  0.146145   26.471698  0.467487   \n",
       "e25deed8a674d970b1e51eb79daf695b1:46  0.871355   97.339623  0.026352   \n",
       "e178f7dda6796426baf3315427f0a7be0:30  1.864746  405.000000  0.101003   \n",
       "dd874905ce1b61610c0900221e5f578d0:29  1.864746  405.000000  0.101003   \n",
       "...                                        ...         ...       ...   \n",
       "eee59856d15f93091c83400f7a42609e0:30  0.392869   44.396226  0.030326   \n",
       "55e298941ab7b28ed5c1e62a790162411:28  0.392869   44.396226  0.030326   \n",
       "ca8748ca862d722739c7ff9f648d77d40:28  1.344692  163.339623  0.071055   \n",
       "1eb97c98c42cb6b4485ce854f8b913812:20  0.980372  129.452830  0.424649   \n",
       "acc2bbc701331f7f38cb8c8f268efd501:00  0.980372  129.452830  0.424649   \n",
       "\n",
       "                                          gini  degree  \n",
       "2cc65b0ac2b7854d4b65b12d16958c7f0:43  0.683024    19.0  \n",
       "fe1416b2ef8f01ff6073dca335dc134b0:25  0.886315     0.0  \n",
       "e25deed8a674d970b1e51eb79daf695b1:46  0.736434     4.0  \n",
       "e178f7dda6796426baf3315427f0a7be0:30  0.616619    26.0  \n",
       "dd874905ce1b61610c0900221e5f578d0:29  0.616619    26.0  \n",
       "...                                        ...     ...  \n",
       "eee59856d15f93091c83400f7a42609e0:30  0.687900     0.0  \n",
       "55e298941ab7b28ed5c1e62a790162411:28  0.687900     0.0  \n",
       "ca8748ca862d722739c7ff9f648d77d40:28  0.792048   123.0  \n",
       "1eb97c98c42cb6b4485ce854f8b913812:20  0.907560     2.0  \n",
       "acc2bbc701331f7f38cb8c8f268efd501:00  0.907560     2.0  \n",
       "\n",
       "[13733 rows x 8 columns]"
      ]
     },
     "execution_count": 65,
     "metadata": {},
     "output_type": "execute_result"
    }
   ],
   "source": [
    "video_shares"
   ]
  },
  {
   "cell_type": "markdown",
   "metadata": {},
   "source": [
    "## Regression"
   ]
  },
  {
   "cell_type": "code",
   "execution_count": 66,
   "metadata": {},
   "outputs": [
    {
     "name": "stdout",
     "output_type": "stream",
     "text": [
      "                            OLS Regression Results                            \n",
      "==============================================================================\n",
      "Dep. Variable:               n_shares   R-squared:                       0.016\n",
      "Model:                            OLS   Adj. R-squared:                  0.012\n",
      "Method:                 Least Squares   F-statistic:                     3.962\n",
      "Date:                Tue, 14 Apr 2020   Prob (F-statistic):           0.000617\n",
      "Time:                        21:33:01   Log-Likelihood:                -1653.9\n",
      "No. Observations:                1435   AIC:                             3322.\n",
      "Df Residuals:                    1428   BIC:                             3359.\n",
      "Df Model:                           6                                         \n",
      "Covariance Type:            nonrobust                                         \n",
      "==============================================================================\n",
      "                 coef    std err          t      P>|t|      [0.025      0.975]\n",
      "------------------------------------------------------------------------------\n",
      "Intercept      2.5046      0.216     11.591      0.000       2.081       2.928\n",
      "Size          -0.0003      0.000     -0.802      0.423      -0.001       0.000\n",
      "entropy       -0.1765      0.042     -4.186      0.000      -0.259      -0.094\n",
      "degree         0.0012      0.000      2.379      0.018       0.000       0.002\n",
      "activity   -7.121e-05      0.000     -0.430      0.667      -0.000       0.000\n",
      "hhConc         0.1756      0.257      0.683      0.495      -0.329       0.680\n",
      "gini          -0.0086      0.323     -0.027      0.979      -0.642       0.625\n",
      "==============================================================================\n",
      "Omnibus:                     1201.670   Durbin-Watson:                   1.776\n",
      "Prob(Omnibus):                  0.000   Jarque-Bera (JB):            29184.491\n",
      "Skew:                           3.870   Prob(JB):                         0.00\n",
      "Kurtosis:                      23.693   Cond. No.                     5.69e+03\n",
      "==============================================================================\n",
      "\n",
      "Warnings:\n",
      "[1] Standard Errors assume that the covariance matrix of the errors is correctly specified.\n",
      "[2] The condition number is large, 5.69e+03. This might indicate that there are\n",
      "strong multicollinearity or other numerical problems.\n"
     ]
    }
   ],
   "source": [
    "reg = smf.ols('n_shares ~ Size + entropy + degree + activity + hhConc + gini',\n",
    "              data = video_shares[video_shares['n_shares'] > 1]).fit()\n",
    "print(reg.summary())"
   ]
  },
  {
   "cell_type": "markdown",
   "metadata": {},
   "source": [
    "### Time range"
   ]
  },
  {
   "cell_type": "code",
   "execution_count": 67,
   "metadata": {},
   "outputs": [],
   "source": [
    "def video_shareTimerange(videoLength):\n",
    "    times = df_x.loc[(df_x['video_thumb'] + df_x['video_length'] == videoLength), 'message_dt']\n",
    "    return (times.iloc[-1] - times.iloc[0]).total_seconds()"
   ]
  },
  {
   "cell_type": "code",
   "execution_count": 68,
   "metadata": {},
   "outputs": [],
   "source": [
    "video_shares.loc[video_shares['n_shares'] > 1, 'timerange'] = video_shares.loc[video_shares['n_shares'] > 1].index.map(video_shareTimerange)\n",
    "video_shares['timerange'] = video_shares['timerange'] / 3600\n",
    "video_shares['timerange'] = video_shares['timerange'].fillna(0)"
   ]
  },
  {
   "cell_type": "code",
   "execution_count": 72,
   "metadata": {},
   "outputs": [
    {
     "name": "stdout",
     "output_type": "stream",
     "text": [
      "                            OLS Regression Results                            \n",
      "==============================================================================\n",
      "Dep. Variable:              timerange   R-squared:                       0.045\n",
      "Model:                            OLS   Adj. R-squared:                  0.041\n",
      "Method:                 Least Squares   F-statistic:                     11.27\n",
      "Date:                Tue, 14 Apr 2020   Prob (F-statistic):           2.49e-12\n",
      "Time:                        21:36:57   Log-Likelihood:                -9227.9\n",
      "No. Observations:                1435   AIC:                         1.847e+04\n",
      "Df Residuals:                    1428   BIC:                         1.851e+04\n",
      "Df Model:                           6                                         \n",
      "Covariance Type:            nonrobust                                         \n",
      "==============================================================================\n",
      "                 coef    std err          t      P>|t|      [0.025      0.975]\n",
      "------------------------------------------------------------------------------\n",
      "Intercept     73.5493     42.349      1.737      0.083      -9.523     156.622\n",
      "Size          -0.1421      0.065     -2.190      0.029      -0.269      -0.015\n",
      "entropy       31.4391      8.263      3.805      0.000      15.230      47.648\n",
      "degree         0.4011      0.096      4.189      0.000       0.213       0.589\n",
      "activity      -0.0725      0.032     -2.235      0.026      -0.136      -0.009\n",
      "hhConc      -105.5255     50.429     -2.093      0.037    -204.448      -6.603\n",
      "gini         -35.2518     63.275     -0.557      0.578    -159.373      88.870\n",
      "==============================================================================\n",
      "Omnibus:                     1211.810   Durbin-Watson:                   1.695\n",
      "Prob(Omnibus):                  0.000   Jarque-Bera (JB):            24944.714\n",
      "Skew:                           4.004   Prob(JB):                         0.00\n",
      "Kurtosis:                      21.790   Cond. No.                     5.69e+03\n",
      "==============================================================================\n",
      "\n",
      "Warnings:\n",
      "[1] Standard Errors assume that the covariance matrix of the errors is correctly specified.\n",
      "[2] The condition number is large, 5.69e+03. This might indicate that there are\n",
      "strong multicollinearity or other numerical problems.\n"
     ]
    }
   ],
   "source": [
    "reg = smf.ols('timerange ~ Size + entropy + degree + activity + hhConc + gini',\n",
    "              data = video_shares[video_shares['n_shares'] > 1]).fit()\n",
    "print(reg.summary())"
   ]
  }
 ],
 "metadata": {
  "kernelspec": {
   "display_name": "Environment (conda_vzwa)",
   "language": "python",
   "name": "conda_vzwa"
  },
  "language_info": {
   "codemirror_mode": {
    "name": "ipython",
    "version": 3
   },
   "file_extension": ".py",
   "mimetype": "text/x-python",
   "name": "python",
   "nbconvert_exporter": "python",
   "pygments_lexer": "ipython3",
   "version": "3.7.5"
  }
 },
 "nbformat": 4,
 "nbformat_minor": 2
}
