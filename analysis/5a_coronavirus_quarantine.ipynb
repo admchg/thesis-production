{
 "cells": [
  {
   "cell_type": "code",
   "execution_count": 3,
   "metadata": {},
   "outputs": [],
   "source": [
    "import numpy as np\n",
    "import pandas as pd\n",
    "from datetime import datetime, timedelta, time\n",
    "import os"
   ]
  },
  {
   "cell_type": "code",
   "execution_count": 2,
   "metadata": {},
   "outputs": [],
   "source": [
    "import matplotlib.pyplot as plt\n",
    "import matplotlib.dates as mdates\n",
    "\n",
    "SMALL_SIZE = 8\n",
    "MEDIUM_SIZE = 10\n",
    "BIGGER_SIZE = 20\n",
    "\n",
    "plt.rc('font', size=BIGGER_SIZE)          # controls default text sizes\n",
    "plt.rc('axes', titlesize=BIGGER_SIZE)     # fontsize of the axes title\n",
    "plt.rc('axes', labelsize=BIGGER_SIZE)    # fontsize of the x and y labels\n",
    "plt.rc('xtick', labelsize=BIGGER_SIZE)    # fontsize of the tick labels\n",
    "plt.rc('ytick', labelsize=BIGGER_SIZE)    # fontsize of the tick labels\n",
    "plt.rc('legend', fontsize=BIGGER_SIZE)    # legend fontsize\n",
    "plt.rc('figure', titlesize=BIGGER_SIZE)  # fontsize of the figure title"
   ]
  },
  {
   "cell_type": "code",
   "execution_count": 4,
   "metadata": {},
   "outputs": [],
   "source": [
    "import statsmodels.formula.api as smf\n",
    "import scipy.stats\n",
    "from scipy.stats import ttest_ind\n",
    "from scipy.stats import f_oneway"
   ]
  },
  {
   "cell_type": "code",
   "execution_count": 5,
   "metadata": {},
   "outputs": [
    {
     "name": "stdout",
     "output_type": "stream",
     "text": [
      "(171634, 34)\n"
     ]
    }
   ],
   "source": [
    "df_x = pd.read_csv(\"Data/df_x_nb4a-mis.csv\", index_col = 0)\n",
    "print(df_x.shape)"
   ]
  },
  {
   "cell_type": "code",
   "execution_count": 6,
   "metadata": {},
   "outputs": [],
   "source": [
    "df_x['message_dt'] = pd.to_datetime(df_x[\"message_dt\"], format='%Y-%m-%d %H:%M:00')\n",
    "df_x['message_date'] = pd.to_datetime(df_x[\"message_date\"], format='%Y-%m-%d')"
   ]
  },
  {
   "cell_type": "markdown",
   "metadata": {},
   "source": [
    "# AM Usage pattern"
   ]
  },
  {
   "cell_type": "code",
   "execution_count": 7,
   "metadata": {},
   "outputs": [],
   "source": [
    "df_x['prequar'] = df_x['message_date'] <= pd.Timestamp(2020, 3, 10)\n",
    "df_x['quar'] = df_x['message_date'] >= pd.Timestamp(2020, 3, 24)\n",
    "df_x['message_satsun'] = df_x['message_date'].dt.weekday >= 5"
   ]
  },
  {
   "cell_type": "code",
   "execution_count": 8,
   "metadata": {},
   "outputs": [],
   "source": [
    "df_x['round30m'] = df_x['message_dt'].dt.round('30T').apply(lambda x: x.time())\n",
    "df_x['roundhr'] = df_x['message_dt'].dt.round('H').apply(lambda x: x.time())"
   ]
  },
  {
   "cell_type": "markdown",
   "metadata": {},
   "source": [
    "### Baseline"
   ]
  },
  {
   "cell_type": "markdown",
   "metadata": {},
   "source": [
    "### Graphs"
   ]
  },
  {
   "cell_type": "code",
   "execution_count": 9,
   "metadata": {},
   "outputs": [],
   "source": [
    "x = [(pd.Timestamp(2017, 1, 1, h), pd.Timestamp(2017, 1, 1, h, 30)) for h in range(0, 24)]\n",
    "x = [j for i in x for j in i]\n",
    "\n",
    "y_pre = df_x[df_x['prequar'] & ~df_x['message_satsun'] & \\\n",
    "             (df_x['tel'].str.startswith('+57'))].groupby('round30m').size()\n",
    "y_quar = df_x[df_x['quar'] & ~df_x['message_satsun'] & \\\n",
    "             (df_x['tel'].str.startswith('+57'))].groupby('round30m').size()\n",
    "\n",
    "y_pre = y_pre / y_pre.sum()\n",
    "y_quar = y_quar / y_quar.sum()"
   ]
  },
  {
   "cell_type": "code",
   "execution_count": 10,
   "metadata": {},
   "outputs": [
    {
     "name": "stderr",
     "output_type": "stream",
     "text": [
      "//anaconda3/envs/vzwa/lib/python3.7/site-packages/pandas/plotting/_matplotlib/converter.py:103: FutureWarning: Using an implicitly registered datetime converter for a matplotlib plotting method. The converter was registered by pandas on import. Future versions of pandas will require you to explicitly register matplotlib converters.\n",
      "\n",
      "To register the converters:\n",
      "\t>>> from pandas.plotting import register_matplotlib_converters\n",
      "\t>>> register_matplotlib_converters()\n",
      "  warnings.warn(msg, FutureWarning)\n"
     ]
    }
   ],
   "source": [
    "fig, ax = plt.subplots(figsize = (8, 6))\n",
    "ax.plot(x, y_pre, label = 'Before 3/10')\n",
    "ax.plot(x, y_quar, label = 'After 3/24')\n",
    "\n",
    "ax.xaxis.set_major_locator(mdates.HourLocator(interval = 8))\n",
    "ax.xaxis.set_major_formatter(mdates.DateFormatter('%H:%M:%S'))\n",
    "\n",
    "fig.autofmt_xdate()\n",
    "plt.xticks(ha='center', rotation=0)\n",
    "plt.xlabel(\"UTC-5 / Colombia Time\\n(30 Minute Buckets)\")\n",
    "plt.ylabel(\"Density\")\n",
    "plt.title(\"Weekday Messages (Colombia Users)\")\n",
    "plt.legend()\n",
    "plt.savefig('images/ch-coronavirus/usage_weekday_co.png', bbox_inches = 'tight', pad_inches = 0.05)\n",
    "plt.close()"
   ]
  },
  {
   "cell_type": "code",
   "execution_count": 11,
   "metadata": {},
   "outputs": [],
   "source": [
    "x = [(pd.Timestamp(2017, 1, 1, h), pd.Timestamp(2017, 1, 1, h, 30)) for h in range(0, 24)]\n",
    "x = [j for i in x for j in i]\n",
    "\n",
    "y_pre = df_x[df_x['prequar'] & df_x['message_satsun'] & \\\n",
    "             (df_x['tel'].str.startswith('+57'))].groupby('round30m').size()\n",
    "y_quar = df_x[df_x['quar'] & df_x['message_satsun'] & \\\n",
    "             (df_x['tel'].str.startswith('+57'))].groupby('round30m').size()\n",
    "\n",
    "y_pre = y_pre / y_pre.sum()\n",
    "y_quar = y_quar / y_quar.sum()"
   ]
  },
  {
   "cell_type": "code",
   "execution_count": 12,
   "metadata": {},
   "outputs": [],
   "source": [
    "fig, ax = plt.subplots(figsize = (8, 6))\n",
    "ax.plot(x, y_pre, label = 'Before 3/10')\n",
    "ax.plot(x, y_quar, label = 'After 3/24')\n",
    "\n",
    "ax.xaxis.set_major_locator(mdates.HourLocator(interval = 8))\n",
    "ax.xaxis.set_major_formatter(mdates.DateFormatter('%H:%M:%S'))\n",
    "\n",
    "fig.autofmt_xdate()\n",
    "plt.xticks(ha='center', rotation=0)\n",
    "plt.xlabel(\"UTC-5 / Colombia Time\\n(30 Minute Buckets)\")\n",
    "plt.ylabel(\"Density\")\n",
    "plt.title(\"Weekend Messages (Colombia Users)\")\n",
    "plt.legend()\n",
    "plt.savefig('images/ch-coronavirus/usage_weekend_co.png', bbox_inches = 'tight', pad_inches = 0.05)\n",
    "plt.close()"
   ]
  },
  {
   "cell_type": "code",
   "execution_count": 13,
   "metadata": {},
   "outputs": [],
   "source": [
    "x = [pd.Timestamp(2017, 1, 1, h) for h in range(0, 24)]\n",
    "\n",
    "y_pre = df_x[df_x['prequar'] & ~df_x['message_satsun'] & \\\n",
    "             (df_x['tel'].str.startswith('+58'))].groupby('roundhr').size()\n",
    "y_quar = df_x[df_x['quar'] & ~df_x['message_satsun'] & \\\n",
    "             (df_x['tel'].str.startswith('+58'))].groupby('roundhr').size()\n",
    "\n",
    "y_pre = y_pre / y_pre.sum()\n",
    "y_quar = y_quar / y_quar.sum()"
   ]
  },
  {
   "cell_type": "code",
   "execution_count": 14,
   "metadata": {},
   "outputs": [],
   "source": [
    "fig, ax = plt.subplots(figsize = (8, 6))\n",
    "ax.plot(x, y_pre, label = 'Before 3/10')\n",
    "ax.plot(x, y_quar, label = 'After 3/24')\n",
    "\n",
    "ax.xaxis.set_major_locator(mdates.HourLocator(interval = 8))\n",
    "ax.xaxis.set_major_formatter(mdates.DateFormatter('%H:%M:%S'))\n",
    "\n",
    "fig.autofmt_xdate()\n",
    "plt.xticks(ha='center', rotation=0)\n",
    "plt.xlabel(\"UTC-5 / Colombia Time\\n(Hour Buckets)\")\n",
    "plt.ylabel(\"Density\")\n",
    "plt.title(\"Weekday Messages (Venezuela Users)\")\n",
    "plt.legend()\n",
    "plt.savefig('images/ch-coronavirus/usage_weekday_vz.png', bbox_inches = 'tight', pad_inches = 0.05)\n",
    "plt.close()"
   ]
  },
  {
   "cell_type": "code",
   "execution_count": 15,
   "metadata": {},
   "outputs": [],
   "source": [
    "x = [pd.Timestamp(2017, 1, 1, h) for h in range(0, 24)]\n",
    "\n",
    "y_pre = df_x[df_x['prequar'] & df_x['message_satsun'] & \\\n",
    "             (df_x['tel'].str.startswith('+58'))].groupby('roundhr').size()\n",
    "y_quar = df_x[df_x['quar'] & df_x['message_satsun'] & \\\n",
    "             (df_x['tel'].str.startswith('+58'))].groupby('roundhr').size()\n",
    "\n",
    "y_pre = y_pre / y_pre.sum()\n",
    "y_quar = y_quar / y_quar.sum()"
   ]
  },
  {
   "cell_type": "code",
   "execution_count": 16,
   "metadata": {},
   "outputs": [],
   "source": [
    "fig, ax = plt.subplots(figsize = (8, 6))\n",
    "ax.plot(x, y_pre, label = 'Before 3/10')\n",
    "ax.plot(x, y_quar, label = 'After 3/24')\n",
    "\n",
    "ax.xaxis.set_major_locator(mdates.HourLocator(interval = 8))\n",
    "ax.xaxis.set_major_formatter(mdates.DateFormatter('%H:%M:%S'))\n",
    "\n",
    "fig.autofmt_xdate()\n",
    "plt.xticks(ha='center', rotation=0)\n",
    "plt.xlabel(\"UTC-5 / Colombia Time\\n(Hour Buckets)\")\n",
    "plt.ylabel(\"Density\")\n",
    "plt.title(\"Weekend Messages (Venezuela Users)\")\n",
    "plt.legend()\n",
    "plt.savefig('images/ch-coronavirus/usage_weekend_vz.png', bbox_inches = 'tight', pad_inches = 0.05)\n",
    "plt.close()"
   ]
  },
  {
   "cell_type": "markdown",
   "metadata": {},
   "source": [
    "### Statistical tests"
   ]
  },
  {
   "cell_type": "code",
   "execution_count": 17,
   "metadata": {},
   "outputs": [],
   "source": [
    "df_x['5am'] = (df_x['message_dt'].dt.time <= time(5))"
   ]
  },
  {
   "cell_type": "code",
   "execution_count": 18,
   "metadata": {},
   "outputs": [],
   "source": [
    "prequar = df_x[df_x['prequar'] & ~df_x['message_satsun'] & \\\n",
    "                      df_x['tel'].str.startswith('+57')][['message_date', '5am']].groupby('message_date').mean()\n",
    "\n",
    "quar = df_x[df_x['quar'] & ~df_x['message_satsun'] & \\\n",
    "                      df_x['tel'].str.startswith('+57')][['message_date', '5am']].groupby('message_date').mean()"
   ]
  },
  {
   "cell_type": "code",
   "execution_count": 19,
   "metadata": {},
   "outputs": [
    {
     "name": "stdout",
     "output_type": "stream",
     "text": [
      "5am    0.015088\n",
      "dtype: float64\n",
      "5am    0.07753\n",
      "dtype: float64\n",
      "Ttest_indResult(statistic=array([-2.72739013]), pvalue=array([0.01128373]))\n"
     ]
    }
   ],
   "source": [
    "print(prequar.mean())\n",
    "print(quar.mean())\n",
    "print(ttest_ind(prequar, quar))"
   ]
  },
  {
   "cell_type": "code",
   "execution_count": 20,
   "metadata": {},
   "outputs": [],
   "source": [
    "prequar = df_x[df_x['prequar'] & df_x['message_satsun'] & \\\n",
    "                      df_x['tel'].str.startswith('+57')][['message_date', '5am']].groupby('message_date').mean()\n",
    "\n",
    "quar = df_x[df_x['quar'] & df_x['message_satsun'] & \\\n",
    "                      df_x['tel'].str.startswith('+57')][['message_date', '5am']].groupby('message_date').mean()"
   ]
  },
  {
   "cell_type": "code",
   "execution_count": 21,
   "metadata": {},
   "outputs": [
    {
     "name": "stdout",
     "output_type": "stream",
     "text": [
      "5am    0.04785\n",
      "dtype: float64\n",
      "5am    0.073323\n",
      "dtype: float64\n",
      "Ttest_indResult(statistic=array([-0.77810524]), pvalue=array([0.45452315]))\n"
     ]
    }
   ],
   "source": [
    "print(prequar.mean())\n",
    "print(quar.mean())\n",
    "print(ttest_ind(prequar, quar))"
   ]
  },
  {
   "cell_type": "markdown",
   "metadata": {},
   "source": [
    "# Audio/video lengths"
   ]
  },
  {
   "cell_type": "code",
   "execution_count": 22,
   "metadata": {},
   "outputs": [
    {
     "name": "stderr",
     "output_type": "stream",
     "text": [
      "//anaconda3/envs/vzwa/lib/python3.7/site-packages/ipykernel/__main__.py:5: SettingWithCopyWarning: \n",
      "A value is trying to be set on a copy of a slice from a DataFrame.\n",
      "Try using .loc[row_indexer,col_indexer] = value instead\n",
      "\n",
      "See the caveats in the documentation: http://pandas.pydata.org/pandas-docs/stable/user_guide/indexing.html#returning-a-view-versus-a-copy\n",
      "//anaconda3/envs/vzwa/lib/python3.7/site-packages/ipykernel/__main__.py:6: SettingWithCopyWarning: \n",
      "A value is trying to be set on a copy of a slice from a DataFrame.\n",
      "Try using .loc[row_indexer,col_indexer] = value instead\n",
      "\n",
      "See the caveats in the documentation: http://pandas.pydata.org/pandas-docs/stable/user_guide/indexing.html#returning-a-view-versus-a-copy\n",
      "//anaconda3/envs/vzwa/lib/python3.7/site-packages/ipykernel/__main__.py:7: SettingWithCopyWarning: \n",
      "A value is trying to be set on a copy of a slice from a DataFrame.\n",
      "Try using .loc[row_indexer,col_indexer] = value instead\n",
      "\n",
      "See the caveats in the documentation: http://pandas.pydata.org/pandas-docs/stable/user_guide/indexing.html#returning-a-view-versus-a-copy\n"
     ]
    }
   ],
   "source": [
    "df_text = df_x[df_x['text'].notnull()]\n",
    "df_audio = df_x[df_x['audio_length'].notnull()]\n",
    "df_video = df_x[df_x['video_length'].notnull()]\n",
    "\n",
    "df_text['seconds'] = (df_text['message_dt'] - pd.Timestamp(2020, 2, 13)).dt.seconds\n",
    "df_audio['seconds'] = (df_audio['message_dt'] - pd.Timestamp(2020, 2, 13)).dt.seconds\n",
    "df_video['seconds'] = (df_video['message_dt'] - pd.Timestamp(2020, 2, 13)).dt.seconds\n"
   ]
  },
  {
   "cell_type": "code",
   "execution_count": 23,
   "metadata": {},
   "outputs": [],
   "source": [
    "def get_sec(t):\n",
    "    if t.count(':') == 1:\n",
    "        m, s = t.split(':')\n",
    "        h = 0\n",
    "    else:\n",
    "        h, m, s = t.split(':')\n",
    "    return int(h) * 3600 + int(m) * 60 + int(s)"
   ]
  },
  {
   "cell_type": "code",
   "execution_count": 24,
   "metadata": {},
   "outputs": [
    {
     "name": "stderr",
     "output_type": "stream",
     "text": [
      "//anaconda3/envs/vzwa/lib/python3.7/site-packages/ipykernel/__main__.py:1: SettingWithCopyWarning: \n",
      "A value is trying to be set on a copy of a slice from a DataFrame.\n",
      "Try using .loc[row_indexer,col_indexer] = value instead\n",
      "\n",
      "See the caveats in the documentation: http://pandas.pydata.org/pandas-docs/stable/user_guide/indexing.html#returning-a-view-versus-a-copy\n",
      "  if __name__ == '__main__':\n",
      "//anaconda3/envs/vzwa/lib/python3.7/site-packages/ipykernel/__main__.py:2: SettingWithCopyWarning: \n",
      "A value is trying to be set on a copy of a slice from a DataFrame.\n",
      "Try using .loc[row_indexer,col_indexer] = value instead\n",
      "\n",
      "See the caveats in the documentation: http://pandas.pydata.org/pandas-docs/stable/user_guide/indexing.html#returning-a-view-versus-a-copy\n",
      "  from ipykernel import kernelapp as app\n",
      "//anaconda3/envs/vzwa/lib/python3.7/site-packages/ipykernel/__main__.py:3: SettingWithCopyWarning: \n",
      "A value is trying to be set on a copy of a slice from a DataFrame.\n",
      "Try using .loc[row_indexer,col_indexer] = value instead\n",
      "\n",
      "See the caveats in the documentation: http://pandas.pydata.org/pandas-docs/stable/user_guide/indexing.html#returning-a-view-versus-a-copy\n",
      "  app.launch_new_instance()\n",
      "//anaconda3/envs/vzwa/lib/python3.7/site-packages/ipykernel/__main__.py:4: SettingWithCopyWarning: \n",
      "A value is trying to be set on a copy of a slice from a DataFrame.\n",
      "Try using .loc[row_indexer,col_indexer] = value instead\n",
      "\n",
      "See the caveats in the documentation: http://pandas.pydata.org/pandas-docs/stable/user_guide/indexing.html#returning-a-view-versus-a-copy\n"
     ]
    }
   ],
   "source": [
    "df_audio['audio_length'] = df_audio['audio_length'].apply(get_sec)\n",
    "df_video['video_length'] = df_video['video_length'].apply(get_sec)\n",
    "df_text['word_length'] = df_text['text'].str.count(' ')\n",
    "df_text['char_length'] = df_text['text'].str.len()"
   ]
  },
  {
   "cell_type": "markdown",
   "metadata": {},
   "source": [
    "## All messages"
   ]
  },
  {
   "cell_type": "code",
   "execution_count": 25,
   "metadata": {},
   "outputs": [
    {
     "name": "stdout",
     "output_type": "stream",
     "text": [
      "20.796626921540177\n",
      "22.611962887411988\n"
     ]
    },
    {
     "data": {
      "text/plain": [
       "Ttest_indResult(statistic=3.551933730794416, pvalue=0.0003826366433006887)"
      ]
     },
     "execution_count": 25,
     "metadata": {},
     "output_type": "execute_result"
    }
   ],
   "source": [
    "prequar = df_text[df_text['prequar']]['word_length']\n",
    "quar = df_text[df_text['quar']]['word_length']\n",
    "\n",
    "print(np.mean(prequar))\n",
    "print(np.mean(quar))\n",
    "ttest_ind(quar, prequar)"
   ]
  },
  {
   "cell_type": "code",
   "execution_count": 26,
   "metadata": {},
   "outputs": [
    {
     "name": "stdout",
     "output_type": "stream",
     "text": [
      "                            OLS Regression Results                            \n",
      "==============================================================================\n",
      "Dep. Variable:            word_length   R-squared:                       0.004\n",
      "Model:                            OLS   Adj. R-squared:                  0.004\n",
      "Method:                 Least Squares   F-statistic:                     359.1\n",
      "Date:                Mon, 13 Apr 2020   Prob (F-statistic):           6.03e-80\n",
      "Time:                        11:02:32   Log-Likelihood:            -5.7884e+05\n",
      "No. Observations:              101414   AIC:                         1.158e+06\n",
      "Df Residuals:                  101412   BIC:                         1.158e+06\n",
      "Df Model:                           1                                         \n",
      "Covariance Type:            nonrobust                                         \n",
      "==============================================================================\n",
      "                 coef    std err          t      P>|t|      [0.025      0.975]\n",
      "------------------------------------------------------------------------------\n",
      "Intercept     35.4756      0.671     52.860      0.000      34.160      36.791\n",
      "seconds       -0.0002   1.19e-05    -18.950      0.000      -0.000      -0.000\n",
      "==============================================================================\n",
      "Omnibus:                   115013.671   Durbin-Watson:                   1.745\n",
      "Prob(Omnibus):                  0.000   Jarque-Bera (JB):          8493300.387\n",
      "Skew:                           6.117   Prob(JB):                         0.00\n",
      "Kurtosis:                      46.131   Cond. No.                     1.65e+05\n",
      "==============================================================================\n",
      "\n",
      "Warnings:\n",
      "[1] Standard Errors assume that the covariance matrix of the errors is correctly specified.\n",
      "[2] The condition number is large, 1.65e+05. This might indicate that there are\n",
      "strong multicollinearity or other numerical problems.\n"
     ]
    }
   ],
   "source": [
    "reg = smf.ols('word_length ~ seconds', data = df_text).fit()\n",
    "print(reg.summary())"
   ]
  },
  {
   "cell_type": "code",
   "execution_count": 27,
   "metadata": {},
   "outputs": [
    {
     "name": "stdout",
     "output_type": "stream",
     "text": [
      "136.40853363615335\n",
      "146.12015529380798\n"
     ]
    },
    {
     "data": {
      "text/plain": [
       "Ttest_indResult(statistic=2.974750123063625, pvalue=0.002933171229091544)"
      ]
     },
     "execution_count": 27,
     "metadata": {},
     "output_type": "execute_result"
    }
   ],
   "source": [
    "prequar = df_text[df_text['prequar']]['char_length']\n",
    "quar = df_text[df_text['quar']]['char_length']\n",
    "\n",
    "print(np.mean(prequar))\n",
    "print(np.mean(quar))\n",
    "ttest_ind(quar, prequar)"
   ]
  },
  {
   "cell_type": "code",
   "execution_count": 28,
   "metadata": {},
   "outputs": [
    {
     "name": "stdout",
     "output_type": "stream",
     "text": [
      "                            OLS Regression Results                            \n",
      "==============================================================================\n",
      "Dep. Variable:            char_length   R-squared:                       0.004\n",
      "Model:                            OLS   Adj. R-squared:                  0.004\n",
      "Method:                 Least Squares   F-statistic:                     415.0\n",
      "Date:                Mon, 13 Apr 2020   Prob (F-statistic):           4.53e-92\n",
      "Time:                        11:03:15   Log-Likelihood:            -7.6733e+05\n",
      "No. Observations:              101414   AIC:                         1.535e+06\n",
      "Df Residuals:                  101412   BIC:                         1.535e+06\n",
      "Df Model:                           1                                         \n",
      "Covariance Type:            nonrobust                                         \n",
      "==============================================================================\n",
      "                 coef    std err          t      P>|t|      [0.025      0.975]\n",
      "------------------------------------------------------------------------------\n",
      "Intercept    236.2888      4.305     54.882      0.000     227.850     244.727\n",
      "seconds       -0.0016   7.65e-05    -20.372      0.000      -0.002      -0.001\n",
      "==============================================================================\n",
      "Omnibus:                   112484.957   Durbin-Watson:                   1.726\n",
      "Prob(Omnibus):                  0.000   Jarque-Bera (JB):          7030205.390\n",
      "Skew:                           5.959   Prob(JB):                         0.00\n",
      "Kurtosis:                      42.009   Cond. No.                     1.65e+05\n",
      "==============================================================================\n",
      "\n",
      "Warnings:\n",
      "[1] Standard Errors assume that the covariance matrix of the errors is correctly specified.\n",
      "[2] The condition number is large, 1.65e+05. This might indicate that there are\n",
      "strong multicollinearity or other numerical problems.\n"
     ]
    }
   ],
   "source": [
    "reg = smf.ols('char_length ~ seconds', data = df_text).fit()\n",
    "print(reg.summary())"
   ]
  },
  {
   "cell_type": "code",
   "execution_count": 29,
   "metadata": {},
   "outputs": [
    {
     "name": "stdout",
     "output_type": "stream",
     "text": [
      "100.00078451882845\n",
      "123.34257014201593\n"
     ]
    },
    {
     "data": {
      "text/plain": [
       "Ttest_indResult(statistic=5.657908056735413, pvalue=1.5954884774929313e-08)"
      ]
     },
     "execution_count": 29,
     "metadata": {},
     "output_type": "execute_result"
    }
   ],
   "source": [
    "prequar = df_audio[df_audio['prequar']]['audio_length']\n",
    "quar = df_audio[df_audio['quar']]['audio_length']\n",
    "\n",
    "print(np.mean(prequar))\n",
    "print(np.mean(quar))\n",
    "ttest_ind(quar, prequar)"
   ]
  },
  {
   "cell_type": "code",
   "execution_count": 31,
   "metadata": {},
   "outputs": [
    {
     "name": "stdout",
     "output_type": "stream",
     "text": [
      "                            OLS Regression Results                            \n",
      "==============================================================================\n",
      "Dep. Variable:           audio_length   R-squared:                       0.000\n",
      "Model:                            OLS   Adj. R-squared:                 -0.000\n",
      "Method:                 Least Squares   F-statistic:                    0.2844\n",
      "Date:                Mon, 13 Apr 2020   Prob (F-statistic):              0.594\n",
      "Time:                        11:04:35   Log-Likelihood:                -58459.\n",
      "No. Observations:                8918   AIC:                         1.169e+05\n",
      "Df Residuals:                    8916   BIC:                         1.169e+05\n",
      "Df Model:                           1                                         \n",
      "Covariance Type:            nonrobust                                         \n",
      "==============================================================================\n",
      "                 coef    std err          t      P>|t|      [0.025      0.975]\n",
      "------------------------------------------------------------------------------\n",
      "Intercept    124.0034      5.242     23.657      0.000     113.728     134.278\n",
      "seconds    -4.755e-05   8.92e-05     -0.533      0.594      -0.000       0.000\n",
      "==============================================================================\n",
      "Omnibus:                     8225.938   Durbin-Watson:                   1.294\n",
      "Prob(Omnibus):                  0.000   Jarque-Bera (JB):           897690.300\n",
      "Skew:                           4.051   Prob(JB):                         0.00\n",
      "Kurtosis:                      51.479   Cond. No.                     1.71e+05\n",
      "==============================================================================\n",
      "\n",
      "Warnings:\n",
      "[1] Standard Errors assume that the covariance matrix of the errors is correctly specified.\n",
      "[2] The condition number is large, 1.71e+05. This might indicate that there are\n",
      "strong multicollinearity or other numerical problems.\n"
     ]
    }
   ],
   "source": [
    "reg = smf.ols('audio_length ~ seconds', data = df_audio).fit()\n",
    "print(reg.summary())"
   ]
  },
  {
   "cell_type": "code",
   "execution_count": 30,
   "metadata": {},
   "outputs": [
    {
     "name": "stdout",
     "output_type": "stream",
     "text": [
      "79.06282566622004\n",
      "105.5407249466951\n"
     ]
    },
    {
     "data": {
      "text/plain": [
       "Ttest_indResult(statistic=10.982222076943751, pvalue=6.420266023942567e-28)"
      ]
     },
     "execution_count": 30,
     "metadata": {},
     "output_type": "execute_result"
    }
   ],
   "source": [
    "prequar = df_video[df_video['prequar']]['video_length']\n",
    "quar = df_video[df_video['quar']]['video_length']\n",
    "\n",
    "print(np.mean(prequar))\n",
    "print(np.mean(quar))\n",
    "ttest_ind(quar, prequar)"
   ]
  },
  {
   "cell_type": "code",
   "execution_count": 32,
   "metadata": {},
   "outputs": [
    {
     "name": "stdout",
     "output_type": "stream",
     "text": [
      "                            OLS Regression Results                            \n",
      "==============================================================================\n",
      "Dep. Variable:           video_length   R-squared:                       0.002\n",
      "Model:                            OLS   Adj. R-squared:                  0.002\n",
      "Method:                 Least Squares   F-statistic:                     25.72\n",
      "Date:                Mon, 13 Apr 2020   Prob (F-statistic):           3.99e-07\n",
      "Time:                        11:04:48   Log-Likelihood:                -99159.\n",
      "No. Observations:               15596   AIC:                         1.983e+05\n",
      "Df Residuals:                   15594   BIC:                         1.983e+05\n",
      "Df Model:                           1                                         \n",
      "Covariance Type:            nonrobust                                         \n",
      "==============================================================================\n",
      "                 coef    std err          t      P>|t|      [0.025      0.975]\n",
      "------------------------------------------------------------------------------\n",
      "Intercept    111.2357      3.112     35.748      0.000     105.137     117.335\n",
      "seconds       -0.0003   5.38e-05     -5.071      0.000      -0.000      -0.000\n",
      "==============================================================================\n",
      "Omnibus:                    13197.453   Durbin-Watson:                   1.597\n",
      "Prob(Omnibus):                  0.000   Jarque-Bera (JB):           461722.430\n",
      "Skew:                           3.948   Prob(JB):                         0.00\n",
      "Kurtosis:                      28.459   Cond. No.                     1.61e+05\n",
      "==============================================================================\n",
      "\n",
      "Warnings:\n",
      "[1] Standard Errors assume that the covariance matrix of the errors is correctly specified.\n",
      "[2] The condition number is large, 1.61e+05. This might indicate that there are\n",
      "strong multicollinearity or other numerical problems.\n"
     ]
    }
   ],
   "source": [
    "reg = smf.ols('video_length ~ seconds', data = df_video).fit()\n",
    "print(reg.summary())"
   ]
  },
  {
   "cell_type": "markdown",
   "metadata": {},
   "source": [
    "# Orig"
   ]
  },
  {
   "cell_type": "code",
   "execution_count": 33,
   "metadata": {},
   "outputs": [],
   "source": [
    "df_orig_audio = df_audio[~df_audio['forwarded'] & ~df_audio['forwarded_highly']]\n",
    "df_orig_video = df_video[~df_video['forwarded'] & ~df_video['forwarded_highly']]\n",
    "df_orig_text = df_text[~df_text['forwarded'] & ~df_text['forwarded_highly']]\n"
   ]
  },
  {
   "cell_type": "code",
   "execution_count": 34,
   "metadata": {},
   "outputs": [
    {
     "name": "stdout",
     "output_type": "stream",
     "text": [
      "15.573980781789347\n",
      "16.715894538606403\n"
     ]
    },
    {
     "data": {
      "text/plain": [
       "Ttest_indResult(statistic=2.590971814720861, pvalue=0.00957253440311212)"
      ]
     },
     "execution_count": 34,
     "metadata": {},
     "output_type": "execute_result"
    }
   ],
   "source": [
    "prequar = df_orig_text[df_orig_text['prequar']]['word_length']\n",
    "quar = df_orig_text[df_orig_text['quar']]['word_length']\n",
    "\n",
    "print(np.mean(prequar))\n",
    "print(np.mean(quar))\n",
    "ttest_ind(quar, prequar)"
   ]
  },
  {
   "cell_type": "code",
   "execution_count": 35,
   "metadata": {},
   "outputs": [
    {
     "name": "stdout",
     "output_type": "stream",
     "text": [
      "99.77355630189383\n",
      "107.42286252354049\n"
     ]
    },
    {
     "data": {
      "text/plain": [
       "Ttest_indResult(statistic=2.671593364821832, pvalue=0.007550967902962)"
      ]
     },
     "execution_count": 35,
     "metadata": {},
     "output_type": "execute_result"
    }
   ],
   "source": [
    "prequar = df_orig_text[df_orig_text['prequar']]['char_length']\n",
    "quar = df_orig_text[df_orig_text['quar']]['char_length']\n",
    "\n",
    "print(np.mean(prequar))\n",
    "print(np.mean(quar))\n",
    "ttest_ind(quar, prequar)"
   ]
  },
  {
   "cell_type": "code",
   "execution_count": 36,
   "metadata": {},
   "outputs": [
    {
     "name": "stdout",
     "output_type": "stream",
     "text": [
      "72.02225088681071\n",
      "77.88888888888889\n"
     ]
    },
    {
     "data": {
      "text/plain": [
       "Ttest_indResult(statistic=1.6149782604954377, pvalue=0.10637559691597213)"
      ]
     },
     "execution_count": 36,
     "metadata": {},
     "output_type": "execute_result"
    }
   ],
   "source": [
    "prequar = df_orig_audio[df_orig_audio['prequar']]['audio_length']\n",
    "quar = df_orig_audio[df_orig_audio['quar']]['audio_length']\n",
    "\n",
    "print(np.mean(prequar))\n",
    "print(np.mean(quar))\n",
    "ttest_ind(quar, prequar)"
   ]
  },
  {
   "cell_type": "code",
   "execution_count": 37,
   "metadata": {},
   "outputs": [
    {
     "name": "stdout",
     "output_type": "stream",
     "text": [
      "72.22903795233893\n",
      "93.12815533980583\n"
     ]
    },
    {
     "data": {
      "text/plain": [
       "Ttest_indResult(statistic=7.417833749288304, pvalue=1.328695945339175e-13)"
      ]
     },
     "execution_count": 37,
     "metadata": {},
     "output_type": "execute_result"
    }
   ],
   "source": [
    "prequar = df_orig_video[df_orig_video['prequar']]['video_length']\n",
    "quar = df_orig_video[df_orig_video['quar']]['video_length']\n",
    "\n",
    "print(np.mean(prequar))\n",
    "print(np.mean(quar))\n",
    "ttest_ind(quar, prequar)"
   ]
  },
  {
   "cell_type": "code",
   "execution_count": 39,
   "metadata": {},
   "outputs": [
    {
     "name": "stdout",
     "output_type": "stream",
     "text": [
      "                            OLS Regression Results                            \n",
      "==============================================================================\n",
      "Dep. Variable:            word_length   R-squared:                       0.004\n",
      "Model:                            OLS   Adj. R-squared:                  0.004\n",
      "Method:                 Least Squares   F-statistic:                     335.4\n",
      "Date:                Mon, 13 Apr 2020   Prob (F-statistic):           8.85e-75\n",
      "Time:                        11:05:41   Log-Likelihood:            -4.8897e+05\n",
      "No. Observations:               89146   AIC:                         9.779e+05\n",
      "Df Residuals:                   89144   BIC:                         9.780e+05\n",
      "Df Model:                           1                                         \n",
      "Covariance Type:            nonrobust                                         \n",
      "==============================================================================\n",
      "                 coef    std err          t      P>|t|      [0.025      0.975]\n",
      "------------------------------------------------------------------------------\n",
      "Intercept     26.7766      0.570     46.949      0.000      25.659      27.894\n",
      "seconds       -0.0002      1e-05    -18.314      0.000      -0.000      -0.000\n",
      "==============================================================================\n",
      "Omnibus:                   118196.544   Durbin-Watson:                   1.750\n",
      "Prob(Omnibus):                  0.000   Jarque-Bera (JB):         18178891.099\n",
      "Skew:                           7.787   Prob(JB):                         0.00\n",
      "Kurtosis:                      71.202   Cond. No.                     1.66e+05\n",
      "==============================================================================\n",
      "\n",
      "Warnings:\n",
      "[1] Standard Errors assume that the covariance matrix of the errors is correctly specified.\n",
      "[2] The condition number is large, 1.66e+05. This might indicate that there are\n",
      "strong multicollinearity or other numerical problems.\n"
     ]
    }
   ],
   "source": [
    "reg = smf.ols('word_length ~ seconds', data = df_orig_text).fit()\n",
    "print(reg.summary())"
   ]
  },
  {
   "cell_type": "code",
   "execution_count": 38,
   "metadata": {},
   "outputs": [
    {
     "name": "stdout",
     "output_type": "stream",
     "text": [
      "                            OLS Regression Results                            \n",
      "==============================================================================\n",
      "Dep. Variable:            char_length   R-squared:                       0.004\n",
      "Model:                            OLS   Adj. R-squared:                  0.004\n",
      "Method:                 Least Squares   F-statistic:                     349.3\n",
      "Date:                Mon, 13 Apr 2020   Prob (F-statistic):           8.47e-78\n",
      "Time:                        11:05:32   Log-Likelihood:            -6.5605e+05\n",
      "No. Observations:               89146   AIC:                         1.312e+06\n",
      "Df Residuals:                   89144   BIC:                         1.312e+06\n",
      "Df Model:                           1                                         \n",
      "Covariance Type:            nonrobust                                         \n",
      "==============================================================================\n",
      "                 coef    std err          t      P>|t|      [0.025      0.975]\n",
      "------------------------------------------------------------------------------\n",
      "Intercept    174.3928      3.716     46.927      0.000     167.109     181.677\n",
      "seconds       -0.0012   6.54e-05    -18.690      0.000      -0.001      -0.001\n",
      "==============================================================================\n",
      "Omnibus:                   118145.982   Durbin-Watson:                   1.743\n",
      "Prob(Omnibus):                  0.000   Jarque-Bera (JB):         17805882.643\n",
      "Skew:                           7.792   Prob(JB):                         0.00\n",
      "Kurtosis:                      70.460   Cond. No.                     1.66e+05\n",
      "==============================================================================\n",
      "\n",
      "Warnings:\n",
      "[1] Standard Errors assume that the covariance matrix of the errors is correctly specified.\n",
      "[2] The condition number is large, 1.66e+05. This might indicate that there are\n",
      "strong multicollinearity or other numerical problems.\n"
     ]
    }
   ],
   "source": [
    "reg = smf.ols('char_length ~ seconds', data = df_orig_text).fit()\n",
    "print(reg.summary())"
   ]
  },
  {
   "cell_type": "code",
   "execution_count": 40,
   "metadata": {},
   "outputs": [
    {
     "name": "stdout",
     "output_type": "stream",
     "text": [
      "                            OLS Regression Results                            \n",
      "==============================================================================\n",
      "Dep. Variable:           audio_length   R-squared:                       0.002\n",
      "Model:                            OLS   Adj. R-squared:                  0.001\n",
      "Method:                 Least Squares   F-statistic:                     10.85\n",
      "Date:                Mon, 13 Apr 2020   Prob (F-statistic):           0.000992\n",
      "Time:                        11:06:03   Log-Likelihood:                -41410.\n",
      "No. Observations:                6569   AIC:                         8.282e+04\n",
      "Df Residuals:                    6567   BIC:                         8.284e+04\n",
      "Df Model:                           1                                         \n",
      "Covariance Type:            nonrobust                                         \n",
      "==============================================================================\n",
      "                 coef    std err          t      P>|t|      [0.025      0.975]\n",
      "------------------------------------------------------------------------------\n",
      "Intercept     66.1402      4.702     14.067      0.000      56.923      75.357\n",
      "seconds        0.0003   7.92e-05      3.294      0.001       0.000       0.000\n",
      "==============================================================================\n",
      "Omnibus:                     8057.810   Durbin-Watson:                   1.040\n",
      "Prob(Omnibus):                  0.000   Jarque-Bera (JB):          3980989.760\n",
      "Skew:                           6.099   Prob(JB):                         0.00\n",
      "Kurtosis:                     122.983   Cond. No.                     1.71e+05\n",
      "==============================================================================\n",
      "\n",
      "Warnings:\n",
      "[1] Standard Errors assume that the covariance matrix of the errors is correctly specified.\n",
      "[2] The condition number is large, 1.71e+05. This might indicate that there are\n",
      "strong multicollinearity or other numerical problems.\n"
     ]
    }
   ],
   "source": [
    "reg = smf.ols('audio_length ~ seconds', data = df_orig_audio).fit()\n",
    "print(reg.summary())"
   ]
  },
  {
   "cell_type": "code",
   "execution_count": 41,
   "metadata": {},
   "outputs": [
    {
     "name": "stdout",
     "output_type": "stream",
     "text": [
      "                            OLS Regression Results                            \n",
      "==============================================================================\n",
      "Dep. Variable:           video_length   R-squared:                       0.000\n",
      "Model:                            OLS   Adj. R-squared:                  0.000\n",
      "Method:                 Least Squares   F-statistic:                     4.388\n",
      "Date:                Mon, 13 Apr 2020   Prob (F-statistic):             0.0362\n",
      "Time:                        11:06:13   Log-Likelihood:                -58760.\n",
      "No. Observations:                9330   AIC:                         1.175e+05\n",
      "Df Residuals:                    9328   BIC:                         1.175e+05\n",
      "Df Model:                           1                                         \n",
      "Covariance Type:            nonrobust                                         \n",
      "==============================================================================\n",
      "                 coef    std err          t      P>|t|      [0.025      0.975]\n",
      "------------------------------------------------------------------------------\n",
      "Intercept     94.8803      3.684     25.752      0.000      87.658     102.103\n",
      "seconds       -0.0001   6.29e-05     -2.095      0.036      -0.000   -8.46e-06\n",
      "==============================================================================\n",
      "Omnibus:                     8849.284   Durbin-Watson:                   1.473\n",
      "Prob(Omnibus):                  0.000   Jarque-Bera (JB):           535272.778\n",
      "Skew:                           4.499   Prob(JB):                         0.00\n",
      "Kurtosis:                      38.999   Cond. No.                     1.58e+05\n",
      "==============================================================================\n",
      "\n",
      "Warnings:\n",
      "[1] Standard Errors assume that the covariance matrix of the errors is correctly specified.\n",
      "[2] The condition number is large, 1.58e+05. This might indicate that there are\n",
      "strong multicollinearity or other numerical problems.\n"
     ]
    }
   ],
   "source": [
    "reg = smf.ols('video_length ~ seconds', data = df_orig_video).fit()\n",
    "print(reg.summary())"
   ]
  },
  {
   "cell_type": "markdown",
   "metadata": {},
   "source": [
    "# Messages per user"
   ]
  },
  {
   "cell_type": "markdown",
   "metadata": {},
   "source": [
    "### Weight by each user/message"
   ]
  },
  {
   "cell_type": "code",
   "execution_count": 72,
   "metadata": {},
   "outputs": [
    {
     "name": "stdout",
     "output_type": "stream",
     "text": [
      "5.505997054078698\n",
      "6.091910499139415\n"
     ]
    },
    {
     "data": {
      "text/plain": [
       "Ttest_indResult(statistic=-3.0222270368769566, pvalue=0.002511986852479515)"
      ]
     },
     "execution_count": 72,
     "metadata": {},
     "output_type": "execute_result"
    }
   ],
   "source": [
    "prequar = df_x[df_x['prequar']][['tel', 'message_date']].groupby(['tel', 'message_date']).size()\n",
    "quar = df_x[df_x['quar']][['tel', 'message_date']].groupby(['tel', 'message_date']).size()\n",
    "\n",
    "print(np.mean(prequar))\n",
    "print(np.mean(quar))\n",
    "ttest_ind(prequar, quar)"
   ]
  },
  {
   "cell_type": "code",
   "execution_count": 64,
   "metadata": {},
   "outputs": [],
   "source": [
    "df_fals = pd.DataFrame(df_x[['tel', 'message_date']].groupby(['tel', 'message_date']).size())\n",
    "df_fals.columns = ['n']"
   ]
  },
  {
   "cell_type": "code",
   "execution_count": 65,
   "metadata": {},
   "outputs": [],
   "source": [
    "df_fals['date'] = [i[1] for i in df_fals.index]\n",
    "df_fals['days_since'] = (df_fals['date'] - pd.Timestamp(2020, 2, 13)).dt.days"
   ]
  },
  {
   "cell_type": "code",
   "execution_count": 67,
   "metadata": {},
   "outputs": [
    {
     "name": "stdout",
     "output_type": "stream",
     "text": [
      "                            OLS Regression Results                            \n",
      "==============================================================================\n",
      "Dep. Variable:                      n   R-squared:                       0.000\n",
      "Model:                            OLS   Adj. R-squared:                 -0.000\n",
      "Method:                 Least Squares   F-statistic:                    0.9462\n",
      "Date:                Mon, 13 Apr 2020   Prob (F-statistic):              0.331\n",
      "Time:                        11:21:24   Log-Likelihood:            -1.2569e+05\n",
      "No. Observations:               31321   AIC:                         2.514e+05\n",
      "Df Residuals:                   31319   BIC:                         2.514e+05\n",
      "Df Model:                           1                                         \n",
      "Covariance Type:            nonrobust                                         \n",
      "==============================================================================\n",
      "                 coef    std err          t      P>|t|      [0.025      0.975]\n",
      "------------------------------------------------------------------------------\n",
      "Intercept      5.3518      0.152     35.260      0.000       5.054       5.649\n",
      "days_since     0.0047      0.005      0.973      0.331      -0.005       0.014\n",
      "==============================================================================\n",
      "Omnibus:                    43942.634   Durbin-Watson:                   1.017\n",
      "Prob(Omnibus):                  0.000   Jarque-Bera (JB):         13788614.900\n",
      "Skew:                           8.314   Prob(JB):                         0.00\n",
      "Kurtosis:                     104.435   Cond. No.                         63.3\n",
      "==============================================================================\n",
      "\n",
      "Warnings:\n",
      "[1] Standard Errors assume that the covariance matrix of the errors is correctly specified.\n"
     ]
    }
   ],
   "source": [
    "reg = smf.ols('n ~ days_since', data = df_fals).fit()\n",
    "print(reg.summary())"
   ]
  },
  {
   "cell_type": "code",
   "execution_count": null,
   "metadata": {},
   "outputs": [],
   "source": []
  },
  {
   "cell_type": "markdown",
   "metadata": {},
   "source": [
    "# Replies"
   ]
  },
  {
   "cell_type": "code",
   "execution_count": 76,
   "metadata": {},
   "outputs": [
    {
     "name": "stdout",
     "output_type": "stream",
     "text": [
      "0.5719181136065428\n",
      "0.6243996157540826\n"
     ]
    },
    {
     "data": {
      "text/plain": [
       "Ttest_indResult(statistic=-4.88088531512768, pvalue=1.0573399111578853e-06)"
      ]
     },
     "execution_count": 76,
     "metadata": {},
     "output_type": "execute_result"
    }
   ],
   "source": [
    "prequar = df_x[df_x['prequar']]['replies_n']\n",
    "quar = df_x[df_x['quar']]['replies_n']\n",
    "\n",
    "print(np.mean(prequar))\n",
    "print(np.mean(quar))\n",
    "ttest_ind(prequar, quar)"
   ]
  },
  {
   "cell_type": "code",
   "execution_count": 79,
   "metadata": {},
   "outputs": [],
   "source": [
    "df_x['seconds'] = (df_x['message_dt'] - pd.Timestamp(2020, 2, 13)).dt.seconds"
   ]
  },
  {
   "cell_type": "code",
   "execution_count": 81,
   "metadata": {},
   "outputs": [
    {
     "name": "stdout",
     "output_type": "stream",
     "text": [
      "1.530703628750302\n",
      "1.6241713657480448\n"
     ]
    },
    {
     "data": {
      "text/plain": [
       "Ttest_indResult(statistic=-7.501287608123921, pvalue=6.423342886998428e-14)"
      ]
     },
     "execution_count": 81,
     "metadata": {},
     "output_type": "execute_result"
    }
   ],
   "source": [
    "prequar = df_x[df_x['prequar'] & (df_x['virality'] > 0)]['virality']\n",
    "quar = df_x[df_x['quar'] & (df_x['virality'] > 0)]['virality']\n",
    "\n",
    "print(np.mean(prequar))\n",
    "print(np.mean(quar))\n",
    "ttest_ind(prequar, quar)"
   ]
  },
  {
   "cell_type": "code",
   "execution_count": 82,
   "metadata": {},
   "outputs": [
    {
     "name": "stdout",
     "output_type": "stream",
     "text": [
      "                            OLS Regression Results                            \n",
      "==============================================================================\n",
      "Dep. Variable:               virality   R-squared:                       0.000\n",
      "Model:                            OLS   Adj. R-squared:                  0.000\n",
      "Method:                 Least Squares   F-statistic:                     4.865\n",
      "Date:                Mon, 13 Apr 2020   Prob (F-statistic):             0.0274\n",
      "Time:                        11:30:34   Log-Likelihood:            -1.0557e+05\n",
      "No. Observations:               62421   AIC:                         2.111e+05\n",
      "Df Residuals:                   62419   BIC:                         2.112e+05\n",
      "Df Model:                           1                                         \n",
      "Covariance Type:            nonrobust                                         \n",
      "==============================================================================\n",
      "                 coef    std err          t      P>|t|      [0.025      0.975]\n",
      "------------------------------------------------------------------------------\n",
      "Intercept      1.5335      0.015    100.532      0.000       1.504       1.563\n",
      "seconds    -5.832e-07   2.64e-07     -2.206      0.027    -1.1e-06   -6.49e-08\n",
      "==============================================================================\n",
      "Omnibus:                    28643.676   Durbin-Watson:                   1.219\n",
      "Prob(Omnibus):                  0.000   Jarque-Bera (JB):           150261.562\n",
      "Skew:                           2.220   Prob(JB):                         0.00\n",
      "Kurtosis:                       9.170   Cond. No.                     1.67e+05\n",
      "==============================================================================\n",
      "\n",
      "Warnings:\n",
      "[1] Standard Errors assume that the covariance matrix of the errors is correctly specified.\n",
      "[2] The condition number is large, 1.67e+05. This might indicate that there are\n",
      "strong multicollinearity or other numerical problems.\n"
     ]
    }
   ],
   "source": [
    "reg = smf.ols('virality ~ seconds', data = df_x[df_x['virality'] > 0]).fit()\n",
    "print(reg.summary())"
   ]
  },
  {
   "cell_type": "code",
   "execution_count": null,
   "metadata": {},
   "outputs": [],
   "source": []
  }
 ],
 "metadata": {
  "kernelspec": {
   "display_name": "Environment (conda_vzwa)",
   "language": "python",
   "name": "conda_vzwa"
  },
  "language_info": {
   "codemirror_mode": {
    "name": "ipython",
    "version": 3
   },
   "file_extension": ".py",
   "mimetype": "text/x-python",
   "name": "python",
   "nbconvert_exporter": "python",
   "pygments_lexer": "ipython3",
   "version": "3.7.5"
  }
 },
 "nbformat": 4,
 "nbformat_minor": 2
}
